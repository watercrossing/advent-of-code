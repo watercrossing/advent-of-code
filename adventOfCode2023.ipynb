{
 "cells": [
  {
   "cell_type": "markdown",
   "id": "ab3ca0b3-f3cd-4a46-91ec-f74477c1278c",
   "metadata": {},
   "source": [
    "# Advent of Code 2023\n",
    "\n",
    "https://adventofcode.com/2023"
   ]
  },
  {
   "cell_type": "code",
   "execution_count": 1,
   "id": "ce9c157e-ecbf-4021-a9b7-69b84b3b22bb",
   "metadata": {},
   "outputs": [],
   "source": [
    "# A few standard library imports\n",
    "import itertools, math, collections, os, functools, json, time, re, bisect\n",
    "# nice printing\n",
    "from IPython.display import display, clear_output, HTML"
   ]
  },
  {
   "cell_type": "code",
   "execution_count": null,
   "id": "47ad80fd-3c57-4a52-a333-0c74bfd816ab",
   "metadata": {},
   "outputs": [],
   "source": []
  },
  {
   "cell_type": "code",
   "execution_count": 2,
   "id": "021104b2-31f0-4fb5-88e4-8de64361e599",
   "metadata": {},
   "outputs": [],
   "source": [
    "def getData(day, year=2023):\n",
    "    if not os.path.exists(\"data-%d\" %year):\n",
    "        os.mkdir(\"data-%d\" %year)\n",
    "    if os.path.exists(\"data-%d/day%dinput.txt\" %(year, day)):\n",
    "        with open(\"data-%d/day%dinput.txt\" %(year, day), 'r') as f:\n",
    "            return f.read()\n",
    "    import browsercookie, urllib.request\n",
    "    opener = urllib.request.build_opener(urllib.request.HTTPCookieProcessor(browsercookie.firefox()))\n",
    "    assert b'watercrossing' in opener.open(\"https://adventofcode.com/%d/\" %year).read()\n",
    "    data = opener.open(\"https://adventofcode.com/%d/day/%d/input\" %(year, day)).read().decode('utf-8')\n",
    "    with open(\"data-%d/day%dinput.txt\" %(year, day), 'w') as f:\n",
    "        f.write(data)\n",
    "    return data"
   ]
  },
  {
   "cell_type": "code",
   "execution_count": null,
   "id": "6869659b-712d-4209-87ad-fe9e28a14d93",
   "metadata": {},
   "outputs": [],
   "source": []
  },
  {
   "cell_type": "markdown",
   "id": "85f720e0-36ea-438c-8648-5549518bb56c",
   "metadata": {},
   "source": [
    "## Day 1"
   ]
  },
  {
   "cell_type": "code",
   "execution_count": 3,
   "id": "569f709e-02ad-431b-a129-7e18c6a957dd",
   "metadata": {},
   "outputs": [],
   "source": [
    "day1data = getData(1).splitlines()"
   ]
  },
  {
   "cell_type": "code",
   "execution_count": 4,
   "id": "aed3448c-bf32-4e16-935e-ed47479fb849",
   "metadata": {},
   "outputs": [
    {
     "data": {
      "text/plain": [
       "54927"
      ]
     },
     "execution_count": 4,
     "metadata": {},
     "output_type": "execute_result"
    }
   ],
   "source": [
    "sum(int(next(c for c in x if 47 < ord(c) < 58) + next(c for c in x[::-1] if 47 < ord(c) < 58)) for x in day1data)"
   ]
  },
  {
   "cell_type": "code",
   "execution_count": 5,
   "id": "31a2a259-d218-4ca4-8d3e-f8c179f7f406",
   "metadata": {},
   "outputs": [],
   "source": [
    "z = list(zip([\"one\", \"two\", \"three\", \"four\", \"five\", \"six\", \"seven\", \"eight\", \"nine\"] + [str(x) for x in range(0, 10)], \n",
    "              [str(x) for x in range(1, 10)] + [str(x) for x in range(0, 10)]))"
   ]
  },
  {
   "cell_type": "code",
   "execution_count": 6,
   "id": "9d89b8fd-bdf7-452f-8686-4ecad3c8a00e",
   "metadata": {},
   "outputs": [
    {
     "data": {
      "text/plain": [
       "54581"
      ]
     },
     "execution_count": 6,
     "metadata": {},
     "output_type": "execute_result"
    }
   ],
   "source": [
    "sum(int(min([(x.find(c), d) for c, d in z if c in x], key=lambda a: a[0])[1] + \n",
    "        min([(x[::-1].find(c[::-1]), d) for c, d in z if c in x], key=lambda a: a[0])[1]) for x in day1data)"
   ]
  },
  {
   "cell_type": "markdown",
   "id": "674f0a62-f67c-4f0d-9986-65ebb966ed4f",
   "metadata": {},
   "source": [
    "## Day 2"
   ]
  },
  {
   "cell_type": "code",
   "execution_count": 7,
   "id": "49bb365a-32b4-4bbc-a9e7-2b586f3baacf",
   "metadata": {},
   "outputs": [],
   "source": [
    "day2data = [(int(r.split(\":\")[0].split(\" \")[1]), [collections.Counter(dict((y.split(\" \")[1], int(y.split(\" \")[0])) for y in x.split(\", \")))\n",
    "                                                  for x in r.split(\": \")[1].split(\"; \")]) for r in getData(2).splitlines()]"
   ]
  },
  {
   "cell_type": "code",
   "execution_count": 8,
   "id": "8f9725f8-af73-4f7f-97b7-3976e3696556",
   "metadata": {},
   "outputs": [
    {
     "data": {
      "text/plain": [
       "2239"
      ]
     },
     "execution_count": 8,
     "metadata": {},
     "output_type": "execute_result"
    }
   ],
   "source": [
    "sum(c for c, x in day2data if all(max(y[a] for y in x) < b for a, b in (('red', 13), ('green', 14), ('blue', 15))))"
   ]
  },
  {
   "cell_type": "code",
   "execution_count": 9,
   "id": "03dc196c-8dbb-4e8f-a819-bcc877d4ffd8",
   "metadata": {},
   "outputs": [
    {
     "data": {
      "text/plain": [
       "83435"
      ]
     },
     "execution_count": 9,
     "metadata": {},
     "output_type": "execute_result"
    }
   ],
   "source": [
    "sum(math.prod(max(c[a] for c in x) for a in ('red', 'green', 'blue')) for _, x in day2data)"
   ]
  },
  {
   "cell_type": "code",
   "execution_count": null,
   "id": "5502dcb2-4d33-43ff-b5af-7225bb457570",
   "metadata": {},
   "outputs": [],
   "source": []
  },
  {
   "cell_type": "code",
   "execution_count": null,
   "id": "c360e642-a554-4449-97ab-b61d32f75240",
   "metadata": {},
   "outputs": [],
   "source": []
  },
  {
   "cell_type": "code",
   "execution_count": null,
   "id": "7afb4bc0-cdc5-4e79-8da8-83ef6373eea1",
   "metadata": {},
   "outputs": [],
   "source": []
  },
  {
   "cell_type": "code",
   "execution_count": null,
   "id": "51211f55-8111-4ee8-88b8-45a18116648b",
   "metadata": {},
   "outputs": [],
   "source": []
  }
 ],
 "metadata": {
  "kernelspec": {
   "display_name": "pipenv",
   "language": "python",
   "name": "pipenv"
  },
  "language_info": {
   "codemirror_mode": {
    "name": "ipython",
    "version": 3
   },
   "file_extension": ".py",
   "mimetype": "text/x-python",
   "name": "python",
   "nbconvert_exporter": "python",
   "pygments_lexer": "ipython3",
   "version": "3.11.4"
  }
 },
 "nbformat": 4,
 "nbformat_minor": 5
}
