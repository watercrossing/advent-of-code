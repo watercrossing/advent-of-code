{
 "cells": [
  {
   "cell_type": "markdown",
   "id": "ab3ca0b3-f3cd-4a46-91ec-f74477c1278c",
   "metadata": {},
   "source": [
    "# Advent of Code 2023\n",
    "\n",
    "https://adventofcode.com/2023"
   ]
  },
  {
   "cell_type": "code",
   "execution_count": 1,
   "id": "ce9c157e-ecbf-4021-a9b7-69b84b3b22bb",
   "metadata": {},
   "outputs": [],
   "source": [
    "# A few standard library imports\n",
    "import itertools, math, collections, os, functools, json, time, re, bisect\n",
    "# nice printing\n",
    "from IPython.display import display, clear_output, HTML"
   ]
  },
  {
   "cell_type": "code",
   "execution_count": null,
   "id": "47ad80fd-3c57-4a52-a333-0c74bfd816ab",
   "metadata": {},
   "outputs": [],
   "source": []
  },
  {
   "cell_type": "code",
   "execution_count": 2,
   "id": "021104b2-31f0-4fb5-88e4-8de64361e599",
   "metadata": {},
   "outputs": [],
   "source": [
    "def getData(day, year=2023):\n",
    "    if not os.path.exists(\"data-%d\" %year):\n",
    "        os.mkdir(\"data-%d\" %year)\n",
    "    if os.path.exists(\"data-%d/day%dinput.txt\" %(year, day)):\n",
    "        with open(\"data-%d/day%dinput.txt\" %(year, day), 'r') as f:\n",
    "            return f.read()\n",
    "    import browsercookie, urllib.request\n",
    "    opener = urllib.request.build_opener(urllib.request.HTTPCookieProcessor(browsercookie.firefox()))\n",
    "    assert b'watercrossing' in opener.open(\"https://adventofcode.com/%d/\" %year).read()\n",
    "    data = opener.open(\"https://adventofcode.com/%d/day/%d/input\" %(year, day)).read().decode('utf-8')\n",
    "    with open(\"data-%d/day%dinput.txt\" %(year, day), 'w') as f:\n",
    "        f.write(data)\n",
    "    return data"
   ]
  },
  {
   "cell_type": "code",
   "execution_count": null,
   "id": "6869659b-712d-4209-87ad-fe9e28a14d93",
   "metadata": {},
   "outputs": [],
   "source": []
  },
  {
   "cell_type": "markdown",
   "id": "85f720e0-36ea-438c-8648-5549518bb56c",
   "metadata": {},
   "source": [
    "## Day 1"
   ]
  },
  {
   "cell_type": "code",
   "execution_count": 3,
   "id": "569f709e-02ad-431b-a129-7e18c6a957dd",
   "metadata": {},
   "outputs": [],
   "source": [
    "day1data = getData(1).split()"
   ]
  },
  {
   "cell_type": "code",
   "execution_count": 4,
   "id": "aed3448c-bf32-4e16-935e-ed47479fb849",
   "metadata": {},
   "outputs": [
    {
     "data": {
      "text/plain": [
       "54927"
      ]
     },
     "execution_count": 4,
     "metadata": {},
     "output_type": "execute_result"
    }
   ],
   "source": [
    "sum(int(next(c for c in x if 47 < ord(c) < 58) + next(c for c in x[::-1] if 47 < ord(c) < 58)) for x in day1data)"
   ]
  },
  {
   "cell_type": "code",
   "execution_count": 5,
   "id": "31a2a259-d218-4ca4-8d3e-f8c179f7f406",
   "metadata": {},
   "outputs": [],
   "source": [
    "z = list(zip([\"one\", \"two\", \"three\", \"four\", \"five\", \"six\", \"seven\", \"eight\", \"nine\"] + [str(x) for x in range(0, 10)], \n",
    "              [str(x) for x in range(1, 10)] + [str(x) for x in range(0, 10)]))"
   ]
  },
  {
   "cell_type": "code",
   "execution_count": 6,
   "id": "9d89b8fd-bdf7-452f-8686-4ecad3c8a00e",
   "metadata": {},
   "outputs": [
    {
     "data": {
      "text/plain": [
       "54581"
      ]
     },
     "execution_count": 6,
     "metadata": {},
     "output_type": "execute_result"
    }
   ],
   "source": [
    "sum(int(min([(x.find(c), d) for c, d in z if c in x], key=lambda a: a[0])[1] + \n",
    "        min([(x[::-1].find(c[::-1]), d) for c, d in z if c in x], key=lambda a: a[0])[1]) for x in day1data)"
   ]
  },
  {
   "cell_type": "code",
   "execution_count": null,
   "id": "8b09231a-b5c0-49d5-88ca-dda9e9e0279d",
   "metadata": {},
   "outputs": [],
   "source": []
  },
  {
   "cell_type": "code",
   "execution_count": null,
   "id": "48fb315a-80e9-4c69-85eb-54cbcf8e330a",
   "metadata": {},
   "outputs": [],
   "source": []
  },
  {
   "cell_type": "code",
   "execution_count": null,
   "id": "49bb365a-32b4-4bbc-a9e7-2b586f3baacf",
   "metadata": {},
   "outputs": [],
   "source": []
  },
  {
   "cell_type": "code",
   "execution_count": null,
   "id": "7afb4bc0-cdc5-4e79-8da8-83ef6373eea1",
   "metadata": {},
   "outputs": [],
   "source": []
  },
  {
   "cell_type": "code",
   "execution_count": null,
   "id": "51211f55-8111-4ee8-88b8-45a18116648b",
   "metadata": {},
   "outputs": [],
   "source": []
  }
 ],
 "metadata": {
  "kernelspec": {
   "display_name": "pipenv",
   "language": "python",
   "name": "pipenv"
  },
  "language_info": {
   "codemirror_mode": {
    "name": "ipython",
    "version": 3
   },
   "file_extension": ".py",
   "mimetype": "text/x-python",
   "name": "python",
   "nbconvert_exporter": "python",
   "pygments_lexer": "ipython3",
   "version": "3.11.4"
  }
 },
 "nbformat": 4,
 "nbformat_minor": 5
}
