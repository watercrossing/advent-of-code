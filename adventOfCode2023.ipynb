{
 "cells": [
  {
   "cell_type": "markdown",
   "id": "ab3ca0b3-f3cd-4a46-91ec-f74477c1278c",
   "metadata": {},
   "source": [
    "# Advent of Code 2023\n",
    "\n",
    "https://adventofcode.com/2023"
   ]
  },
  {
   "cell_type": "code",
   "execution_count": 1,
   "id": "ce9c157e-ecbf-4021-a9b7-69b84b3b22bb",
   "metadata": {},
   "outputs": [],
   "source": [
    "# A few standard library imports\n",
    "import itertools, math, collections, os, functools, json, time, re, bisect\n",
    "# nice printing\n",
    "from IPython.display import display, clear_output, HTML"
   ]
  },
  {
   "cell_type": "code",
   "execution_count": null,
   "id": "47ad80fd-3c57-4a52-a333-0c74bfd816ab",
   "metadata": {},
   "outputs": [],
   "source": []
  },
  {
   "cell_type": "code",
   "execution_count": 2,
   "id": "021104b2-31f0-4fb5-88e4-8de64361e599",
   "metadata": {},
   "outputs": [],
   "source": [
    "def getData(day, year=2023):\n",
    "    if not os.path.exists(\"data-%d\" %year):\n",
    "        os.mkdir(\"data-%d\" %year)\n",
    "    if os.path.exists(\"data-%d/day%dinput.txt\" %(year, day)):\n",
    "        with open(\"data-%d/day%dinput.txt\" %(year, day), 'r') as f:\n",
    "            return f.read()\n",
    "    import browsercookie, urllib.request\n",
    "    opener = urllib.request.build_opener(urllib.request.HTTPCookieProcessor(browsercookie.firefox()))\n",
    "    assert b'watercrossing' in opener.open(\"https://adventofcode.com/%d/\" %year).read()\n",
    "    data = opener.open(\"https://adventofcode.com/%d/day/%d/input\" %(year, day)).read().decode('utf-8')\n",
    "    with open(\"data-%d/day%dinput.txt\" %(year, day), 'w') as f:\n",
    "        f.write(data)\n",
    "    return data"
   ]
  },
  {
   "cell_type": "code",
   "execution_count": null,
   "id": "ed88f0cd-06db-4efc-ac5d-a77add9b26d3",
   "metadata": {},
   "outputs": [],
   "source": []
  },
  {
   "cell_type": "code",
   "execution_count": 3,
   "id": "6869659b-712d-4209-87ad-fe9e28a14d93",
   "metadata": {},
   "outputs": [],
   "source": [
    "def isNum(s: str) -> bool:\n",
    "    return all(47 < ord(c) < 58 for c in s)"
   ]
  },
  {
   "cell_type": "markdown",
   "id": "85f720e0-36ea-438c-8648-5549518bb56c",
   "metadata": {},
   "source": [
    "## Day 1"
   ]
  },
  {
   "cell_type": "code",
   "execution_count": 4,
   "id": "569f709e-02ad-431b-a129-7e18c6a957dd",
   "metadata": {},
   "outputs": [],
   "source": [
    "day1data = getData(1).splitlines()"
   ]
  },
  {
   "cell_type": "code",
   "execution_count": 5,
   "id": "aed3448c-bf32-4e16-935e-ed47479fb849",
   "metadata": {},
   "outputs": [
    {
     "data": {
      "text/plain": [
       "54927"
      ]
     },
     "execution_count": 5,
     "metadata": {},
     "output_type": "execute_result"
    }
   ],
   "source": [
    "sum(int(next(c for c in x if isNum(c)) + next(c for c in x[::-1] if isNum(c))) for x in day1data)"
   ]
  },
  {
   "cell_type": "code",
   "execution_count": 6,
   "id": "31a2a259-d218-4ca4-8d3e-f8c179f7f406",
   "metadata": {},
   "outputs": [],
   "source": [
    "z = list(zip([\"one\", \"two\", \"three\", \"four\", \"five\", \"six\", \"seven\", \"eight\", \"nine\"] + [str(x) for x in range(0, 10)], \n",
    "              [str(x) for x in range(1, 10)] + [str(x) for x in range(0, 10)]))"
   ]
  },
  {
   "cell_type": "code",
   "execution_count": 7,
   "id": "9d89b8fd-bdf7-452f-8686-4ecad3c8a00e",
   "metadata": {},
   "outputs": [
    {
     "data": {
      "text/plain": [
       "54581"
      ]
     },
     "execution_count": 7,
     "metadata": {},
     "output_type": "execute_result"
    }
   ],
   "source": [
    "sum(int(min([(x.find(c), d) for c, d in z if c in x], key=lambda a: a[0])[1] + \n",
    "        min([(x[::-1].find(c[::-1]), d) for c, d in z if c in x], key=lambda a: a[0])[1]) for x in day1data)"
   ]
  },
  {
   "cell_type": "markdown",
   "id": "674f0a62-f67c-4f0d-9986-65ebb966ed4f",
   "metadata": {},
   "source": [
    "## Day 2"
   ]
  },
  {
   "cell_type": "code",
   "execution_count": 8,
   "id": "49bb365a-32b4-4bbc-a9e7-2b586f3baacf",
   "metadata": {},
   "outputs": [],
   "source": [
    "day2data = [(int(r.split(\":\")[0].split(\" \")[1]), [collections.Counter(dict((y.split(\" \")[1], int(y.split(\" \")[0])) for y in x.split(\", \")))\n",
    "                                                  for x in r.split(\": \")[1].split(\"; \")]) for r in getData(2).splitlines()]"
   ]
  },
  {
   "cell_type": "code",
   "execution_count": 9,
   "id": "8f9725f8-af73-4f7f-97b7-3976e3696556",
   "metadata": {},
   "outputs": [
    {
     "data": {
      "text/plain": [
       "2239"
      ]
     },
     "execution_count": 9,
     "metadata": {},
     "output_type": "execute_result"
    }
   ],
   "source": [
    "sum(c for c, x in day2data if all(max(y[a] for y in x) < b for a, b in (('red', 13), ('green', 14), ('blue', 15))))"
   ]
  },
  {
   "cell_type": "code",
   "execution_count": 10,
   "id": "03dc196c-8dbb-4e8f-a819-bcc877d4ffd8",
   "metadata": {},
   "outputs": [
    {
     "data": {
      "text/plain": [
       "83435"
      ]
     },
     "execution_count": 10,
     "metadata": {},
     "output_type": "execute_result"
    }
   ],
   "source": [
    "sum(math.prod(max(c[a] for c in x) for a in ('red', 'green', 'blue')) for _, x in day2data)"
   ]
  },
  {
   "cell_type": "markdown",
   "id": "da221710-45ab-43aa-b704-c3c654bcac71",
   "metadata": {},
   "source": [
    "## Day 3"
   ]
  },
  {
   "cell_type": "code",
   "execution_count": 11,
   "id": "c360e642-a554-4449-97ab-b61d32f75240",
   "metadata": {},
   "outputs": [],
   "source": [
    "day3data = getData(3).splitlines()\n",
    "il, jl= len(day3data), len(day3data[0])"
   ]
  },
  {
   "cell_type": "code",
   "execution_count": 12,
   "id": "78553716-888c-4f04-b2f5-98a1b5280c63",
   "metadata": {},
   "outputs": [
    {
     "data": {
      "text/plain": [
       "538046"
      ]
     },
     "execution_count": 12,
     "metadata": {},
     "output_type": "execute_result"
    }
   ],
   "source": [
    "sum(int(num) for i in range(il) for j in range(jl) if (j==0 or not isNum(day3data[i][j-1])) and isNum(day3data[i][j])\n",
    "    and (num := next(day3data[i][j:k] for k in range(j+1,jl+1) if isNum(day3data[i][j:k]) and (k == jl or not isNum(day3data[i][k]))))\n",
    "    and any(not isNum(day3data[a][b]) and day3data[a][b] != '.' for a in range(max(0,i-1), min(il,i+2)) \n",
    "            for b in range(max(0, j-1), min(jl, j+1+len(num)))))"
   ]
  },
  {
   "cell_type": "code",
   "execution_count": 13,
   "id": "1a6409c4-9ac2-44a3-b972-4f45209f5fa3",
   "metadata": {},
   "outputs": [
    {
     "data": {
      "text/plain": [
       "81709807"
      ]
     },
     "execution_count": 13,
     "metadata": {},
     "output_type": "execute_result"
    }
   ],
   "source": [
    "sum(math.prod(gears) for i in range(il) for j in range(jl) if day3data[i][j] == \"*\"\n",
    "    and len(gears := [next(int(day3data[k][lx:ly]) for lx in range(l, max(-1, l-6), -1) for ly in range(l+1, min(jl+1, l+6))\n",
    "                           if isNum(day3data[k][lx:ly]) and (lx == 0 or not isNum(day3data[k][lx-1])) and (ly == jl or not isNum(day3data[k][ly]))) \n",
    "                      for k, l in [(ix, j-1) for ix in range(max(0, i-1), min(il, i+2)) if j > 0] + \n",
    "                                  [(ix, jx) for ix in range(max(0, i-1), min(il, i+2)) for jx in range(j, min(jl, j+2))\n",
    "                                   if jx == 0 or not isNum(day3data[ix][jx-1])] if isNum(day3data[k][l])]) == 2)"
   ]
  },
  {
   "cell_type": "markdown",
   "id": "07db1fff-ebfd-45e2-b86e-5d9a2d14e4bc",
   "metadata": {},
   "source": [
    "## Day 4"
   ]
  },
  {
   "cell_type": "code",
   "execution_count": 14,
   "id": "51211f55-8111-4ee8-88b8-45a18116648b",
   "metadata": {},
   "outputs": [],
   "source": [
    "day4data = [tuple(set(y for y in x.split(\": \")[1].split(\" | \")[i].split(\" \") if y) for i in range(2)) for x in getData(4).splitlines()]"
   ]
  },
  {
   "cell_type": "code",
   "execution_count": 15,
   "id": "c4937315-3bd5-40b6-b96f-79a82c551976",
   "metadata": {},
   "outputs": [
    {
     "data": {
      "text/plain": [
       "24160"
      ]
     },
     "execution_count": 15,
     "metadata": {},
     "output_type": "execute_result"
    }
   ],
   "source": [
    "sum(2**(len(c&w)-1) if len(c&w) else 0 for w, c in day4data)"
   ]
  },
  {
   "cell_type": "code",
   "execution_count": 16,
   "id": "2bb68d29-0e92-42f0-84a8-c0ca66d23bf4",
   "metadata": {},
   "outputs": [
    {
     "data": {
      "text/plain": [
       "5659035"
      ]
     },
     "execution_count": 16,
     "metadata": {},
     "output_type": "execute_result"
    }
   ],
   "source": [
    "cards = [[1, len(c&w)] for c, w in day4data]\n",
    "for i, (c, w) in enumerate(cards):\n",
    "    for j in range(w):\n",
    "        cards[i+j+1][0] += c\n",
    "sum(x[0] for x in cards)"
   ]
  },
  {
   "cell_type": "markdown",
   "id": "24c0641b-3c3b-46c4-b5dc-5bd389ea6137",
   "metadata": {},
   "source": [
    "## Day 5"
   ]
  },
  {
   "cell_type": "code",
   "execution_count": 17,
   "id": "801f10ed-5ab6-4049-9f23-08420cbf7aaf",
   "metadata": {},
   "outputs": [],
   "source": [
    "day5data = [[[int(y) for y in l.split()] for l in x.split(\":\")[1].strip().splitlines()] for x in getData(5).split(\"\\n\\n\")]\n",
    "day5data[0] = day5data[0][0]"
   ]
  },
  {
   "cell_type": "code",
   "execution_count": 18,
   "id": "5260b958-35d7-4472-a3cd-cdde3f52dc69",
   "metadata": {},
   "outputs": [
    {
     "data": {
      "text/plain": [
       "324724204"
      ]
     },
     "execution_count": 18,
     "metadata": {},
     "output_type": "execute_result"
    }
   ],
   "source": [
    "min(functools.reduce(lambda cs, m: [next(itertools.chain(d+c-s for d, s, l in m if s <= c < s+l), c) for c in cs], day5data))"
   ]
  },
  {
   "cell_type": "code",
   "execution_count": 19,
   "id": "fe4d0eae-5029-4beb-9f41-60fff66a56a6",
   "metadata": {},
   "outputs": [],
   "source": [
    "day5data[0] = [[range(day5data[0][2*i], day5data[0][2*i]+day5data[0][2*i+1])] for i in range(len(day5data[0])//2)]"
   ]
  },
  {
   "cell_type": "code",
   "execution_count": 20,
   "id": "4d43eb3a-6bf8-444a-bd1e-0a17a2234f08",
   "metadata": {},
   "outputs": [],
   "source": [
    "def day5map(css, m):\n",
    "    coveredRanges = [[range(max(s, c[0]), min(s+l, c[-1]+1)) for c in cs for d, s, l in m if min(s+l, c[-1]+1) > max(s, c[0])] for cs in css]\n",
    "    destRanges = [[range(max(s, c[0])-s+d, min(s+l, c[-1]+1)-s+d) for c in cs for d, s, l in m if min(s+l, c[-1]+1) > max(s, c[0])] for cs in css]\n",
    "    notMapped = []\n",
    "    for tc, cr in zip(css, coveredRanges):\n",
    "        for d in cr:\n",
    "            tc = [x for c in tc for x in [range(c[0], min(c[-1]+1, d[0])), range(max(d[-1]+1, c[0]), c[-1]+1)] if x.stop > x.start]\n",
    "        notMapped.append(tc)\n",
    "    return [x+y for x, y in zip(destRanges, notMapped)]"
   ]
  },
  {
   "cell_type": "code",
   "execution_count": 21,
   "id": "50318bcd-9d6e-45d2-9fe9-8d3ed4e91865",
   "metadata": {},
   "outputs": [
    {
     "data": {
      "text/plain": [
       "104070862"
      ]
     },
     "execution_count": 21,
     "metadata": {},
     "output_type": "execute_result"
    }
   ],
   "source": [
    "min(x[0] for y in functools.reduce(day5map, day5data) for x in y)"
   ]
  },
  {
   "cell_type": "markdown",
   "id": "8250cc11-076e-40a3-885f-e4bd1f6c7b6d",
   "metadata": {},
   "source": [
    "## Day 6"
   ]
  },
  {
   "cell_type": "code",
   "execution_count": 22,
   "id": "4e23a3dc-a4af-4401-9810-92963ed2e946",
   "metadata": {},
   "outputs": [],
   "source": [
    "day6data = list(zip(*[[int(x.strip()) for x in r.split(\":\")[1].split(\" \") if x] for r in getData(6).splitlines()]))"
   ]
  },
  {
   "cell_type": "code",
   "execution_count": 23,
   "id": "89f90773-9536-4e37-adc1-dd6102c91067",
   "metadata": {},
   "outputs": [
    {
     "data": {
      "text/plain": [
       "771628"
      ]
     },
     "execution_count": 23,
     "metadata": {},
     "output_type": "execute_result"
    }
   ],
   "source": [
    "math.prod(sum(1 for i in range(t) if i*t-i*i > r) for t, r in day6data)"
   ]
  },
  {
   "cell_type": "code",
   "execution_count": 24,
   "id": "8212393d-c0d7-4d5e-a943-9cb09808fe50",
   "metadata": {},
   "outputs": [],
   "source": [
    "day6dataPart2 = [int(r.split(\":\")[1].strip().replace(\" \",\"\")) for r in getData(6).splitlines()]"
   ]
  },
  {
   "cell_type": "code",
   "execution_count": 25,
   "id": "f45a3a7f-e9e5-4dd8-a4b6-91a6bb4dbd48",
   "metadata": {},
   "outputs": [],
   "source": [
    "class Day6:\n",
    "    def __getitem__(self, key):\n",
    "        return key*day6dataPart2[0] - key*key\n",
    "    def __len__(self):\n",
    "        return day6dataPart2[0]//2"
   ]
  },
  {
   "cell_type": "code",
   "execution_count": 26,
   "id": "2e8e68bc-59c4-476e-932a-ddef352313d3",
   "metadata": {},
   "outputs": [
    {
     "data": {
      "text/plain": [
       "27363861"
      ]
     },
     "execution_count": 26,
     "metadata": {},
     "output_type": "execute_result"
    }
   ],
   "source": [
    "(day6dataPart2[0]//2 - bisect.bisect(Day6(), day6dataPart2[1]))*2 + 1"
   ]
  },
  {
   "cell_type": "markdown",
   "id": "f0cb1ee1-a6d0-4a29-bebd-9f7639514dc1",
   "metadata": {},
   "source": [
    "## Day 7"
   ]
  },
  {
   "cell_type": "code",
   "execution_count": 27,
   "id": "892f9ac4-75b2-4a52-906a-163ff6eb6462",
   "metadata": {},
   "outputs": [],
   "source": [
    "day7data = [x.split(\" \") for x in getData(7).splitlines()]"
   ]
  },
  {
   "cell_type": "code",
   "execution_count": 28,
   "id": "26908ff8-98e0-4d16-a515-163b8904cdad",
   "metadata": {},
   "outputs": [],
   "source": [
    "def day7replace(s):\n",
    "    s = s.replace(\"T\", \"a\").replace(\"J\", \"b\").replace(\"Q\", \"c\").replace(\"K\", \"d\").replace(\"A\", \"e\")\n",
    "    c = collections.Counter(s).values()\n",
    "    if 5 in c:\n",
    "        s = \"6\" + s\n",
    "    elif 4 in c:\n",
    "        s = \"5\" + s\n",
    "    elif 3 in c and 2 in c:\n",
    "        s = \"4\" + s\n",
    "    elif 3 in c:\n",
    "        s = \"3\" + s\n",
    "    elif collections.Counter(c)[2] == 2:\n",
    "        s = \"2\" + s\n",
    "    elif 2 in c:\n",
    "        s = \"1\" + s\n",
    "    return int(s, base=16)"
   ]
  },
  {
   "cell_type": "code",
   "execution_count": 29,
   "id": "7b8ce8c4-4829-4765-843f-8751a3e94378",
   "metadata": {},
   "outputs": [],
   "source": [
    "day7sorted = sorted(day7data, key=lambda x: day7replace(x[0]))"
   ]
  },
  {
   "cell_type": "code",
   "execution_count": 30,
   "id": "95f418f9-d8b7-4543-9cfb-80b9874ab6a7",
   "metadata": {},
   "outputs": [
    {
     "data": {
      "text/plain": [
       "249726565"
      ]
     },
     "execution_count": 30,
     "metadata": {},
     "output_type": "execute_result"
    }
   ],
   "source": [
    "sum((i+1)*int(bid) for i, (h, bid) in enumerate(day7sorted))"
   ]
  },
  {
   "cell_type": "code",
   "execution_count": 31,
   "id": "3b97a68b-73e4-4ebf-bb8a-2fefb41a5ce9",
   "metadata": {},
   "outputs": [],
   "source": [
    "def day7replacePart2(s):\n",
    "    s = s.replace(\"T\", \"a\").replace(\"J\", \"1\").replace(\"Q\", \"c\").replace(\"K\", \"d\").replace(\"A\", \"e\")\n",
    "    js = collections.Counter(s)['1'] \n",
    "    c = collections.Counter(s.replace(\"1\", \"\")).values()\n",
    "    if js == 5 or 5 in c or max(c)+js == 5:\n",
    "        s = \"6\" + s\n",
    "    elif 4 in c or max(c) + js == 4:\n",
    "        s = \"5\" + s\n",
    "    elif 3 in c and 2 in c or (collections.Counter(c)[2] == 2 and js == 1):\n",
    "        s = \"4\" + s\n",
    "    elif 3 in c or (2 in c and js == 1) or js == 2:\n",
    "        s = \"3\" + s\n",
    "    elif collections.Counter(c)[2] == 2:\n",
    "        s = \"2\" + s\n",
    "    elif 2 in c or js == 1:\n",
    "        s = \"1\" + s\n",
    "    return int(s, base=16)"
   ]
  },
  {
   "cell_type": "code",
   "execution_count": 32,
   "id": "44ff1610-0746-4af4-a348-452674de4624",
   "metadata": {},
   "outputs": [],
   "source": [
    "day7sortedPart2 = sorted(day7data, key=lambda x: day7replacePart2(x[0]))"
   ]
  },
  {
   "cell_type": "code",
   "execution_count": 33,
   "id": "8eaafc90-56c2-450c-be69-444f458a0cb9",
   "metadata": {},
   "outputs": [
    {
     "data": {
      "text/plain": [
       "251135960"
      ]
     },
     "execution_count": 33,
     "metadata": {},
     "output_type": "execute_result"
    }
   ],
   "source": [
    "sum((i+1)*int(bid) for i, (h, bid) in enumerate(day7sortedPart2))"
   ]
  },
  {
   "cell_type": "markdown",
   "id": "9e411d29-369b-4677-b96b-8532fdadbd2e",
   "metadata": {},
   "source": [
    "## Day 8"
   ]
  },
  {
   "cell_type": "code",
   "execution_count": 34,
   "id": "166a8f74-9f6b-4240-aa7d-5756bf6bd04b",
   "metadata": {},
   "outputs": [],
   "source": [
    "day8data = (getData(8).split(\"\\n\\n\")[0], \n",
    "            dict((x.split(\" = \")[0], x.split(\" = \")[1].strip(\"()\").split(\", \")) for x in getData(8).split(\"\\n\\n\")[1].split(\"\\n\") if x))"
   ]
  },
  {
   "cell_type": "code",
   "execution_count": 35,
   "id": "617adc96-4f52-40b7-822c-0e1ebc2f1865",
   "metadata": {},
   "outputs": [
    {
     "data": {
      "text/plain": [
       "22411"
      ]
     },
     "execution_count": 35,
     "metadata": {},
     "output_type": "execute_result"
    }
   ],
   "source": [
    "c, cn = 0, \"AAA\"\n",
    "while cn != \"ZZZ\":\n",
    "    cn = day8data[1][cn][0 if day8data[0][c % len(day8data[0])] == 'L' else 1]\n",
    "    c += 1\n",
    "c"
   ]
  },
  {
   "cell_type": "code",
   "execution_count": 36,
   "id": "9a033445-cb41-4af9-b05a-153897c14798",
   "metadata": {},
   "outputs": [],
   "source": [
    "cns = [x for x in day8data[1].keys() if x.endswith(\"A\")]\n",
    "orders = [[0] for _ in range(len(cns))]\n",
    "for i, cn in enumerate(cns):\n",
    "    c = 0\n",
    "    while len(orders[i]) != 4:\n",
    "        cn = day8data[1][cn][0 if day8data[0][c % len(day8data[0])] == 'L' else 1]\n",
    "        c += 1\n",
    "        if cn.endswith(\"Z\"):\n",
    "            orders[i].append(c)"
   ]
  },
  {
   "cell_type": "code",
   "execution_count": 37,
   "id": "49a816de-544a-45db-bd16-99c86184a5df",
   "metadata": {},
   "outputs": [
    {
     "data": {
      "text/plain": [
       "[[16271, 16271, 16271],\n",
       " [24253, 24253, 24253],\n",
       " [13201, 13201, 13201],\n",
       " [14429, 14429, 14429],\n",
       " [18113, 18113, 18113],\n",
       " [22411, 22411, 22411]]"
      ]
     },
     "execution_count": 37,
     "metadata": {},
     "output_type": "execute_result"
    }
   ],
   "source": [
    "[[x[i+1]-x[i] for i in range(len(x)-1)] for x in orders]"
   ]
  },
  {
   "cell_type": "code",
   "execution_count": 38,
   "id": "ccb280e5-5e3b-4bfd-b62e-e87fe7a32911",
   "metadata": {},
   "outputs": [],
   "source": [
    "# they are all the same. I didn't expect that. But that makes it easy."
   ]
  },
  {
   "cell_type": "code",
   "execution_count": 39,
   "id": "bbe088c1-c722-41bb-8dc0-f8f407762fde",
   "metadata": {},
   "outputs": [
    {
     "data": {
      "text/plain": [
       "11188774513823"
      ]
     },
     "execution_count": 39,
     "metadata": {},
     "output_type": "execute_result"
    }
   ],
   "source": [
    "math.lcm(*(x[1] for x in orders))"
   ]
  },
  {
   "cell_type": "markdown",
   "id": "af30876b-fc36-4e1c-afbb-9f683c4c383e",
   "metadata": {},
   "source": [
    "## Day 9"
   ]
  },
  {
   "cell_type": "code",
   "execution_count": 40,
   "id": "d0667798-e574-42cf-aa0a-e1229e01fb2f",
   "metadata": {},
   "outputs": [],
   "source": [
    "day9data = [[int(x) for x in y.split(\" \")] for y in getData(9).splitlines()]"
   ]
  },
  {
   "cell_type": "code",
   "execution_count": 41,
   "id": "80ffb6ce-c307-406d-bf70-453c8eb350ff",
   "metadata": {},
   "outputs": [
    {
     "data": {
      "text/plain": [
       "1987402313"
      ]
     },
     "execution_count": 41,
     "metadata": {},
     "output_type": "execute_result"
    }
   ],
   "source": [
    "nextVals = []\n",
    "for x in day9data:\n",
    "    diffs = [x[-1]]\n",
    "    while not all(y == 0 for y in x):\n",
    "        x = [x[i+1] - x[i] for i in range(len(x)-1)]\n",
    "        diffs.append(x[-1])\n",
    "    nextVals.append(sum(diffs))\n",
    "sum(nextVals)"
   ]
  },
  {
   "cell_type": "code",
   "execution_count": 42,
   "id": "e50c3a22-741b-4cd3-b801-8f647ae9dd78",
   "metadata": {},
   "outputs": [
    {
     "data": {
      "text/plain": [
       "900"
      ]
     },
     "execution_count": 42,
     "metadata": {},
     "output_type": "execute_result"
    }
   ],
   "source": [
    "nextVals = []\n",
    "for x in day9data:\n",
    "    diffs = [x[0]]\n",
    "    while not all(y == 0 for y in x):\n",
    "        x = [x[i+1] - x[i] for i in range(len(x)-1)]\n",
    "        diffs.append(x[0])\n",
    "    nextVals.append(sum((-1)**i*x for i, x in enumerate(diffs)))\n",
    "sum(nextVals)"
   ]
  },
  {
   "cell_type": "markdown",
   "id": "f73b5d7d-2f1b-4217-ad90-09c383af1735",
   "metadata": {},
   "source": [
    "## Day 10"
   ]
  },
  {
   "cell_type": "code",
   "execution_count": 43,
   "id": "9cad37ec-99b6-4550-aa37-e28bc36fe265",
   "metadata": {},
   "outputs": [],
   "source": [
    "day10data = getData(10).splitlines()\n",
    "tileDirs = {\"-\": ((0, 1), (0, -1)), \"|\": ((1, 0), (-1, 0)), \"J\": ((-1, 0), (0, -1)), \n",
    "            \"7\": ((0, -1), (1, 0)), \"L\": ((-1, 0), (0, 1)), \"F\": ((1, 0), (0, 1))}\n",
    "nbs = [(0, 1), (0, -1), (1, 0), (-1, 0)]"
   ]
  },
  {
   "cell_type": "code",
   "execution_count": 44,
   "id": "7759be9a-580d-49a5-b22f-acbe2f197959",
   "metadata": {},
   "outputs": [],
   "source": [
    "start = next((i, j) for i in range(len(day10data)) for j in range(len(day10data[0])) if day10data[i][j] == \"S\")\n",
    "connectIntoStart = [(i, j) for i, j, shapes in [(start[0]+1, start[1], \"|JL\"), (start[0]-1, start[1], \"|7F\"), \n",
    "                                                (start[0], start[1]-1, \"-FL\"), (start[0], start[1]+1, \"-J7\")] if day10data[i][j] in shapes]"
   ]
  },
  {
   "cell_type": "code",
   "execution_count": 45,
   "id": "94723d7b-57d5-4a6b-aeaf-72febcc1a0a8",
   "metadata": {},
   "outputs": [
    {
     "data": {
      "text/plain": [
       "6697"
      ]
     },
     "execution_count": 45,
     "metadata": {},
     "output_type": "execute_result"
    }
   ],
   "source": [
    "loop = [start, connectIntoStart[0]]\n",
    "while loop[-1] != start:\n",
    "    loop.append(next(nt for i, j in tileDirs[day10data[loop[-1][0]][loop[-1][1]]] if (nt := (loop[-1][0] + i, loop[-1][1] + j)) != loop[-2]))\n",
    "(len(loop) - 1 ) // 2"
   ]
  },
  {
   "cell_type": "code",
   "execution_count": 46,
   "id": "eb488ce7-9e1a-4188-a54c-0babe1d4da73",
   "metadata": {},
   "outputs": [],
   "source": [
    "loopSet = set(loop)\n",
    "day10dataPart2 = [[[day10data[i][j], set()] if (i, j) in loopSet else [\".\", set()] for j in range(len(day10data[0]))] for i in range(len(day10data))]\n",
    "for d in itertools.cycle((range(len(day10data))[::x],range(len(day10data[1]))[::y])  for x, y in [(1, 1), (1, -1), (-1, 1), (-1, -1)]):\n",
    "    anyChanges = False\n",
    "    for i, j in ((x, y) for x in d[0] for y in d[1]):\n",
    "        if day10dataPart2[i][j][0] == \".\":\n",
    "            if (i in (0, len(day10data) - 1) or j in (0, len(day10data[0]) - 1) or\n",
    "                any(day10dataPart2[i+k][j+l][0] == \"O\" or (-k, -l) in day10dataPart2[i+k][j+l][1] for k, l in nbs)):\n",
    "                day10dataPart2[i][j][0], c = \"O\", True\n",
    "        elif day10dataPart2[i][j][0] in '-|J7LF':\n",
    "            nn = set((k, l) for k, l in nbs if (k, l) not in tileDirs[day10dataPart2[i][j][0]] and \n",
    "                     (i+k in (-1, len(day10data)) or j+l in (-1, len(day10data[0])) or\n",
    "                      day10dataPart2[i+k][j+l][0] == \"O\" or (-k, -l) in day10dataPart2[i+k][j+l][1] or\n",
    "       any((m, n) in day10dataPart2[i][j][1] for m, n in nbs if (m, n) not in tileDirs[day10dataPart2[i][j][0]] and not (m == -k and n == -l)) or\n",
    "       any((k, l) in day10dataPart2[i+m][j+n][1] for m, n in nbs if abs(k)==abs(n) and abs(l) == abs(m))))\n",
    "            if nn != day10dataPart2[i][j][1]:\n",
    "                nn, anyChanges = day10dataPart2[i][j][1].update(nn), True\n",
    "    if not anyChanges:\n",
    "        break"
   ]
  },
  {
   "cell_type": "code",
   "execution_count": 47,
   "id": "70ff383d-74dc-48a6-9b72-da2ec204a3da",
   "metadata": {},
   "outputs": [
    {
     "data": {
      "text/plain": [
       "423"
      ]
     },
     "execution_count": 47,
     "metadata": {},
     "output_type": "execute_result"
    }
   ],
   "source": [
    "sum(1 for i in range(len(day10data)) for j in range(len(day10data[0])) if day10dataPart2[i][j][0] == '.')"
   ]
  },
  {
   "cell_type": "markdown",
   "id": "b36ddf39-5f08-4fd8-83e8-9f99e2df6542",
   "metadata": {},
   "source": [
    "## Day 11"
   ]
  },
  {
   "cell_type": "code",
   "execution_count": 48,
   "id": "bdcb41f1-2c64-433f-9d19-b9c9f16ce624",
   "metadata": {},
   "outputs": [],
   "source": [
    "day11data = getData(11).splitlines()\n",
    "emptyRows = [yi for yi, y in enumerate(day11data) if \"#\" not in y]\n",
    "emptyColumns = [xi for xi in range(len(day11data[0])) if not any(y[xi] == \"#\" for y in day11data)]\n",
    "day11data2 = [(yi + sum(1 for el in emptyRows if el < yi), xi + sum(1 for el in emptyColumns if el < xi)) \n",
    "             for yi, y in enumerate(day11data) for xi, x in enumerate(y) if x == \"#\"]"
   ]
  },
  {
   "cell_type": "code",
   "execution_count": 49,
   "id": "faf253c5-4959-4885-964b-7dd42b24f95f",
   "metadata": {},
   "outputs": [
    {
     "data": {
      "text/plain": [
       "9769724"
      ]
     },
     "execution_count": 49,
     "metadata": {},
     "output_type": "execute_result"
    }
   ],
   "source": [
    "sum(abs(y2-y1)+abs(x2-x1) for (y1, x1), (y2, x2) in itertools.combinations(day11data2, 2))"
   ]
  },
  {
   "cell_type": "code",
   "execution_count": 50,
   "id": "8f5c0cfd-d651-4468-9e40-545ae59e3e71",
   "metadata": {},
   "outputs": [],
   "source": [
    "day11data2 = [(yi + sum(999999 for el in emptyRows if el < yi), xi + sum(999999 for el in emptyColumns if el < xi)) \n",
    "             for yi, y in enumerate(day11data) for xi, x in enumerate(y) if x == \"#\"]"
   ]
  },
  {
   "cell_type": "code",
   "execution_count": 51,
   "id": "3816bb0a-4221-4a63-9ebd-0339b5bacb13",
   "metadata": {},
   "outputs": [
    {
     "data": {
      "text/plain": [
       "603020563700"
      ]
     },
     "execution_count": 51,
     "metadata": {},
     "output_type": "execute_result"
    }
   ],
   "source": [
    "sum(abs(y2-y1)+abs(x2-x1) for (y1, x1), (y2, x2) in itertools.combinations(day11data2, 2))"
   ]
  },
  {
   "cell_type": "markdown",
   "id": "4e8e1770-3285-4f85-a0e6-d036daa535f3",
   "metadata": {},
   "source": [
    "## Day 12"
   ]
  },
  {
   "cell_type": "code",
   "execution_count": 52,
   "id": "d28b57bd-1e48-423f-adc0-6e0aafad46b9",
   "metadata": {},
   "outputs": [],
   "source": [
    "day12data = [(x.split(\" \")[0], tuple(int(y) for y in x.split(\" \")[1].split(\",\"))) for x in getData(12).splitlines()]"
   ]
  },
  {
   "cell_type": "code",
   "execution_count": 53,
   "id": "f242e819-e34f-4d6e-b479-d7f292fba681",
   "metadata": {},
   "outputs": [],
   "source": [
    "@functools.lru_cache(maxsize=1000)\n",
    "def day12recurse(s, ls):\n",
    "    solution = 0\n",
    "    matches = re.finditer('(?=([?#]{%d})(?!#))' %ls[0], s) #overlapping, 0-width matches\n",
    "    for m in matches:\n",
    "        if not '#' in s[:m.start(1)]: # can't skip any \"#\". No idea how to do that inside the regexp though\n",
    "            remaining = s[m.start(1) + ls[0] + 1:].strip(\".\")\n",
    "            if len(ls) == 1 and \"#\" not in remaining:\n",
    "                    solution += 1\n",
    "            elif len(ls) > 1 and sum(1 for x in remaining if x in \"?#\") >= sum(ls[1:]):# still possible?\n",
    "                    solution += day12recurse(remaining, ls[1:])\n",
    "    return solution"
   ]
  },
  {
   "cell_type": "code",
   "execution_count": 54,
   "id": "c32e4192-59f5-431a-a0f0-324b02f3b769",
   "metadata": {},
   "outputs": [
    {
     "data": {
      "text/plain": [
       "7025"
      ]
     },
     "execution_count": 54,
     "metadata": {},
     "output_type": "execute_result"
    }
   ],
   "source": [
    "sum(day12recurse(s,ls) for s, ls in day12data)"
   ]
  },
  {
   "cell_type": "code",
   "execution_count": 55,
   "id": "5adb552f-0199-4f7b-b42f-84dfcf596536",
   "metadata": {},
   "outputs": [
    {
     "data": {
      "text/plain": [
       "11461095383315"
      ]
     },
     "execution_count": 55,
     "metadata": {},
     "output_type": "execute_result"
    }
   ],
   "source": [
    "sum(day12recurse(\"?\".join(s for _ in range(5)), ls*5) for s, ls in day12data)"
   ]
  },
  {
   "cell_type": "markdown",
   "id": "f59504f0-eb17-4d44-a845-6b0cf7ad12a8",
   "metadata": {},
   "source": [
    "## Day 13"
   ]
  },
  {
   "cell_type": "code",
   "execution_count": 56,
   "id": "f2ff8372-336b-4bc9-bdb6-317cd3eb297b",
   "metadata": {},
   "outputs": [],
   "source": [
    "day13data = [x.splitlines() for x in getData(13).split(\"\\n\\n\") if x]"
   ]
  },
  {
   "cell_type": "code",
   "execution_count": 57,
   "id": "d36497be-e6bc-4a9f-8498-7713138e18f5",
   "metadata": {},
   "outputs": [
    {
     "data": {
      "text/plain": [
       "30802"
      ]
     },
     "execution_count": 57,
     "metadata": {},
     "output_type": "execute_result"
    }
   ],
   "source": [
    "sum(next(itertools.chain((i for i in range(1,len(x[0])) if all(y[i-j] == y[i+j-1] for y in x for j in range(1,1+min(i, len(x[0])-i)))),\n",
    "                         (100*i for i in range(1,len(x)) if all(a == b for j in range(1, 1+min(i, len(x)-i)) for a, b in zip(x[i-j], x[i+j-1])))))\n",
    "    for x in day13data)"
   ]
  },
  {
   "cell_type": "code",
   "execution_count": 58,
   "id": "d2473d73-938c-42ea-bc94-76845a17c181",
   "metadata": {},
   "outputs": [
    {
     "data": {
      "text/plain": [
       "37876"
      ]
     },
     "execution_count": 58,
     "metadata": {},
     "output_type": "execute_result"
    }
   ],
   "source": [
    "sum(next(itertools.chain((i for i in range(1,len(x[0])) if sum(y[i-j] != y[i+j-1] for y in x for j in range(1,1+min(i, len(x[0])-i))) == 1),\n",
    "                         (100*i for i in range(1,len(x)) if sum(a != b for j in range(1, 1+min(i, len(x)-i)) for a, b in zip(x[i-j], x[i+j-1])) == 1)))\n",
    "    for x in day13data)"
   ]
  },
  {
   "cell_type": "markdown",
   "id": "d6e42f96-513f-4015-85b7-4d7de01a9f19",
   "metadata": {},
   "source": [
    "## Day 14"
   ]
  },
  {
   "cell_type": "code",
   "execution_count": 59,
   "id": "4d5b36cc-70e1-4e87-bbdb-d294d1d2fd95",
   "metadata": {},
   "outputs": [],
   "source": [
    "day14data = getData(14).splitlines()"
   ]
  },
  {
   "cell_type": "code",
   "execution_count": 60,
   "id": "1543df5f-8351-4607-85fd-aca14ea5b890",
   "metadata": {},
   "outputs": [],
   "source": [
    "for i in range(1, len(day14data)):\n",
    "    for j in range(len(day14data[0])):\n",
    "        if day14data[i][j] == \"O\":\n",
    "            toMove = next(k for k in range(i+1) if i-k-1 == -1 or day14data[i-k-1][j] in \"#O\")\n",
    "            if toMove > 0:\n",
    "                day14data[i-toMove] = day14data[i-toMove][:j] + \"O\" + day14data[i-toMove][j+1:]\n",
    "                day14data[i] = day14data[i][:j] + \".\" + day14data[i][j+1:]"
   ]
  },
  {
   "cell_type": "code",
   "execution_count": 61,
   "id": "9761f463-258f-4ef7-9565-15792033ebdf",
   "metadata": {},
   "outputs": [
    {
     "data": {
      "text/plain": [
       "108857"
      ]
     },
     "execution_count": 61,
     "metadata": {},
     "output_type": "execute_result"
    }
   ],
   "source": [
    "sum((len(day14data) - i)*sum(1 for x in day14data[i] if x == \"O\") for i in range(len(day14data)))"
   ]
  },
  {
   "cell_type": "code",
   "execution_count": 62,
   "id": "27046a32-795f-457d-9764-428ada2a79ee",
   "metadata": {},
   "outputs": [],
   "source": [
    "def day14rotate(d):\n",
    "    il, jl = len(d), len(d[0])\n",
    "    for i, j in ((i, j) for i in range(1, il) for j in range(jl) if d[i][j] == \"O\"): # North\n",
    "        if d[i][j] == \"O\":\n",
    "            toMove = next(k for k in range(i+1) if i-k == 0 or d[i-k-1][j] in \"#O\")\n",
    "            if toMove > 0:\n",
    "                d[i-toMove] = d[i-toMove][:j] + \"O\" + d[i-toMove][j+1:]\n",
    "                d[i] = d[i][:j] + \".\" + d[i][j+1:]\n",
    "    for i, j in ((i, j) for i in range(il) for j in range(1, jl) if d[i][j] == \"O\"): # West\n",
    "        if d[i][j] == \"O\":\n",
    "            toMove = next(k for k in range(j+1) if j-k == 0 or d[i][j-k-1] in \"#O\")\n",
    "            if toMove > 0:\n",
    "                d[i] = d[i][:j-toMove] + \"O\" + d[i][j-toMove+1:]\n",
    "                d[i] = d[i][:j] + \".\" + d[i][j+1:]\n",
    "    for i, j in ((i, j) for i in range(il-1)[::-1] for j in range(jl) if d[i][j] == \"O\"): # South\n",
    "        if d[i][j] == \"O\":\n",
    "            toMove = next(k for k in range(il-i+1) if i+k+1 == il or d[i+k+1][j] in \"#O\")\n",
    "            if toMove > 0:\n",
    "                d[i+toMove] = d[i+toMove][:j] + \"O\" + d[i+toMove][j+1:]\n",
    "                d[i] = d[i][:j] + \".\" + d[i][j+1:]\n",
    "    for i, j in ((i, j) for i in range(il) for j in range(jl-1)[::-1] if d[i][j] == \"O\"): # East\n",
    "        if d[i][j] == \"O\":\n",
    "            toMove = next(k for k in range(jl-j+1) if j+k+1 == jl or d[i][j+k+1] in \"#O\")\n",
    "            if toMove > 0:\n",
    "                d[i] = d[i][:j+toMove] + \"O\" + d[i][j+toMove+1:]\n",
    "                d[i] = d[i][:j] + \".\" + d[i][j+1:]"
   ]
  },
  {
   "cell_type": "code",
   "execution_count": 63,
   "id": "8d8a718a-8926-4d04-9613-31edb0785d2b",
   "metadata": {},
   "outputs": [],
   "source": [
    "day14data = getData(14).splitlines()\n",
    "loads, i = [], 0\n",
    "while True:\n",
    "    day14rotate(day14data)\n",
    "    loads.append(sum((len(day14data) - i)*sum(1 for x in day14data[i] if x == \"O\") for i in range(len(day14data))))\n",
    "    if i > 10:\n",
    "        try:\n",
    "            period = next(k for k in range(5, i//2) if all(loads[-j] == loads[-j-k] for j in range(1, k+1)))\n",
    "            break\n",
    "        except StopIteration:\n",
    "            pass\n",
    "    i += 1"
   ]
  },
  {
   "cell_type": "code",
   "execution_count": 64,
   "id": "073735f2-e8bc-4afc-b4e8-99dca052c7ed",
   "metadata": {},
   "outputs": [
    {
     "name": "stdout",
     "output_type": "stream",
     "text": [
      "Period 14 starting after 111, so loads[1000000000] = loads[117] = 95273\n"
     ]
    }
   ],
   "source": [
    "print(\"Period %d starting after %d, so loads[1000000000] = loads[%d] = %d\" %(period, (i-period), z:= (1000000000-i-1) % period + i-period, loads[z]))"
   ]
  },
  {
   "cell_type": "markdown",
   "id": "f8356ade-23ef-4860-88a2-570fd032ac02",
   "metadata": {},
   "source": [
    "## Day 15"
   ]
  },
  {
   "cell_type": "code",
   "execution_count": 65,
   "id": "c9bb6ed7-f153-4006-9ee2-00ce4749e0c4",
   "metadata": {},
   "outputs": [],
   "source": [
    "day15data = getData(15).strip().split(\",\")"
   ]
  },
  {
   "cell_type": "code",
   "execution_count": 66,
   "id": "27f86c5f-f41c-4f6c-a20c-811df78a5444",
   "metadata": {},
   "outputs": [
    {
     "data": {
      "text/plain": [
       "513214"
      ]
     },
     "execution_count": 66,
     "metadata": {},
     "output_type": "execute_result"
    }
   ],
   "source": [
    "sum(functools.reduce(lambda v, c: (v+ord(c))*17 % 256, x, 0) for x in day15data)"
   ]
  },
  {
   "cell_type": "code",
   "execution_count": 67,
   "id": "43e2bfed-46fc-4b6b-9149-26c26ba67d78",
   "metadata": {},
   "outputs": [
    {
     "data": {
      "text/plain": [
       "258826"
      ]
     },
     "execution_count": 67,
     "metadata": {},
     "output_type": "execute_result"
    }
   ],
   "source": [
    "boxes = collections.defaultdict(dict) # dicts are insertion-ordered by default\n",
    "for step in day15data:\n",
    "    label, fl = step.split(\"=\")[0].split(\"-\")[0], step.split(\"=\")[-1].split(\"-\")[-1]\n",
    "    box = functools.reduce(lambda v, c: (v+ord(c))*17 % 256, label, 0)\n",
    "    if step[len(label):len(label)+1] == '-':\n",
    "        if label in boxes[box]:\n",
    "            del boxes[box][label]\n",
    "    else:\n",
    "        boxes[box][label] = int(fl)\n",
    "sum((boxNum+1)*(slotNum+1)*fl for boxNum, box in boxes.items() for slotNum, fl in enumerate(box.values()))"
   ]
  },
  {
   "cell_type": "markdown",
   "id": "e6792016-b3ed-4409-b113-2886a7bb1f25",
   "metadata": {},
   "source": [
    "## Day 16"
   ]
  },
  {
   "cell_type": "code",
   "execution_count": 68,
   "id": "56fc3d4f-08c7-4aae-893c-57dabd896eae",
   "metadata": {},
   "outputs": [],
   "source": [
    "day16data = getData(16).splitlines()"
   ]
  },
  {
   "cell_type": "code",
   "execution_count": 69,
   "id": "569c822d-629b-42ff-9c4f-979a0c83b228",
   "metadata": {},
   "outputs": [],
   "source": [
    "day16dirs = {'\\\\': {(0, 1) : [(1, 0)], (0, -1): [(-1, 0)], (1, 0): [(0, 1)], (-1, 0): [(0, -1)]},\n",
    "             '/': {(0, 1) : [(-1, 0)], (0, -1): [(1, 0)], (1, 0): [(0, -1)], (-1, 0): [(0, 1)]},\n",
    "             '|': {(0, 1) : [(1, 0), (-1, 0)], (0, -1): [(1, 0), (-1, 0)], (1, 0): [(1, 0)], (-1, 0): [(-1, 0)]},\n",
    "             '-': {(0, 1) : [(0, 1)], (0, -1): [(0, -1)], (1, 0): [(0, 1), (0, -1)], (-1, 0): [(0, 1), (0, -1)]}}"
   ]
  },
  {
   "cell_type": "code",
   "execution_count": 70,
   "id": "8b099be5-bd4f-4260-adbf-ba74ffbe78d7",
   "metadata": {},
   "outputs": [
    {
     "data": {
      "text/plain": [
       "7939"
      ]
     },
     "execution_count": 70,
     "metadata": {},
     "output_type": "execute_result"
    }
   ],
   "source": [
    "def day16fun(startY, startX, dY, dX):\n",
    "    visited, queue = set(), [(startY, startX, dY, dX)]\n",
    "    while queue:\n",
    "        y, x, diry, dirx = queue.pop(0)\n",
    "        while -1 < y < len(day16data) and -1 < x < len(day16data[0]) and (y, x, diry, dirx) not in visited:\n",
    "            visited.add((y, x, diry, dirx))\n",
    "            if day16data[y][x] != '.':\n",
    "                for diry, dirx in day16dirs[day16data[y][x]][(diry, dirx)]:\n",
    "                    queue.append((y+diry, x+dirx, diry, dirx))\n",
    "                break\n",
    "            y, x = y+diry, x+dirx\n",
    "    return len(set((y, x) for y, x, diry, dirx in visited))\n",
    "day16fun(0, 0, 0, 1)"
   ]
  },
  {
   "cell_type": "code",
   "execution_count": 71,
   "id": "70702ecc-4e06-465f-83da-2cf03b3829d7",
   "metadata": {},
   "outputs": [
    {
     "data": {
      "text/plain": [
       "8318"
      ]
     },
     "execution_count": 71,
     "metadata": {},
     "output_type": "execute_result"
    }
   ],
   "source": [
    "maxScore = 0 # takes 0.5s, not too bad\n",
    "for yi in range(len(day16data)):\n",
    "    for xi, dx in [(0, 1), (len(day16data[0]), -1)]:\n",
    "        maxScore = max(maxScore, day16fun(yi, xi, 0, dx))\n",
    "for xi in range(len(day16data[0])):\n",
    "    for yi, dy in [(0, 1), (len(day16data), -1)]:\n",
    "        maxScore = max(maxScore, day16fun(yi, xi, dy, 0))\n",
    "maxScore"
   ]
  },
  {
   "cell_type": "markdown",
   "id": "ded324d2-9e9d-4fc9-9b0b-23a9cfd635e9",
   "metadata": {},
   "source": [
    "## Day 17"
   ]
  },
  {
   "cell_type": "code",
   "execution_count": 72,
   "id": "51446bd1-1772-4688-97d8-82a45de519ba",
   "metadata": {},
   "outputs": [],
   "source": [
    "day17data = [[int(x) for x in y] for y in getData(17).splitlines()]"
   ]
  },
  {
   "cell_type": "code",
   "execution_count": 73,
   "id": "22a0c71f-7f81-4cc1-812d-46d80235d880",
   "metadata": {},
   "outputs": [
    {
     "data": {
      "text/plain": [
       "724"
      ]
     },
     "execution_count": 73,
     "metadata": {},
     "output_type": "execute_result"
    }
   ],
   "source": [
    "def day17(minStep, maxStep): #not particularly fast, but it will do.\n",
    "    dirs, yR, xR, changed = [(0, 1), (-1, 0), (0, -1), (1, 0)], len(day17data), len(day17data[0]), True\n",
    "    costs = [[dict((i, int(1e10)) for i in range(4)) for x in range(xR)] for y in range(yR)]\n",
    "    costs[-1][-1].update(dict((i, 0) for i in range(4)))\n",
    "    while changed:\n",
    "        changed = False\n",
    "        for y, x in itertools.product(range(yR)[::-1], range(xR)[::-1]):\n",
    "            for dirI in range(4):\n",
    "                nhl = [sum(day17data[y+j*dirs[dirI][0]][x + j*dirs[dirI][1]] for j in range(1, i+1)) + min(costs[ny][nx][(dirI+k) % 4] for k in [-1, 1])\n",
    "                       for i in range(minStep, maxStep) if -1 < (ny:=y + i*dirs[dirI][0]) < yR and -1 < (nx:= x + i*dirs[dirI][1]) < xR]\n",
    "                if nhl and min(nhl) < costs[y][x][dirI]:\n",
    "                    changed = True\n",
    "                    costs[y][x][dirI] = min(nhl)\n",
    "    return min(costs[0][0].values())\n",
    "day17(1, 4)"
   ]
  },
  {
   "cell_type": "code",
   "execution_count": 74,
   "id": "2435b5cb-437e-489f-84d8-ca7a3ae9e538",
   "metadata": {},
   "outputs": [
    {
     "data": {
      "text/plain": [
       "877"
      ]
     },
     "execution_count": 74,
     "metadata": {},
     "output_type": "execute_result"
    }
   ],
   "source": [
    "day17(4, 11)"
   ]
  },
  {
   "cell_type": "markdown",
   "id": "41d26de5-a8ab-4895-acd6-9f56f351461d",
   "metadata": {},
   "source": [
    "## Day 18\n",
    "I first used the same iterative approach as for day 10, but that blew up for part 2. So I looked up Polygons on wikipedia, and discovered Shoelace formula. Shoelace formula only includes the edge on the left and top, so (by symmetry) we need to add half of the edges +1 back in. This took way longer than it should have."
   ]
  },
  {
   "cell_type": "code",
   "execution_count": 75,
   "id": "68996fc6-efdb-46ec-b836-9ad6729448b6",
   "metadata": {},
   "outputs": [],
   "source": [
    "day18data = [(x[:1], int(x.split(\" \")[1])) for x in getData(18).splitlines()]"
   ]
  },
  {
   "cell_type": "code",
   "execution_count": 76,
   "id": "75e36688-9bfd-4684-ac7f-dbc7308c7641",
   "metadata": {},
   "outputs": [
    {
     "data": {
      "text/plain": [
       "74074"
      ]
     },
     "execution_count": 76,
     "metadata": {},
     "output_type": "execute_result"
    }
   ],
   "source": [
    "corners, dirs = [(0, 0)], {\"R\": (0, 1), \"U\": (-1, 0), \"L\": (0, -1), \"D\": (1, 0)}\n",
    "for d, l in day18data:\n",
    "    corners.append((corners[-1][0]+l*dirs[d][0], corners[-1][1]+l*dirs[d][1]))\n",
    "abs(sum(x1*y2-y1*x2 for (y1, x1), (y2, x2) in zip(corners, corners[1:])))//2 + sum(x[1] for x in day18data)//2 + 1"
   ]
  },
  {
   "cell_type": "code",
   "execution_count": 77,
   "id": "2d56022b-7cb0-41f0-9492-8cf4dfa7fede",
   "metadata": {},
   "outputs": [],
   "source": [
    "day18data = [(int(x[-2:-1]), int(x[-7:-2], base=16)) for x in getData(18).splitlines()]"
   ]
  },
  {
   "cell_type": "code",
   "execution_count": 78,
   "id": "654f72af-56f4-48e9-ba29-05d593c9874b",
   "metadata": {},
   "outputs": [
    {
     "data": {
      "text/plain": [
       "112074045986829"
      ]
     },
     "execution_count": 78,
     "metadata": {},
     "output_type": "execute_result"
    }
   ],
   "source": [
    "corners, dirs = [(0, 0)], [(0, 1), (1, 0), (0, -1), (-1, 0)] # (y, x), RDLU\n",
    "for d, l in day18data:\n",
    "    corners.append((corners[-1][0]+l*dirs[d][0], corners[-1][1]+l*dirs[d][1]))\n",
    "abs(sum(x1*y2-y1*x2 for (y1, x1), (y2, x2) in zip(corners, corners[1:])))//2 + sum(x[1] for x in day18data)//2 + 1"
   ]
  },
  {
   "cell_type": "markdown",
   "id": "095d2e88-ab9a-4f6b-ab9e-118e46b6c24f",
   "metadata": {},
   "source": [
    "## Day 19"
   ]
  },
  {
   "cell_type": "code",
   "execution_count": 79,
   "id": "e70107e7-d685-4fbd-b491-333c724c3ec0",
   "metadata": {},
   "outputs": [],
   "source": [
    "rules, parts = getData(19).strip().split(\"\\n\\n\")\n",
    "for s in \"xmas\":\n",
    "    parts = parts.replace(s, '\"%s\"' %s)\n",
    "parts = json.loads(\"[\" + parts.replace(\"\\n\", \", \").replace(\"=\", \":\") + \"]\")\n",
    "exec(\"rules = {\" + \", \".join(repr(r.split(\"{\")[0]) + \": lambda x, s, m, a: \" + \" else \".join([repr(x.split(\":\")[1]) + \" if \" + x.split(\":\")[0]\n",
    "     if \":\" in x else repr(x) for x in r.split(\"{\")[1][:-1].split(\",\")]) for r in rules.splitlines()) + \"}\")\n",
    "rules['A'], rules['R'] = lambda x, s, m, a: x+s+m+a, lambda **args: 0"
   ]
  },
  {
   "cell_type": "code",
   "execution_count": 80,
   "id": "81c79187-2c62-4384-a0be-740f8c57ac56",
   "metadata": {},
   "outputs": [
    {
     "data": {
      "text/plain": [
       "418498"
      ]
     },
     "execution_count": 80,
     "metadata": {},
     "output_type": "execute_result"
    }
   ],
   "source": [
    "sol = 0\n",
    "for p in parts:\n",
    "    res = rules['in'](**p)\n",
    "    while isinstance(res, str):\n",
    "        res = rules[res](**p)\n",
    "    sol += res\n",
    "sol"
   ]
  },
  {
   "cell_type": "code",
   "execution_count": 81,
   "id": "b3e5f7a7-e75e-4d02-ba33-bb4a64507397",
   "metadata": {},
   "outputs": [],
   "source": [
    "rules = dict((r.split(\"{\")[0], r.split(\"{\")[1].split(\"}\")[0].split(\",\")) for r in getData(19).strip().split(\"\\n\\n\")[0].splitlines())"
   ]
  },
  {
   "cell_type": "code",
   "execution_count": 82,
   "id": "7d9be1c8-a734-4c69-8b21-7eb51cdb42ae",
   "metadata": {},
   "outputs": [],
   "source": [
    "def processRule(rule=\"in\", **args):\n",
    "    toReturn = []\n",
    "    for r in rules[rule]:\n",
    "        if r == \"R\":\n",
    "            return toReturn\n",
    "        elif r == \"A\":\n",
    "            return toReturn + [args]\n",
    "        elif \":\" not in r:\n",
    "            return toReturn + processRule(r, **args)\n",
    "        else:\n",
    "            v, ineq, n, newRule, newargs = r[0], r[1], int(r[2:].split(\":\")[0]), r.split(\":\")[1], args.copy()\n",
    "            newargs[v] = range(max(args[v].start, n+1), args[v].stop) if ineq == '>' else range(args[v].start, min(n, args[v].stop))\n",
    "            if len(args[v]) > 0:\n",
    "                if newRule == \"A\":\n",
    "                    toReturn.append(newargs)\n",
    "                elif newRule != \"R\":\n",
    "                    toReturn.extend(processRule(newRule, **newargs))\n",
    "            args[v] = range(max(args[v].start, n), args[v].stop) if ineq == '<' else range(args[v].start, min(n+1, args[v].stop))\n",
    "            if len(args[v]) == 0:\n",
    "                return toReturn"
   ]
  },
  {
   "cell_type": "code",
   "execution_count": 83,
   "id": "1f9494d7-cee6-4682-aa96-8f5a5ca26ad6",
   "metadata": {},
   "outputs": [
    {
     "data": {
      "text/plain": [
       "123331556462603"
      ]
     },
     "execution_count": 83,
     "metadata": {},
     "output_type": "execute_result"
    }
   ],
   "source": [
    "res = processRule(\"in\", x=range(1, 4001), s=range(1, 4001), m=range(1, 4001), a=range(1, 4001))\n",
    "sum(math.prod((len(y) for y in x.values())) for x in res)"
   ]
  },
  {
   "cell_type": "markdown",
   "id": "55d94fb0-f8bb-4c60-a2ad-5605a9c138b9",
   "metadata": {},
   "source": [
    "## Day 20"
   ]
  },
  {
   "cell_type": "code",
   "execution_count": 84,
   "id": "af1bd3b1-349c-40b8-bb6e-fc9889b20988",
   "metadata": {},
   "outputs": [],
   "source": [
    "day20data = dict((x.split(\" -\")[0].strip(\"&%\"), (x[0] if x[0] in \"&%\" else \"\", x.split(\"> \")[1].split(\", \"))) for x in getData(20).splitlines())"
   ]
  },
  {
   "cell_type": "code",
   "execution_count": 85,
   "id": "4688d0e0-81b6-475c-a07d-e12f3f39e24e",
   "metadata": {},
   "outputs": [],
   "source": [
    "def processDay20Part1(state):\n",
    "    queue, pulses = [('broadcaster', False, 'button')], [0, 0]\n",
    "    while queue:\n",
    "        current, sig, source = queue.pop(0)\n",
    "        pulses[1 if sig else 0] += 1\n",
    "        if current not in day20data:\n",
    "            state[current] = sig\n",
    "            continue\n",
    "        t, dests = day20data[current]\n",
    "        if t == \"\":\n",
    "            queue.extend(((dest, sig, current) for dest in dests))\n",
    "        elif t == \"%\":\n",
    "            if not sig:\n",
    "                state[current] = not state[current]\n",
    "                queue.extend(((dest, state[current], current) for dest in dests))\n",
    "        elif t == \"&\":\n",
    "            state[current][source] = sig\n",
    "            if all(state[current].values()):\n",
    "                queue.extend(((dest, False, current) for dest in dests))\n",
    "            else:\n",
    "                queue.extend(((dest, True, current) for dest in dests))\n",
    "    return pulses"
   ]
  },
  {
   "cell_type": "code",
   "execution_count": 86,
   "id": "2bef7b36-6c51-4b40-98f7-4bbffe3f2eb8",
   "metadata": {},
   "outputs": [
    {
     "data": {
      "text/plain": [
       "711650489"
      ]
     },
     "execution_count": 86,
     "metadata": {},
     "output_type": "execute_result"
    }
   ],
   "source": [
    "# False = Low, True = High\n",
    "state, pulses = dict((m, False if t == \"%\" else {} if t == \"&\" else None) for m, (t, c) in day20data.items() if t), [0, 0]\n",
    "inverters = [m for m, (t, c) in day20data.items() if t == '&']\n",
    "[state[x].update({m: False}) for m, (t, c) in day20data.items() for x in c if x in inverters]\n",
    "for i in range(1000):\n",
    "    p = processDay20Part1(state)\n",
    "    pulses = [pulses[i] + p[i] for i in range(2)]\n",
    "math.prod(pulses)"
   ]
  },
  {
   "cell_type": "code",
   "execution_count": 87,
   "id": "5ab42805-41f1-4f86-b68d-20d229d5551a",
   "metadata": {},
   "outputs": [
    {
     "data": {
      "text/plain": [
       "([('dt', ('&', ['rx']))],\n",
       " [('ks', ('&', ['dt'])),\n",
       "  ('pm', ('&', ['dt'])),\n",
       "  ('dl', ('&', ['dt'])),\n",
       "  ('vk', ('&', ['dt']))])"
      ]
     },
     "execution_count": 87,
     "metadata": {},
     "output_type": "execute_result"
    }
   ],
   "source": [
    "[(m, (t,c)) for m, (t, c) in day20data.items() if 'rx' in c], [(m, (t,c)) for m, (t, c) in day20data.items() if 'dt' in c]"
   ]
  },
  {
   "cell_type": "markdown",
   "id": "951002d2-f7c6-46a1-83d8-b5e5e8356c8f",
   "metadata": {},
   "source": [
    "That's a lot of ANDs. Lets find the period of all of these, and we should be able to find the the period of 'rx'"
   ]
  },
  {
   "cell_type": "code",
   "execution_count": 88,
   "id": "8cac5043-d835-4255-a137-a7fd1123cf74",
   "metadata": {},
   "outputs": [],
   "source": [
    "state, i, limit = dict((m, False if t == \"%\" else {} if t == \"&\" else None) for m, (t, c) in day20data.items() if t), 0, 2\n",
    "[state[x].update({m: False}) for m, (t, c) in day20data.items() for x in c if x in inverters]\n",
    "highs = dict((m, dict((m2, []) for m2 in state[m])) for m, (t, c) in day20data.items() if 'rx' in c)\n",
    "while any(len(y) <limit for x in highs.values() for y in x.values()):\n",
    "    i+=1\n",
    "    queue = [('broadcaster', False, 'button')]\n",
    "    while queue:\n",
    "        current, sig, source = queue.pop(0)\n",
    "        if current in highs and sig and len(highs[current][source]) < limit:\n",
    "            highs[current][source].append(i)\n",
    "        if current not in day20data:\n",
    "            state[current] = sig\n",
    "            continue\n",
    "        t, dests = day20data[current]\n",
    "        if t == \"\":\n",
    "            queue.extend(((dest, sig, current) for dest in dests))\n",
    "        elif t == \"%\":\n",
    "            if not sig:\n",
    "                state[current] = not state[current]\n",
    "                queue.extend(((dest, state[current], current) for dest in dests))\n",
    "        elif t == \"&\":\n",
    "            state[current][source] = sig\n",
    "            if all(state[current].values()):\n",
    "                queue.extend(((dest, False, current) for dest in dests))\n",
    "            else:\n",
    "                queue.extend(((dest, True, current) for dest in dests))"
   ]
  },
  {
   "cell_type": "code",
   "execution_count": 89,
   "id": "7cde00e2-6bcc-4061-94d8-663e530a4800",
   "metadata": {},
   "outputs": [],
   "source": [
    "offsets = [(y[0],[b-a for a,b in zip(y, y[1:])]) for x in highs.values() for y in x.values()]"
   ]
  },
  {
   "cell_type": "code",
   "execution_count": 90,
   "id": "a3126e02-bc90-4497-8d5e-76be812aafd9",
   "metadata": {},
   "outputs": [
    {
     "data": {
      "text/plain": [
       "219388737656593"
      ]
     },
     "execution_count": 90,
     "metadata": {},
     "output_type": "execute_result"
    }
   ],
   "source": [
    "math.lcm(*[x[1][0] for x in offsets])"
   ]
  },
  {
   "cell_type": "markdown",
   "id": "f252bfd7-1062-43f1-b03e-dfa258e0ab00",
   "metadata": {},
   "source": [
    "## Day 21"
   ]
  },
  {
   "cell_type": "code",
   "execution_count": 91,
   "id": "657ef4ad-f942-4331-8af3-62b559ffc9bb",
   "metadata": {},
   "outputs": [],
   "source": [
    "day21data = getData(21).splitlines()\n",
    "for i in range(64):\n",
    "    newdata = [y.replace(\"S\", \".\").replace(\"O\", \".\") for y in day21data]\n",
    "    for y, x in itertools.product(range(len(day21data)), range(len(day21data[0]))):\n",
    "        if day21data[y][x] in \"SO\":\n",
    "            for yi, xi in [(0, 1), (1, 0), (0, -1), (-1, 0)]:\n",
    "                if newdata[y+yi][x+xi] == \".\":\n",
    "                    newdata[y+yi] = newdata[y+yi][:x+xi] + \"O\" + newdata[y+yi][x+xi+1:]\n",
    "    day21data = newdata"
   ]
  },
  {
   "cell_type": "code",
   "execution_count": 92,
   "id": "d50c88bb-1426-426c-b1bb-9b4f6d37460b",
   "metadata": {},
   "outputs": [
    {
     "data": {
      "text/plain": [
       "3770"
      ]
     },
     "execution_count": 92,
     "metadata": {},
     "output_type": "execute_result"
    }
   ],
   "source": [
    "sum(1 for y in day21data for x in y if x == \"O\")"
   ]
  },
  {
   "cell_type": "code",
   "execution_count": 93,
   "id": "3b99135d-5377-4e12-be5f-eefc495d8af2",
   "metadata": {},
   "outputs": [],
   "source": [
    "day21data, l, c = getData(21).splitlines(), len(day21data), 2 ## slow...\n",
    "p2data = [c*y.replace(\"S\", \".\") + (y if yi==c else y.replace(\"S\", \".\")) + c*y.replace(\"S\", \".\") for yi in range(c*2+1) for y in day21data]\n",
    "countsInShape = [0]\n",
    "while True:\n",
    "    newdata, toBreak = [y.replace(\"S\", \".\").replace(\"O\", \".\") for y in p2data], False\n",
    "    for y, x in itertools.product(range(len(p2data)), range(len(p2data[0]))):\n",
    "        if p2data[y][x] in \"SO\":\n",
    "            if y in (1, len(p2data)-2) or x in (1, len(p2data)-2):\n",
    "                toBreak = True\n",
    "            for yi, xi in [(0, 1), (1, 0), (0, -1), (-1, 0)]:\n",
    "                if newdata[y+yi][x+xi] == \".\":\n",
    "                    newdata[y+yi] = newdata[y+yi][:x+xi] + \"O\" + newdata[y+yi][x+xi+1:]\n",
    "    p2data = newdata\n",
    "    countsInShape.append(sum(1 for y in p2data for x in y if x == \"O\"))\n",
    "    if toBreak:\n",
    "        break"
   ]
  },
  {
   "cell_type": "code",
   "execution_count": null,
   "id": "da2f9c4e-ad2f-47f5-9cf9-c191627f309e",
   "metadata": {},
   "outputs": [],
   "source": []
  },
  {
   "cell_type": "markdown",
   "id": "1f449e23-55d2-4d68-af28-3e1819cd678c",
   "metadata": {},
   "source": [
    "### Off-by-one musings (probably)\n",
    "\n",
    "Full fields: At steps `i > 128`, there are `f = (i-65)//131` further explored in each cardinal direction. They are arranged in a checkerboard in even/odd tiles. This is a geometric sequence, with solution `((f-1)**2)*[7651, 7699][(i-1) % 2]` and `(f**2)*[7651, 7699][i % 2]`.\n",
    "\n",
    "New fields are started after 131 steps. On the main lines a new field is started 66 steps earlier, i.e. at 65 vs 131.\n",
    "on the main lines, a field is started every `(i-64)//131`, and gets finished 194 steps later\n",
    "so at step i>196, there are 4 fields at stage `s = (i-64) % 131`, and 4 fields at stage `((i-64) % 131 + 131) % 194`\n",
    "on the diagonals a field is started every `f = i//131` steps, but is finished after 259 steps. so there are up to 2 around in various stages.\n",
    "there are f fields at stage `i % 131`, and f+1 fields at stage `((i % 131) + 131) % 259` in each quarter.\n",
    "\n",
    "I couldn't get this too work. The numbers are too large and the example is not helpful to debug these mistakes. Looking at solutions it appears that the solution is even easier since the structure of the grid is actually super symmetrical and hence there is a simple quadratric for these special `i`."
   ]
  },
  {
   "cell_type": "code",
   "execution_count": 94,
   "id": "93c32fc4-9365-46c2-8af4-9a850bd75397",
   "metadata": {},
   "outputs": [
    {
     "data": {
      "text/plain": [
       "628206330073385"
      ]
     },
     "execution_count": 94,
     "metadata": {},
     "output_type": "execute_result"
    }
   ],
   "source": [
    "i = 26501365\n",
    "f = (i - l//2) // l\n",
    "y0, y1, y2 = [countsInShape[l//2 + i*l] for i in range(3)]\n",
    "((y2-(2*y1)+y0)//2)*f**2 + (y1-y0-(y2-(2*y1)+y0)//2)*f + y0"
   ]
  },
  {
   "cell_type": "code",
   "execution_count": null,
   "id": "676f3e60-e134-4fa1-8609-e081b3ae278e",
   "metadata": {},
   "outputs": [],
   "source": []
  },
  {
   "cell_type": "code",
   "execution_count": null,
   "id": "e3a78d1b-87eb-4993-bad8-78d6119a50e1",
   "metadata": {},
   "outputs": [],
   "source": []
  },
  {
   "cell_type": "raw",
   "id": "936801d5-91a3-4b19-ad1f-1d1aede39800",
   "metadata": {},
   "source": [
    "I am not impressed with the solution, I should see if I can:\n",
    "- use a list of (y, x) coordinates for each timestamp, and make use of the flipping property to keep more efficiently track of the number of reachable fields. \n",
    "- Then rather than using the quadratic solution, use the solution at steps [l//2 + i*l for i in range(3)] = [65, 196, 327] to determine the shapes of all the types of shapes and then add it up in the way I did before."
   ]
  },
  {
   "cell_type": "markdown",
   "id": "fcbc599f-b2d0-412c-a734-817f4df424cd",
   "metadata": {},
   "source": [
    "## Day 22"
   ]
  },
  {
   "cell_type": "code",
   "execution_count": 95,
   "id": "cbffd240-3b40-4b36-b91a-229825963909",
   "metadata": {},
   "outputs": [],
   "source": [
    "class Block:\n",
    "    def __init__(self, i, coordStr):\n",
    "        self.i = i\n",
    "        [setattr(self, n, v) for n, v in zip([\"sx\", \"sy\", \"sz\", \"ex\", \"ey\", \"ez\"], (int(x) for y in coordStr.split(\"~\")  for x in y.split(\",\")))]\n",
    "    def __lt__(self, other): \n",
    "        return min(self.sz, self.ez) < min(other.sz, other.ez)\n",
    "    def itercubes(self):\n",
    "        return itertools.product(*[range(s, e + (e-s)//abs(e-s), (e-s)//abs(e-s)) if e-s else range(s, s+1)\n",
    "                                  for s, e in [(self.sx, self.ex), (self.sy, self.ey), (self.sz, self.ez)]])\n",
    "    def __repr__(self):\n",
    "        return \"<Block(%d, \\\"%d,%d,%d~%d,%d,%d\\\")>\" %(self.i, self.sx, self.sy, self.sz, self.ex, self.ey, self.ez)\n",
    "    def intersects(self, other, down):\n",
    "        return self.sz-down <= other.ez and self.ez-down >= other.sz and any((x, y, z-down) in other.itercubes() for (x, y, z) in self.itercubes())\n",
    "    def moveDown(self, down):\n",
    "        self.sz, self.ez = self.sz - down, self.ez - down"
   ]
  },
  {
   "cell_type": "code",
   "execution_count": 96,
   "id": "76f49ac4-7ec9-43ec-b24c-ea6a7e4701f1",
   "metadata": {},
   "outputs": [],
   "source": [
    "day22data = sorted([Block(i, l) for i, l in enumerate(getData(22).splitlines())])"
   ]
  },
  {
   "cell_type": "code",
   "execution_count": 97,
   "id": "b309ee0a-3cb8-4b3e-8e34-2be31393fca0",
   "metadata": {},
   "outputs": [],
   "source": [
    "stillMoving = True\n",
    "while stillMoving:\n",
    "    stillMoving = False\n",
    "    for j, block in enumerate(day22data):\n",
    "        steps = next(i for i in range(min(block.sz, block.ez)) if block.sz-i == 1 or any(block.intersects(b, i+1) for b in day22data[:j]))\n",
    "        if steps > 0:\n",
    "            stillMoving = True\n",
    "            block.moveDown(steps)\n",
    "    day22data = sorted(day22data)"
   ]
  },
  {
   "cell_type": "code",
   "execution_count": 98,
   "id": "9dfd72d7-55ec-473c-a42f-8b3ebf84440a",
   "metadata": {},
   "outputs": [
    {
     "data": {
      "text/plain": [
       "507"
      ]
     },
     "execution_count": 98,
     "metadata": {},
     "output_type": "execute_result"
    }
   ],
   "source": [
    "supportedBy = dict((block.i, [b.i for b in day22data[:j] if block.intersects(b, 1)]) for j, block in enumerate(day22data))\n",
    "supports = dict((block.i, [b.i for b in day22data[j+1:] if block.intersects(b, -1)]) for j, block in enumerate(day22data))\n",
    "sum(1 for lower, uppers in supports.items() if all(len(supportedBy[upper])>1 for upper in uppers))"
   ]
  },
  {
   "cell_type": "code",
   "execution_count": 99,
   "id": "479c6868-392c-4d26-b806-d17f93c16541",
   "metadata": {},
   "outputs": [],
   "source": [
    "def desintegrate(blocks):\n",
    "    disintegrated, newSupportedBy = 0, supportedBy\n",
    "    while blocks:\n",
    "        newSupportedBy = dict((k, [y for y in v if y not in blocks]) for k, v in newSupportedBy.items() if v)\n",
    "        blocks = [k for k, v in newSupportedBy.items() if not v]\n",
    "        disintegrated += len(blocks)\n",
    "    return disintegrated"
   ]
  },
  {
   "cell_type": "code",
   "execution_count": 100,
   "id": "7b417e51-8ff9-42f7-b3ce-c57289a1a50f",
   "metadata": {},
   "outputs": [
    {
     "data": {
      "text/plain": [
       "51733"
      ]
     },
     "execution_count": 100,
     "metadata": {},
     "output_type": "execute_result"
    }
   ],
   "source": [
    "sum(desintegrate([k]) for k, v in supports.items() if v)"
   ]
  },
  {
   "cell_type": "markdown",
   "id": "6516a2ea-5340-41b2-8d62-21740d615104",
   "metadata": {},
   "source": [
    "## Day 23"
   ]
  },
  {
   "cell_type": "code",
   "execution_count": 101,
   "id": "b7702ad5-0be5-4156-8a40-11500f5213c0",
   "metadata": {},
   "outputs": [],
   "source": [
    "day23data = getData(23).splitlines()\n",
    "yl, xl = len(day23data), len(day23data[0])"
   ]
  },
  {
   "cell_type": "code",
   "execution_count": 102,
   "id": "054989ab-b007-4f73-8f14-487f72c3cf26",
   "metadata": {},
   "outputs": [
    {
     "data": {
      "text/plain": [
       "2394"
      ]
     },
     "execution_count": 102,
     "metadata": {},
     "output_type": "execute_result"
    }
   ],
   "source": [
    "queue, bestVal = collections.deque([((0, next(i for i, x in enumerate(day23data[0]) if x == '.')), set())]), 0\n",
    "while queue:\n",
    "    (y, x), visited = queue.popleft()\n",
    "    if y == yl-1:\n",
    "        bestVal = max(bestVal, len(visited))\n",
    "    else:\n",
    "        visited.add((y, x))\n",
    "        nextSteps = [(y+yi, x+xi) for yi, xi, wf in [(0, 1, \">\"), (1, 0, \"v\"), (-1, 0, \"^\"), (0, -1, \"<\")] if day23data[y+yi][x+xi] in (\".\", wf)\n",
    "                    and (y+yi, x+xi) not in visited]\n",
    "        if nextSteps:\n",
    "            queue.append((nextSteps[0], visited))\n",
    "        if len(nextSteps) > 1:\n",
    "            queue.extend((x, visited.copy()) for x in nextSteps[1:])\n",
    "bestVal"
   ]
  },
  {
   "cell_type": "code",
   "execution_count": 103,
   "id": "6230a163-452a-441e-a706-152344d9dc1d",
   "metadata": {},
   "outputs": [],
   "source": [
    "nodes = collections.defaultdict(list)\n",
    "edges = collections.defaultdict(lambda : collections.defaultdict(list))\n",
    "queue = collections.deque([((1, y), [(0, y)]) for y in (i for i, x in enumerate(day23data[0]) if x == '.')])\n",
    "edgeCount = 0\n",
    "while queue:\n",
    "    (y, x), visited = queue.popleft()\n",
    "    if (y,x) in nodes[visited[0]]:\n",
    "        continue\n",
    "    if len(visited) == 1:\n",
    "        nodes[visited[0]].append((y,x))\n",
    "    visited.append((y, x))\n",
    "    if y == yl-1:\n",
    "        edges[visited[0]][(y, x)].append((edgeCount, len(visited)-1))\n",
    "        edges[(y, x)][visited[0]].append((edgeCount, len(visited)-1))\n",
    "        edgeCount += 1\n",
    "        nodes[(y, x)].append(visited[-2])\n",
    "    else:\n",
    "        nextSteps = [(y+yi, x+xi) for yi, xi in [(0, 1), (1, 0), (-1, 0), (0, -1)] if day23data[y+yi][x+xi] in \".<>^v\" and (y+yi, x+xi) not in visited]\n",
    "        if len(nextSteps) == 1:\n",
    "            queue.appendleft((nextSteps[0], visited))\n",
    "        else:\n",
    "            if visited[-2] not in nodes[(y, x)]:\n",
    "                edges[visited[0]][(y, x)].append((edgeCount, len(visited)-1))\n",
    "                edges[(y, x)][visited[0]].append((edgeCount, len(visited)-1))\n",
    "                edgeCount += 1\n",
    "                nodes[(y, x)].append(visited[-2])\n",
    "                queue.extendleft((n, [(y, x)]) for n in nextSteps if n not in nodes[(y, x)])"
   ]
  },
  {
   "cell_type": "code",
   "execution_count": 104,
   "id": "20696fad-40ef-4d1a-af2d-cbca6faa4cd5",
   "metadata": {},
   "outputs": [
    {
     "data": {
      "text/plain": [
       "6554"
      ]
     },
     "execution_count": 104,
     "metadata": {},
     "output_type": "execute_result"
    }
   ],
   "source": [
    "#Slow, but works.\n",
    "queue, bestVal = collections.deque([((0, next(i for i, x in enumerate(day23data[0]) if x == '.')), set(), 0)]), 0\n",
    "while queue:\n",
    "    (y, x), visited, score = queue.popleft()\n",
    "    if y == yl-1:\n",
    "        bestVal = max(bestVal, score)\n",
    "    else:\n",
    "        visited.add((y, x))\n",
    "        nextSteps = [(n, c) for n, c in edges[(y,x)].items() if n not in visited]\n",
    "        if nextSteps:\n",
    "            queue.appendleft((nextSteps[0][0], visited, score+nextSteps[0][1][0][1]))\n",
    "        if len(nextSteps) > 1:\n",
    "            queue.extendleft((x[0], visited.copy(), score+x[1][0][1]) for x in nextSteps[1:])\n",
    "bestVal"
   ]
  },
  {
   "cell_type": "markdown",
   "id": "0cf316f2-e03f-4e02-bb7f-f72e34e1446d",
   "metadata": {},
   "source": [
    "## Day 24"
   ]
  },
  {
   "cell_type": "code",
   "execution_count": 105,
   "id": "9bb16971-3cf8-456e-95f9-2649ccaa883b",
   "metadata": {},
   "outputs": [],
   "source": [
    "day24data = [(tuple(int(y) for y in x.split(\"@\")[0].split(\",\")), tuple(int(y) for y in x.split(\"@\")[1].split(\",\"))) for x in getData(24).splitlines()]"
   ]
  },
  {
   "cell_type": "code",
   "execution_count": 106,
   "id": "7d0d77b7-1bdb-44cd-8ed2-e130c79ce6de",
   "metadata": {},
   "outputs": [],
   "source": [
    "s = \"\"\"19, 13, 30 @ -2,  1, -2\n",
    "18, 19, 22 @ -1, -1, -2\n",
    "20, 25, 34 @ -2, -2, -4\n",
    "12, 31, 28 @ -1, -2, -1\n",
    "20, 19, 15 @  1, -5, -3\"\"\"\n",
    "day24data = [(tuple(int(y) for y in x.split(\"@\")[0].split(\",\")), tuple(int(y) for y in x.split(\"@\")[1].split(\",\"))) for x in s.splitlines()]"
   ]
  },
  {
   "cell_type": "code",
   "execution_count": 107,
   "id": "a28b1519-7bad-403d-85e2-8e4443cd2cfe",
   "metadata": {},
   "outputs": [],
   "source": [
    "def doIntersect(a, va, b, vb, minc=-math.inf, maxc=math.inf):\n",
    "    x12, y34, y12, x34 = a[0]-(a[0]+va[0]), b[1]-(b[1]+vb[1]), a[1]-(a[1]+va[1]), b[0]-(b[0]+vb[0])\n",
    "    det = x12*y34-y12*x34\n",
    "    if det == 0: return False, 0, 0\n",
    "    px = ((a[0]*(a[1]+va[1])-a[1]*(a[0]+va[0]))*x34-x12*(b[0]*(b[1]+vb[1])-b[1]*(b[0]+vb[0])))/det\n",
    "    py = ((a[0]*(a[1]+va[1])-a[1]*(a[0]+va[0]))*y34-y12*(b[0]*(b[1]+vb[1])-b[1]*(b[0]+vb[0])))/det\n",
    "    return minc <= px <= maxc and minc <= py <= maxc and (va[0] == 0 or (px-a[0])/va[0] >= 0) and (va[1] == 0 or (py-a[1])/va[1] >= 0) \\\n",
    "                                                     and (vb[0] == 0 or (px-b[0])/vb[0] >= 0) and (vb[1] == 0 or (py-b[1])/vb[1] >= 0), px, py"
   ]
  },
  {
   "cell_type": "code",
   "execution_count": 108,
   "id": "6039e606-2492-4166-b6c3-1b88d7fa4682",
   "metadata": {},
   "outputs": [
    {
     "data": {
      "text/plain": [
       "0"
      ]
     },
     "execution_count": 108,
     "metadata": {},
     "output_type": "execute_result"
    }
   ],
   "source": [
    "sum(doIntersect(*a, *b, 200000000000000, 400000000000000)[0] for a, b in itertools.combinations(day24data, 2))"
   ]
  },
  {
   "cell_type": "markdown",
   "id": "8d8dfaa3-1645-4eca-b752-03a6fa226df8",
   "metadata": {},
   "source": [
    "Yay, linear algebra. The solution is pretty obvious (just write down some straight foward equations and solve them), but painful to write out without additional library, hence I am taking inspiration from werner77's solution below.\n",
    "\n",
    "Not finished yet, I still need to implement the vector projections. They need to be applied to specific dimensions, rather than just selecting dimensions\n",
    "* https://en.wikipedia.org/wiki/Vector_projection\n",
    "* https://math.stackexchange.com/questions/458843/projection-of-high-dimensional-vectors-to-lower-dimensional-space\n",
    "* https://github.com/werner77/AdventOfCode/blob/master/src/main/kotlin/com/behindmedia/adventofcode/year2023/day24/Day24.kt"
   ]
  },
  {
   "cell_type": "code",
   "execution_count": 109,
   "id": "5c753961-0ac6-4b59-b44c-b9345296c283",
   "metadata": {},
   "outputs": [],
   "source": [
    "def bruteForce(dimToIgnore):\n",
    "    maxVelo = 400\n",
    "    dims = [i for i in range(3) if i != dimToIgnore]\n",
    "    for vx, vy in itertools.product(range(-maxVelo, maxVelo),repeat=2):\n",
    "        intersections = []\n",
    "        for (a, av), (b, bv) in itertools.combinations(day24data, 2):\n",
    "            intersec, px, py = doIntersect([a[i] for i in dims], [av[i]+v for i, v in zip(dims, [vx, vy])],\n",
    "                                           [b[i] for i in dims], [bv[i]+v for i, v in zip(dims, [vx, vy])])\n",
    "            if intersec:\n",
    "                intersections.append((px, py))\n",
    "            if len(intersections) > 4 and all(abs(x-intersections[0][0])<1 and abs(y-intersections[0][1])<1 for x,y in intersections[1:]):\n",
    "                return intersections[0], (-vx, -vy)\n",
    "            else:\n",
    "                break\n",
    "    return False"
   ]
  },
  {
   "cell_type": "code",
   "execution_count": 110,
   "id": "8d38affd-1cd0-485e-af8e-c7c9b23642e9",
   "metadata": {},
   "outputs": [
    {
     "data": {
      "text/plain": [
       "False"
      ]
     },
     "execution_count": 110,
     "metadata": {},
     "output_type": "execute_result"
    }
   ],
   "source": [
    "bruteForce(0)"
   ]
  },
  {
   "cell_type": "code",
   "execution_count": 111,
   "id": "7fdeae81-d14c-4165-a096-884b96bb1bfc",
   "metadata": {},
   "outputs": [],
   "source": [
    "#bruteForce(1)"
   ]
  },
  {
   "cell_type": "code",
   "execution_count": 112,
   "id": "a08d553c-57ad-4715-992e-4a6757ec601c",
   "metadata": {},
   "outputs": [],
   "source": [
    "#bruteForce(2)"
   ]
  },
  {
   "cell_type": "code",
   "execution_count": null,
   "id": "b23de799-e003-4bf8-8b19-b7daca385348",
   "metadata": {},
   "outputs": [],
   "source": []
  },
  {
   "cell_type": "code",
   "execution_count": null,
   "id": "5e355c3d-95c6-4f26-a32e-a28da65e6c8d",
   "metadata": {},
   "outputs": [],
   "source": []
  },
  {
   "cell_type": "code",
   "execution_count": null,
   "id": "c187271a-b49a-44fb-86c2-f708f4dde6c1",
   "metadata": {},
   "outputs": [],
   "source": []
  },
  {
   "cell_type": "code",
   "execution_count": null,
   "id": "8079e8ef-8438-41c5-8579-64099dc0cbf3",
   "metadata": {},
   "outputs": [],
   "source": []
  },
  {
   "cell_type": "code",
   "execution_count": null,
   "id": "1dcbde9f-087e-4413-92ea-54dfec9faedf",
   "metadata": {},
   "outputs": [],
   "source": []
  }
 ],
 "metadata": {
  "kernelspec": {
   "display_name": "pipenv",
   "language": "python",
   "name": "pipenv"
  },
  "language_info": {
   "codemirror_mode": {
    "name": "ipython",
    "version": 3
   },
   "file_extension": ".py",
   "mimetype": "text/x-python",
   "name": "python",
   "nbconvert_exporter": "python",
   "pygments_lexer": "ipython3",
   "version": "3.11.4"
  }
 },
 "nbformat": 4,
 "nbformat_minor": 5
}
