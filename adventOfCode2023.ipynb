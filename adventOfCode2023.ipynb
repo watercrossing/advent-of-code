{
 "cells": [
  {
   "cell_type": "markdown",
   "id": "ab3ca0b3-f3cd-4a46-91ec-f74477c1278c",
   "metadata": {},
   "source": [
    "# Advent of Code 2023\n",
    "\n",
    "https://adventofcode.com/2023"
   ]
  },
  {
   "cell_type": "code",
   "execution_count": 1,
   "id": "ce9c157e-ecbf-4021-a9b7-69b84b3b22bb",
   "metadata": {},
   "outputs": [],
   "source": [
    "# A few standard library imports\n",
    "import itertools, math, collections, os, functools, json, time, re, bisect\n",
    "# nice printing\n",
    "from IPython.display import display, clear_output, HTML"
   ]
  },
  {
   "cell_type": "code",
   "execution_count": null,
   "id": "47ad80fd-3c57-4a52-a333-0c74bfd816ab",
   "metadata": {},
   "outputs": [],
   "source": []
  },
  {
   "cell_type": "code",
   "execution_count": 2,
   "id": "021104b2-31f0-4fb5-88e4-8de64361e599",
   "metadata": {},
   "outputs": [],
   "source": [
    "def getData(day, year=2023):\n",
    "    if not os.path.exists(\"data-%d\" %year):\n",
    "        os.mkdir(\"data-%d\" %year)\n",
    "    if os.path.exists(\"data-%d/day%dinput.txt\" %(year, day)):\n",
    "        with open(\"data-%d/day%dinput.txt\" %(year, day), 'r') as f:\n",
    "            return f.read()\n",
    "    import browsercookie, urllib.request\n",
    "    opener = urllib.request.build_opener(urllib.request.HTTPCookieProcessor(browsercookie.firefox()))\n",
    "    assert b'watercrossing' in opener.open(\"https://adventofcode.com/%d/\" %year).read()\n",
    "    data = opener.open(\"https://adventofcode.com/%d/day/%d/input\" %(year, day)).read().decode('utf-8')\n",
    "    with open(\"data-%d/day%dinput.txt\" %(year, day), 'w') as f:\n",
    "        f.write(data)\n",
    "    return data"
   ]
  },
  {
   "cell_type": "code",
   "execution_count": null,
   "id": "ed88f0cd-06db-4efc-ac5d-a77add9b26d3",
   "metadata": {},
   "outputs": [],
   "source": []
  },
  {
   "cell_type": "code",
   "execution_count": 3,
   "id": "6869659b-712d-4209-87ad-fe9e28a14d93",
   "metadata": {},
   "outputs": [],
   "source": [
    "def isNum(s: str) -> bool:\n",
    "    return all(47 < ord(c) < 58 for c in s)"
   ]
  },
  {
   "cell_type": "markdown",
   "id": "85f720e0-36ea-438c-8648-5549518bb56c",
   "metadata": {},
   "source": [
    "## Day 1"
   ]
  },
  {
   "cell_type": "code",
   "execution_count": 4,
   "id": "569f709e-02ad-431b-a129-7e18c6a957dd",
   "metadata": {},
   "outputs": [],
   "source": [
    "day1data = getData(1).splitlines()"
   ]
  },
  {
   "cell_type": "code",
   "execution_count": 5,
   "id": "aed3448c-bf32-4e16-935e-ed47479fb849",
   "metadata": {},
   "outputs": [
    {
     "data": {
      "text/plain": [
       "54927"
      ]
     },
     "execution_count": 5,
     "metadata": {},
     "output_type": "execute_result"
    }
   ],
   "source": [
    "sum(int(next(c for c in x if isNum(c)) + next(c for c in x[::-1] if isNum(c))) for x in day1data)"
   ]
  },
  {
   "cell_type": "code",
   "execution_count": 6,
   "id": "31a2a259-d218-4ca4-8d3e-f8c179f7f406",
   "metadata": {},
   "outputs": [],
   "source": [
    "z = list(zip([\"one\", \"two\", \"three\", \"four\", \"five\", \"six\", \"seven\", \"eight\", \"nine\"] + [str(x) for x in range(0, 10)], \n",
    "              [str(x) for x in range(1, 10)] + [str(x) for x in range(0, 10)]))"
   ]
  },
  {
   "cell_type": "code",
   "execution_count": 7,
   "id": "9d89b8fd-bdf7-452f-8686-4ecad3c8a00e",
   "metadata": {},
   "outputs": [
    {
     "data": {
      "text/plain": [
       "54581"
      ]
     },
     "execution_count": 7,
     "metadata": {},
     "output_type": "execute_result"
    }
   ],
   "source": [
    "sum(int(min([(x.find(c), d) for c, d in z if c in x], key=lambda a: a[0])[1] + \n",
    "        min([(x[::-1].find(c[::-1]), d) for c, d in z if c in x], key=lambda a: a[0])[1]) for x in day1data)"
   ]
  },
  {
   "cell_type": "markdown",
   "id": "674f0a62-f67c-4f0d-9986-65ebb966ed4f",
   "metadata": {},
   "source": [
    "## Day 2"
   ]
  },
  {
   "cell_type": "code",
   "execution_count": 8,
   "id": "49bb365a-32b4-4bbc-a9e7-2b586f3baacf",
   "metadata": {},
   "outputs": [],
   "source": [
    "day2data = [(int(r.split(\":\")[0].split(\" \")[1]), [collections.Counter(dict((y.split(\" \")[1], int(y.split(\" \")[0])) for y in x.split(\", \")))\n",
    "                                                  for x in r.split(\": \")[1].split(\"; \")]) for r in getData(2).splitlines()]"
   ]
  },
  {
   "cell_type": "code",
   "execution_count": 9,
   "id": "8f9725f8-af73-4f7f-97b7-3976e3696556",
   "metadata": {},
   "outputs": [
    {
     "data": {
      "text/plain": [
       "2239"
      ]
     },
     "execution_count": 9,
     "metadata": {},
     "output_type": "execute_result"
    }
   ],
   "source": [
    "sum(c for c, x in day2data if all(max(y[a] for y in x) < b for a, b in (('red', 13), ('green', 14), ('blue', 15))))"
   ]
  },
  {
   "cell_type": "code",
   "execution_count": 10,
   "id": "03dc196c-8dbb-4e8f-a819-bcc877d4ffd8",
   "metadata": {},
   "outputs": [
    {
     "data": {
      "text/plain": [
       "83435"
      ]
     },
     "execution_count": 10,
     "metadata": {},
     "output_type": "execute_result"
    }
   ],
   "source": [
    "sum(math.prod(max(c[a] for c in x) for a in ('red', 'green', 'blue')) for _, x in day2data)"
   ]
  },
  {
   "cell_type": "markdown",
   "id": "da221710-45ab-43aa-b704-c3c654bcac71",
   "metadata": {},
   "source": [
    "## Day 3"
   ]
  },
  {
   "cell_type": "code",
   "execution_count": 11,
   "id": "c360e642-a554-4449-97ab-b61d32f75240",
   "metadata": {},
   "outputs": [],
   "source": [
    "day3data = getData(3).splitlines()\n",
    "il, jl= len(day3data), len(day3data[0])"
   ]
  },
  {
   "cell_type": "code",
   "execution_count": 12,
   "id": "78553716-888c-4f04-b2f5-98a1b5280c63",
   "metadata": {},
   "outputs": [
    {
     "data": {
      "text/plain": [
       "538046"
      ]
     },
     "execution_count": 12,
     "metadata": {},
     "output_type": "execute_result"
    }
   ],
   "source": [
    "sum(int(num) for i in range(il) for j in range(jl) if (j==0 or not isNum(day3data[i][j-1])) and isNum(day3data[i][j])\n",
    "    and (num := next(day3data[i][j:k] for k in range(j+1,jl+1) if isNum(day3data[i][j:k]) and (k == jl or not isNum(day3data[i][k]))))\n",
    "    and any(not isNum(day3data[a][b]) and day3data[a][b] != '.' for a in range(max(0,i-1), min(il,i+2)) \n",
    "            for b in range(max(0, j-1), min(jl, j+1+len(num)))))"
   ]
  },
  {
   "cell_type": "code",
   "execution_count": 13,
   "id": "1a6409c4-9ac2-44a3-b972-4f45209f5fa3",
   "metadata": {},
   "outputs": [
    {
     "data": {
      "text/plain": [
       "81709807"
      ]
     },
     "execution_count": 13,
     "metadata": {},
     "output_type": "execute_result"
    }
   ],
   "source": [
    "sum(math.prod(gears) for i in range(il) for j in range(jl) if day3data[i][j] == \"*\"\n",
    "    and len(gears := [next(int(day3data[k][lx:ly]) for lx in range(l, max(-1, l-6), -1) for ly in range(l+1, min(jl+1, l+6))\n",
    "                           if isNum(day3data[k][lx:ly]) and (lx == 0 or not isNum(day3data[k][lx-1])) and (ly == jl or not isNum(day3data[k][ly]))) \n",
    "                      for k, l in [(ix, j-1) for ix in range(max(0, i-1), min(il, i+2)) if j > 0] + \n",
    "                                  [(ix, jx) for ix in range(max(0, i-1), min(il, i+2)) for jx in range(j, min(jl, j+2))\n",
    "                                   if jx == 0 or not isNum(day3data[ix][jx-1])] if isNum(day3data[k][l])]) == 2)"
   ]
  },
  {
   "cell_type": "markdown",
   "id": "07db1fff-ebfd-45e2-b86e-5d9a2d14e4bc",
   "metadata": {},
   "source": [
    "## Day 4"
   ]
  },
  {
   "cell_type": "code",
   "execution_count": 14,
   "id": "51211f55-8111-4ee8-88b8-45a18116648b",
   "metadata": {},
   "outputs": [],
   "source": [
    "day4data = [tuple(set(y for y in x.split(\": \")[1].split(\" | \")[i].split(\" \") if y) for i in range(2)) for x in getData(4).splitlines()]"
   ]
  },
  {
   "cell_type": "code",
   "execution_count": 15,
   "id": "c4937315-3bd5-40b6-b96f-79a82c551976",
   "metadata": {},
   "outputs": [
    {
     "data": {
      "text/plain": [
       "24160"
      ]
     },
     "execution_count": 15,
     "metadata": {},
     "output_type": "execute_result"
    }
   ],
   "source": [
    "sum(2**(len(c&w)-1) if len(c&w) else 0 for w, c in day4data)"
   ]
  },
  {
   "cell_type": "code",
   "execution_count": 16,
   "id": "2bb68d29-0e92-42f0-84a8-c0ca66d23bf4",
   "metadata": {},
   "outputs": [
    {
     "data": {
      "text/plain": [
       "5659035"
      ]
     },
     "execution_count": 16,
     "metadata": {},
     "output_type": "execute_result"
    }
   ],
   "source": [
    "cards = [[1, len(c&w)] for c, w in day4data]\n",
    "for i, (c, w) in enumerate(cards):\n",
    "    for j in range(w):\n",
    "        cards[i+j+1][0] += c\n",
    "sum(x[0] for x in cards)"
   ]
  },
  {
   "cell_type": "markdown",
   "id": "24c0641b-3c3b-46c4-b5dc-5bd389ea6137",
   "metadata": {},
   "source": [
    "## Day 5"
   ]
  },
  {
   "cell_type": "code",
   "execution_count": 17,
   "id": "801f10ed-5ab6-4049-9f23-08420cbf7aaf",
   "metadata": {},
   "outputs": [],
   "source": [
    "day5data = [[[int(y) for y in l.split()] for l in x.split(\":\")[1].strip().splitlines()] for x in getData(5).split(\"\\n\\n\")]\n",
    "day5data[0] = day5data[0][0]"
   ]
  },
  {
   "cell_type": "code",
   "execution_count": 18,
   "id": "5260b958-35d7-4472-a3cd-cdde3f52dc69",
   "metadata": {},
   "outputs": [
    {
     "data": {
      "text/plain": [
       "324724204"
      ]
     },
     "execution_count": 18,
     "metadata": {},
     "output_type": "execute_result"
    }
   ],
   "source": [
    "min(functools.reduce(lambda cs, m: [next(itertools.chain(d+c-s for d, s, l in m if s <= c < s+l), c) for c in cs], day5data))"
   ]
  },
  {
   "cell_type": "code",
   "execution_count": 19,
   "id": "fe4d0eae-5029-4beb-9f41-60fff66a56a6",
   "metadata": {},
   "outputs": [],
   "source": [
    "day5data[0] = [[range(day5data[0][2*i], day5data[0][2*i]+day5data[0][2*i+1])] for i in range(len(day5data[0])//2)]"
   ]
  },
  {
   "cell_type": "code",
   "execution_count": 20,
   "id": "4d43eb3a-6bf8-444a-bd1e-0a17a2234f08",
   "metadata": {},
   "outputs": [],
   "source": [
    "def day5map(css, m):\n",
    "    coveredRanges = [[range(max(s, c[0]), min(s+l, c[-1]+1)) for c in cs for d, s, l in m if min(s+l, c[-1]+1) > max(s, c[0])] for cs in css]\n",
    "    destRanges = [[range(max(s, c[0])-s+d, min(s+l, c[-1]+1)-s+d) for c in cs for d, s, l in m if min(s+l, c[-1]+1) > max(s, c[0])] for cs in css]\n",
    "    notMapped = []\n",
    "    for tc, cr in zip(css, coveredRanges):\n",
    "        for d in cr:\n",
    "            tc = [x for c in tc for x in [range(c[0], min(c[-1]+1, d[0])), range(max(d[-1]+1, c[0]), c[-1]+1)] if x.stop > x.start]\n",
    "        notMapped.append(tc)\n",
    "    return [x+y for x, y in zip(destRanges, notMapped)]"
   ]
  },
  {
   "cell_type": "code",
   "execution_count": 21,
   "id": "50318bcd-9d6e-45d2-9fe9-8d3ed4e91865",
   "metadata": {},
   "outputs": [
    {
     "data": {
      "text/plain": [
       "104070862"
      ]
     },
     "execution_count": 21,
     "metadata": {},
     "output_type": "execute_result"
    }
   ],
   "source": [
    "min(x[0] for y in functools.reduce(day5map, day5data) for x in y)"
   ]
  },
  {
   "cell_type": "markdown",
   "id": "8250cc11-076e-40a3-885f-e4bd1f6c7b6d",
   "metadata": {},
   "source": [
    "## Day 6"
   ]
  },
  {
   "cell_type": "code",
   "execution_count": 22,
   "id": "4e23a3dc-a4af-4401-9810-92963ed2e946",
   "metadata": {},
   "outputs": [],
   "source": [
    "day6data = list(zip(*[[int(x.strip()) for x in r.split(\":\")[1].split(\" \") if x] for r in getData(6).splitlines()]))"
   ]
  },
  {
   "cell_type": "code",
   "execution_count": 23,
   "id": "89f90773-9536-4e37-adc1-dd6102c91067",
   "metadata": {},
   "outputs": [
    {
     "data": {
      "text/plain": [
       "771628"
      ]
     },
     "execution_count": 23,
     "metadata": {},
     "output_type": "execute_result"
    }
   ],
   "source": [
    "math.prod(sum(1 for i in range(t) if i*t-i*i > r) for t, r in day6data)"
   ]
  },
  {
   "cell_type": "code",
   "execution_count": 24,
   "id": "8212393d-c0d7-4d5e-a943-9cb09808fe50",
   "metadata": {},
   "outputs": [],
   "source": [
    "day6dataPart2 = [int(r.split(\":\")[1].strip().replace(\" \",\"\")) for r in getData(6).splitlines()]"
   ]
  },
  {
   "cell_type": "code",
   "execution_count": 25,
   "id": "f45a3a7f-e9e5-4dd8-a4b6-91a6bb4dbd48",
   "metadata": {},
   "outputs": [],
   "source": [
    "class Day6:\n",
    "    def __getitem__(self, key):\n",
    "        return key*day6dataPart2[0] - key*key\n",
    "    def __len__(self):\n",
    "        return day6dataPart2[0]//2"
   ]
  },
  {
   "cell_type": "code",
   "execution_count": 26,
   "id": "2e8e68bc-59c4-476e-932a-ddef352313d3",
   "metadata": {},
   "outputs": [
    {
     "data": {
      "text/plain": [
       "27363861"
      ]
     },
     "execution_count": 26,
     "metadata": {},
     "output_type": "execute_result"
    }
   ],
   "source": [
    "(day6dataPart2[0]//2 - bisect.bisect(Day6(), day6dataPart2[1]))*2 + 1"
   ]
  },
  {
   "cell_type": "markdown",
   "id": "f0cb1ee1-a6d0-4a29-bebd-9f7639514dc1",
   "metadata": {},
   "source": [
    "## Day 7"
   ]
  },
  {
   "cell_type": "code",
   "execution_count": 27,
   "id": "892f9ac4-75b2-4a52-906a-163ff6eb6462",
   "metadata": {},
   "outputs": [],
   "source": [
    "day7data = [x.split(\" \") for x in getData(7).splitlines()]"
   ]
  },
  {
   "cell_type": "code",
   "execution_count": 28,
   "id": "26908ff8-98e0-4d16-a515-163b8904cdad",
   "metadata": {},
   "outputs": [],
   "source": [
    "def day7replace(s):\n",
    "    s = s.replace(\"T\", \"a\").replace(\"J\", \"b\").replace(\"Q\", \"c\").replace(\"K\", \"d\").replace(\"A\", \"e\")\n",
    "    c = collections.Counter(s).values()\n",
    "    if 5 in c:\n",
    "        s = \"6\" + s\n",
    "    elif 4 in c:\n",
    "        s = \"5\" + s\n",
    "    elif 3 in c and 2 in c:\n",
    "        s = \"4\" + s\n",
    "    elif 3 in c:\n",
    "        s = \"3\" + s\n",
    "    elif collections.Counter(c)[2] == 2:\n",
    "        s = \"2\" + s\n",
    "    elif 2 in c:\n",
    "        s = \"1\" + s\n",
    "    return int(s, base=16)"
   ]
  },
  {
   "cell_type": "code",
   "execution_count": 29,
   "id": "7b8ce8c4-4829-4765-843f-8751a3e94378",
   "metadata": {},
   "outputs": [],
   "source": [
    "day7sorted = sorted(day7data, key=lambda x: day7replace(x[0]))"
   ]
  },
  {
   "cell_type": "code",
   "execution_count": 30,
   "id": "95f418f9-d8b7-4543-9cfb-80b9874ab6a7",
   "metadata": {},
   "outputs": [
    {
     "data": {
      "text/plain": [
       "249726565"
      ]
     },
     "execution_count": 30,
     "metadata": {},
     "output_type": "execute_result"
    }
   ],
   "source": [
    "sum((i+1)*int(bid) for i, (h, bid) in enumerate(day7sorted))"
   ]
  },
  {
   "cell_type": "code",
   "execution_count": 31,
   "id": "3b97a68b-73e4-4ebf-bb8a-2fefb41a5ce9",
   "metadata": {},
   "outputs": [],
   "source": [
    "def day7replacePart2(s):\n",
    "    s = s.replace(\"T\", \"a\").replace(\"J\", \"1\").replace(\"Q\", \"c\").replace(\"K\", \"d\").replace(\"A\", \"e\")\n",
    "    js = collections.Counter(s)['1'] \n",
    "    c = collections.Counter(s.replace(\"1\", \"\")).values()\n",
    "    if js == 5 or 5 in c or max(c)+js == 5:\n",
    "        s = \"6\" + s\n",
    "    elif 4 in c or max(c) + js == 4:\n",
    "        s = \"5\" + s\n",
    "    elif 3 in c and 2 in c or (collections.Counter(c)[2] == 2 and js == 1):\n",
    "        s = \"4\" + s\n",
    "    elif 3 in c or (2 in c and js == 1) or js == 2:\n",
    "        s = \"3\" + s\n",
    "    elif collections.Counter(c)[2] == 2:\n",
    "        s = \"2\" + s\n",
    "    elif 2 in c or js == 1:\n",
    "        s = \"1\" + s\n",
    "    return int(s, base=16)"
   ]
  },
  {
   "cell_type": "code",
   "execution_count": 32,
   "id": "44ff1610-0746-4af4-a348-452674de4624",
   "metadata": {},
   "outputs": [],
   "source": [
    "day7sortedPart2 = sorted(day7data, key=lambda x: day7replacePart2(x[0]))"
   ]
  },
  {
   "cell_type": "code",
   "execution_count": 33,
   "id": "8eaafc90-56c2-450c-be69-444f458a0cb9",
   "metadata": {},
   "outputs": [
    {
     "data": {
      "text/plain": [
       "251135960"
      ]
     },
     "execution_count": 33,
     "metadata": {},
     "output_type": "execute_result"
    }
   ],
   "source": [
    "sum((i+1)*int(bid) for i, (h, bid) in enumerate(day7sortedPart2))"
   ]
  },
  {
   "cell_type": "markdown",
   "id": "9e411d29-369b-4677-b96b-8532fdadbd2e",
   "metadata": {},
   "source": [
    "## Day 8"
   ]
  },
  {
   "cell_type": "code",
   "execution_count": 34,
   "id": "166a8f74-9f6b-4240-aa7d-5756bf6bd04b",
   "metadata": {},
   "outputs": [],
   "source": [
    "day8data = (getData(8).split(\"\\n\\n\")[0], \n",
    "            dict((x.split(\" = \")[0], x.split(\" = \")[1].strip(\"()\").split(\", \")) for x in getData(8).split(\"\\n\\n\")[1].split(\"\\n\") if x))"
   ]
  },
  {
   "cell_type": "code",
   "execution_count": 35,
   "id": "617adc96-4f52-40b7-822c-0e1ebc2f1865",
   "metadata": {},
   "outputs": [
    {
     "data": {
      "text/plain": [
       "22411"
      ]
     },
     "execution_count": 35,
     "metadata": {},
     "output_type": "execute_result"
    }
   ],
   "source": [
    "c, cn = 0, \"AAA\"\n",
    "while cn != \"ZZZ\":\n",
    "    cn = day8data[1][cn][0 if day8data[0][c % len(day8data[0])] == 'L' else 1]\n",
    "    c += 1\n",
    "c"
   ]
  },
  {
   "cell_type": "code",
   "execution_count": 36,
   "id": "9a033445-cb41-4af9-b05a-153897c14798",
   "metadata": {},
   "outputs": [],
   "source": [
    "cns = [x for x in day8data[1].keys() if x.endswith(\"A\")]\n",
    "orders = [[0] for _ in range(len(cns))]\n",
    "for i, cn in enumerate(cns):\n",
    "    c = 0\n",
    "    while len(orders[i]) != 4:\n",
    "        cn = day8data[1][cn][0 if day8data[0][c % len(day8data[0])] == 'L' else 1]\n",
    "        c += 1\n",
    "        if cn.endswith(\"Z\"):\n",
    "            orders[i].append(c)"
   ]
  },
  {
   "cell_type": "code",
   "execution_count": 37,
   "id": "49a816de-544a-45db-bd16-99c86184a5df",
   "metadata": {},
   "outputs": [
    {
     "data": {
      "text/plain": [
       "[[16271, 16271, 16271],\n",
       " [24253, 24253, 24253],\n",
       " [13201, 13201, 13201],\n",
       " [14429, 14429, 14429],\n",
       " [18113, 18113, 18113],\n",
       " [22411, 22411, 22411]]"
      ]
     },
     "execution_count": 37,
     "metadata": {},
     "output_type": "execute_result"
    }
   ],
   "source": [
    "[[x[i+1]-x[i] for i in range(len(x)-1)] for x in orders]"
   ]
  },
  {
   "cell_type": "code",
   "execution_count": 38,
   "id": "ccb280e5-5e3b-4bfd-b62e-e87fe7a32911",
   "metadata": {},
   "outputs": [],
   "source": [
    "# they are all the same. I didn't expect that. But that makes it easy."
   ]
  },
  {
   "cell_type": "code",
   "execution_count": 39,
   "id": "bbe088c1-c722-41bb-8dc0-f8f407762fde",
   "metadata": {},
   "outputs": [
    {
     "data": {
      "text/plain": [
       "11188774513823"
      ]
     },
     "execution_count": 39,
     "metadata": {},
     "output_type": "execute_result"
    }
   ],
   "source": [
    "math.lcm(*(x[1] for x in orders))"
   ]
  },
  {
   "cell_type": "code",
   "execution_count": null,
   "id": "9729220c-6ad3-4b8d-8ca7-1a89f08e6326",
   "metadata": {},
   "outputs": [],
   "source": []
  },
  {
   "cell_type": "code",
   "execution_count": null,
   "id": "d0667798-e574-42cf-aa0a-e1229e01fb2f",
   "metadata": {},
   "outputs": [],
   "source": []
  },
  {
   "cell_type": "code",
   "execution_count": null,
   "id": "e50c3a22-741b-4cd3-b801-8f647ae9dd78",
   "metadata": {},
   "outputs": [],
   "source": []
  }
 ],
 "metadata": {
  "kernelspec": {
   "display_name": "pipenv",
   "language": "python",
   "name": "pipenv"
  },
  "language_info": {
   "codemirror_mode": {
    "name": "ipython",
    "version": 3
   },
   "file_extension": ".py",
   "mimetype": "text/x-python",
   "name": "python",
   "nbconvert_exporter": "python",
   "pygments_lexer": "ipython3",
   "version": "3.11.4"
  }
 },
 "nbformat": 4,
 "nbformat_minor": 5
}
