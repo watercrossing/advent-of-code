{
 "cells": [
  {
   "cell_type": "markdown",
   "id": "25efa4d4",
   "metadata": {},
   "source": [
    "# Advent of Code 2022\n",
    "\n",
    "https://adventofcode.com/2022"
   ]
  },
  {
   "cell_type": "code",
   "execution_count": 1,
   "id": "9d307745",
   "metadata": {},
   "outputs": [],
   "source": [
    "# A few standard library imports\n",
    "import itertools, math, collections, os, functools, json\n",
    "# nice printing\n",
    "from IPython.display import display, clear_output, HTML"
   ]
  },
  {
   "cell_type": "code",
   "execution_count": null,
   "id": "72d40405",
   "metadata": {},
   "outputs": [],
   "source": []
  },
  {
   "cell_type": "code",
   "execution_count": 2,
   "id": "882186af",
   "metadata": {},
   "outputs": [],
   "source": [
    "def getData(day):\n",
    "    if os.path.exists(\"data-2022/day%dinput.txt\" %day):\n",
    "        with open(\"data-2022/day%dinput.txt\" %day, 'r') as f:\n",
    "            return f.read()\n",
    "    import browsercookie\n",
    "    import urllib.request\n",
    "    cj = browsercookie.firefox()\n",
    "    opener = urllib.request.build_opener(urllib.request.HTTPCookieProcessor(cj))\n",
    "    assert b'watercrossing' in opener.open(\"https://adventofcode.com/2022/\").read()\n",
    "    data = opener.open(\"https://adventofcode.com/2022/day/%d/input\" %day).read().decode('utf-8')\n",
    "    with open(\"data-2022/day%dinput.txt\" %day, 'w') as f:\n",
    "        f.write(data)\n",
    "    return data"
   ]
  },
  {
   "cell_type": "code",
   "execution_count": null,
   "id": "7c6166a6",
   "metadata": {},
   "outputs": [],
   "source": []
  },
  {
   "cell_type": "markdown",
   "id": "6dd4939a",
   "metadata": {},
   "source": [
    "## Day 1"
   ]
  },
  {
   "cell_type": "code",
   "execution_count": 3,
   "id": "fc5dfe6a",
   "metadata": {},
   "outputs": [],
   "source": [
    "day1data = [[int(y) for y in x.split()] for x in getData(1).split(\"\\n\\n\")]"
   ]
  },
  {
   "cell_type": "code",
   "execution_count": 4,
   "id": "c3ae96ac",
   "metadata": {},
   "outputs": [
    {
     "data": {
      "text/plain": [
       "64929"
      ]
     },
     "execution_count": 4,
     "metadata": {},
     "output_type": "execute_result"
    }
   ],
   "source": [
    "max(sum(x) for x in day1data)"
   ]
  },
  {
   "cell_type": "code",
   "execution_count": 5,
   "id": "386e74e8",
   "metadata": {},
   "outputs": [
    {
     "data": {
      "text/plain": [
       "193697"
      ]
     },
     "execution_count": 5,
     "metadata": {},
     "output_type": "execute_result"
    }
   ],
   "source": [
    "sum(sorted(sum(x) for x in day1data)[-3:])"
   ]
  },
  {
   "cell_type": "markdown",
   "id": "e400c210",
   "metadata": {},
   "source": [
    "## Day 2"
   ]
  },
  {
   "cell_type": "code",
   "execution_count": 6,
   "id": "ec0fa7d7",
   "metadata": {},
   "outputs": [],
   "source": [
    "day2data = [(ord(x.split(\" \")[0]) - 64, ord(x.split(\" \")[1]) - 87) for x in getData(2).split(\"\\n\") if x]"
   ]
  },
  {
   "cell_type": "code",
   "execution_count": 7,
   "id": "1adfdb04",
   "metadata": {},
   "outputs": [
    {
     "data": {
      "text/plain": [
       "12645"
      ]
     },
     "execution_count": 7,
     "metadata": {},
     "output_type": "execute_result"
    }
   ],
   "source": [
    "sum(x[1] for x in day2data) + sum(any((x[1] - x[0]) == y for y in (1, -2))*6 + (x[1] == x[0])*3 for x in day2data)"
   ]
  },
  {
   "cell_type": "code",
   "execution_count": 8,
   "id": "b7091479",
   "metadata": {},
   "outputs": [],
   "source": [
    "def day2Choice(oth, obj):\n",
    "    if obj == 2: return oth\n",
    "    if obj == 1: return oth - 1 if oth > 1 else 3\n",
    "    if obj == 3: return oth + 1 if oth < 3 else 1"
   ]
  },
  {
   "cell_type": "code",
   "execution_count": 9,
   "id": "c0334a17",
   "metadata": {},
   "outputs": [
    {
     "data": {
      "text/plain": [
       "11756"
      ]
     },
     "execution_count": 9,
     "metadata": {},
     "output_type": "execute_result"
    }
   ],
   "source": [
    "sum(day2Choice(*x) for x in day2data) + sum((x[1] - 1)*3 for x in day2data)"
   ]
  },
  {
   "cell_type": "markdown",
   "id": "97dcec39",
   "metadata": {},
   "source": [
    "## Day 3"
   ]
  },
  {
   "cell_type": "code",
   "execution_count": 10,
   "id": "12b371db",
   "metadata": {},
   "outputs": [],
   "source": [
    "day3data = [[ord(y) - 96 if ord(y) > 96 else ord(y) - 38 for y in x] for x in getData(3).split(\"\\n\") if x]"
   ]
  },
  {
   "cell_type": "code",
   "execution_count": 11,
   "id": "3e504df2",
   "metadata": {},
   "outputs": [
    {
     "data": {
      "text/plain": [
       "8053"
      ]
     },
     "execution_count": 11,
     "metadata": {},
     "output_type": "execute_result"
    }
   ],
   "source": [
    "sum(sum(set(x[:len(x)//2]) & set(x[len(x)//2:])) for x in day3data)"
   ]
  },
  {
   "cell_type": "code",
   "execution_count": 12,
   "id": "bb9c8932",
   "metadata": {},
   "outputs": [
    {
     "data": {
      "text/plain": [
       "2425"
      ]
     },
     "execution_count": 12,
     "metadata": {},
     "output_type": "execute_result"
    }
   ],
   "source": [
    "sum(sum(set(day3data[i]) & set(day3data[i+1]) & set(day3data[i+2])) for i in range(0, len(day3data), 3))"
   ]
  },
  {
   "cell_type": "markdown",
   "id": "ddafe219",
   "metadata": {},
   "source": [
    "## Day 4"
   ]
  },
  {
   "cell_type": "code",
   "execution_count": 13,
   "id": "1c405051",
   "metadata": {},
   "outputs": [],
   "source": [
    "day4data = [[range(int(y.split(\"-\")[0]), int(y.split(\"-\")[1]) + 1) for y in x.split(\",\")] for x in getData(4).split(\"\\n\") if x]"
   ]
  },
  {
   "cell_type": "code",
   "execution_count": 14,
   "id": "44e2c4d6",
   "metadata": {},
   "outputs": [
    {
     "data": {
      "text/plain": [
       "651"
      ]
     },
     "execution_count": 14,
     "metadata": {},
     "output_type": "execute_result"
    }
   ],
   "source": [
    "sum(len(set(x[0]).union(set(x[1]))) == max(len(x[0]), len(x[1])) for x in day4data)"
   ]
  },
  {
   "cell_type": "code",
   "execution_count": 15,
   "id": "08fa2ff6",
   "metadata": {},
   "outputs": [
    {
     "data": {
      "text/plain": [
       "956"
      ]
     },
     "execution_count": 15,
     "metadata": {},
     "output_type": "execute_result"
    }
   ],
   "source": [
    "sum(len(set(x[0]).intersection(set(x[1]))) > 0 for x in day4data)"
   ]
  },
  {
   "cell_type": "markdown",
   "id": "e794beea",
   "metadata": {},
   "source": [
    "## Day 5"
   ]
  },
  {
   "cell_type": "code",
   "execution_count": 16,
   "id": "411610aa",
   "metadata": {},
   "outputs": [],
   "source": [
    "day5stacks =  getData(5).split(\"\\n\\n\")[0].split(\"\\n\")[:-1]\n",
    "day5stacks = [[x[i] for x in day5stacks if x[i] != ' '] for i in range(1, len(day5stacks[0]), 4)]"
   ]
  },
  {
   "cell_type": "code",
   "execution_count": 17,
   "id": "08f3c21b",
   "metadata": {},
   "outputs": [],
   "source": [
    "day5instructions = [tuple(int(x.split(\" \")[i]) for i in [1, 3, 5]) for x in getData(5).split(\"\\n\\n\")[1].split(\"\\n\") if x]"
   ]
  },
  {
   "cell_type": "code",
   "execution_count": 18,
   "id": "3904246f",
   "metadata": {},
   "outputs": [
    {
     "data": {
      "text/plain": [
       "'SVFDLGLWV'"
      ]
     },
     "execution_count": 18,
     "metadata": {},
     "output_type": "execute_result"
    }
   ],
   "source": [
    "for num, origin, dest in day5instructions:\n",
    "    for i in range(num):\n",
    "        day5stacks[dest - 1].insert(0, day5stacks[origin - 1].pop(0))\n",
    "\"\".join(x[0] for x in day5stacks)"
   ]
  },
  {
   "cell_type": "code",
   "execution_count": 19,
   "id": "dc6f77ea",
   "metadata": {},
   "outputs": [],
   "source": [
    "day5stacks =  getData(5).split(\"\\n\\n\")[0].split(\"\\n\")[:-1]\n",
    "day5stacks = [[x[i] for x in day5stacks if x[i] != ' '] for i in range(1, len(day5stacks[0]), 4)]"
   ]
  },
  {
   "cell_type": "code",
   "execution_count": 20,
   "id": "a8af898a",
   "metadata": {},
   "outputs": [
    {
     "data": {
      "text/plain": [
       "'DCVTCVPCL'"
      ]
     },
     "execution_count": 20,
     "metadata": {},
     "output_type": "execute_result"
    }
   ],
   "source": [
    "for num, origin, dest in day5instructions:\n",
    "    for i in range(num):\n",
    "        day5stacks[dest - 1].insert(i, day5stacks[origin - 1].pop(0))\n",
    "\"\".join(x[0] for x in day5stacks)"
   ]
  },
  {
   "cell_type": "markdown",
   "id": "53017bdc",
   "metadata": {},
   "source": [
    "## Day 6"
   ]
  },
  {
   "cell_type": "code",
   "execution_count": 21,
   "id": "ace69da8",
   "metadata": {},
   "outputs": [],
   "source": [
    "day6data = getData(6).strip()"
   ]
  },
  {
   "cell_type": "code",
   "execution_count": 22,
   "id": "2e85af5b",
   "metadata": {},
   "outputs": [
    {
     "data": {
      "text/plain": [
       "1282"
      ]
     },
     "execution_count": 22,
     "metadata": {},
     "output_type": "execute_result"
    }
   ],
   "source": [
    "next(i for i in range(4, len(day6data)) if len(set(day6data[i-4:i])) == 4)"
   ]
  },
  {
   "cell_type": "code",
   "execution_count": 23,
   "id": "ef7f919e",
   "metadata": {},
   "outputs": [
    {
     "data": {
      "text/plain": [
       "3513"
      ]
     },
     "execution_count": 23,
     "metadata": {},
     "output_type": "execute_result"
    }
   ],
   "source": [
    "next(i for i in range(14, len(day6data)) if len(set(day6data[i-14:i])) == 14)"
   ]
  },
  {
   "cell_type": "markdown",
   "id": "1123e62b",
   "metadata": {},
   "source": [
    "## Day 7"
   ]
  },
  {
   "cell_type": "code",
   "execution_count": 24,
   "id": "31b9d979",
   "metadata": {},
   "outputs": [],
   "source": [
    "day7data = getData(7).strip().split(\"\\n\")"
   ]
  },
  {
   "cell_type": "code",
   "execution_count": 25,
   "id": "7101d0f2",
   "metadata": {},
   "outputs": [],
   "source": [
    "class Folder(object):\n",
    "    def __init__(self, name, parent):\n",
    "        self.name = name\n",
    "        self.files = {} # name: size\n",
    "        self.folders = {} # name: Folder objects\n",
    "        self.parent = parent\n",
    "    def prettyString(self):\n",
    "        return\"\\n\".join(self._format())\n",
    "    def _format(self):\n",
    "        s = [\"- %s (dir)\" %self.name]\n",
    "        s.extend(\"  \" + y for x in self.folders.values() for y in x._format())\n",
    "        s.extend(\"  - %s (file, size=%d)\" %(fn, size) for fn, size in self.files.items())\n",
    "        return s\n",
    "    def folderSize(self):\n",
    "        return sum(self.files.values()) + sum(x.folderSize() for x in self.folders.values())\n",
    "    def getChildFolders(self):\n",
    "        return itertools.chain([self], *(x.getChildFolders() for x in self.folders.values()))\n",
    "        \n",
    "def parseStream(day7data):\n",
    "    root = cwd = Folder('/', None)\n",
    "    i = 1\n",
    "    day7datalen = len(day7data)\n",
    "    while i < day7datalen:\n",
    "        line = day7data[i]\n",
    "        if line == '$ ls':\n",
    "            while i+1 < day7datalen and not (line := day7data[i+1]).startswith(\"$ \"):\n",
    "                if line.startswith(\"dir \"):\n",
    "                    cwd.folders[line.split(\"dir \", 1)[1]] = Folder(line.split(\"dir \", 1)[1], cwd)\n",
    "                else:\n",
    "                    cwd.files[line.split(\" \", 1)[1]] = int(line.split(\" \", 1)[0])\n",
    "                i += 1\n",
    "        elif line == '$ cd ..':\n",
    "            cwd = cwd.parent\n",
    "        elif line == '$ cd /':\n",
    "            cwd = root\n",
    "        elif line.startswith(\"$ cd \"):\n",
    "            cwd = cwd.folders[line.split(\"$ cd \", 1)[1]]\n",
    "        else:\n",
    "            print(\"ERROR: %s\" %line)\n",
    "        i += 1\n",
    "    return root"
   ]
  },
  {
   "cell_type": "code",
   "execution_count": 26,
   "id": "6657393e",
   "metadata": {},
   "outputs": [],
   "source": [
    "root = parseStream(day7data)"
   ]
  },
  {
   "cell_type": "code",
   "execution_count": 27,
   "id": "bff9c3ff",
   "metadata": {},
   "outputs": [
    {
     "name": "stdout",
     "output_type": "stream",
     "text": [
      "- / (dir)\n",
      "  - gts (dir)\n",
      "    - grwwbrgz.wft (file, size=846)\n",
      "    - mrnhn.psz (file, size=72000)\n",
      "    - qvnbd.dqs (file, size=155241)\n",
      "    - tndtmwfv (file, size=6655)\n",
      "  - lwhbw (dir)\n",
      "    - lrrl.lth (file, size=99946)\n",
      "  - pcqjnl (dir)\n",
      "    - gljcvm (dir)\n",
      "      - tmwzlzn (file, size=264381)\n",
      "    - lqwntmdg (dir)\n",
      "      - jjfwr (dir)\n",
      "        - cfhjvmh (dir)\n",
      "          - gzfgc (dir)\n",
      "            - cfhjvmh.wwh (file, size=134989)\n",
      "      - rfqbmb (dir)\n",
      "        - cbrvhz (dir)\n",
      "          - wdtm.rjr (file, size=131072)\n",
      "        - flcw (dir)\n",
      "          - wlfwpb.wpg (file, size=216675)\n",
      "        - mnd (dir)\n",
      "          - hzzzzvmr.lsz (file, size=28976)\n",
      "    - lrrl (dir)\n",
      "      - cpmvnf (dir)\n",
      "        - srtqvcv (dir)\n",
      "          - mrnhn (dir)\n",
      "            - fbrwd (dir)\n",
      "              - nqth.gcn (file, size=163166)\n",
      "      - dcfmtw (dir)\n",
      "        - nzpdtfr (dir)\n",
      "          - qwtwps (dir)\n",
      "            - cmf (dir)\n",
      "              - wdsjg.thm (file, size=73595)\n",
      "          - vcthd (dir)\n",
      "            - cfhjvmh (file, size=15016)\n",
      "          - rhhlfg.tcj (file, size=130527)\n",
      "          - rwbwp.rmr (file, size=160893)\n",
      "        - sntcbctt (dir)\n",
      "          - lrrl (dir)\n",
      "            - clgfwbb.htg (file, size=258433)\n",
      "            - fbt.cnp (file, size=166151)\n",
      "          - mjfdjrgt (dir)\n",
      "            - csphnrqr (file, size=64472)\n",
      "            - fbt.cnp (file, size=222554)\n",
      "            - vqb.grr (file, size=30487)\n",
      "          - npqj (dir)\n",
      "            - mtn.pjq (file, size=154071)\n",
      "            - nqth.gcn (file, size=185929)\n",
      "        - vzhvjp (dir)\n",
      "          - mrnhn.wvw (file, size=161341)\n",
      "        - wdtm (dir)\n",
      "          - jrswcjq (dir)\n",
      "            - blm.znb (file, size=173122)\n",
      "          - smgbdw (dir)\n",
      "            - cfhjvmh.ppp (file, size=307533)\n",
      "          - cdd (file, size=224565)\n",
      "        - mrnhn.tgg (file, size=31712)\n",
      "      - ggnwqcj (dir)\n",
      "        - bfjvt (dir)\n",
      "          - qlfcz (file, size=193338)\n",
      "          - qnz.llm (file, size=238188)\n",
      "        - fbt.cnp (file, size=146815)\n",
      "        - nljrr (file, size=279655)\n",
      "        - qpv (file, size=152735)\n",
      "      - mrnhn (dir)\n",
      "        - cfhjvmh (dir)\n",
      "          - lrrl.mgd (file, size=306620)\n",
      "        - cjsrvg (dir)\n",
      "          - dffrqscq.nct (file, size=303619)\n",
      "          - lrrl.rbb (file, size=16738)\n",
      "          - zbbwj (file, size=63842)\n",
      "        - hghjzpgc (dir)\n",
      "          - mgnq (dir)\n",
      "            - ttmctqlc (dir)\n",
      "              - nqth.gcn (file, size=9006)\n",
      "            - wdsjg.thm (file, size=250332)\n",
      "            - zpzml (file, size=20054)\n",
      "          - mnszcbnv.fzj (file, size=273152)\n",
      "        - fbt.cnp (file, size=32604)\n",
      "        - fpjfth.mmc (file, size=231569)\n",
      "        - mjfdjrgt.fdt (file, size=270425)\n",
      "        - mjfdjrgt.twj (file, size=273944)\n",
      "        - ztswsbs.pjs (file, size=141791)\n",
      "      - nwjggvr (dir)\n",
      "        - bwmglvmt (dir)\n",
      "          - bszd (dir)\n",
      "            - csn.mft (file, size=3937)\n",
      "            - vpbccpm (file, size=198599)\n",
      "          - dqdrngf (dir)\n",
      "            - lrrl.gch (file, size=26680)\n",
      "            - tndtmwfv (file, size=150627)\n",
      "          - lrrl (dir)\n",
      "            - bzrs (dir)\n",
      "              - wlfwpb.wpg (file, size=71351)\n",
      "            - grjbtv (file, size=27874)\n",
      "          - wtqgd (dir)\n",
      "            - lrrl.cgp (file, size=58033)\n",
      "            - vnznzhc.bzr (file, size=16732)\n",
      "            - wlfwpb.wpg (file, size=137407)\n",
      "          - dnwvnsn.npc (file, size=244726)\n",
      "          - jvcn (file, size=226857)\n",
      "          - mjfdjrgt.ttw (file, size=288079)\n",
      "          - vqr (file, size=172669)\n",
      "        - lrrl (dir)\n",
      "          - wrtp (dir)\n",
      "            - nwmj.rlb (file, size=267582)\n",
      "        - wmjp (dir)\n",
      "          - tzqqmmp (dir)\n",
      "            - qgwcfnvr.fzt (file, size=140115)\n",
      "          - szhljp (file, size=155158)\n",
      "          - zwz.jvq (file, size=163989)\n",
      "        - zvlhngjm (dir)\n",
      "          - fjt (dir)\n",
      "            - mnchj (file, size=57947)\n",
      "          - qsvwfb (dir)\n",
      "            - dzrgbhgf.dcm (file, size=23145)\n",
      "          - mjfdjrgt.zrb (file, size=214803)\n",
      "          - tcqgvqr.gmv (file, size=187556)\n",
      "          - tndtmwfv (file, size=185730)\n",
      "          - wlfwpb.wpg (file, size=301659)\n",
      "        - lqqmqzl.vqj (file, size=202937)\n",
      "      - sqpgr (dir)\n",
      "        - bpnlrhsb (dir)\n",
      "          - wdsjg.thm (file, size=22875)\n",
      "        - jvdh (dir)\n",
      "          - ftmzfwt (file, size=95461)\n",
      "        - zplwvj (dir)\n",
      "          - gtd (dir)\n",
      "            - lgjbhr.jmc (file, size=50675)\n",
      "      - wgpqg (dir)\n",
      "        - wlfwpb.wpg (file, size=65679)\n",
      "      - lgsc.smg (file, size=7864)\n",
      "      - mjfdjrgt (file, size=42042)\n",
      "      - nqth.gcn (file, size=258288)\n",
      "      - qfnnncr.ftw (file, size=249578)\n",
      "      - wtpmdqhd.snd (file, size=3196)\n",
      "    - qgpr (dir)\n",
      "      - fhnnc (dir)\n",
      "        - tndtmwfv (file, size=84726)\n",
      "      - jzmpcc (dir)\n",
      "        - mjfdjrgt (dir)\n",
      "          - wdtm.bpt (file, size=234188)\n",
      "        - mrnhn (dir)\n",
      "          - gphqmvpn (dir)\n",
      "            - nzl.hzv (file, size=23807)\n",
      "          - gvtgqn (dir)\n",
      "            - fbt.cnp (file, size=225267)\n",
      "            - mrnhn.vcn (file, size=132455)\n",
      "        - wdtm (dir)\n",
      "          - cfhjvmh (dir)\n",
      "            - dgdcbwqp.czm (file, size=130491)\n",
      "          - mjfdjrgt (dir)\n",
      "            - djd.ccj (file, size=87408)\n",
      "            - mjfdjrgt.zcn (file, size=152868)\n",
      "            - srdfwwtj.rcp (file, size=22605)\n",
      "          - mjfdjrgt.rhc (file, size=119601)\n",
      "          - wdsjg.thm (file, size=226225)\n",
      "          - wdtm (file, size=191042)\n",
      "        - whz.cts (file, size=120156)\n",
      "        - wlfwpb.wpg (file, size=134435)\n",
      "      - lrrl (dir)\n",
      "        - zwrctnn.lln (file, size=26548)\n",
      "      - wdtm (dir)\n",
      "        - jszntstc (dir)\n",
      "          - gwgmnvsh.nhb (file, size=210953)\n",
      "          - msqjtrdm (file, size=277302)\n",
      "    - gdg.lvr (file, size=76420)\n",
      "    - hlnrq.mjj (file, size=161390)\n",
      "    - tndtmwfv (file, size=222006)\n",
      "  - sqhw (dir)\n",
      "    - djw (dir)\n",
      "      - cfhjvmh.jpr (file, size=98290)\n",
      "    - dqnhzbh (dir)\n",
      "      - cmfhw (dir)\n",
      "        - dsbjlmrf (dir)\n",
      "          - pzq.hcl (file, size=92510)\n",
      "        - lch (dir)\n",
      "          - czhsjn.ttq (file, size=171339)\n",
      "        - tpgszv (dir)\n",
      "          - nvgcfqzb.gww (file, size=215263)\n",
      "        - fbt.cnp (file, size=215307)\n",
      "        - mjfdjrgt.dzq (file, size=217372)\n",
      "        - tndtmwfv (file, size=228751)\n",
      "      - cwtm (dir)\n",
      "        - twrb.ljq (file, size=105200)\n",
      "      - zwhs (dir)\n",
      "        - gnt.zdh (file, size=35576)\n",
      "        - mfg (file, size=68204)\n",
      "        - njb.lzw (file, size=207974)\n",
      "      - bdf.pzd (file, size=43311)\n",
      "      - cfwdq.rbz (file, size=68801)\n",
      "      - nnzhntgh (file, size=77978)\n",
      "      - nqth.gcn (file, size=138343)\n",
      "      - tzhltsq (file, size=81692)\n",
      "    - lwp (dir)\n",
      "      - jcwncw.tms (file, size=65175)\n",
      "      - tndtmwfv (file, size=208506)\n",
      "    - mjfdjrgt (dir)\n",
      "      - hlgqdqb (dir)\n",
      "        - lmhrtp (dir)\n",
      "          - cfhjvmh.njw (file, size=251922)\n",
      "        - mjfdjrgt (dir)\n",
      "          - nqtrmm.zts (file, size=61866)\n",
      "          - wlfwpb.wpg (file, size=24980)\n",
      "        - pzcnzs (dir)\n",
      "          - fbt.cnp (file, size=123265)\n",
      "        - rcmzfm (dir)\n",
      "          - gjls (dir)\n",
      "            - cnzz (file, size=109021)\n",
      "        - fdbls (file, size=128570)\n",
      "        - mjfdjrgt.lct (file, size=184639)\n",
      "        - mmlfd (file, size=168706)\n",
      "        - mrdljff (file, size=159454)\n",
      "        - tndtmwfv (file, size=86088)\n",
      "      - pdsdjdlz (dir)\n",
      "        - zhfhrzmr.qqm (file, size=103346)\n",
      "      - mjfdjrgt.njp (file, size=153252)\n",
      "      - phsnm.bvl (file, size=144949)\n",
      "      - zlszpmlv.gsf (file, size=287686)\n",
      "    - mrnhn (dir)\n",
      "      - tmldr (dir)\n",
      "        - dvchnsqr.ltc (file, size=169607)\n",
      "      - tndtmwfv (file, size=140361)\n",
      "    - mjfdjrgt.hls (file, size=211273)\n",
      "  - vllgn (dir)\n",
      "    - tndtmwfv (file, size=58389)\n",
      "  - wdtm (dir)\n",
      "    - cfhjvmh (dir)\n",
      "      - hqf (dir)\n",
      "        - blvtl.zhg (file, size=207656)\n",
      "      - rgq (dir)\n",
      "        - cfhjvmh.mhw (file, size=54691)\n",
      "        - jjhr.lml (file, size=201230)\n",
      "        - mgqdg.qsj (file, size=22759)\n",
      "      - tgmw (dir)\n",
      "        - nqth.gcn (file, size=153570)\n",
      "      - lfl.vpp (file, size=218467)\n",
      "      - rhntpj (file, size=147778)\n",
      "    - cpcqz (dir)\n",
      "      - cfhjvmh (dir)\n",
      "        - wlfwpb.wpg (file, size=17554)\n",
      "      - ftpm (dir)\n",
      "        - crpfc.bwn (file, size=244476)\n",
      "        - dhdnh (file, size=290894)\n",
      "        - lhf (file, size=210196)\n",
      "        - nqth.gcn (file, size=58166)\n",
      "      - lrrl (dir)\n",
      "        - mjfdjrgt (dir)\n",
      "          - lrrl.zng (file, size=186105)\n",
      "          - lsdzz.gsj (file, size=226081)\n",
      "          - nqth.gcn (file, size=33416)\n",
      "          - wgtclbvt.nct (file, size=109966)\n",
      "          - wlfwpb.wpg (file, size=160015)\n",
      "        - sdvhlnz (dir)\n",
      "          - lcmlmr (dir)\n",
      "            - lrrl (dir)\n",
      "              - cpv (file, size=104034)\n",
      "          - vdcbcvzv (dir)\n",
      "            - sldsnqld (dir)\n",
      "              - hvsb.vrj (file, size=3116)\n",
      "              - wqfg.ztg (file, size=166766)\n",
      "            - qwsmpvdv.lfr (file, size=263858)\n",
      "          - wdwgp (dir)\n",
      "            - wdsjg.thm (file, size=11714)\n",
      "          - zllqgnhj (dir)\n",
      "            - hrjtqzvf (file, size=113285)\n",
      "          - cngbvwz.zsm (file, size=219905)\n",
      "          - dgjz (file, size=284092)\n",
      "          - lrrl (file, size=22135)\n",
      "        - btrbfh.twr (file, size=229894)\n",
      "        - cfhjvmh.pbb (file, size=269093)\n",
      "        - fvhtjpg.pvb (file, size=277722)\n",
      "        - gztc.lbh (file, size=236232)\n",
      "        - qgjrh.zsf (file, size=230753)\n",
      "      - mrnhn (dir)\n",
      "        - bhldtsnn.jbp (file, size=212363)\n",
      "        - wdsjg.thm (file, size=194936)\n",
      "      - vqt (dir)\n",
      "        - lrrl.ztz (file, size=46371)\n",
      "        - rnggjsg.hsw (file, size=215875)\n",
      "        - vnjhm.frz (file, size=255959)\n",
      "        - vwvjnrjp.mwq (file, size=277765)\n",
      "      - fbt.cnp (file, size=17143)\n",
      "      - lwdzptgw.gfv (file, size=92760)\n",
      "      - tndtmwfv (file, size=151636)\n",
      "    - gmrgsmpp (dir)\n",
      "      - fbcv (dir)\n",
      "        - htmwl (dir)\n",
      "          - dshcw (file, size=34803)\n",
      "          - dwtd (file, size=10573)\n",
      "        - wwwspsb.hrb (file, size=292840)\n",
      "      - tnrmj (dir)\n",
      "        - cfhjvmh (dir)\n",
      "          - wlfwpb.wpg (file, size=110464)\n",
      "        - wqtnrwg (dir)\n",
      "          - mfgllgv (file, size=283055)\n",
      "      - fbt.cnp (file, size=275639)\n",
      "      - vtfjqtw.tqg (file, size=65119)\n",
      "      - zsg.grj (file, size=117334)\n",
      "    - mrnhn (dir)\n",
      "      - tndtmwfv (file, size=2633)\n",
      "    - nvgmrpdf (dir)\n",
      "      - pnc (file, size=32919)\n",
      "    - vpm (dir)\n",
      "      - ddz (dir)\n",
      "        - hrnnrzd (file, size=4672)\n",
      "        - wdtm (file, size=217020)\n",
      "      - dhmphrn (dir)\n",
      "        - fwbmb (dir)\n",
      "          - dfd.wrl (file, size=258937)\n",
      "          - gtfgscfg.jjc (file, size=103543)\n",
      "        - gdq (dir)\n",
      "          - bzgt.llh (file, size=133691)\n",
      "          - cfhjvmh.nhj (file, size=278010)\n",
      "          - cjbcnfz.rjb (file, size=191344)\n",
      "          - fbt.cnp (file, size=269115)\n",
      "        - lrrl (dir)\n",
      "          - gqqsg (dir)\n",
      "            - gvn (dir)\n",
      "              - lrrl (dir)\n",
      "                - mrnhn.ltr (file, size=15291)\n",
      "                - wlfwpb.wpg (file, size=190429)\n",
      "                - wln.msz (file, size=119328)\n",
      "                - zbhzvrc.gbj (file, size=86384)\n",
      "              - rwvbmlq (dir)\n",
      "                - nqth.gcn (file, size=186907)\n",
      "              - cfhjvmh.thh (file, size=206457)\n",
      "              - hsdsstt (file, size=133435)\n",
      "              - sjqvt.lzl (file, size=127003)\n",
      "              - wlfwpb.wpg (file, size=136402)\n",
      "              - zwjfrqf.nvl (file, size=60537)\n",
      "            - hzfmdhw (dir)\n",
      "              - lvdhtg (dir)\n",
      "                - cfhjvmh (dir)\n",
      "                  - htlq (file, size=87654)\n",
      "                  - vhmthzjb (file, size=203005)\n",
      "                - hzpzz (dir)\n",
      "                  - brfstm.nwc (file, size=153446)\n",
      "                  - cfhjvmh (file, size=47585)\n",
      "                  - wdtm.gpt (file, size=258754)\n",
      "                  - zlwq.hgr (file, size=150809)\n",
      "                - pbfhn (dir)\n",
      "                  - mjfdjrgt (dir)\n",
      "                    - rmfwpm.fnt (file, size=16108)\n",
      "                - wljjgs (dir)\n",
      "                  - bqf.jll (file, size=228757)\n",
      "                - mjfdjrgt.mpj (file, size=296694)\n",
      "                - nqth.gcn (file, size=65800)\n",
      "              - nwnp (dir)\n",
      "                - lrrl (file, size=124842)\n",
      "              - fbt.cnp (file, size=9653)\n",
      "              - nqth.gcn (file, size=301280)\n",
      "              - vzrbbj.bfb (file, size=241354)\n",
      "            - wdtm (dir)\n",
      "              - vsls (dir)\n",
      "                - dvbv (file, size=250070)\n",
      "              - fbt.cnp (file, size=122771)\n",
      "              - lpqf.bvg (file, size=252697)\n",
      "              - mrnhn (file, size=264813)\n",
      "              - pgn.wnw (file, size=165228)\n",
      "              - wlfwpb.wpg (file, size=292567)\n",
      "            - vfzbvl (file, size=34666)\n",
      "          - gwbtt (dir)\n",
      "            - mjfdjrgt (dir)\n",
      "              - fbt.cnp (file, size=96726)\n",
      "              - lrrl.fgv (file, size=4801)\n",
      "              - wspcp.brw (file, size=180291)\n",
      "            - nqth.gcn (file, size=2327)\n",
      "            - sdjvgv.sfr (file, size=20064)\n",
      "          - mrnhn (dir)\n",
      "            - lrrl (dir)\n",
      "              - fbt.cnp (file, size=160260)\n",
      "              - tfpprjj (file, size=281732)\n",
      "            - mqcstf (dir)\n",
      "              - pdbbbmn (dir)\n",
      "                - mjfdjrgt (file, size=250947)\n",
      "              - gntrdss.zcw (file, size=222125)\n",
      "              - stwlp.wpl (file, size=58613)\n",
      "            - nqth.gcn (file, size=271459)\n",
      "            - zdln (file, size=190006)\n",
      "          - pdtm (dir)\n",
      "            - wdhn (file, size=55975)\n",
      "          - vvsvfchb (dir)\n",
      "            - hpwmnjgc (file, size=10547)\n",
      "            - tcc (file, size=157960)\n",
      "          - nqth.gcn (file, size=140500)\n",
      "          - tndtmwfv (file, size=220764)\n",
      "        - mrcnm (dir)\n",
      "          - lrrl (dir)\n",
      "            - fbt.cnp (file, size=305034)\n",
      "            - jmfwlmzv.gjc (file, size=240756)\n",
      "            - wgfpcscz.mdn (file, size=77875)\n",
      "          - mjfdjrgt (dir)\n",
      "            - mrnhn (file, size=26073)\n",
      "          - cfhjvmh (file, size=106708)\n",
      "          - ffqfm.slz (file, size=264809)\n",
      "          - wlfwpb.wpg (file, size=174610)\n",
      "          - wwhwvdc.zvc (file, size=90207)\n",
      "        - mrmmr (dir)\n",
      "          - qlc (file, size=287663)\n",
      "        - rllvrpzl.vcg (file, size=161427)\n",
      "      - grr (dir)\n",
      "        - tgb (dir)\n",
      "          - psssw.nzs (file, size=203808)\n",
      "      - nbccdd (dir)\n",
      "        - wfmhzh (file, size=62162)\n",
      "      - plw (dir)\n",
      "        - ljwvnppm.bcc (file, size=185632)\n",
      "      - qsmg (dir)\n",
      "        - vbvtzmsg (dir)\n",
      "          - mrnhn.qlh (file, size=15318)\n",
      "        - wrrtctvd (dir)\n",
      "          - lggjwn.mfj (file, size=249219)\n",
      "        - lrrl.flr (file, size=164538)\n",
      "      - mgfdgw.vlt (file, size=132419)\n",
      "      - pvgbbjgt.wbt (file, size=183717)\n",
      "      - stbh.rvz (file, size=120729)\n",
      "      - ttqc (file, size=101652)\n",
      "    - ztp (dir)\n",
      "      - hns (dir)\n",
      "        - fshzss (dir)\n",
      "          - fbj.qjm (file, size=297058)\n",
      "          - wjbhllz.mnf (file, size=131320)\n",
      "        - spdzjs (dir)\n",
      "          - nrzthq.rvj (file, size=165766)\n",
      "          - zfhqhm.njj (file, size=10584)\n",
      "        - mjfdjrgt.qcm (file, size=77792)\n",
      "        - nlpsw (file, size=85013)\n",
      "        - pmclgp.lvz (file, size=274710)\n",
      "      - wdtm (dir)\n",
      "        - vnmg (dir)\n",
      "          - mrnhn.wwd (file, size=83938)\n",
      "      - fzc.swf (file, size=241178)\n",
      "      - lbmzvf (file, size=223340)\n",
      "      - wlfwpb.wpg (file, size=195144)\n",
      "    - jbfn (file, size=290978)\n",
      "    - mjfdjrgt (file, size=179525)\n",
      "    - wlfwpb.wpg (file, size=67780)\n",
      "  - ztfdwp (dir)\n",
      "    - swjdzqdh.ngv (file, size=152895)\n",
      "    - tndtmwfv (file, size=215804)\n",
      "    - wdsjg.thm (file, size=68954)\n",
      "  - jvdqjhr.jvp (file, size=68377)\n",
      "  - nqth.gcn (file, size=228884)\n",
      "  - ppwv.zsh (file, size=94844)\n",
      "  - rqpw (file, size=97889)\n"
     ]
    }
   ],
   "source": [
    "print(root.prettyString())"
   ]
  },
  {
   "cell_type": "code",
   "execution_count": 28,
   "id": "f0f776d8",
   "metadata": {},
   "outputs": [
    {
     "data": {
      "text/plain": [
       "1778099"
      ]
     },
     "execution_count": 28,
     "metadata": {},
     "output_type": "execute_result"
    }
   ],
   "source": [
    "sum(s for f in root.getChildFolders() if (s := f.folderSize()) <= 100000)"
   ]
  },
  {
   "cell_type": "code",
   "execution_count": 29,
   "id": "d75a28dc",
   "metadata": {},
   "outputs": [
    {
     "data": {
      "text/plain": [
       "1623571"
      ]
     },
     "execution_count": 29,
     "metadata": {},
     "output_type": "execute_result"
    }
   ],
   "source": [
    "desiredSize = 30000000 - (70000000 - root.folderSize())\n",
    "sorted(s for f in root.getChildFolders() if (s := f.folderSize()) >= desiredSize)[0]"
   ]
  },
  {
   "cell_type": "markdown",
   "id": "5fdd68d2",
   "metadata": {},
   "source": [
    "## Day 8"
   ]
  },
  {
   "cell_type": "code",
   "execution_count": 30,
   "id": "2040a9e9",
   "metadata": {},
   "outputs": [],
   "source": [
    "day8data = getData(8).strip().split(\"\\n\")"
   ]
  },
  {
   "cell_type": "code",
   "execution_count": 31,
   "id": "bb2f66fd",
   "metadata": {},
   "outputs": [
    {
     "data": {
      "text/plain": [
       "1533"
      ]
     },
     "execution_count": 31,
     "metadata": {},
     "output_type": "execute_result"
    }
   ],
   "source": [
    "visibleTrees = list(itertools.product((0, len(day8data)), range(len(day8data[0])))) + \\\n",
    "                list(itertools.product(range(1, len(day8data) - 1), (0, len(day8data[0]))))\n",
    "DIR = ((0, 1), (1, 0), (0, -1), (-1, 0))\n",
    "for i, j in itertools.product(range(1, len(day8data) - 1), range(1, len(day8data[0]) - 1)):\n",
    "    for diri, dirj in DIR:\n",
    "        iloc, jloc = i + diri, j + dirj\n",
    "        isVisible = True\n",
    "        while isVisible and iloc not in (-1, len(day8data)) and jloc not in (-1, len(day8data[0])):\n",
    "            isVisible = int(day8data[i][j]) > int(day8data[iloc][jloc])\n",
    "            iloc, jloc = iloc + diri, jloc + dirj\n",
    "        if isVisible:\n",
    "            visibleTrees.append((i, j))\n",
    "            break \n",
    "len(visibleTrees) "
   ]
  },
  {
   "cell_type": "code",
   "execution_count": 32,
   "id": "8bb64305",
   "metadata": {},
   "outputs": [
    {
     "data": {
      "text/plain": [
       "345744"
      ]
     },
     "execution_count": 32,
     "metadata": {},
     "output_type": "execute_result"
    }
   ],
   "source": [
    "scenicScores = []\n",
    "for i, j in itertools.product(range(1, len(day8data) - 1), range(1, len(day8data[0]) - 1)):\n",
    "    thisScore = []\n",
    "    for diri, dirj in ((0, 1), (1, 0), (0, -1), (-1, 0)):\n",
    "        iloc, jloc = i + diri, j + dirj\n",
    "        while iloc not in (-1, len(day8data)) and jloc not in (-1, len(day8data[0])) and \\\n",
    "                int(day8data[i][j]) > int(day8data[iloc][jloc]):\n",
    "            iloc, jloc = iloc + diri, jloc + dirj\n",
    "        thisScore.append(abs(min(max(iloc, 0), len(day8data) -1) - i) + abs(min(max(jloc, 0), len(day8data[0]) -1) - j))\n",
    "    scenicScores.append(functools.reduce(lambda x, y: x*y, thisScore, 1))\n",
    "max(scenicScores)"
   ]
  },
  {
   "cell_type": "markdown",
   "id": "e7edd988",
   "metadata": {},
   "source": [
    "## Day 9"
   ]
  },
  {
   "cell_type": "code",
   "execution_count": 33,
   "id": "f55a68b8",
   "metadata": {},
   "outputs": [],
   "source": [
    "day9data = [(x.split(\" \")[0], int(x.split(\" \")[1])) for x in getData(9).strip().split(\"\\n\")]"
   ]
  },
  {
   "cell_type": "code",
   "execution_count": 34,
   "id": "2340a311",
   "metadata": {},
   "outputs": [],
   "source": [
    "tailPositions = [[0, 0]]\n",
    "headPosition = [0, 0]\n",
    "for direction, steps in day9data:\n",
    "    for i in range(steps):\n",
    "        newTail = [x for x in tailPositions[-1]]\n",
    "        if direction in ('U', 'D'):\n",
    "            headPosition[1] += 1 if direction == 'U' else -1\n",
    "            if abs(yOff := headPosition[1] - newTail[1]) > 1:\n",
    "                newTail[1] += int(yOff/abs(yOff))\n",
    "                if (xOff := headPosition[0] - newTail[0]) != 0:\n",
    "                    newTail[0] += int(xOff/abs(xOff))\n",
    "        elif direction in ('R', 'L'):\n",
    "            headPosition[0] += 1 if direction == 'R' else -1\n",
    "            if abs(xOff := headPosition[0] - newTail[0]) > 1:\n",
    "                newTail[0] += int(xOff/abs(xOff))\n",
    "                if (yOff := headPosition[1] - newTail[1]) != 0:\n",
    "                    newTail[1] += int(yOff/abs(yOff))\n",
    "        tailPositions.append(newTail)"
   ]
  },
  {
   "cell_type": "code",
   "execution_count": 35,
   "id": "94175a0e",
   "metadata": {},
   "outputs": [
    {
     "data": {
      "text/plain": [
       "6087"
      ]
     },
     "execution_count": 35,
     "metadata": {},
     "output_type": "execute_result"
    }
   ],
   "source": [
    "len(set(tuple(x) for x in tailPositions))"
   ]
  },
  {
   "cell_type": "code",
   "execution_count": 36,
   "id": "aadbed38",
   "metadata": {},
   "outputs": [],
   "source": [
    "knotPositions = [[0, 0] for x in range(10)]\n",
    "tailPositions = [[0, 0]]\n",
    "for direction, steps in day9data:\n",
    "    for i in range(steps):\n",
    "        if direction in ('U', 'D'):\n",
    "            knotPositions[0][1] += 1 if direction == 'U' else -1\n",
    "        elif direction in ('R', 'L'):\n",
    "            knotPositions[0][0] += 1 if direction == 'R' else -1           \n",
    "        for i in range(0, 9):\n",
    "            if abs(yOff := knotPositions[i][1] - knotPositions[i + 1][1]) > 1:\n",
    "                knotPositions[i + 1][1] += int(yOff/abs(yOff))\n",
    "                if (xOff := knotPositions[i][0] - knotPositions[i + 1][0]) != 0:\n",
    "                    knotPositions[i + 1][0] += int(xOff/abs(xOff))\n",
    "            if abs(xOff := knotPositions[i][0] - knotPositions[i + 1][0]) > 1:\n",
    "                knotPositions[i + 1][0] += int(xOff/abs(xOff))\n",
    "                if (yOff := knotPositions[i][1] - knotPositions[i + 1][1]) != 0:\n",
    "                    knotPositions[i + 1][1] += int(yOff/abs(yOff))\n",
    "        tailPositions.append([x for x in knotPositions[-1]])\n",
    "        "
   ]
  },
  {
   "cell_type": "code",
   "execution_count": 37,
   "id": "af10971b",
   "metadata": {},
   "outputs": [
    {
     "data": {
      "text/plain": [
       "2493"
      ]
     },
     "execution_count": 37,
     "metadata": {},
     "output_type": "execute_result"
    }
   ],
   "source": [
    "len(set(tuple(x) for x in tailPositions))"
   ]
  },
  {
   "cell_type": "code",
   "execution_count": 38,
   "id": "9b095ff6",
   "metadata": {},
   "outputs": [
    {
     "data": {
      "text/plain": [
       "[-204, -7, 65, 207]"
      ]
     },
     "execution_count": 38,
     "metadata": {},
     "output_type": "execute_result"
    }
   ],
   "source": [
    "[x([z[i] for z in tailPositions]) for x, i in itertools.product([min, max], [0, 1])]"
   ]
  },
  {
   "cell_type": "code",
   "execution_count": 39,
   "id": "942bb762",
   "metadata": {},
   "outputs": [],
   "source": [
    "## hmm, a 269 x 214 grid is too large to visualise really :("
   ]
  },
  {
   "cell_type": "markdown",
   "id": "7a462918",
   "metadata": {},
   "source": [
    "## Day 10"
   ]
  },
  {
   "cell_type": "code",
   "execution_count": 40,
   "id": "75cdeda1",
   "metadata": {},
   "outputs": [],
   "source": [
    "day10data = [(x.split(\" \")[0], int(x.split(\" \")[1]) if len(x.split(\" \")) > 1 else None) \n",
    "             for x in getData(10).strip().split(\"\\n\")]"
   ]
  },
  {
   "cell_type": "code",
   "execution_count": 41,
   "id": "b81318d7",
   "metadata": {},
   "outputs": [],
   "source": [
    "state = [1]\n",
    "for op, num in day10data:\n",
    "    if op == 'noop':\n",
    "        state.append(state[-1])\n",
    "    elif op == 'addx':\n",
    "        state.extend([state[-1], state[-1] + num])"
   ]
  },
  {
   "cell_type": "code",
   "execution_count": 42,
   "id": "f33f7762",
   "metadata": {},
   "outputs": [
    {
     "data": {
      "text/plain": [
       "14920"
      ]
     },
     "execution_count": 42,
     "metadata": {},
     "output_type": "execute_result"
    }
   ],
   "source": [
    "sum([i*state[i-1] for i in range(20,len(state), 40)])"
   ]
  },
  {
   "cell_type": "code",
   "execution_count": 43,
   "id": "aecf7ae8",
   "metadata": {},
   "outputs": [
    {
     "name": "stdout",
     "output_type": "stream",
     "text": [
      "###  #  #  ##   ##   ##  ###  #  # #### \n",
      "#  # #  # #  # #  # #  # #  # #  #    # \n",
      "###  #  # #    #  # #    ###  #  #   #  \n",
      "#  # #  # #    #### #    #  # #  #  #   \n",
      "#  # #  # #  # #  # #  # #  # #  # #    \n",
      "###   ##   ##  #  #  ##  ###   ##  #### \n"
     ]
    }
   ],
   "source": [
    "print(\"\\n\".join(\"\".join([\"#\" if abs(s - (i % 40)) < 2 else \" \" \n",
    "                         for i, s in enumerate(state)])[(j*40):(j+1)*40] for j in range(len(state)//40)))"
   ]
  },
  {
   "cell_type": "markdown",
   "id": "12be9d40",
   "metadata": {},
   "source": [
    "## Day 11"
   ]
  },
  {
   "cell_type": "code",
   "execution_count": 44,
   "id": "a323cbb6",
   "metadata": {},
   "outputs": [],
   "source": [
    "def parseOp(op):\n",
    "    if op == 'old * old': \n",
    "        return lambda x: x*x\n",
    "    elif len(z := op.split('old * ')) > 1:\n",
    "        return lambda x: x * int(z[1])\n",
    "    elif len(z := op.split('old + ')) > 1:\n",
    "        return lambda x: x + int(z[1])\n",
    "    else:\n",
    "        raise Exception(\"unknown op %s\" %op)"
   ]
  },
  {
   "cell_type": "code",
   "execution_count": 45,
   "id": "8179aea3",
   "metadata": {},
   "outputs": [],
   "source": [
    "day11Data = [{'op' : parseOp((y := x.split(\"\\n\"))[2].split(\" = \")[1]),\n",
    "              'initialItems': [int(z) for z in y[1].split(\": \")[1].split(\", \")],  \n",
    "              'test' : int(y[3].split(\" by \")[1]),\n",
    "              'true': int(y[4].split('to monkey ')[1]),\n",
    "              'false': int(y[5].split('to monkey ')[1])} \n",
    "             for x in getData(11).split(\"\\n\\n\")]"
   ]
  },
  {
   "cell_type": "code",
   "execution_count": 46,
   "id": "170b9226",
   "metadata": {},
   "outputs": [],
   "source": [
    "for m in day11Data:\n",
    "    m['items'] = [x for x in m['initialItems']]\n",
    "    m['count'] = 0\n",
    "for r in range(20):\n",
    "    for m in day11Data:\n",
    "        while m['items']:\n",
    "            m['count'] += 1\n",
    "            i = m['op'](m['items'].pop(0)) // 3\n",
    "            day11Data[m['true'] if i % m['test'] == 0 else m['false']]['items'].append(i)"
   ]
  },
  {
   "cell_type": "code",
   "execution_count": 47,
   "id": "7238542f",
   "metadata": {},
   "outputs": [
    {
     "data": {
      "text/plain": [
       "54752"
      ]
     },
     "execution_count": 47,
     "metadata": {},
     "output_type": "execute_result"
    }
   ],
   "source": [
    "[a*b for a, b in [sorted([x['count'] for x in day11Data])[-2:]]][0]"
   ]
  },
  {
   "cell_type": "code",
   "execution_count": 48,
   "id": "98cd1ad4",
   "metadata": {},
   "outputs": [],
   "source": [
    "lcm = functools.reduce(lambda x, y: x*y, [x['test'] for x in day11Data], 1)"
   ]
  },
  {
   "cell_type": "code",
   "execution_count": 49,
   "id": "43395a1f",
   "metadata": {},
   "outputs": [],
   "source": [
    "for m in day11Data:\n",
    "    m['items'] = [x for x in m['initialItems']]\n",
    "    m['count'] = 0\n",
    "for r in range(10000):\n",
    "    for m in day11Data:\n",
    "        while m['items']:\n",
    "            m['count'] += 1\n",
    "            i = m['op'](m['items'].pop(0)) % lcm\n",
    "            day11Data[m['true'] if i % m['test'] == 0 else m['false']]['items'].append(i)"
   ]
  },
  {
   "cell_type": "code",
   "execution_count": 50,
   "id": "6186b22f",
   "metadata": {},
   "outputs": [
    {
     "data": {
      "text/plain": [
       "13606755504"
      ]
     },
     "execution_count": 50,
     "metadata": {},
     "output_type": "execute_result"
    }
   ],
   "source": [
    "[a*b for a, b in [sorted([x['count'] for x in day11Data])[-2:]]][0]"
   ]
  },
  {
   "cell_type": "markdown",
   "id": "7de37c40",
   "metadata": {},
   "source": [
    "## Day 12"
   ]
  },
  {
   "cell_type": "code",
   "execution_count": 51,
   "id": "58543519",
   "metadata": {},
   "outputs": [],
   "source": [
    "day12Data = getData(12).strip().split(\"\\n\")"
   ]
  },
  {
   "cell_type": "code",
   "execution_count": 52,
   "id": "bd6f04d1",
   "metadata": {},
   "outputs": [],
   "source": [
    "startX, startY = [(xi, yi) for xi in range(len(day12Data)) for yi in range(len(day12Data[0])) if day12Data[xi][yi] == 'S'][0]\n",
    "endX, endY = [(xi, yi) for xi in range(len(day12Data)) for yi in range(len(day12Data[0])) if day12Data[xi][yi] == 'E'][0]"
   ]
  },
  {
   "cell_type": "code",
   "execution_count": 53,
   "id": "d8c1ec7f",
   "metadata": {},
   "outputs": [],
   "source": [
    "distanceMap = [[0 if day12Data[x][y] == 'S' else -1 for y in range(len(day12Data[0]))] for x in range(len(day12Data))]\n",
    "toprocess = [(startX, startY)]\n",
    "while toprocess:\n",
    "    xi, yi = toprocess.pop(0)\n",
    "    for dx, dy in ((0, 1), (1, 0), (0, -1), (-1, 0)):\n",
    "        if (xi + dx in range(len(day12Data)) and yi + dy in range(len(day12Data[0])) \n",
    "            and ((day12Data[dx+xi][dy+yi] in ('a', 'b') and day12Data[xi][yi]  == 'S') or\n",
    "                 (day12Data[dx+xi][dy+yi] == 'E' and day12Data[xi][yi]) in ('z', 'y') or \n",
    "                 (day12Data[dx+xi][dy+yi] != 'E' and ord(day12Data[dx+xi][dy+yi]) - ord(day12Data[xi][yi]) < 2))):\n",
    "            if distanceMap[dx+xi][dy+yi] == -1 or distanceMap[dx+xi][dy+yi] > distanceMap[xi][yi] + 1:\n",
    "                distanceMap[dx+xi][dy+yi] = distanceMap[xi][yi] + 1\n",
    "                toprocess.append((dx+xi, dy+yi))"
   ]
  },
  {
   "cell_type": "code",
   "execution_count": 54,
   "id": "3d8beb6f",
   "metadata": {},
   "outputs": [
    {
     "data": {
      "text/plain": [
       "447"
      ]
     },
     "execution_count": 54,
     "metadata": {},
     "output_type": "execute_result"
    }
   ],
   "source": [
    "distanceMap[endX][endY]"
   ]
  },
  {
   "cell_type": "code",
   "execution_count": 55,
   "id": "b43a9e36",
   "metadata": {},
   "outputs": [],
   "source": [
    "distanceMap = [[0 if day12Data[x][y] in ('S', 'a') else -1 for y in range(len(day12Data[0]))] for x in range(len(day12Data))]\n",
    "toprocess = [(x, y) for x in range(len(day12Data)) for y in range(len(day12Data[0])) if day12Data[x][y] in ('S', 'a')]\n",
    "while toprocess:\n",
    "    xi, yi = toprocess.pop(0)\n",
    "    for dx, dy in ((0, 1), (1, 0), (0, -1), (-1, 0)):\n",
    "        if (xi + dx in range(len(day12Data)) and yi + dy in range(len(day12Data[0])) \n",
    "            and ((day12Data[dx+xi][dy+yi] in ('a', 'b') and day12Data[xi][yi]  == 'S') or\n",
    "                 (day12Data[dx+xi][dy+yi] == 'E' and day12Data[xi][yi]) in ('z', 'y') or \n",
    "                 (day12Data[dx+xi][dy+yi] != 'E' and ord(day12Data[dx+xi][dy+yi]) - ord(day12Data[xi][yi]) < 2))):\n",
    "            if distanceMap[dx+xi][dy+yi] == -1 or distanceMap[dx+xi][dy+yi] > distanceMap[xi][yi] + 1:\n",
    "                distanceMap[dx+xi][dy+yi] = distanceMap[xi][yi] + 1\n",
    "                toprocess.append((dx+xi, dy+yi))"
   ]
  },
  {
   "cell_type": "code",
   "execution_count": 56,
   "id": "7e351462",
   "metadata": {},
   "outputs": [
    {
     "data": {
      "text/plain": [
       "446"
      ]
     },
     "execution_count": 56,
     "metadata": {},
     "output_type": "execute_result"
    }
   ],
   "source": [
    "distanceMap[endX][endY]"
   ]
  },
  {
   "cell_type": "markdown",
   "id": "598dfdf0",
   "metadata": {},
   "source": [
    "## Day 13 "
   ]
  },
  {
   "cell_type": "code",
   "execution_count": 57,
   "id": "28d8e23a",
   "metadata": {},
   "outputs": [],
   "source": [
    "day13Data = [[json.loads(y) for y in x.split(\"\\n\")] for x in getData(13).strip().split(\"\\n\\n\")]"
   ]
  },
  {
   "cell_type": "code",
   "execution_count": 58,
   "id": "e585ba7b",
   "metadata": {},
   "outputs": [],
   "source": [
    "def compare(x, y):\n",
    "    \"\"\"-1 left lower, 0 equal, 1 right lower\"\"\"\n",
    "    if isinstance(x, int):\n",
    "        if isinstance(y, int):\n",
    "            if x < y: return -1\n",
    "            if x == y: return 0\n",
    "            return 1\n",
    "        else:\n",
    "            return compare([x], y)\n",
    "    else:\n",
    "        if isinstance(y, int):\n",
    "            return compare(x, [y])\n",
    "        else:\n",
    "            if not x and not y: return 0\n",
    "            if not x and y: return -1\n",
    "            if not y and x: return 1\n",
    "            for i in range(max(len(x), len(y))):\n",
    "                ret = compare(x[i], y[i])\n",
    "                if ret != 0: return ret\n",
    "                if i+1 == len(x):\n",
    "                    if i+1 == len(y): return 0\n",
    "                    return -1\n",
    "                if i+1 == len(y): return 1"
   ]
  },
  {
   "cell_type": "code",
   "execution_count": 59,
   "id": "e2d18ace",
   "metadata": {},
   "outputs": [
    {
     "data": {
      "text/plain": [
       "5503"
      ]
     },
     "execution_count": 59,
     "metadata": {},
     "output_type": "execute_result"
    }
   ],
   "source": [
    "sum(i+1 for i,x in enumerate(day13Data) if compare(x[0], x[1]) == -1)"
   ]
  },
  {
   "cell_type": "code",
   "execution_count": 60,
   "id": "6c88ce78",
   "metadata": {},
   "outputs": [],
   "source": [
    "day13Sorted = sorted([x for y in day13Data for x in y] + [[[2]], [[6]]], key=functools.cmp_to_key(compare))"
   ]
  },
  {
   "cell_type": "code",
   "execution_count": 61,
   "id": "5a8245e1",
   "metadata": {},
   "outputs": [
    {
     "data": {
      "text/plain": [
       "20952"
      ]
     },
     "execution_count": 61,
     "metadata": {},
     "output_type": "execute_result"
    }
   ],
   "source": [
    "(day13Sorted.index([[2]]) + 1) * (day13Sorted.index([[6]]) + 1)"
   ]
  },
  {
   "cell_type": "markdown",
   "id": "0bbcd7be",
   "metadata": {},
   "source": [
    "## Day 14"
   ]
  },
  {
   "cell_type": "code",
   "execution_count": 62,
   "id": "a3187cdf",
   "metadata": {},
   "outputs": [],
   "source": [
    "day14Data = [[[int(z) for z in y.split(\",\")] for y in x.split(\" -> \")] for x in getData(14).strip().split(\"\\n\")]"
   ]
  },
  {
   "cell_type": "code",
   "execution_count": 63,
   "id": "99bb5d3d",
   "metadata": {},
   "outputs": [
    {
     "data": {
      "text/plain": [
       "(496, 584, 16, 157)"
      ]
     },
     "execution_count": 63,
     "metadata": {},
     "output_type": "execute_result"
    }
   ],
   "source": [
    "xmin, xmax = min(y[0] for x in day14Data for y in x), max(y[0] for x in day14Data for y in x)\n",
    "ymin, ymax = min(y[1] for x in day14Data for y in x), max(y[1] for x in day14Data for y in x)\n",
    "xmin, xmax, ymin, ymax"
   ]
  },
  {
   "cell_type": "code",
   "execution_count": 64,
   "id": "902ec8e0",
   "metadata": {},
   "outputs": [],
   "source": [
    "cave = [[' ' for yi in range(xmax-xmin+1)] for xi in range(ymax+1)]\n",
    "for wall in day14Data:\n",
    "    for (wallSX, wallSY), (wallEX, wallEY) in zip(wall, wall[1:]):\n",
    "        xdir = (wallEX-wallSX)//abs(wallEX-wallSX) if wallEX-wallSX else 1\n",
    "        ydir = (wallEY-wallSY)//abs(wallEY-wallSY) if wallEY-wallSY else 1\n",
    "        for xi, yi in itertools.product(range(wallSX-xmin, wallEX-xmin + xdir, xdir), range(wallSY, wallEY + ydir, ydir)):\n",
    "            cave[yi][xi] = '#'\n",
    "cave[0][500-xmin] = '+'"
   ]
  },
  {
   "cell_type": "code",
   "execution_count": 65,
   "id": "403119b6",
   "metadata": {
    "scrolled": false
   },
   "outputs": [
    {
     "name": "stdout",
     "output_type": "stream",
     "text": [
      "    +                                                                                    \n",
      "                                                                                         \n",
      "                                                                                         \n",
      "                                                                                         \n",
      "                                                                                         \n",
      "                                                                                         \n",
      "                                                                                         \n",
      "                                                                                         \n",
      "                                                                                         \n",
      "                                                                                         \n",
      "                                                                                         \n",
      "                                                                                         \n",
      "                                                                                         \n",
      "                                                                                         \n",
      "                                                                                         \n",
      "                                                                                         \n",
      "# #   #                                                                                  \n",
      "# # # #                                                                                  \n",
      "# # # #                                                                                  \n",
      "# # # #                                                                                  \n",
      "# # # #                                                                                  \n",
      "# # # #                                                                                  \n",
      "# # # #                                                                                  \n",
      "#######                                                                                  \n",
      "                                                                                         \n",
      "                                                                                         \n",
      "                                                                                         \n",
      "   #   #                                                                                 \n",
      "   #   # #                                                                               \n",
      "   #   # #                                                                               \n",
      " # #   # #                                                                               \n",
      " # #   # #                                                                               \n",
      " # #   # #                                                                               \n",
      " # # # # #                                                                               \n",
      " # # # # #                                                                               \n",
      " # # # # # #                                                                             \n",
      " ###########                                                                             \n",
      "                                                                                         \n",
      "                                                                                         \n",
      "          #   #                                                                          \n",
      "          #   #                                                                          \n",
      "          #   #                                                                          \n",
      "          #   #                                                                          \n",
      "   ########   #####                                                                      \n",
      "   #              #                                                                      \n",
      "   #              #                                                                      \n",
      "   #              #                                                                      \n",
      "   #              #                                                                      \n",
      "   #              #                                                                      \n",
      "   #              #                                                                      \n",
      "   #              #                                                                      \n",
      "   ################                                                                      \n",
      "                                                                                         \n",
      "                                                                                         \n",
      "                ######                                                                   \n",
      "                                                                                         \n",
      "             ###### ######                                                               \n",
      "                                                                                         \n",
      "          ###### ###### ######                                                           \n",
      "                                                                                         \n",
      "       ###### ###### ###### ######                                                       \n",
      "                                                                                         \n",
      "    ###### ###### ###### ###### ######                                                   \n",
      "                                                                                         \n",
      "                                                                                         \n",
      "                                   ######                                                \n",
      "                                                                                         \n",
      "                                ###### ######                                            \n",
      "                                                                                         \n",
      "                             ###### ###### ######                                        \n",
      "                                                                                         \n",
      "                                                                                         \n",
      "                                               #          #                              \n",
      "                                               ############                              \n",
      "                                                                                         \n",
      "                                        #          #                                     \n",
      "                                        ############                                     \n",
      "                                                                                         \n",
      "                                                                                         \n",
      "                                                  #                                      \n",
      "                                                  #############                          \n",
      "                                                                                         \n",
      "                                                                                         \n",
      "                                                             #   #                       \n",
      "                                                             #   #                       \n",
      "                                                      ########   #########               \n",
      "                                                      #                  #               \n",
      "                                                      #                  #               \n",
      "                                                      #                  #               \n",
      "                                                      ####################               \n",
      "                                                                                         \n",
      "                                                                                         \n",
      "                                                                                         \n",
      "                                                                                         \n",
      "                                                                           #             \n",
      "                                                                        ####             \n",
      "                                                                                         \n",
      "                                                                                         \n",
      "                                                                                         \n",
      "                                                                                         \n",
      "                                                                        #                \n",
      "                                                                      # #                \n",
      "                                                                      # #                \n",
      "                                                                      # #                \n",
      "                                                                      # #                \n",
      "                                                                      # #                \n",
      "                                                                      # #                \n",
      "                                                                    # # #                \n",
      "                                                                    #####                \n",
      "                                                                                         \n",
      "                                                                                         \n",
      "                                                                 #####                   \n",
      "                                                                                         \n",
      "                                                              ##### #####                \n",
      "                                                                                         \n",
      "                                                           ##### ##### #####             \n",
      "                                                                                         \n",
      "                                                        ##### ##### ##### #####          \n",
      "                                                                                         \n",
      "                                                                                         \n",
      "                                                     #                                   \n",
      "                                                     # #                                 \n",
      "                                             #     # # #                                 \n",
      "                                             # #   # # #                                 \n",
      "                                             # # # # # #                                 \n",
      "                                             # # # # # #       #                         \n",
      "                                             # # # # # #     # #                         \n",
      "                                             # # # # # #     # #                         \n",
      "                                             # # # # # # # # # #                         \n",
      "                                             # # # # # # # # # #                         \n",
      "                                             ###################                         \n",
      "                                                                                         \n",
      "                                                                                         \n",
      "                                                                              # #        \n",
      "                                                                              # #        \n",
      "                                                                              # #        \n",
      "                                                                              # #        \n",
      "                                                                       ######## #########\n",
      "                                                                       #                #\n",
      "                                                                       #                #\n",
      "                                                                       #                #\n",
      "                                                                       ##################\n",
      "                                                                                         \n",
      "                                                                                         \n",
      "                                                                    #####                \n",
      "                                                                                         \n",
      "                                                                 ##### #####             \n",
      "                                                                                         \n",
      "                                                              ##### ##### #####          \n",
      "                                                                                         \n",
      "                                                                                         \n",
      "                                                            #   #                        \n",
      "                                                            #   #                        \n",
      "                                                    #########   ##                       \n",
      "                                                    #            #                       \n",
      "                                                    #            #                       \n",
      "                                                    #            #                       \n",
      "                                                    ##############                       \n"
     ]
    }
   ],
   "source": [
    "print(\"\\n\".join([\"\".join(y) for y in cave]))"
   ]
  },
  {
   "cell_type": "code",
   "execution_count": 66,
   "id": "32008b06",
   "metadata": {},
   "outputs": [],
   "source": [
    "i = 0\n",
    "try:\n",
    "    while True:\n",
    "        s = [0, 500 - xmin] # (y, x) yay\n",
    "        while True:\n",
    "            if cave[s[0] + 1][s[1]] == ' ':\n",
    "                s[0] += 1\n",
    "            elif cave[s[0] + 1][s[1] - 1] == ' ':\n",
    "                s = [s[0] + 1, s[1] - 1]\n",
    "            elif cave[s[0] + 1][s[1] + 1] == ' ':\n",
    "                s = [s[0] + 1, s[1] + 1]\n",
    "            else:\n",
    "                cave[s[0]][s[1]] = 'o'\n",
    "                i += 1\n",
    "                break\n",
    "except IndexError:\n",
    "    pass"
   ]
  },
  {
   "cell_type": "code",
   "execution_count": 67,
   "id": "30da6478",
   "metadata": {},
   "outputs": [
    {
     "name": "stdout",
     "output_type": "stream",
     "text": [
      "1513\n"
     ]
    }
   ],
   "source": [
    "print(i)"
   ]
  },
  {
   "cell_type": "code",
   "execution_count": 68,
   "id": "267ad222",
   "metadata": {
    "scrolled": false
   },
   "outputs": [
    {
     "name": "stdout",
     "output_type": "stream",
     "text": [
      "    +                                                                                    \n",
      "                                                                                         \n",
      "                                                                                         \n",
      "                                                                                         \n",
      "                                                                                         \n",
      "                                                                                         \n",
      "                                                                                         \n",
      "                                                                                         \n",
      "                                                                                         \n",
      "                                                                                         \n",
      "                                                                                         \n",
      "                                                                                         \n",
      "                                                                                         \n",
      "                                                                                         \n",
      "   oo                                                                                    \n",
      "  oooo                                                                                   \n",
      "#o#ooo#                                                                                  \n",
      "#o#o#o#                                                                                  \n",
      "#o#o#o#                                                                                  \n",
      "#o#o#o#o                                                                                 \n",
      "#o#o#o#oo                                                                                \n",
      "#o#o#o#ooo                                                                               \n",
      "#o#o#o#oooo                                                                              \n",
      "#######ooooo                                                                             \n",
      "      ooooooo                                                                            \n",
      "     ooooooooo                                                                           \n",
      "    ooooooooooo                                                                          \n",
      "   #ooo#oooooooo                                                                         \n",
      "   #ooo#o#ooooooo                                                                        \n",
      "   #ooo#o#oooooooo                                                                       \n",
      " # #ooo#o#ooooooooo                                                                      \n",
      " # #ooo#o#oooooooooo                                                                     \n",
      " # #ooo#o#ooooooooooo                                                                    \n",
      " # #o#o#o#oooooooooooo                                                                   \n",
      " # #o#o#o#ooooooooooooo                                                                  \n",
      " # #o#o#o#o#oooooooooooo                                                                 \n",
      " ###########ooooooooooooo                                                                \n",
      "           ooooooooooooooo                                                               \n",
      "          ooooooooooooooooo                                                              \n",
      "         o#ooo#ooooooooooooo                                                             \n",
      "        oo#ooo#oooooooooooooo                                                            \n",
      "       ooo#ooo#ooooooooooooooo                                                           \n",
      "      oooo#ooo#oooooooooooooooo                                                          \n",
      "   ########ooo#####ooooooooooooo                                                         \n",
      "   #      ooooo   #oooooooooooooo                                                        \n",
      "   #     ooooooo  #ooooooooooooooo                                                       \n",
      "   #    ooooooooo #oooooooooooooooo                                                      \n",
      "   #   ooooooooooo#ooooooooooooooooo                                                     \n",
      "   #  oooooooooooo#oooooooooooooooooo                                                    \n",
      "   # ooooooooooooo#ooooooooooooooooooo                                                   \n",
      "   #oooooooooooooo#oooooooooooooooooooo                                                  \n",
      "   ################ooooooooooooooooooooo                                                 \n",
      "                  ooooooooooooooooooooooo                                                \n",
      "                 ooooooooooooooooooooooooo                                               \n",
      "                ######ooooooooooooooooooooo                                              \n",
      "                     ooooooooooooooooooooooo                                             \n",
      "             ###### ######ooooooooooooooooooo                                            \n",
      "                         ooooooooooooooooooooo                                           \n",
      "          ###### ###### ######ooooooooooooooooo                                          \n",
      "                             ooooooooooooooooooo                                         \n",
      "       ###### ###### ###### ######ooooooooooooooo                                        \n",
      "                                 ooooooooooooooooo                                       \n",
      "    ###### ###### ###### ###### ######ooooooooooooo                                      \n",
      "                                     ooooooooooooooo                                     \n",
      "                                    ooooooooooooooooo                                    \n",
      "                                   ######ooooooooooooo                                   \n",
      "                                        ooooooooooooooo                                  \n",
      "                                ###### ######ooooooooooo                                 \n",
      "                                            ooooooooooooo                                \n",
      "                             ###### ###### ######ooooooooo                               \n",
      "                                                ooooooooooo                              \n",
      "                                               ooooooooooooo                             \n",
      "                                              o#oooooooooo#oo                            \n",
      "                                             oo############ooo                           \n",
      "                                            oooo          ooooo                          \n",
      "                                        #  oooooo  #     ooooooo                         \n",
      "                                        ############    ooooooooo                        \n",
      "                                                       ooooooooooo                       \n",
      "                                                      ooooooooooooo                      \n",
      "                                                  #  ooooooooooooooo                     \n",
      "                                                  #############oooooo                    \n",
      "                                                              oooooooo                   \n",
      "                                                             oooooooooo                  \n",
      "                                                            o#ooo#oooooo                 \n",
      "                                                           oo#ooo#ooooooo                \n",
      "                                                      ########ooo#########               \n",
      "                                                      #      ooooo       #               \n",
      "                                                      #     ooooooo      #               \n",
      "                                                      #    ooooooooo     #               \n",
      "                                                      ####################               \n",
      "                                                                                         \n",
      "                                                                                         \n",
      "                                                                                         \n",
      "                                                                          o              \n",
      "                                                                         oo#             \n",
      "                                                                        ####             \n",
      "                                                                                         \n",
      "                                                                                         \n",
      "                                                                                         \n",
      "                                                                      oo                 \n",
      "                                                                     ooo#                \n",
      "                                                                    oo#o#                \n",
      "                                                                   ooo#o#                \n",
      "                                                                  oooo#o#                \n",
      "                                                                 ooooo#o#                \n",
      "                                                                oooooo#o#                \n",
      "                                                               ooooooo#o#                \n",
      "                                                              oooooo#o#o#                \n",
      "                                                             ooooooo#####                \n",
      "                                                            ooooooooo                    \n",
      "                                                           ooooooooooo                   \n",
      "                                                          ooooooo#####o                  \n",
      "                                                         ooooooooo   ooooo               \n",
      "                                                        oooooo##### #####oo              \n",
      "                                                       oooooooo         oooo             \n",
      "                                                      ooooo##### ##### #####o            \n",
      "                                                     ooooooo               ooo           \n",
      "                                                    oooo##### ##### ##### #####          \n",
      "                                                   oooooo                                \n",
      "                                                  oooooooo                               \n",
      "                                                 oooo#ooooo                              \n",
      "                                                ooooo#o#oooo                             \n",
      "                                             # oooo#o#o#ooooo                            \n",
      "                                             #o#ooo#o#o#oooooo                           \n",
      "                                             #o#o#o#o#o#ooooooo                          \n",
      "                                             #o#o#o#o#o#ooooooo#                         \n",
      "                                             #o#o#o#o#o#ooooo#o#                         \n",
      "                                             #o#o#o#o#o#ooooo#o#                         \n",
      "                                             #o#o#o#o#o#o#o#o#o#              oo         \n",
      "                                             #o#o#o#o#o#o#o#o#o#             oooo        \n",
      "                                             ###################            oooooo       \n",
      "                                                                           oooooooo      \n",
      "                                                                          oooooooooo     \n",
      "                                                                         ooooo#o#oooo    \n",
      "                                                                        oooooo#o#ooooo   \n",
      "                                                                       ooooooo#o#oooooo  \n",
      "                                                                      oooooooo#o#ooooooo \n",
      "                                                                     oo########o#########\n",
      "                                                                    ooo#      ooo       #\n",
      "                                                                   oooo#     ooooo      #\n",
      "                                                                  ooooo#    ooooooo     #\n",
      "                                                                 oooooo##################\n",
      "                                                                oooooooo                 \n",
      "                                                               oooooooooo                \n",
      "                                                              oooooo#####o               \n",
      "                                                             oooooooo   ooo              \n",
      "                                                            ooooo##### #####             \n",
      "                                                           ooooooo                       \n",
      "                                                          oooo##### ##### #####          \n",
      "                                                         oooooo                          \n",
      "                                                        oooooooo                         \n",
      "                                                       ooooo#ooo#                        \n",
      "                                                      oooooo#ooo#                        \n",
      "                                                    #########ooo##                       \n",
      "                                                    #       ooooo#                       \n",
      "                                                    #      oooooo#                       \n",
      "                                                    #     ooooooo#                       \n",
      "                                                    ##############                       \n"
     ]
    }
   ],
   "source": [
    "print(\"\\n\".join([\"\".join(y) for y in cave]))"
   ]
  },
  {
   "cell_type": "code",
   "execution_count": 69,
   "id": "3aafe2e4",
   "metadata": {},
   "outputs": [],
   "source": [
    "cave = [[' ' for xi in range(ymax*2 + 4 + 1)] for yi in range(ymax+2+1)]\n",
    "for wall in day14Data:\n",
    "    for (wallSX, wallSY), (wallEX, wallEY) in zip(wall, wall[1:]):\n",
    "        xdir = (wallEX-wallSX)//abs(wallEX-wallSX) if wallEX-wallSX else 1\n",
    "        ydir = (wallEY-wallSY)//abs(wallEY-wallSY) if wallEY-wallSY else 1\n",
    "        for xi, yi in itertools.product(range(wallSX + ymax - 500 + 2 , wallEX + ymax + xdir - 500 + 2, xdir), \n",
    "                                        range(wallSY, wallEY + ydir, ydir)):\n",
    "            cave[yi][xi] = '#'\n",
    "for xi in range(ymax*2 + 4 + 1):\n",
    "    cave[ymax + 2][xi] = '#'\n",
    "cave[0][(ymax + 1) + 1] = '+'\n"
   ]
  },
  {
   "cell_type": "code",
   "execution_count": 70,
   "id": "899caf6d",
   "metadata": {},
   "outputs": [
    {
     "data": {
      "text/plain": [
       "(496, 584, 16, 157)"
      ]
     },
     "execution_count": 70,
     "metadata": {},
     "output_type": "execute_result"
    }
   ],
   "source": [
    "xmin, xmax,  ymin, ymax"
   ]
  },
  {
   "cell_type": "code",
   "execution_count": 71,
   "id": "60b0328b",
   "metadata": {},
   "outputs": [],
   "source": [
    "i = 0\n",
    "try:\n",
    "    while True:\n",
    "        s = [0, (ymax + 1) + 1] # (y, x) yay\n",
    "        while True:\n",
    "            if cave[s[0] + 1][s[1]] == ' ':\n",
    "                s[0] += 1\n",
    "            elif cave[s[0] + 1][s[1] - 1] == ' ':\n",
    "                s = [s[0] + 1, s[1] - 1]\n",
    "            elif cave[s[0] + 1][s[1] + 1] == ' ':\n",
    "                s = [s[0] + 1, s[1] + 1]\n",
    "            else:\n",
    "                i += 1\n",
    "                if cave[s[0]][s[1]] == '+':\n",
    "                    raise IndexError\n",
    "                cave[s[0]][s[1]] = 'o'\n",
    "                break\n",
    "except IndexError:\n",
    "    pass"
   ]
  },
  {
   "cell_type": "code",
   "execution_count": 72,
   "id": "d6acdfee",
   "metadata": {},
   "outputs": [
    {
     "data": {
      "text/plain": [
       "22646"
      ]
     },
     "execution_count": 72,
     "metadata": {},
     "output_type": "execute_result"
    }
   ],
   "source": [
    "i"
   ]
  },
  {
   "cell_type": "code",
   "execution_count": 73,
   "id": "3640e441",
   "metadata": {
    "scrolled": false
   },
   "outputs": [
    {
     "data": {
      "text/html": [
       "<style>pre { white-space: pre !important; }</style>"
      ],
      "text/plain": [
       "<IPython.core.display.HTML object>"
      ]
     },
     "metadata": {},
     "output_type": "display_data"
    },
    {
     "name": "stdout",
     "output_type": "stream",
     "text": [
      "                                                                                                                                                               +                                                                                                                                                               \n",
      "                                                                                                                                                              ooo                                                                                                                                                              \n",
      "                                                                                                                                                             ooooo                                                                                                                                                             \n",
      "                                                                                                                                                            ooooooo                                                                                                                                                            \n",
      "                                                                                                                                                           ooooooooo                                                                                                                                                           \n",
      "                                                                                                                                                          ooooooooooo                                                                                                                                                          \n",
      "                                                                                                                                                         ooooooooooooo                                                                                                                                                         \n",
      "                                                                                                                                                        ooooooooooooooo                                                                                                                                                        \n",
      "                                                                                                                                                       ooooooooooooooooo                                                                                                                                                       \n",
      "                                                                                                                                                      ooooooooooooooooooo                                                                                                                                                      \n",
      "                                                                                                                                                     ooooooooooooooooooooo                                                                                                                                                     \n",
      "                                                                                                                                                    ooooooooooooooooooooooo                                                                                                                                                    \n",
      "                                                                                                                                                   ooooooooooooooooooooooooo                                                                                                                                                   \n",
      "                                                                                                                                                  ooooooooooooooooooooooooooo                                                                                                                                                  \n",
      "                                                                                                                                                 ooooooooooooooooooooooooooooo                                                                                                                                                 \n",
      "                                                                                                                                                ooooooooooooooooooooooooooooooo                                                                                                                                                \n",
      "                                                                                                                                               oooooooooooo#o#ooo#oooooooooooooo                                                                                                                                               \n",
      "                                                                                                                                              ooooooooooooo#o#o#o#ooooooooooooooo                                                                                                                                              \n",
      "                                                                                                                                             oooooooooooooo#o#o#o#oooooooooooooooo                                                                                                                                             \n",
      "                                                                                                                                            ooooooooooooooo#o#o#o#ooooooooooooooooo                                                                                                                                            \n",
      "                                                                                                                                           oooooooooooooooo#o#o#o#oooooooooooooooooo                                                                                                                                           \n",
      "                                                                                                                                          ooooooooooooooooo#o#o#o#ooooooooooooooooooo                                                                                                                                          \n",
      "                                                                                                                                         oooooooooooooooooo#o#o#o#oooooooooooooooooooo                                                                                                                                         \n",
      "                                                                                                                                        ooooooooooooooooooo#######ooooooooooooooooooooo                                                                                                                                        \n",
      "                                                                                                                                       ooooooooooooooooooooo     ooooooooooooooooooooooo                                                                                                                                       \n",
      "                                                                                                                                      ooooooooooooooooooooooo   ooooooooooooooooooooooooo                                                                                                                                      \n",
      "                                                                                                                                     ooooooooooooooooooooooooo ooooooooooooooooooooooooooo                                                                                                                                     \n",
      "                                                                                                                                    oooooooooooooooooooooooooo#ooo#oooooooooooooooooooooooo                                                                                                                                    \n",
      "                                                                                                                                   ooooooooooooooooooooooooooo#ooo#o#ooooooooooooooooooooooo                                                                                                                                   \n",
      "                                                                                                                                  oooooooooooooooooooooooooooo#ooo#o#oooooooooooooooooooooooo                                                                                                                                  \n",
      "                                                                                                                                 ooooooooooooooooooooooooooo#o#ooo#o#ooooooooooooooooooooooooo                                                                                                                                 \n",
      "                                                                                                                                oooooooooooooooooooooooooooo#o#ooo#o#oooooooooooooooooooooooooo                                                                                                                                \n",
      "                                                                                                                               ooooooooooooooooooooooooooooo#o#ooo#o#ooooooooooooooooooooooooooo                                                                                                                               \n",
      "                                                                                                                              oooooooooooooooooooooooooooooo#o#o#o#o#oooooooooooooooooooooooooooo                                                                                                                              \n",
      "                                                                                                                             ooooooooooooooooooooooooooooooo#o#o#o#o#ooooooooooooooooooooooooooooo                                                                                                                             \n",
      "                                                                                                                            oooooooooooooooooooooooooooooooo#o#o#o#o#o#oooooooooooooooooooooooooooo                                                                                                                            \n",
      "                                                                                                                           ooooooooooooooooooooooooooooooooo###########ooooooooooooooooooooooooooooo                                                                                                                           \n",
      "                                                                                                                          ooooooooooooooooooooooooooooooooooo         ooooooooooooooooooooooooooooooo                                                                                                                          \n",
      "                                                                                                                         ooooooooooooooooooooooooooooooooooooo       ooooooooooooooooooooooooooooooooo                                                                                                                         \n",
      "                                                                                                                        ooooooooooooooooooooooooooooooooooooooo     o#ooo#ooooooooooooooooooooooooooooo                                                                                                                        \n",
      "                                                                                                                       ooooooooooooooooooooooooooooooooooooooooo   oo#ooo#oooooooooooooooooooooooooooooo                                                                                                                       \n",
      "                                                                                                                      ooooooooooooooooooooooooooooooooooooooooooo ooo#ooo#ooooooooooooooooooooooooooooooo                                                                                                                      \n",
      "                                                                                                                     oooooooooooooooooooooooooooooooooooooooooooooooo#ooo#oooooooooooooooooooooooooooooooo                                                                                                                     \n",
      "                                                                                                                    oooooooooooooooooooooooooooooooooooooooooo########ooo#####ooooooooooooooooooooooooooooo                                                                                                                    \n",
      "                                                                                                                   ooooooooooooooooooooooooooooooooooooooooooo#      ooooo   #oooooooooooooooooooooooooooooo                                                                                                                   \n",
      "                                                                                                                  oooooooooooooooooooooooooooooooooooooooooooo#     ooooooo  #ooooooooooooooooooooooooooooooo                                                                                                                  \n",
      "                                                                                                                 ooooooooooooooooooooooooooooooooooooooooooooo#    ooooooooo #oooooooooooooooooooooooooooooooo                                                                                                                 \n",
      "                                                                                                                oooooooooooooooooooooooooooooooooooooooooooooo#   ooooooooooo#ooooooooooooooooooooooooooooooooo                                                                                                                \n",
      "                                                                                                               ooooooooooooooooooooooooooooooooooooooooooooooo#  oooooooooooo#oooooooooooooooooooooooooooooooooo                                                                                                               \n",
      "                                                                                                              oooooooooooooooooooooooooooooooooooooooooooooooo# ooooooooooooo#ooooooooooooooooooooooooooooooooooo                                                                                                              \n",
      "                                                                                                             ooooooooooooooooooooooooooooooooooooooooooooooooo#oooooooooooooo#oooooooooooooooooooooooooooooooooooo                                                                                                             \n",
      "                                                                                                            oooooooooooooooooooooooooooooooooooooooooooooooooo################ooooooooooooooooooooooooooooooooooooo                                                                                                            \n",
      "                                                                                                           oooooooooooooooooooooooooooooooooooooooooooooooooooo              ooooooooooooooooooooooooooooooooooooooo                                                                                                           \n",
      "                                                                                                          oooooooooooooooooooooooooooooooooooooooooooooooooooooo            ooooooooooooooooooooooooooooooooooooooooo                                                                                                          \n",
      "                                                                                                         oooooooooooooooooooooooooooooooooooooooooooooooooooooooo          ######ooooooooooooooooooooooooooooooooooooo                                                                                                         \n",
      "                                                                                                        oooooooooooooooooooooooooooooooooooooooooooooooooooooooooo              ooooooooooooooooooooooooooooooooooooooo                                                                                                        \n",
      "                                                                                                       oooooooooooooooooooooooooooooooooooooooooooooooooooooooooooo     ###### ######ooooooooooooooooooooooooooooooooooo                                                                                                       \n",
      "                                                                                                      oooooooooooooooooooooooooooooooooooooooooooooooooooooooooooooo                ooooooooooooooooooooooooooooooooooooo                                                                                                      \n",
      "                                                                                                     oooooooooooooooooooooooooooooooooooooooooooooooooooooooooooooooo###### ###### ######ooooooooooooooooooooooooooooooooo                                                                                                     \n",
      "                                                                                                    oooooooooooooooooooooooooooooooooooooooooooooooooooooooooooooooooo                  ooooooooooooooooooooooooooooooooooo                                                                                                    \n",
      "                                                                                                   ooooooooooooooooooooooooooooooooooooooooooooooooooooooooooooooo###### ###### ###### ######ooooooooooooooooooooooooooooooo                                                                                                   \n",
      "                                                                                                  ooooooooooooooooooooooooooooooooooooooooooooooooooooooooooooooooo                         ooooooooooooooooooooooooooooooooo                                                                                                  \n",
      "                                                                                                 oooooooooooooooooooooooooooooooooooooooooooooooooooooooooooooo###### ###### ###### ###### ######ooooooooooooooooooooooooooooo                                                                                                 \n",
      "                                                                                                oooooooooooooooooooooooooooooooooooooooooooooooooooooooooooooooo                                ooooooooooooooooooooooooooooooo                                                                                                \n",
      "                                                                                               oooooooooooooooooooooooooooooooooooooooooooooooooooooooooooooooooo                              ooooooooooooooooooooooooooooooooo                                                                                               \n",
      "                                                                                              oooooooooooooooooooooooooooooooooooooooooooooooooooooooooooooooooooo                            ######ooooooooooooooooooooooooooooo                                                                                              \n",
      "                                                                                             oooooooooooooooooooooooooooooooooooooooooooooooooooooooooooooooooooooo                                ooooooooooooooooooooooooooooooo                                                                                             \n",
      "                                                                                            oooooooooooooooooooooooooooooooooooooooooooooooooooooooooooooooooooooooo                       ###### ######ooooooooooooooooooooooooooo                                                                                            \n",
      "                                                                                           oooooooooooooooooooooooooooooooooooooooooooooooooooooooooooooooooooooooooo                                  ooooooooooooooooooooooooooooo                                                                                           \n",
      "                                                                                          oooooooooooooooooooooooooooooooooooooooooooooooooooooooooooooooooooooooooooo                  ###### ###### ######ooooooooooooooooooooooooo                                                                                          \n",
      "                                                                                         oooooooooooooooooooooooooooooooooooooooooooooooooooooooooooooooooooooooooooooo                                    ooooooooooooooooooooooooooo                                                                                         \n",
      "                                                                                        oooooooooooooooooooooooooooooooooooooooooooooooooooooooooooooooooooooooooooooooo                                  ooooooooooooooooooooooooooooo                                                                                        \n",
      "                                                                                       oooooooooooooooooooooooooooooooooooooooooooooooooooooooooooooooooooooooooooooooooo                                o#oooooooooo#oooooooooooooooooo                                                                                       \n",
      "                                                                                      oooooooooooooooooooooooooooooooooooooooooooooooooooooooooooooooooooooooooooooooooooo                              oo############ooooooooooooooooooo                                                                                      \n",
      "                                                                                     oooooooooooooooooooooooooooooooooooooooooooooooooooooooooooooooooooooooooooooooooooooo                            oooo          ooooooooooooooooooooo                                                                                     \n",
      "                                                                                    oooooooooooooooooooooooooooooooooooooooooooooooooooooooooooooooooooooooooooooooooooooooo                       #  oooooo  #     ooooooooooooooooooooooo                                                                                    \n",
      "                                                                                   oooooooooooooooooooooooooooooooooooooooooooooooooooooooooooooooooooooooooooooooooooooooooo                      ############    ooooooooooooooooooooooooo                                                                                   \n",
      "                                                                                  oooooooooooooooooooooooooooooooooooooooooooooooooooooooooooooooooooooooooooooooooooooooooooo                                    ooooooooooooooooooooooooooo                                                                                  \n",
      "                                                                                 oooooooooooooooooooooooooooooooooooooooooooooooooooooooooooooooooooooooooooooooooooooooooooooo                                  ooooooooooooooooooooooooooooo                                                                                 \n",
      "                                                                                oooooooooooooooooooooooooooooooooooooooooooooooooooooooooooooooooooooooooooooooooooooooooooooooo                             #  ooooooooooooooooooooooooooooooo                                                                                \n",
      "                                                                               oooooooooooooooooooooooooooooooooooooooooooooooooooooooooooooooooooooooooooooooooooooooooooooooooo                            #############oooooooooooooooooooooo                                                                               \n",
      "                                                                              oooooooooooooooooooooooooooooooooooooooooooooooooooooooooooooooooooooooooooooooooooooooooooooooooooo                                       oooooooooooooooooooooooo                                                                              \n",
      "                                                                             oooooooooooooooooooooooooooooooooooooooooooooooooooooooooooooooooooooooooooooooooooooooooooooooooooooo                                     oooooooooooooooooooooooooo                                                                             \n",
      "                                                                            oooooooooooooooooooooooooooooooooooooooooooooooooooooooooooooooooooooooooooooooooooooooooooooooooooooooo                                   o#ooo#oooooooooooooooooooooo                                                                            \n",
      "                                                                           oooooooooooooooooooooooooooooooooooooooooooooooooooooooooooooooooooooooooooooooooooooooooooooooooooooooooo                                 oo#ooo#ooooooooooooooooooooooo                                                                           \n",
      "                                                                          oooooooooooooooooooooooooooooooooooooooooooooooooooooooooooooooooooooooooooooooooooooooooooooooooooooooooooo                           ########ooo#########oooooooooooooooo                                                                          \n",
      "                                                                         oooooooooooooooooooooooooooooooooooooooooooooooooooooooooooooooooooooooooooooooooooooooooooooooooooooooooooooo                          #      ooooo       #ooooooooooooooooo                                                                         \n",
      "                                                                        oooooooooooooooooooooooooooooooooooooooooooooooooooooooooooooooooooooooooooooooooooooooooooooooooooooooooooooooo                         #     ooooooo      #oooooooooooooooooo                                                                        \n",
      "                                                                       oooooooooooooooooooooooooooooooooooooooooooooooooooooooooooooooooooooooooooooooooooooooooooooooooooooooooooooooooo                        #    ooooooooo     #ooooooooooooooooooo                                                                       \n",
      "                                                                      oooooooooooooooooooooooooooooooooooooooooooooooooooooooooooooooooooooooooooooooooooooooooooooooooooooooooooooooooooo                       ####################oooooooooooooooooooo                                                                      \n",
      "                                                                     oooooooooooooooooooooooooooooooooooooooooooooooooooooooooooooooooooooooooooooooooooooooooooooooooooooooooooooooooooooo                                         oooooooooooooooooooooo                                                                     \n",
      "                                                                    oooooooooooooooooooooooooooooooooooooooooooooooooooooooooooooooooooooooooooooooooooooooooooooooooooooooooooooooooooooooo                                       oooooooooooooooooooooooo                                                                    \n",
      "                                                                   oooooooooooooooooooooooooooooooooooooooooooooooooooooooooooooooooooooooooooooooooooooooooooooooooooooooooooooooooooooooooo                                     oooooooooooooooooooooooooo                                                                   \n",
      "                                                                  oooooooooooooooooooooooooooooooooooooooooooooooooooooooooooooooooooooooooooooooooooooooooooooooooooooooooooooooooooooooooooo                                   oooooooooooooooooooooooooooo                                                                  \n",
      "                                                                 oooooooooooooooooooooooooooooooooooooooooooooooooooooooooooooooooooooooooooooooooooooooooooooooooooooooooooooooooooooooooooooo                                 oooooo#ooooooooooooooooooooooo                                                                 \n",
      "                                                                oooooooooooooooooooooooooooooooooooooooooooooooooooooooooooooooooooooooooooooooooooooooooooooooooooooooooooooooooooooooooooooooo                               oooo####oooooooooooooooooooooooo                                                                \n",
      "                                                               oooooooooooooooooooooooooooooooooooooooooooooooooooooooooooooooooooooooooooooooooooooooooooooooooooooooooooooooooooooooooooooooooo                             oooooo  oooooooooooooooooooooooooo                                                               \n",
      "                                                              oooooooooooooooooooooooooooooooooooooooooooooooooooooooooooooooooooooooooooooooooooooooooooooooooooooooooooooooooooooooooooooooooooo                           oooooooooooooooooooooooooooooooooooo                                                              \n",
      "                                                             oooooooooooooooooooooooooooooooooooooooooooooooooooooooooooooooooooooooooooooooooooooooooooooooooooooooooooooooooooooooooooooooooooooo                         oooooooooooooooooooooooooooooooooooooo                                                             \n",
      "                                                            oooooooooooooooooooooooooooooooooooooooooooooooooooooooooooooooooooooooooooooooooooooooooooooooooooooooooooooooooooooooooooooooooooooooo                       oooooooooooooooooooooooooooooooooooooooo                                                            \n",
      "                                                           oooooooooooooooooooooooooooooooooooooooooooooooooooooooooooooooooooooooooooooooooooooooooooooooooooooooooooooooooooooooooooooooooooooooooo                     ooooooooo#oooooooooooooooooooooooooooooooo                                                           \n",
      "                                                          oooooooooooooooooooooooooooooooooooooooooooooooooooooooooooooooooooooooooooooooooooooooooooooooooooooooooooooooooooooooooooooooooooooooooooo                   oooooooo#o#ooooooooooooooooooooooooooooooooo                                                          \n",
      "                                                         oooooooooooooooooooooooooooooooooooooooooooooooooooooooooooooooooooooooooooooooooooooooooooooooooooooooooooooooooooooooooooooooooooooooooooooo                 ooooooooo#o#oooooooooooooooooooooooooooooooooo                                                         \n",
      "                                                        oooooooooooooooooooooooooooooooooooooooooooooooooooooooooooooooooooooooooooooooooooooooooooooooooooooooooooooooooooooooooooooooooooooooooooooooo               oooooooooo#o#ooooooooooooooooooooooooooooooooooo                                                        \n",
      "                                                       oooooooooooooooooooooooooooooooooooooooooooooooooooooooooooooooooooooooooooooooooooooooooooooooooooooooooooooooooooooooooooooooooooooooooooooooooo             ooooooooooo#o#oooooooooooooooooooooooooooooooooooo                                                       \n",
      "                                                      oooooooooooooooooooooooooooooooooooooooooooooooooooooooooooooooooooooooooooooooooooooooooooooooooooooooooooooooooooooooooooooooooooooooooooooooooooo           oooooooooooo#o#ooooooooooooooooooooooooooooooooooooo                                                      \n",
      "                                                     oooooooooooooooooooooooooooooooooooooooooooooooooooooooooooooooooooooooooooooooooooooooooooooooooooooooooooooooooooooooooooooooooooooooooooooooooooooo         ooooooooooooo#o#oooooooooooooooooooooooooooooooooooooo                                                     \n",
      "                                                    oooooooooooooooooooooooooooooooooooooooooooooooooooooooooooooooooooooooooooooooooooooooooooooooooooooooooooooooooooooooooooooooooooooooooooooooooooooooo       oooooooooooo#o#o#ooooooooooooooooooooooooooooooooooooooo                                                    \n",
      "                                                   oooooooooooooooooooooooooooooooooooooooooooooooooooooooooooooooooooooooooooooooooooooooooooooooooooooooooooooooooooooooooooooooooooooooooooooooooooooooooo     ooooooooooooo#####oooooooooooooooooooooooooooooooooooooooo                                                   \n",
      "                                                  oooooooooooooooooooooooooooooooooooooooooooooooooooooooooooooooooooooooooooooooooooooooooooooooooooooooooooooooooooooooooooooooooooooooooooooooooooooooooooo   ooooooooooooooo   oooooooooooooooooooooooooooooooooooooooooo                                                  \n",
      "                                                 oooooooooooooooooooooooooooooooooooooooooooooooooooooooooooooooooooooooooooooooooooooooooooooooooooooooooooooooooooooooooooooooooooooooooooooooooooooooooooooo ooooooooooooooooo oooooooooooooooooooooooooooooooooooooooooooo                                                 \n",
      "                                                oooooooooooooooooooooooooooooooooooooooooooooooooooooooooooooooooooooooooooooooooooooooooooooooooooooooooooooooooooooooooooooooooooooooooooooooooooooooooooooooooooooooooooo#####oooooooooooooooooooooooooooooooooooooooooooooo                                                \n",
      "                                               oooooooooooooooooooooooooooooooooooooooooooooooooooooooooooooooooooooooooooooooooooooooooooooooooooooooooooooooooooooooooooooooooooooooooooooooooooooooooooooooooooooooooooooo   oooooooooooooooooooooooooooooooooooooooooooooooo                                               \n",
      "                                              ooooooooooooooooooooooooooooooooooooooooooooooooooooooooooooooooooooooooooooooooooooooooooooooooooooooooooooooooooooooooooooooooooooooooooooooooooooooooooooooooooooooooooo##### #####ooooooooooooooooooooooooooooooooooooooooooooo                                              \n",
      "                                             ooooooooooooooooooooooooooooooooooooooooooooooooooooooooooooooooooooooooooooooooooooooooooooooooooooooooooooooooooooooooooooooooooooooooooooooooooooooooooooooooooooooooooooo         ooooooooooooooooooooooooooooooooooooooooooooooo                                             \n",
      "                                            oooooooooooooooooooooooooooooooooooooooooooooooooooooooooooooooooooooooooooooooooooooooooooooooooooooooooooooooooooooooooooooooooooooooooooooooooooooooooooooooooooooooooo##### ##### #####oooooooooooooooooooooooooooooooooooooooooooo                                            \n",
      "                                           oooooooooooooooooooooooooooooooooooooooooooooooooooooooooooooooooooooooooooooooooooooooooooooooooooooooooooooooooooooooooooooooooooooooooooooooooooooooooooooooooooooooooooo               oooooooooooooooooooooooooooooooooooooooooooooo                                           \n",
      "                                          ooooooooooooooooooooooooooooooooooooooooooooooooooooooooooooooooooooooooooooooooooooooooooooooooooooooooooooooooooooooooooooooooooooooooooooooooooooooooooooooooooooooooo##### ##### ##### #####ooooooooooooooooooooooooooooooooooooooooooo                                          \n",
      "                                         ooooooooooooooooooooooooooooooooooooooooooooooooooooooooooooooooooooooooooooooooooooooooooooooooooooooooooooooooooooooooooooooooooooooooooooooooooooooooooooooooooooooooooo                     ooooooooooooooooooooooooooooooooooooooooooooo                                         \n",
      "                                        ooooooooooooooooooooooooooooooooooooooooooooooooooooooooooooooooooooooooooooooooooooooooooooooooooooooooooooooooooooooooooooooooooooooooooooooooooooooooooooooooooooooooooooo                   ooooooooooooooooooooooooooooooooooooooooooooooo                                        \n",
      "                                       ooooooooooooooooooooooooooooooooooooooooooooooooooooooooooooooooooooooooooooooooooooooooooooooooooooooooooooooooooooooooooooooooooooooooooooooooooooooooooooooooooooooooo#ooooo                 ooooooooooooooooooooooooooooooooooooooooooooooooo                                       \n",
      "                                      oooooooooooooooooooooooooooooooooooooooooooooooooooooooooooooooooooooooooooooooooooooooooooooooooooooooooooooooooooooooooooooooooooooooooooooooooooooooooooooooooooooooooo#o#oooo               ooooooooooooooooooooooooooooooooooooooooooooooooooo                                      \n",
      "                                     ooooooooooooooooooooooooooooooooooooooooooooooooooooooooooooooooooooooooooooooooooooooooooooooooooooooooooooooooooooooooooooooooooooooooooooooooooooooooooooooooooo#ooooo#o#o#ooooo             ooooooooooooooooooooooooooooooooooooooooooooooooooooo                                     \n",
      "                                    oooooooooooooooooooooooooooooooooooooooooooooooooooooooooooooooooooooooooooooooooooooooooooooooooooooooooooooooooooooooooooooooooooooooooooooooooooooooooooooooooooo#o#ooo#o#o#oooooo           ooooooooooooooooooooooooooooooooooooooooooooooooooooooo                                    \n",
      "                                   ooooooooooooooooooooooooooooooooooooooooooooooooooooooooooooooooooooooooooooooooooooooooooooooooooooooooooooooooooooooooooooooooooooooooooooooooooooooooooooooooooooo#o#o#o#o#o#ooooooo         ooooooooooooooooooooooooooooooooooooooooooooooooooooooooo                                   \n",
      "                                  oooooooooooooooooooooooooooooooooooooooooooooooooooooooooooooooooooooooooooooooooooooooooooooooooooooooooooooooooooooooooooooooooooooooooooooooooooooooooooooooooooooo#o#o#o#o#o#ooooooo#       ooooooooooooooooooooooooooooooooooooooooooooooooooooooooooo                                  \n",
      "                                 ooooooooooooooooooooooooooooooooooooooooooooooooooooooooooooooooooooooooooooooooooooooooooooooooooooooooooooooooooooooooooooooooooooooooooooooooooooooooooooooooooooooo#o#o#o#o#o#ooooo#o#      ooooooooooooooooooooooooooooooooooooooooooooooooooooooooooooo                                 \n",
      "                                oooooooooooooooooooooooooooooooooooooooooooooooooooooooooooooooooooooooooooooooooooooooooooooooooooooooooooooooooooooooooooooooooooooooooooooooooooooooooooooooooooooooo#o#o#o#o#o#ooooo#o#     ooooooooooooooooooooooooooooooooooooooooooooooooooooooooooooooo                                \n",
      "                               ooooooooooooooooooooooooooooooooooooooooooooooooooooooooooooooooooooooooooooooooooooooooooooooooooooooooooooooooooooooooooooooooooooooooooooooooooooooooooooooooooooooooo#o#o#o#o#o#o#o#o#o#    ooooooooooooooooooooooooooooooooooooooooooooooooooooooooooooooooo                               \n",
      "                              oooooooooooooooooooooooooooooooooooooooooooooooooooooooooooooooooooooooooooooooooooooooooooooooooooooooooooooooooooooooooooooooooooooooooooooooooooooooooooooooooooooooooo#o#o#o#o#o#o#o#o#o#   ooooooooooooooooooooooooooooooooooooooooooooooooooooooooooooooooooo                              \n",
      "                             ooooooooooooooooooooooooooooooooooooooooooooooooooooooooooooooooooooooooooooooooooooooooooooooooooooooooooooooooooooooooooooooooooooooooooooooooooooooooooooooooooooooooooo###################  ooooooooooooooooooooooooooooooooooooooooooooooooooooooooooooooooooooo                             \n",
      "                            ooooooooooooooooooooooooooooooooooooooooooooooooooooooooooooooooooooooooooooooooooooooooooooooooooooooooooooooooooooooooooooooooooooooooooooooooooooooooooooooooooooooooooooo                   ooooooooooooooooooooooooooooooooooooooooooooooooooooooooooooooooooooooo                            \n",
      "                           ooooooooooooooooooooooooooooooooooooooooooooooooooooooooooooooooooooooooooooooooooooooooooooooooooooooooooooooooooooooooooooooooooooooooooooooooooooooooooooooooooooooooooooooo                 ooooooooooooooooooooooooooooooooooooooooooooooooooooooooooooooooooooooooo                           \n",
      "                          ooooooooooooooooooooooooooooooooooooooooooooooooooooooooooooooooooooooooooooooooooooooooooooooooooooooooooooooooooooooooooooooooooooooooooooooooooooooooooooooooooooooooooooooooo               ooooooooooooooo#o#ooooooooooooooooooooooooooooooooooooooooooooooooooooooooo                          \n",
      "                         ooooooooooooooooooooooooooooooooooooooooooooooooooooooooooooooooooooooooooooooooooooooooooooooooooooooooooooooooooooooooooooooooooooooooooooooooooooooooooooooooooooooooooooooooooo             oooooooooooooooo#o#oooooooooooooooooooooooooooooooooooooooooooooooooooooooooo                         \n",
      "                        ooooooooooooooooooooooooooooooooooooooooooooooooooooooooooooooooooooooooooooooooooooooooooooooooooooooooooooooooooooooooooooooooooooooooooooooooooooooooooooooooooooooooooooooooooooo           ooooooooooooooooo#o#ooooooooooooooooooooooooooooooooooooooooooooooooooooooooooo                        \n",
      "                       ooooooooooooooooooooooooooooooooooooooooooooooooooooooooooooooooooooooooooooooooooooooooooooooooooooooooooooooooooooooooooooooooooooooooooooooooooooooooooooooooooooooooooooooooooooooo         oooooooooooooooooo#o#oooooooooooooooooooooooooooooooooooooooooooooooooooooooooooo                       \n",
      "                      ooooooooooooooooooooooooooooooooooooooooooooooooooooooooooooooooooooooooooooooooooooooooooooooooooooooooooooooooooooooooooooooooooooooooooooooooooooooooooooooooooooooooooooooooooooooooo       oooooooooooo########o#########ooooooooooooooooooooooooooooooooooooooooooooooooooooo                      \n",
      "                     ooooooooooooooooooooooooooooooooooooooooooooooooooooooooooooooooooooooooooooooooooooooooooooooooooooooooooooooooooooooooooooooooooooooooooooooooooooooooooooooooooooooooooooooooooooooooooo     ooooooooooooo#      ooo       #oooooooooooooooooooooooooooooooooooooooooooooooooooooo                     \n",
      "                    ooooooooooooooooooooooooooooooooooooooooooooooooooooooooooooooooooooooooooooooooooooooooooooooooooooooooooooooooooooooooooooooooooooooooooooooooooooooooooooooooooooooooooooooooooooooooooooo   oooooooooooooo#     ooooo      #ooooooooooooooooooooooooooooooooooooooooooooooooooooooo                    \n",
      "                   ooooooooooooooooooooooooooooooooooooooooooooooooooooooooooooooooooooooooooooooooooooooooooooooooooooooooooooooooooooooooooooooooooooooooooooooooooooooooooooooooooooooooooooooooooooooooooooooo ooooooooooooooo#    ooooooo     #oooooooooooooooooooooooooooooooooooooooooooooooooooooooo                   \n",
      "                  oooooooooooooooooooooooooooooooooooooooooooooooooooooooooooooooooooooooooooooooooooooooooooooooooooooooooooooooooooooooooooooooooooooooooooooooooooooooooooooooooooooooooooooooooooooooooooooooooooooooooooooooo##################ooooooooooooooooooooooooooooooooooooooooooooooooooooooooo                  \n",
      "                 oooooooooooooooooooooooooooooooooooooooooooooooooooooooooooooooooooooooooooooooooooooooooooooooooooooooooooooooooooooooooooooooooooooooooooooooooooooooooooooooooooooooooooooooooooooooooooooooooooooooooooooooooo                ooooooooooooooooooooooooooooooooooooooooooooooooooooooooooo                 \n",
      "                oooooooooooooooooooooooooooooooooooooooooooooooooooooooooooooooooooooooooooooooooooooooooooooooooooooooooooooooooooooooooooooooooooooooooooooooooooooooooooooooooooooooooooooooooooooooooooooooooooooooooooooooooooo              ooooooooooooooooooooooooooooooooooooooooooooooooooooooooooooo                \n",
      "               oooooooooooooooooooooooooooooooooooooooooooooooooooooooooooooooooooooooooooooooooooooooooooooooooooooooooooooooooooooooooooooooooooooooooooooooooooooooooooooooooooooooooooooooooooooooooooooooooooooooooooooooo#####o            ooooooooooooooooooooooooooooooooooooooooooooooooooooooooooooooo               \n",
      "              oooooooooooooooooooooooooooooooooooooooooooooooooooooooooooooooooooooooooooooooooooooooooooooooooooooooooooooooooooooooooooooooooooooooooooooooooooooooooooooooooooooooooooooooooooooooooooooooooooooooooooooooooo   ooo          ooooooooooooooooooooooooooooooooooooooooooooooooooooooooooooooooo              \n",
      "             ooooooooooooooooooooooooooooooooooooooooooooooooooooooooooooooooooooooooooooooooooooooooooooooooooooooooooooooooooooooooooooooooooooooooooooooooooooooooooooooooooooooooooooooooooooooooooooooooooooooooooooooo##### #####        ooooooooooooooooooooooooooooooooooooooooooooooooooooooooooooooooooo             \n",
      "            ooooooooooooooooooooooooooooooooooooooooooooooooooooooooooooooooooooooooooooooooooooooooooooooooooooooooooooooooooooooooooooooooooooooooooooooooooooooooooooooooooooooooooooooooooooooooooooooooooooooooooooooooo                 ooooooooooooooooooooooooooooooooooooooooooooooooooooooooooooooooooooo            \n",
      "           oooooooooooooooooooooooooooooooooooooooooooooooooooooooooooooooooooooooooooooooooooooooooooooooooooooooooooooooooooooooooooooooooooooooooooooooooooooooooooooooooooooooooooooooooooooooooooooooooooooooooooooo##### ##### #####   ooooooooooooooooooooooooooooooooooooooooooooooooooooooooooooooooooooooo           \n",
      "          oooooooooooooooooooooooooooooooooooooooooooooooooooooooooooooooooooooooooooooooooooooooooooooooooooooooooooooooooooooooooooooooooooooooooooooooooooooooooooooooooooooooooooooooooooooooooooooooooooooooooooooooo                  ooooooooooooooooooooooooooooooooooooooooooooooooooooooooooooooooooooooooo          \n",
      "         oooooooooooooooooooooooooooooooooooooooooooooooooooooooooooooooooooooooooooooooooooooooooooooooooooooooooooooooooooooooooooooooooooooooooooooooooooooooooooooooooooooooooooooooooooooooooooooooooooooooooooooooooo                ooooooooooooooooooooooooooooooooooooooooooooooooooooooooooooooooooooooooooo         \n",
      "        ooooooooooooooooooooooooooooooooooooooooooooooooooooooooooooooooooooooooooooooooooooooooooooooooooooooooooooooooooooooooooooooooooooooooooooooooooooooooooooooooooooooooooooooooooooooooooooooooooooooooooooooo#ooo#              ooooooooooooooooooooooooooooooooooooooooooooooooooooooooooooooooooooooooooooo        \n",
      "       oooooooooooooooooooooooooooooooooooooooooooooooooooooooooooooooooooooooooooooooooooooooooooooooooooooooooooooooooooooooooooooooooooooooooooooooooooooooooooooooooooooooooooooooooooooooooooooooooooooooooooooooo#ooo#             ooooooooooooooooooooooooooooooooooooooooooooooooooooooooooooooooooooooooooooooo       \n",
      "      ooooooooooooooooooooooooooooooooooooooooooooooooooooooooooooooooooooooooooooooooooooooooooooooooooooooooooooooooooooooooooooooooooooooooooooooooooooooooooooooooooooooooooooooooooooooooooooooooooooooooo#########ooo##           ooooooooooooooooooooooooooooooooooooooooooooooooooooooooooooooooooooooooooooooooo      \n",
      "     oooooooooooooooooooooooooooooooooooooooooooooooooooooooooooooooooooooooooooooooooooooooooooooooooooooooooooooooooooooooooooooooooooooooooooooooooooooooooooooooooooooooooooooooooooooooooooooooooooooooooo#       ooooo#          ooooooooooooooooooooooooooooooooooooooooooooooooooooooooooooooooooooooooooooooooooo     \n",
      "    ooooooooooooooooooooooooooooooooooooooooooooooooooooooooooooooooooooooooooooooooooooooooooooooooooooooooooooooooooooooooooooooooooooooooooooooooooooooooooooooooooooooooooooooooooooooooooooooooooooooooooo#      oooooo#         ooooooooooooooooooooooooooooooooooooooooooooooooooooooooooooooooooooooooooooooooooooo    \n",
      "   oooooooooooooooooooooooooooooooooooooooooooooooooooooooooooooooooooooooooooooooooooooooooooooooooooooooooooooooooooooooooooooooooooooooooooooooooooooooooooooooooooooooooooooooooooooooooooooooooooooooooooo#     ooooooo#        ooooooooooooooooooooooooooooooooooooooooooooooooooooooooooooooooooooooooooooooooooooooo   \n",
      "  ooooooooooooooooooooooooooooooooooooooooooooooooooooooooooooooooooooooooooooooooooooooooooooooooooooooooooooooooooooooooooooooooooooooooooooooooooooooooooooooooooooooooooooooooooooooooooooooooooooooooooooo##############       ooooooooooooooooooooooooooooooooooooooooooooooooooooooooooooooooooooooooooooooooooooooooo  \n",
      " ooooooooooooooooooooooooooooooooooooooooooooooooooooooooooooooooooooooooooooooooooooooooooooooooooooooooooooooooooooooooooooooooooooooooooooooooooooooooooooooooooooooooooooooooooooooooooooooooooooooooooooooo                   ooooooooooooooooooooooooooooooooooooooooooooooooooooooooooooooooooooooooooooooooooooooooooo \n",
      "###############################################################################################################################################################################################################################################################################################################################\n"
     ]
    }
   ],
   "source": [
    "display(HTML(\"<style>pre { white-space: pre !important; }</style>\"))\n",
    "print(\"\\n\".join([\"\".join(y) for y in cave]))"
   ]
  },
  {
   "cell_type": "markdown",
   "id": "d7f6bfb3",
   "metadata": {},
   "source": [
    "## Day 15"
   ]
  },
  {
   "cell_type": "code",
   "execution_count": 74,
   "id": "0dc3240a",
   "metadata": {},
   "outputs": [],
   "source": [
    "day15Data = [((int(x.split(\", y=\")[0].split(\"x=\")[1]), int(x.split(\", y=\")[1].split(\": \")[0])),\n",
    "(int(x.split(\", y=\")[1].split(\"x=\")[1]), int(x.split(\", y=\")[2]))) for x in getData(15).strip().split(\"\\n\")]"
   ]
  },
  {
   "cell_type": "code",
   "execution_count": 75,
   "id": "ac72e363",
   "metadata": {},
   "outputs": [],
   "source": [
    "def simplifyRange(rs):\n",
    "    outs = []\n",
    "    for s, e in sorted([(x, y) for x, y in rs if x!= y]):\n",
    "        if outs and outs[-1][1] + 1 > s:\n",
    "            outs[-1] = (outs[-1][0], max(e, outs[-1][1]))\n",
    "        else:\n",
    "            outs.append((s, e))\n",
    "    return outs"
   ]
  },
  {
   "cell_type": "code",
   "execution_count": 76,
   "id": "0dbe51d0",
   "metadata": {},
   "outputs": [
    {
     "data": {
      "text/plain": [
       "4883971"
      ]
     },
     "execution_count": 76,
     "metadata": {},
     "output_type": "execute_result"
    }
   ],
   "source": [
    "sum(xmax - xmin for xmin, xmax in simplifyRange(((sX - max(abs(sX-bX) + abs(sY-bY) - abs(sY-2000000), 0)), \n",
    "                                                 sX + max(abs(sX-bX) + abs(sY-bY) - abs(sY-2000000), 0)) \n",
    "                                                for (sX, sY), (bX, bY) in day15Data))"
   ]
  },
  {
   "cell_type": "code",
   "execution_count": 77,
   "id": "9c76795a",
   "metadata": {},
   "outputs": [],
   "source": [
    "def isValid(x, y):\n",
    "    return all(abs(sX-x) + abs(sY-y) > abs(sX-bX) + abs(sY-bY) for (sX, sY), (bX, bY) in day15Data)"
   ]
  },
  {
   "cell_type": "code",
   "execution_count": 78,
   "id": "97106dca",
   "metadata": {},
   "outputs": [],
   "source": [
    "### 17 seconds... that will do\n",
    "onEdge = next((x, y) for (sX, sY), (bX, bY) in day15Data\n",
    "              for x in range(min(max(0,sX -(abs(sX-bX) + abs(sY-bY) + 1)), 4000000),\n",
    "                              min(max(0,sX + abs(sX-bX) + abs(sY-bY) + 1), 4000000))\n",
    "          for y in [sY + (abs(sX-bX) + abs(sY-bY) + 1 - x + sX), sY - (abs(sX-bX) + abs(sY-bY) + 1 - x + sX)] \n",
    "          if y > -1 and y <= 4000000 \n",
    "          and isValid(x, y))"
   ]
  },
  {
   "cell_type": "code",
   "execution_count": 79,
   "id": "82c25b5e",
   "metadata": {},
   "outputs": [
    {
     "data": {
      "text/plain": [
       "((3172756, 2767556), 12691026767556)"
      ]
     },
     "execution_count": 79,
     "metadata": {},
     "output_type": "execute_result"
    }
   ],
   "source": [
    "onEdge, onEdge[1] + 4000000*onEdge[0]"
   ]
  },
  {
   "cell_type": "markdown",
   "id": "dd3ee33e",
   "metadata": {},
   "source": [
    "## Day 16"
   ]
  },
  {
   "cell_type": "code",
   "execution_count": 80,
   "id": "c38ff081",
   "metadata": {},
   "outputs": [],
   "source": [
    "day16Data = dict((x[6:8], (int(x.split(\"rate=\")[1].split(\";\")[0]), x.split(\" \",9)[9].split(\", \"))) \n",
    "                 for x in getData(16).strip().split(\"\\n\"))"
   ]
  },
  {
   "cell_type": "code",
   "execution_count": 81,
   "id": "1e19eced",
   "metadata": {},
   "outputs": [],
   "source": [
    "# build a fully connected graph of distance costs\n",
    "day16Graph = collections.defaultdict(dict)\n",
    "for valve, (flow, dests) in day16Data.items():\n",
    "    for dest in dests:\n",
    "        day16Graph[valve][dest] = 1\n",
    "        day16Graph[dest][valve] = 1\n",
    "added = True\n",
    "while added:\n",
    "    added = False\n",
    "    for start, dests in day16Graph.items():\n",
    "        for dest, cost in list(dests.items()):\n",
    "            for otherDest in day16Graph[dest]:\n",
    "                if otherDest == start:\n",
    "                    continue\n",
    "                if otherDest in dests:\n",
    "                    if dests[otherDest] > cost + day16Graph[dest][otherDest]:\n",
    "                        added = True\n",
    "                        dests[otherDest] = cost + day16Graph[dest][otherDest]\n",
    "                else:\n",
    "                    added = True\n",
    "                    dests[otherDest] = cost + day16Graph[dest][otherDest]\n",
    "# prune useless valves\n",
    "for valve, (flow, dests) in day16Data.items():\n",
    "    if flow == 0 and valve != 'AA':\n",
    "        if valve in day16Graph: del day16Graph[valve]\n",
    "        for nodes in day16Graph.values(): \n",
    "            if valve in nodes: del nodes[valve]"
   ]
  },
  {
   "cell_type": "code",
   "execution_count": 82,
   "id": "e2b9421c",
   "metadata": {},
   "outputs": [],
   "source": [
    "def releasePressure(graph, timeLeft, valvesOpen, currentLocation):\n",
    "    if timeLeft == 0: return (0, [(timeLeft, currentLocation)])\n",
    "    options = [releasePressure(graph, timeLeft - cost - 1, valvesOpen + [currentLocation], dest) \n",
    "               for dest, cost in graph[currentLocation].items() if dest not in valvesOpen and cost < timeLeft]\n",
    "    bestOption = max(options, key=lambda x: x[0]) if options else (0, [(timeLeft, \"remain here\")])\n",
    "    return (day16Data[currentLocation][0]*timeLeft + bestOption[0], [(timeLeft, currentLocation)] + bestOption[1]) "
   ]
  },
  {
   "cell_type": "code",
   "execution_count": 83,
   "id": "4a0f81d5",
   "metadata": {
    "scrolled": true
   },
   "outputs": [
    {
     "data": {
      "text/plain": [
       "(1923,\n",
       " [(30, 'AA'),\n",
       "  (27, 'NV'),\n",
       "  (24, 'PS'),\n",
       "  (21, 'FX'),\n",
       "  (18, 'JM'),\n",
       "  (15, 'KZ'),\n",
       "  (12, 'UX'),\n",
       "  (9, 'DO'),\n",
       "  (6, 'PH'),\n",
       "  (3, 'DG'),\n",
       "  (0, 'RG')])"
      ]
     },
     "execution_count": 83,
     "metadata": {},
     "output_type": "execute_result"
    }
   ],
   "source": [
    "releasePressure(day16Graph, 30, [], 'AA')"
   ]
  },
  {
   "cell_type": "code",
   "execution_count": 84,
   "id": "298e079f",
   "metadata": {},
   "outputs": [
    {
     "data": {
      "text/plain": [
       "(2594,\n",
       " [((26, 'AA'), (26, 'AA')),\n",
       "  ((23, 'NV'), (23, 'NU')),\n",
       "  ((20, 'PS'), (20, 'YA')),\n",
       "  ((17, 'FX'), (17, 'EJ')),\n",
       "  ((14, 'JM'), (13, 'XK')),\n",
       "  ((11, 'KZ'), (3, 'RG')),\n",
       "  ((8, 'UX'), (0, 'DG')),\n",
       "  ((5, 'DO'), None),\n",
       "  ((2, 'PH'), None),\n",
       "  ((2, 'remain here'), None)])"
      ]
     },
     "execution_count": 84,
     "metadata": {},
     "output_type": "execute_result"
    }
   ],
   "source": [
    "score, steps = releasePressure(day16Graph, 26, [], 'AA')\n",
    "score2, steps2 = releasePressure(day16Graph, 26, [x[1] for x in steps], 'AA')\n",
    "score + score2, list(itertools.zip_longest(steps, steps2))"
   ]
  },
  {
   "cell_type": "code",
   "execution_count": null,
   "id": "2598932f",
   "metadata": {},
   "outputs": [],
   "source": []
  }
 ],
 "metadata": {
  "kernelspec": {
   "display_name": "pipenv",
   "language": "python",
   "name": "pipenv"
  },
  "language_info": {
   "codemirror_mode": {
    "name": "ipython",
    "version": 3
   },
   "file_extension": ".py",
   "mimetype": "text/x-python",
   "name": "python",
   "nbconvert_exporter": "python",
   "pygments_lexer": "ipython3",
   "version": "3.10.7"
  }
 },
 "nbformat": 4,
 "nbformat_minor": 5
}
