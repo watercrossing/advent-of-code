{
 "cells": [
  {
   "cell_type": "markdown",
   "metadata": {},
   "source": [
    "# Advent of code\n",
    "\n",
    "https://adventofcode.com/2020"
   ]
  },
  {
   "cell_type": "code",
   "execution_count": 1,
   "metadata": {},
   "outputs": [],
   "source": [
    "# A few standard library imports\n",
    "import itertools, math, collections\n",
    "# nice printing\n",
    "from IPython.display import display, clear_output\n",
    "import ipywidgets as widgets"
   ]
  },
  {
   "cell_type": "markdown",
   "metadata": {},
   "source": [
    "## Common visualisation code"
   ]
  },
  {
   "cell_type": "code",
   "execution_count": 2,
   "metadata": {},
   "outputs": [],
   "source": [
    "def playOutput(data, defaultime=5, mintime=1, maxtime=25):\n",
    "    \"\"\"Play the output (list of strings) with controls. Time in seconds\"\"\"\n",
    "    output = widgets.Output()\n",
    "    with output:\n",
    "        print(data[0])\n",
    "    play = widgets.Play(value=0, min=0, max=len(data)-1, step=1, interval=defaultime*1000//len(data), \n",
    "                        description=\"Frame\", disabled=False)\n",
    "    slider = widgets.IntSlider(min=0, max=len(data)-1, step=1)\n",
    "    speed = widgets.FloatLogSlider(value=math.log10(defaultime*1000//len(data)), min=math.log10(mintime*1000/len(data)), \n",
    "                                   max=math.log10(maxtime*1000//len(data)), readout=False, description=\"Speed\")\n",
    "    widgets.jslink((play, 'value'), (slider, 'value'))\n",
    "    widgets.jslink((play, 'interval'), (speed, 'value'))\n",
    "    hbox = widgets.HBox([play, slider, speed])\n",
    "\n",
    "    def dropdown_eventhandler(change):\n",
    "        output.clear_output(wait=True)\n",
    "        with output:\n",
    "            print(data[change['new']])\n",
    "    play.observe(dropdown_eventhandler, names='value')\n",
    "\n",
    "    #display(hbox)\n",
    "    display(widgets.VBox([hbox, output]))"
   ]
  },
  {
   "cell_type": "code",
   "execution_count": 3,
   "metadata": {},
   "outputs": [],
   "source": [
    "# todo - save output from widget to html, so that it can be played in the nbviewer / html only version.\n",
    "# I think the 'slideshow' - iterating over widgets - needs to be implemented as its own widget so that it can be properly \n",
    "# saved / embedded."
   ]
  },
  {
   "cell_type": "markdown",
   "metadata": {},
   "source": [
    "## [Day 1](https://adventofcode.com/2020/day/1)"
   ]
  },
  {
   "cell_type": "code",
   "execution_count": 4,
   "metadata": {},
   "outputs": [],
   "source": [
    "with open(\"data/day1input.txt\", 'r') as f:\n",
    "    day1data = f.read()\n",
    "day1data = [int(x) for x in day1data.split()]"
   ]
  },
  {
   "cell_type": "code",
   "execution_count": 5,
   "metadata": {},
   "outputs": [
    {
     "data": {
      "text/plain": [
       "1007104"
      ]
     },
     "execution_count": 5,
     "metadata": {},
     "output_type": "execute_result"
    }
   ],
   "source": [
    "next(a*b for a,b in itertools.permutations(day1data, 2) if a+b == 2020)"
   ]
  },
  {
   "cell_type": "code",
   "execution_count": 6,
   "metadata": {},
   "outputs": [
    {
     "data": {
      "text/plain": [
       "18847752"
      ]
     },
     "execution_count": 6,
     "metadata": {},
     "output_type": "execute_result"
    }
   ],
   "source": [
    "next(a*b*c for a, b, c in itertools.permutations(day1data, 3) if a+b+c == 2020)"
   ]
  },
  {
   "cell_type": "markdown",
   "metadata": {},
   "source": [
    "## Day 2"
   ]
  },
  {
   "cell_type": "code",
   "execution_count": 7,
   "metadata": {},
   "outputs": [],
   "source": [
    "with open(\"data/day2input.txt\", 'r') as f:\n",
    "    day2data = f.read().split(\"\\n\")"
   ]
  },
  {
   "cell_type": "code",
   "execution_count": 8,
   "metadata": {},
   "outputs": [],
   "source": [
    "def validatePW(line):\n",
    "    split = line.split()\n",
    "    minL, maxL = split[0].split(\"-\")\n",
    "    character = split[1][:-1]\n",
    "    password = split[2]\n",
    "    charCount = sum(1 for x in password if x == character)\n",
    "    return int(minL) <= charCount and int(maxL) >= charCount"
   ]
  },
  {
   "cell_type": "code",
   "execution_count": 9,
   "metadata": {},
   "outputs": [
    {
     "data": {
      "text/plain": [
       "506"
      ]
     },
     "execution_count": 9,
     "metadata": {},
     "output_type": "execute_result"
    }
   ],
   "source": [
    "sum(validatePW(x) for x in day2data if x)"
   ]
  },
  {
   "cell_type": "code",
   "execution_count": 10,
   "metadata": {},
   "outputs": [],
   "source": [
    "def validatePW2(line):\n",
    "    split = line.split()\n",
    "    minL, maxL = split[0].split(\"-\")\n",
    "    character = split[1][:-1]\n",
    "    password = split[2]\n",
    "    return (password[int(minL)-1] == character) != (password[int(maxL)-1] == character)"
   ]
  },
  {
   "cell_type": "code",
   "execution_count": 11,
   "metadata": {},
   "outputs": [
    {
     "data": {
      "text/plain": [
       "443"
      ]
     },
     "execution_count": 11,
     "metadata": {},
     "output_type": "execute_result"
    }
   ],
   "source": [
    "sum(validatePW2(x) for x in day2data if x)"
   ]
  },
  {
   "cell_type": "markdown",
   "metadata": {},
   "source": [
    "## Day 3"
   ]
  },
  {
   "cell_type": "code",
   "execution_count": 12,
   "metadata": {},
   "outputs": [],
   "source": [
    "with open(\"data/day3input.txt\", 'r') as f:\n",
    "    day3data = [x for x in f.read().split(\"\\n\") if x]"
   ]
  },
  {
   "cell_type": "code",
   "execution_count": 13,
   "metadata": {},
   "outputs": [
    {
     "data": {
      "text/plain": [
       "(31, 323)"
      ]
     },
     "execution_count": 13,
     "metadata": {},
     "output_type": "execute_result"
    }
   ],
   "source": [
    "len(day3data[0]), len(day3data)"
   ]
  },
  {
   "cell_type": "code",
   "execution_count": 14,
   "metadata": {},
   "outputs": [
    {
     "data": {
      "text/plain": [
       "164"
      ]
     },
     "execution_count": 14,
     "metadata": {},
     "output_type": "execute_result"
    }
   ],
   "source": [
    "sum(day3data[i][3*i % 31] == \"#\" for i in range(len(day3data)))"
   ]
  },
  {
   "cell_type": "code",
   "execution_count": 15,
   "metadata": {},
   "outputs": [],
   "source": [
    "slopes = [(1, 1), (3, 1), (5, 1), (7, 1), (1, 2)]"
   ]
  },
  {
   "cell_type": "code",
   "execution_count": 16,
   "metadata": {},
   "outputs": [
    {
     "data": {
      "text/plain": [
       "5007658656"
      ]
     },
     "execution_count": 16,
     "metadata": {},
     "output_type": "execute_result"
    }
   ],
   "source": [
    "math.prod(sum(day3data[i][right*i//down % 31] == \"#\" for i in range(0, len(day3data), down)) for right, down in slopes)"
   ]
  },
  {
   "cell_type": "markdown",
   "metadata": {},
   "source": [
    "## Day 4"
   ]
  },
  {
   "cell_type": "code",
   "execution_count": 17,
   "metadata": {},
   "outputs": [],
   "source": [
    "with open(\"data/day4input.txt\", 'r') as f:\n",
    "    day4data = f.read()\n",
    "day4data = [dict((z.split(\":\")[0], z.split(\":\")[1]) for y in x.split(\"\\n\") for z in y.split(\" \") if z)\n",
    "            for x in day4data.split(\"\\n\\n\")]"
   ]
  },
  {
   "cell_type": "code",
   "execution_count": 18,
   "metadata": {},
   "outputs": [],
   "source": [
    "def passportIsValid(passport):\n",
    "    return all(x in passport for x in ['byr', 'iyr', 'eyr', 'hgt', 'hcl', 'ecl', 'pid'])"
   ]
  },
  {
   "cell_type": "code",
   "execution_count": 19,
   "metadata": {},
   "outputs": [
    {
     "data": {
      "text/plain": [
       "239"
      ]
     },
     "execution_count": 19,
     "metadata": {},
     "output_type": "execute_result"
    }
   ],
   "source": [
    "sum(passportIsValid(x) for x in day4data)"
   ]
  },
  {
   "cell_type": "code",
   "execution_count": 20,
   "metadata": {},
   "outputs": [
    {
     "data": {
      "text/plain": [
       "(48, 57, 97, 102)"
      ]
     },
     "execution_count": 20,
     "metadata": {},
     "output_type": "execute_result"
    }
   ],
   "source": [
    "ord('0'), ord('9'), ord('a'), ord('f')"
   ]
  },
  {
   "cell_type": "code",
   "execution_count": 21,
   "metadata": {},
   "outputs": [],
   "source": [
    "def passportIsValid2(passport):\n",
    "    validation = {'byr' : lambda x: int(x) in range(1920, 2003), \n",
    "                  'iyr' : lambda x: int(x) in range(2010, 2021), \n",
    "                  'eyr' : lambda x: int(x) in range(2020, 2031), \n",
    "                  'hgt' : lambda x: (x[3:] == 'cm' and int(x[:3]) in range(150, 194)) or \\\n",
    "                                        (x[2:] == 'in' and int(x[:2]) in range(59, 77)), \n",
    "                  'hcl' : lambda x: x[0] == '#' and all(ord(y) in range(48, 58) or ord(y) in range(97, 103) for y in x[1:]), \n",
    "                  'ecl' : lambda x: x in ['amb', 'blu', 'brn', 'gry', 'grn', 'hzl', 'oth'],\n",
    "                  'pid' : lambda x: (\"%09d\" %int(x)) == x}\n",
    "    try:\n",
    "        return all(x in passport and validation[x](passport[x]) for x in validation)\n",
    "    except:\n",
    "        return False"
   ]
  },
  {
   "cell_type": "code",
   "execution_count": 22,
   "metadata": {},
   "outputs": [
    {
     "data": {
      "text/plain": [
       "188"
      ]
     },
     "execution_count": 22,
     "metadata": {},
     "output_type": "execute_result"
    }
   ],
   "source": [
    "sum(passportIsValid2(x) for x in day4data)"
   ]
  },
  {
   "cell_type": "markdown",
   "metadata": {},
   "source": [
    "## Day 5"
   ]
  },
  {
   "cell_type": "code",
   "execution_count": 23,
   "metadata": {},
   "outputs": [],
   "source": [
    "with open(\"data/day5input.txt\", 'r') as f:\n",
    "    day5data = [x for x in f.read().split(\"\\n\") if x]"
   ]
  },
  {
   "cell_type": "code",
   "execution_count": 24,
   "metadata": {},
   "outputs": [],
   "source": [
    "def parseSeat(bp):\n",
    "    return sum((bp[i] == 'B')*2**(6-i) for i in range(7)), sum((bp[i+7] == 'R')*2**(2-i) for i in range(3))"
   ]
  },
  {
   "cell_type": "code",
   "execution_count": 25,
   "metadata": {},
   "outputs": [],
   "source": [
    "parsed = [parseSeat(x) for x in day5data]"
   ]
  },
  {
   "cell_type": "code",
   "execution_count": 26,
   "metadata": {},
   "outputs": [
    {
     "data": {
      "text/plain": [
       "850"
      ]
     },
     "execution_count": 26,
     "metadata": {},
     "output_type": "execute_result"
    }
   ],
   "source": [
    "seatIds = [row*8 + column for row, column in parsed]\n",
    "max(seatIds)"
   ]
  },
  {
   "cell_type": "code",
   "execution_count": 27,
   "metadata": {},
   "outputs": [
    {
     "data": {
      "text/plain": [
       "[599]"
      ]
     },
     "execution_count": 27,
     "metadata": {},
     "output_type": "execute_result"
    }
   ],
   "source": [
    "[x for x in range(max(seatIds)) if x not in seatIds and x+1 in seatIds and x-1 in seatIds]"
   ]
  },
  {
   "cell_type": "markdown",
   "metadata": {},
   "source": [
    "## Day 6"
   ]
  },
  {
   "cell_type": "code",
   "execution_count": 28,
   "metadata": {},
   "outputs": [],
   "source": [
    "with open(\"data/day6input.txt\", 'r') as f:\n",
    "    day6data = f.read()\n",
    "day6data = [[y for y in x.split(\"\\n\") if y] for x in day6data.split(\"\\n\\n\")]"
   ]
  },
  {
   "cell_type": "code",
   "execution_count": null,
   "metadata": {},
   "outputs": [],
   "source": []
  },
  {
   "cell_type": "code",
   "execution_count": 29,
   "metadata": {},
   "outputs": [
    {
     "data": {
      "text/plain": [
       "6809"
      ]
     },
     "execution_count": 29,
     "metadata": {},
     "output_type": "execute_result"
    }
   ],
   "source": [
    "sum(len(set(y for x in agroup for y in x)) for agroup in day6data)"
   ]
  },
  {
   "cell_type": "code",
   "execution_count": 30,
   "metadata": {},
   "outputs": [
    {
     "data": {
      "text/plain": [
       "3394"
      ]
     },
     "execution_count": 30,
     "metadata": {},
     "output_type": "execute_result"
    }
   ],
   "source": [
    "sum(len(set.intersection(*[set(x) for x in agroup])) for agroup in day6data)"
   ]
  },
  {
   "cell_type": "markdown",
   "metadata": {},
   "source": [
    "## Day 7"
   ]
  },
  {
   "cell_type": "code",
   "execution_count": 31,
   "metadata": {},
   "outputs": [],
   "source": [
    "with open(\"data/day7input.txt\", 'r') as f:\n",
    "    day7data = [x for x in f.read().split(\"\\n\") if x]"
   ]
  },
  {
   "cell_type": "code",
   "execution_count": 32,
   "metadata": {},
   "outputs": [
    {
     "data": {
      "text/plain": [
       "True"
      ]
     },
     "execution_count": 32,
     "metadata": {},
     "output_type": "execute_result"
    }
   ],
   "source": [
    "# check Uniqueness\n",
    "leftSide = [x.split(\"bag\")[0].strip() for x in day7data]\n",
    "len(leftSide) == len(set(leftSide))"
   ]
  },
  {
   "cell_type": "code",
   "execution_count": 33,
   "metadata": {},
   "outputs": [],
   "source": [
    "bagmapping = dict((x.split(\"bag\")[0].strip(), \n",
    "                   [] if 'no other bags' in x else [(int(y.strip(\"s \").split(\" \")[1]), \" \".join(y.strip().split(\" \")[-2:])) \n",
    "                                                    for y in x.split(\"bag\")[1:-1]])\n",
    "                  for x in day7data)"
   ]
  },
  {
   "cell_type": "code",
   "execution_count": 34,
   "metadata": {},
   "outputs": [],
   "source": [
    "revmapping = collections.defaultdict(set)\n",
    "for k, vs in bagmapping.items():\n",
    "    for count, v in vs:\n",
    "        revmapping[v].add(k)"
   ]
  },
  {
   "cell_type": "code",
   "execution_count": 35,
   "metadata": {},
   "outputs": [],
   "source": [
    "goldBags = revmapping['shiny gold']\n",
    "while True:\n",
    "    prevLen = len(goldBags)\n",
    "    goldBags = goldBags.union(set([y for x in goldBags for y in revmapping[x]]))\n",
    "    if len(goldBags) == prevLen:\n",
    "        break"
   ]
  },
  {
   "cell_type": "code",
   "execution_count": 36,
   "metadata": {},
   "outputs": [
    {
     "data": {
      "text/plain": [
       "131"
      ]
     },
     "execution_count": 36,
     "metadata": {},
     "output_type": "execute_result"
    }
   ],
   "source": [
    "len(goldBags)"
   ]
  },
  {
   "cell_type": "code",
   "execution_count": 37,
   "metadata": {},
   "outputs": [],
   "source": [
    "def bagLayer(bag):\n",
    "    return 1 + sum(num * bagLayer(subbag) for num, subbag in bagmapping[bag])"
   ]
  },
  {
   "cell_type": "code",
   "execution_count": 38,
   "metadata": {},
   "outputs": [
    {
     "data": {
      "text/plain": [
       "11261"
      ]
     },
     "execution_count": 38,
     "metadata": {},
     "output_type": "execute_result"
    }
   ],
   "source": [
    "bagLayer('shiny gold') - 1"
   ]
  },
  {
   "cell_type": "markdown",
   "metadata": {},
   "source": [
    "## Day 8"
   ]
  },
  {
   "cell_type": "code",
   "execution_count": 39,
   "metadata": {},
   "outputs": [],
   "source": [
    "with open(\"data/day8input.txt\", 'r') as f:\n",
    "    day8data = [(x.split(\" \", 2)[0], int(x.split(\" \", 2)[1])) for x in f.read().split(\"\\n\") if x]"
   ]
  },
  {
   "cell_type": "code",
   "execution_count": null,
   "metadata": {},
   "outputs": [],
   "source": []
  },
  {
   "cell_type": "code",
   "execution_count": 40,
   "metadata": {},
   "outputs": [],
   "source": [
    "haveVisited = []\n",
    "acc = 0\n",
    "line = 0\n",
    "while True:\n",
    "    if line in haveVisited:\n",
    "        break\n",
    "    haveVisited.append(line)\n",
    "    if day8data[line][0] == 'nop':\n",
    "        line += 1\n",
    "    elif day8data[line][0] == 'acc':\n",
    "        acc += day8data[line][1]\n",
    "        line += 1\n",
    "    elif day8data[line][0] == 'jmp':\n",
    "        line += day8data[line][1]"
   ]
  },
  {
   "cell_type": "code",
   "execution_count": 41,
   "metadata": {},
   "outputs": [
    {
     "data": {
      "text/plain": [
       "1200"
      ]
     },
     "execution_count": 41,
     "metadata": {},
     "output_type": "execute_result"
    }
   ],
   "source": [
    "acc"
   ]
  },
  {
   "cell_type": "code",
   "execution_count": 42,
   "metadata": {},
   "outputs": [],
   "source": [
    "def runProgram(toFlip):\n",
    "    if day8data[toFlip][0] == 'acc':\n",
    "        raise IndexError()\n",
    "    haveVisited = []\n",
    "    acc = 0\n",
    "    line = 0\n",
    "    while True:\n",
    "        if line == len(day8data) - 1:\n",
    "            return acc\n",
    "        if line in haveVisited:\n",
    "            raise IndexError()\n",
    "        haveVisited.append(line)\n",
    "        if day8data[line][0] == 'nop':\n",
    "            if line == toFlip:\n",
    "                line += day8data[line][1]\n",
    "            else:\n",
    "                line += 1\n",
    "        elif day8data[line][0] == 'acc':\n",
    "            acc += day8data[line][1]\n",
    "            line += 1\n",
    "        elif day8data[line][0] == 'jmp':\n",
    "            if line == toFlip:\n",
    "                line += 1\n",
    "            else: \n",
    "                line += day8data[line][1]"
   ]
  },
  {
   "cell_type": "code",
   "execution_count": 43,
   "metadata": {},
   "outputs": [
    {
     "name": "stdout",
     "output_type": "stream",
     "text": [
      "327 1023\n"
     ]
    }
   ],
   "source": [
    "for i in range(len(day8data)):\n",
    "    try:\n",
    "        ret = runProgram(i)\n",
    "        break\n",
    "    except IndexError:\n",
    "        pass\n",
    "print(i, ret)"
   ]
  },
  {
   "cell_type": "markdown",
   "metadata": {},
   "source": [
    "## Day 9"
   ]
  },
  {
   "cell_type": "code",
   "execution_count": 44,
   "metadata": {},
   "outputs": [],
   "source": [
    "with open(\"data/day9input.txt\", 'r') as f:\n",
    "    day9data = [int(x) for x in f.read().split(\"\\n\") if x]"
   ]
  },
  {
   "cell_type": "code",
   "execution_count": 45,
   "metadata": {},
   "outputs": [
    {
     "name": "stdout",
     "output_type": "stream",
     "text": [
      "590 248131121\n"
     ]
    }
   ],
   "source": [
    "for i in range(25, len(day9data)):\n",
    "    if day9data[i] not in (x+y for x,y in itertools.product(day9data[i-25:i], repeat=2)):\n",
    "        break\n",
    "print(i, day9data[i])"
   ]
  },
  {
   "cell_type": "code",
   "execution_count": 46,
   "metadata": {},
   "outputs": [
    {
     "data": {
      "text/plain": [
       "31580383"
      ]
     },
     "execution_count": 46,
     "metadata": {},
     "output_type": "execute_result"
    }
   ],
   "source": [
    "next(min(day9data[i:j]) + max(day9data[i:j]) for i in range(len(day9data)) for j in range(i+1, len(day9data)) \n",
    "     if sum(day9data[i:j]) == 248131121)\n",
    "## slightly inefficient really, could stop summing for each i once > 248131121"
   ]
  },
  {
   "cell_type": "markdown",
   "metadata": {},
   "source": [
    "\n",
    "## Day 10"
   ]
  },
  {
   "cell_type": "code",
   "execution_count": 47,
   "metadata": {},
   "outputs": [],
   "source": [
    "with open(\"data/day10input.txt\", 'r') as f:\n",
    "    day10data = [int(x) for x in f.read().split(\"\\n\") if x]"
   ]
  },
  {
   "cell_type": "code",
   "execution_count": 48,
   "metadata": {},
   "outputs": [],
   "source": [
    "day10dataSorted = [0] + sorted(day10data) + [max(day10data) + 3]"
   ]
  },
  {
   "cell_type": "code",
   "execution_count": 49,
   "metadata": {},
   "outputs": [],
   "source": [
    "diffs = [y-x for x, y in zip(day10dataSorted, day10dataSorted[1:])]"
   ]
  },
  {
   "cell_type": "code",
   "execution_count": 50,
   "metadata": {},
   "outputs": [
    {
     "data": {
      "text/plain": [
       "(1, 3, 99, 99)"
      ]
     },
     "execution_count": 50,
     "metadata": {},
     "output_type": "execute_result"
    }
   ],
   "source": [
    "min(diffs), max(diffs), len(day10data), len(set(day10data))"
   ]
  },
  {
   "cell_type": "code",
   "execution_count": 51,
   "metadata": {},
   "outputs": [
    {
     "data": {
      "text/plain": [
       "2059"
      ]
     },
     "execution_count": 51,
     "metadata": {},
     "output_type": "execute_result"
    }
   ],
   "source": [
    "sum(x == 1 for x in diffs)*sum(x==3 for x in diffs)"
   ]
  },
  {
   "cell_type": "code",
   "execution_count": 52,
   "metadata": {},
   "outputs": [],
   "source": [
    "cache = {0 : 1}\n",
    "for i in range(1, len(day10dataSorted)):\n",
    "    cache[i] = sum(cache[j] for j in range(max(0, i-4),i) if day10dataSorted[i] - day10dataSorted[j] < 4)"
   ]
  },
  {
   "cell_type": "code",
   "execution_count": 53,
   "metadata": {},
   "outputs": [
    {
     "data": {
      "text/plain": [
       "86812553324672"
      ]
     },
     "execution_count": 53,
     "metadata": {},
     "output_type": "execute_result"
    }
   ],
   "source": [
    "cache[len(day10dataSorted) - 1]"
   ]
  },
  {
   "cell_type": "markdown",
   "metadata": {},
   "source": [
    "## Day 11"
   ]
  },
  {
   "cell_type": "code",
   "execution_count": 54,
   "metadata": {},
   "outputs": [],
   "source": [
    "with open(\"data/day11input.txt\", 'r') as f:\n",
    "    day11data = [x for x in f.read().split(\"\\n\") if x]"
   ]
  },
  {
   "cell_type": "code",
   "execution_count": 55,
   "metadata": {},
   "outputs": [],
   "source": [
    "def roundOfSeating(layout):\n",
    "    newLayout = [[] for i in range(len(layout))]\n",
    "    changed = False\n",
    "    for i in range(len(layout)):\n",
    "        for j in range(len(layout[i])):\n",
    "            if layout[i][j] == 'L' and all(layout[n][m] != '#' for n in range(max(0, i-1), min(len(layout),i+2))\n",
    "                                          for m in range(max(0,j-1), min(len(layout[n]), j+2))):\n",
    "                newLayout[i].append('#')\n",
    "                changed = True\n",
    "            elif layout[i][j] == '.':\n",
    "                newLayout[i].append('.')\n",
    "            elif layout[i][j] == '#' and sum(layout[n][m] == '#' for n in range(max(0, i-1), min(len(layout),i+2))\n",
    "                                          for m in range(max(0,j-1), min(len(layout[n]), j+2))) > 4:\n",
    "                newLayout[i].append('L')\n",
    "                changed = True\n",
    "            else:\n",
    "                newLayout[i].append(layout[i][j])\n",
    "    return changed, newLayout"
   ]
  },
  {
   "cell_type": "code",
   "execution_count": 56,
   "metadata": {},
   "outputs": [],
   "source": [
    "def printSeating(seating):\n",
    "    return \"\\n\".join(\"\".join(y) for y in seating)"
   ]
  },
  {
   "cell_type": "code",
   "execution_count": 57,
   "metadata": {},
   "outputs": [],
   "source": [
    "def solveSeating(seatingFun, layout):\n",
    "    output = []\n",
    "    changed = True\n",
    "    seatingPlan = layout\n",
    "    n = 0\n",
    "    output.append(\"n: %d, occupied: %d\\n%s\" %(n, sum(seatingPlan[n][m] == '#' for n in range(len(seatingPlan))\n",
    "                                                     for m in range(len(seatingPlan[n]))), printSeating(seatingPlan)))\n",
    "    while changed:\n",
    "        changed, seatingPlan = seatingFun(seatingPlan)\n",
    "        n += 1\n",
    "        output.append(\"n: %d, occupied: %d\\n%s\" %(n, sum(seatingPlan[n][m] == '#' for n in range(len(seatingPlan))\n",
    "                                                     for m in range(len(seatingPlan[n]))), printSeating(seatingPlan)))\n",
    "    return output"
   ]
  },
  {
   "cell_type": "code",
   "execution_count": 58,
   "metadata": {},
   "outputs": [],
   "source": [
    "day11solution1 = solveSeating(roundOfSeating, day11data)"
   ]
  },
  {
   "cell_type": "code",
   "execution_count": 59,
   "metadata": {
    "scrolled": true
   },
   "outputs": [
    {
     "data": {
      "application/vnd.jupyter.widget-view+json": {
       "model_id": "b63bed7d658848179191ec942acacada",
       "version_major": 2,
       "version_minor": 0
      },
      "text/plain": [
       "VBox(children=(HBox(children=(Play(value=0, description='Frame', interval=294, max=84), IntSlider(value=0, max…"
      ]
     },
     "metadata": {},
     "output_type": "display_data"
    }
   ],
   "source": [
    "playOutput(day11solution1, defaultime=25, mintime=5, maxtime=100)"
   ]
  },
  {
   "cell_type": "code",
   "execution_count": null,
   "metadata": {},
   "outputs": [],
   "source": []
  },
  {
   "cell_type": "code",
   "execution_count": 60,
   "metadata": {},
   "outputs": [],
   "source": [
    "def roundOfSeating2(layout):\n",
    "    newLayout = [[] for i in range(len(layout))]\n",
    "    changed = False\n",
    "    directions = [(0, 1), (0, -1), (1, 0), (1, 1), (1, -1), (-1, 0), (-1, 1), (-1, -1)]\n",
    "    for i in range(len(layout)):\n",
    "        for j in range(len(layout[i])):\n",
    "            visible = []\n",
    "            for dirX, dirY in directions:\n",
    "                visible.append(next(itertools.chain((layout[i + n*dirX][j + n*dirY]\n",
    "                                                     for n in range(1, max(len(layout), len(layout[0]))) \n",
    "                                                     if i + n*dirX in range(0, len(layout)) and \n",
    "                                                         j + n*dirY in range(0, len(layout[i + n*dirX])) and\n",
    "                                                         layout[i + n*dirX][j + n*dirY] != \".\"), [\"L\"])))\n",
    "            if layout[i][j] == 'L' and all(seat != '#' for seat in visible):\n",
    "                newLayout[i].append('#')\n",
    "                changed = True\n",
    "            elif layout[i][j] == '.':\n",
    "                newLayout[i].append('.')\n",
    "            elif layout[i][j] == '#' and sum(seat == '#' for seat in visible) > 4:\n",
    "                newLayout[i].append('L')\n",
    "                changed = True\n",
    "            else:\n",
    "                newLayout[i].append(layout[i][j]) \n",
    "    return changed, newLayout"
   ]
  },
  {
   "cell_type": "code",
   "execution_count": 61,
   "metadata": {},
   "outputs": [],
   "source": [
    "day11solution2 = solveSeating(roundOfSeating2, day11data)"
   ]
  },
  {
   "cell_type": "code",
   "execution_count": 62,
   "metadata": {
    "scrolled": true
   },
   "outputs": [
    {
     "data": {
      "application/vnd.jupyter.widget-view+json": {
       "model_id": "75dc1cd747b643b8850906d09658a2d1",
       "version_major": 2,
       "version_minor": 0
      },
      "text/plain": [
       "VBox(children=(HBox(children=(Play(value=0, description='Frame', interval=274, max=90), IntSlider(value=0, max…"
      ]
     },
     "metadata": {},
     "output_type": "display_data"
    }
   ],
   "source": [
    "playOutput(day11solution2, defaultime=25, mintime=5, maxtime=100)"
   ]
  },
  {
   "cell_type": "markdown",
   "metadata": {},
   "source": [
    "## Day 12"
   ]
  },
  {
   "cell_type": "code",
   "execution_count": 63,
   "metadata": {},
   "outputs": [],
   "source": [
    "with open(\"data/day12input.txt\", 'r') as f:\n",
    "    day12data = [(x[0], int(x[1:])) for x in f.read().split(\"\\n\") if x]"
   ]
  },
  {
   "cell_type": "code",
   "execution_count": 64,
   "metadata": {},
   "outputs": [
    {
     "data": {
      "text/plain": [
       "{90, 180, 270}"
      ]
     },
     "execution_count": 64,
     "metadata": {},
     "output_type": "execute_result"
    }
   ],
   "source": [
    "set([a for d, a in day12data if d in 'LR'])\n",
    "# -> so integer grid is fine."
   ]
  },
  {
   "cell_type": "code",
   "execution_count": 65,
   "metadata": {},
   "outputs": [],
   "source": [
    "dirNames = \"NESW\"\n",
    "dirVectors = [(0, 1), (1, 0), (0, -1), (-1, 0)]\n",
    "dirMap = dict(zip(dirNames, dirVectors))"
   ]
  },
  {
   "cell_type": "code",
   "execution_count": 66,
   "metadata": {},
   "outputs": [],
   "source": [
    "def moveShip(directions):\n",
    "    locs = [((0, 0), dirMap['E'])] # ((x, y), (facingX, facingY))    \n",
    "    def doTurn(currentDir, d, a):\n",
    "        return dirVectors[int(dirVectors.index(currentDir) + ((d=='R') - 0.5)*2*a//90) % 4]\n",
    "    for d, a in directions:\n",
    "        if d in \"LR\":\n",
    "            locs.append((locs[-1][0], doTurn(locs[-1][1], d, a)))\n",
    "        elif d == 'F':\n",
    "            locs.append(((locs[-1][0][0] + a*locs[-1][1][0], locs[-1][0][1] + a*locs[-1][1][1]), locs[-1][1]))\n",
    "        else:\n",
    "            locs.append(((locs[-1][0][0] + a*dirMap[d][0], locs[-1][0][1] + a*dirMap[d][1]), locs[-1][1]))\n",
    "    return locs"
   ]
  },
  {
   "cell_type": "code",
   "execution_count": 67,
   "metadata": {},
   "outputs": [
    {
     "name": "stdout",
     "output_type": "stream",
     "text": [
      "Manhatten distance from (0, 0): 1010\n"
     ]
    }
   ],
   "source": [
    "movements = moveShip(day12data)\n",
    "print(\"Manhatten distance from (0, 0): %d\"  %(abs(movements[-1][0][0]) + abs(movements[-1][0][1])))"
   ]
  },
  {
   "cell_type": "code",
   "execution_count": 68,
   "metadata": {},
   "outputs": [],
   "source": [
    "def moveShip2(directions):\n",
    "    locs = [((0, 0), (10, 1))] # (ship, waypoint)    \n",
    "    def doTurn(wp, d, a):\n",
    "        for _ in range(int(a/90)):\n",
    "            wp = (wp[1], -wp[0]) if d == 'R' else (-wp[1], wp[0])\n",
    "        return wp\n",
    "    for d, a in directions:\n",
    "        if d in \"LR\":\n",
    "            locs.append((locs[-1][0], doTurn(locs[-1][1], d, a)))\n",
    "        elif d == 'F':\n",
    "            locs.append(((locs[-1][0][0] + a*locs[-1][1][0], locs[-1][0][1] + a*locs[-1][1][1]), locs[-1][1]))\n",
    "        else:\n",
    "            locs.append((locs[-1][0], (locs[-1][1][0] + a*dirMap[d][0], locs[-1][1][1] + a*dirMap[d][1])))\n",
    "    return locs"
   ]
  },
  {
   "cell_type": "code",
   "execution_count": 69,
   "metadata": {},
   "outputs": [
    {
     "name": "stdout",
     "output_type": "stream",
     "text": [
      "Manhatten distance from (0, 0): 52742\n"
     ]
    }
   ],
   "source": [
    "movements2 = moveShip2(day12data)\n",
    "print(\"Manhatten distance from (0, 0): %d\"  %(abs(movements2[-1][0][0]) + abs(movements2[-1][0][1])))"
   ]
  },
  {
   "cell_type": "markdown",
   "metadata": {},
   "source": [
    "## Day 13"
   ]
  },
  {
   "cell_type": "code",
   "execution_count": 70,
   "metadata": {},
   "outputs": [],
   "source": [
    "with open(\"data/day13input.txt\", 'r') as f:\n",
    "    day13data = [x for x in f.read().split(\"\\n\") if x]"
   ]
  },
  {
   "cell_type": "code",
   "execution_count": 71,
   "metadata": {},
   "outputs": [],
   "source": [
    "currentTime = int(day13data[0])\n",
    "busses = [int(x) for x in day13data[1].split(\",\") if x != \"x\"]"
   ]
  },
  {
   "cell_type": "code",
   "execution_count": 72,
   "metadata": {},
   "outputs": [
    {
     "data": {
      "text/plain": [
       "2935"
      ]
     },
     "execution_count": 72,
     "metadata": {},
     "output_type": "execute_result"
    }
   ],
   "source": [
    "mods = [x -(currentTime % x) for x in busses]\n",
    "busses[mods.index(min(mods))]*min(mods)"
   ]
  },
  {
   "cell_type": "code",
   "execution_count": 73,
   "metadata": {},
   "outputs": [],
   "source": [
    "busOffsets = [day13data[1].split(\",\").index(str(x)) for x in busses]"
   ]
  },
  {
   "cell_type": "code",
   "execution_count": 74,
   "metadata": {},
   "outputs": [
    {
     "name": "stdout",
     "output_type": "stream",
     "text": [
      "[37, 41, 587, 13, 19, 23, 29, 733, 17]\n",
      "[0, 27, 37, 55, 56, 60, 66, 68, 85]\n"
     ]
    }
   ],
   "source": [
    "print(busses)\n",
    "print(busOffsets)"
   ]
  },
  {
   "cell_type": "markdown",
   "metadata": {},
   "source": [
    "### Hmm.\n",
    "This feels very much like number theory!\n",
    "$$37*a + 27 = 41*b$$\n",
    "$$37*a + 37 = 587*c$$\n",
    "$$37*a + 55 = 13*d$$\n",
    "$$ ... $$\n",
    "\n",
    "i. e. `37a % busses == (busses - busOffsets) % busses`\n",
    "\n",
    "all busses coprime, so chinese remainder theorem.\n",
    "\n",
    "I can't remember how to solve that one, so I googled how the sieve worked. Implementation my own."
   ]
  },
  {
   "cell_type": "code",
   "execution_count": 75,
   "metadata": {},
   "outputs": [],
   "source": [
    "factor = [(b - bo) % b for b, bo in zip(busses, busOffsets)]"
   ]
  },
  {
   "cell_type": "code",
   "execution_count": 76,
   "metadata": {},
   "outputs": [],
   "source": [
    "def chineseSieve(factor, moduli):\n",
    "    ms = sorted(moduli,reverse=True)\n",
    "    fs = [factor[moduli.index(x)] for x in ms]\n",
    "    sol = fs[0]\n",
    "    for i in range(len(ms) - 1):\n",
    "        f = math.prod(ms[:i+1])\n",
    "        while sol % ms[i+1] != fs[i+1]:\n",
    "            sol += f\n",
    "    return sol"
   ]
  },
  {
   "cell_type": "code",
   "execution_count": 77,
   "metadata": {},
   "outputs": [
    {
     "data": {
      "text/plain": [
       "836024966345345"
      ]
     },
     "execution_count": 77,
     "metadata": {},
     "output_type": "execute_result"
    }
   ],
   "source": [
    "chineseSieve(factor, busses)"
   ]
  },
  {
   "cell_type": "markdown",
   "metadata": {},
   "source": [
    "## Day 14"
   ]
  },
  {
   "cell_type": "code",
   "execution_count": 78,
   "metadata": {},
   "outputs": [],
   "source": [
    "with open(\"data/day14input.txt\", 'r') as f:\n",
    "    day14data = [x for x in f.read().split(\"\\n\") if x]"
   ]
  },
  {
   "cell_type": "code",
   "execution_count": 79,
   "metadata": {},
   "outputs": [],
   "source": [
    "def generateMemory(data):\n",
    "    mem = {}\n",
    "    for l in data:\n",
    "        instr, d = l.split(\" = \")\n",
    "        if instr == 'mask':\n",
    "            mask = d\n",
    "        else:\n",
    "            mem[int(instr[4:-1])] = int(\"\".join(i if m == 'X' else m for i, m in zip(format(int(d),'036b'), mask)),2)\n",
    "    return mem"
   ]
  },
  {
   "cell_type": "code",
   "execution_count": 80,
   "metadata": {},
   "outputs": [
    {
     "data": {
      "text/plain": [
       "11926135976176"
      ]
     },
     "execution_count": 80,
     "metadata": {},
     "output_type": "execute_result"
    }
   ],
   "source": [
    "mem = generateMemory(day14data)\n",
    "sum(mem.values())"
   ]
  },
  {
   "cell_type": "code",
   "execution_count": 81,
   "metadata": {},
   "outputs": [],
   "source": [
    "def generateMemoryV2(data):\n",
    "    mem = {}\n",
    "    for l in data:\n",
    "        instr, d = l.split(\" = \")\n",
    "        if instr == 'mask':\n",
    "            mask = d\n",
    "        else:\n",
    "            addrs = \"\".join(i if m == '0' else m for i, m in zip(format(int(instr[4:-1]),'036b'), mask)).split(\"X\")\n",
    "            mem.update((int(\"\".join(x for y in zip(addrs, itertools.chain(fls, [''])) for x in y)), int(d))\n",
    "                       for fls in itertools.product(\"01\", repeat=len(addrs)-1))\n",
    "    return mem"
   ]
  },
  {
   "cell_type": "code",
   "execution_count": 82,
   "metadata": {},
   "outputs": [
    {
     "data": {
      "text/plain": [
       "4330547254348"
      ]
     },
     "execution_count": 82,
     "metadata": {},
     "output_type": "execute_result"
    }
   ],
   "source": [
    "mem2 = generateMemoryV2(day14data)\n",
    "sum(mem2.values())"
   ]
  },
  {
   "cell_type": "markdown",
   "metadata": {},
   "source": [
    "## Day 15"
   ]
  },
  {
   "cell_type": "code",
   "execution_count": 83,
   "metadata": {},
   "outputs": [],
   "source": [
    "day15data = [9,19,1,6,0,5,4]"
   ]
  },
  {
   "cell_type": "code",
   "execution_count": 84,
   "metadata": {},
   "outputs": [],
   "source": [
    "def genNumber(start, n):\n",
    "    ns = start[::-1]\n",
    "    for turn in range(len(start), n):\n",
    "        try:\n",
    "            ns.insert(0,ns.index(ns[0], 1))\n",
    "        except ValueError:\n",
    "            ns.insert(0, 0)\n",
    "    return ns"
   ]
  },
  {
   "cell_type": "code",
   "execution_count": 85,
   "metadata": {},
   "outputs": [
    {
     "data": {
      "text/plain": [
       "1522"
      ]
     },
     "execution_count": 85,
     "metadata": {},
     "output_type": "execute_result"
    }
   ],
   "source": [
    "genNumber(day15data, 2020)[0]"
   ]
  },
  {
   "cell_type": "code",
   "execution_count": 86,
   "metadata": {},
   "outputs": [],
   "source": [
    "def genNumberV2(start, n):\n",
    "    mostRecentIndex = dict((i, j ) for j,i in enumerate(start[:-1]))\n",
    "    prevNum = start[-1]\n",
    "    for i in range(len(start), n):\n",
    "        try:\n",
    "            newNum = i - mostRecentIndex[prevNum] -1\n",
    "        except KeyError:\n",
    "            newNum = 0\n",
    "        mostRecentIndex[prevNum] = i-1\n",
    "        #print(i, prevNum, newNum, mostRecentIndex)\n",
    "        prevNum = newNum\n",
    "    return newNum"
   ]
  },
  {
   "cell_type": "code",
   "execution_count": 87,
   "metadata": {},
   "outputs": [
    {
     "data": {
      "text/plain": [
       "18234"
      ]
     },
     "execution_count": 87,
     "metadata": {},
     "output_type": "execute_result"
    }
   ],
   "source": [
    "genNumberV2(day15data, 30000000)"
   ]
  },
  {
   "cell_type": "markdown",
   "metadata": {},
   "source": [
    "## Day 16"
   ]
  },
  {
   "cell_type": "code",
   "execution_count": 88,
   "metadata": {},
   "outputs": [],
   "source": [
    "with open(\"data/day16input.txt\", 'r') as f:\n",
    "    day16data = [x.split(\"\\n\") for x in f.read().split(\"\\n\\n\") if x]"
   ]
  },
  {
   "cell_type": "code",
   "execution_count": 89,
   "metadata": {},
   "outputs": [],
   "source": [
    "validities = [[range(int(l), int(r) + 1) for l, r in [x.split(\" or \")[0].split(\" \")[-1].split(\"-\"), \n",
    "                                                  x.split(\" or \")[1].split(\"-\")]] \n",
    "              for x in day16data[0]]\n",
    "columnNames = [x.split(\":\")[0] for x in day16data[0]]\n",
    "yourTicket = [int(x) for x in day16data[1][1].split(\",\")]\n",
    "nearbyTickets = [[int(x) for x in y.split(\",\")] for y in day16data[2][1:] if y]\n"
   ]
  },
  {
   "cell_type": "code",
   "execution_count": 90,
   "metadata": {},
   "outputs": [
    {
     "data": {
      "text/plain": [
       "25059"
      ]
     },
     "execution_count": 90,
     "metadata": {},
     "output_type": "execute_result"
    }
   ],
   "source": [
    "sum(y for x in nearbyTickets for y in x if not any(y in a for b in validities for a in b))"
   ]
  },
  {
   "cell_type": "code",
   "execution_count": 91,
   "metadata": {},
   "outputs": [],
   "source": [
    "def resolveTicketColumns(nearbyTickets, validities):\n",
    "    validTickets = [x for x in nearbyTickets if all(any(y in a for b in validities for a in b) for y in x)]\n",
    "    okMaps = [[i for i in range(len(validTickets[0])) if all(any(x[i] in a for a in v) for x in validTickets)]\n",
    "          for v in validities]\n",
    "    okMapsLengths = [len(x) for x in okMaps]\n",
    "    columnMaps = {} # key is column Name index, value is ticket column index\n",
    "    for i in range(len(okMaps)):\n",
    "        target = okMapsLengths.index(i+1)\n",
    "        columnMaps[target] = next(x for x in okMaps[target] if x not in columnMaps.values())\n",
    "    return columnMaps"
   ]
  },
  {
   "cell_type": "code",
   "execution_count": 92,
   "metadata": {},
   "outputs": [],
   "source": [
    "columnMap = resolveTicketColumns(nearbyTickets, validities)"
   ]
  },
  {
   "cell_type": "code",
   "execution_count": 93,
   "metadata": {},
   "outputs": [
    {
     "data": {
      "text/plain": [
       "3253972369789"
      ]
     },
     "execution_count": 93,
     "metadata": {},
     "output_type": "execute_result"
    }
   ],
   "source": [
    "math.prod(yourTicket[columnMap[i]] for i, cn in enumerate(columnNames) if cn.startswith(\"departure\"))"
   ]
  },
  {
   "cell_type": "markdown",
   "metadata": {},
   "source": [
    "## Day 17"
   ]
  },
  {
   "cell_type": "code",
   "execution_count": 94,
   "metadata": {},
   "outputs": [],
   "source": [
    "with open(\"data/day17input.txt\", 'r') as f:\n",
    "    day17data = [x for x in f.read().split(\"\\n\") if x] # y, x indexing..."
   ]
  },
  {
   "cell_type": "code",
   "execution_count": 95,
   "metadata": {},
   "outputs": [],
   "source": [
    "startLayout = dict()\n",
    "for y, yv in enumerate(day17data):\n",
    "    for x, xv in enumerate(yv):\n",
    "        if xv == '#':\n",
    "            startLayout[(0, y, x)] = xv"
   ]
  },
  {
   "cell_type": "code",
   "execution_count": 96,
   "metadata": {},
   "outputs": [],
   "source": [
    "startLayout4D = dict(((0, z, y, x), v) for (z, y, x), v in startLayout.items())"
   ]
  },
  {
   "cell_type": "code",
   "execution_count": 97,
   "metadata": {},
   "outputs": [],
   "source": [
    "def doCycle(layout):\n",
    "    def getNeighbours(layout, coords):\n",
    "        nbs = []\n",
    "        for offsets in itertools.product((-1, 0, 1), repeat=len(coords)):\n",
    "            if all(of == 0 for of in offsets):\n",
    "                continue\n",
    "            try:\n",
    "                nbs.append(layout[tuple(x+o for x, o in zip(coords, offsets))] == '#')\n",
    "            except KeyError:\n",
    "                pass\n",
    "        return sum(nbs) if nbs else 0\n",
    "    spaceToConsider = set()\n",
    "    for coords in layout.keys():\n",
    "        for offsets in itertools.product((-1, 0, 1), repeat=len(coords)):\n",
    "            spaceToConsider.add(tuple(x+o for x, o in zip(coords, offsets)))\n",
    "    newLayout = {}\n",
    "    for coords in spaceToConsider:\n",
    "        neighbours = getNeighbours(layout, coords)\n",
    "        if neighbours == 3 or (neighbours == 2 and coords in layout and layout[coords] == '#'):\n",
    "            newLayout[coords] = '#'\n",
    "    return newLayout"
   ]
  },
  {
   "cell_type": "code",
   "execution_count": 98,
   "metadata": {},
   "outputs": [],
   "source": [
    "def computeRounds(layout, rounds):\n",
    "    for i in range(6):\n",
    "        layout = doCycle(layout)\n",
    "    return(len(layout))"
   ]
  },
  {
   "cell_type": "code",
   "execution_count": 99,
   "metadata": {},
   "outputs": [
    {
     "data": {
      "text/plain": [
       "271"
      ]
     },
     "execution_count": 99,
     "metadata": {},
     "output_type": "execute_result"
    }
   ],
   "source": [
    "computeRounds(startLayout, 6)"
   ]
  },
  {
   "cell_type": "code",
   "execution_count": 100,
   "metadata": {},
   "outputs": [
    {
     "data": {
      "text/plain": [
       "2064"
      ]
     },
     "execution_count": 100,
     "metadata": {},
     "output_type": "execute_result"
    }
   ],
   "source": [
    "computeRounds(startLayout4D, 6)"
   ]
  },
  {
   "cell_type": "markdown",
   "metadata": {},
   "source": [
    "## Day 18"
   ]
  },
  {
   "cell_type": "code",
   "execution_count": 101,
   "metadata": {},
   "outputs": [],
   "source": [
    "with open(\"data/day18input.txt\", 'r') as f:\n",
    "    day18data = [x for x in f.read().split(\"\\n\") if x]"
   ]
  },
  {
   "cell_type": "code",
   "execution_count": 102,
   "metadata": {},
   "outputs": [],
   "source": [
    "tokenised = [x.replace('(', '( ').replace(')', ' )').split(\" \") for x in day18data]"
   ]
  },
  {
   "cell_type": "code",
   "execution_count": 103,
   "metadata": {},
   "outputs": [],
   "source": [
    "def ltrMaths(token):\n",
    "    i=0\n",
    "    args = []\n",
    "    while i < len(token):\n",
    "        if token[i] == '(':\n",
    "            res, j = ltrMaths(token[i+1:])\n",
    "            i += j\n",
    "            args.append(res)\n",
    "        elif token[i] == ')':\n",
    "            return args[0], i+1\n",
    "        elif token[i] in '+*-':\n",
    "            operator = token[i]\n",
    "        else:\n",
    "            res = int(token[i])\n",
    "            args.append(res)\n",
    "        if len(args) == 2:\n",
    "            args = [args[0] * args[1] if operator == \"*\" else args[0] + args[1]]\n",
    "        i += 1\n",
    "    return args[0]\n",
    "    "
   ]
  },
  {
   "cell_type": "code",
   "execution_count": 104,
   "metadata": {},
   "outputs": [
    {
     "data": {
      "text/plain": [
       "701339185745"
      ]
     },
     "execution_count": 104,
     "metadata": {},
     "output_type": "execute_result"
    }
   ],
   "source": [
    "sum(ltrMaths(x) for x in tokenised)"
   ]
  },
  {
   "cell_type": "code",
   "execution_count": 105,
   "metadata": {},
   "outputs": [],
   "source": [
    "def additionFirstMaths(token):\n",
    "    i=0\n",
    "    res = []\n",
    "    while i < len(token):\n",
    "        if token[i] == '(':\n",
    "            temp, j = additionFirstMaths(token[i+1:])\n",
    "            i += j\n",
    "            res.append(temp)\n",
    "        elif token[i] == ')':\n",
    "            break\n",
    "        else:\n",
    "            res.append(token[i])\n",
    "        i += 1\n",
    "    j=0\n",
    "    res2 = []\n",
    "    while j < len(res):\n",
    "        if res[j] == '+':\n",
    "            res2[-1] = res2[-1] + int(res[j+1])\n",
    "            j += 1\n",
    "        elif res[j] != '*':\n",
    "            res2.append(int(res[j]))\n",
    "        j += 1\n",
    "    return (math.prod(res2), i+1 ) if i < len(token) else math.prod(res2)\n",
    "            "
   ]
  },
  {
   "cell_type": "code",
   "execution_count": 106,
   "metadata": {},
   "outputs": [
    {
     "data": {
      "text/plain": [
       "4208490449905"
      ]
     },
     "execution_count": 106,
     "metadata": {},
     "output_type": "execute_result"
    }
   ],
   "source": [
    "sum(additionFirstMaths(x) for x in tokenised)"
   ]
  },
  {
   "cell_type": "markdown",
   "metadata": {},
   "source": [
    "## Day 19"
   ]
  },
  {
   "cell_type": "code",
   "execution_count": 107,
   "metadata": {},
   "outputs": [],
   "source": [
    "with open(\"data/day19input.txt\", 'r') as f:\n",
    "    day19data = [x.split(\"\\n\") for x in f.read().split(\"\\n\\n\") if x]"
   ]
  },
  {
   "cell_type": "code",
   "execution_count": 108,
   "metadata": {},
   "outputs": [],
   "source": [
    "rules = dict((x.split(\": \")[0], x.split(\": \")[1].strip('\"').split(\" \")) for x in day19data[0] if x)\n",
    "messages = [x for x in day19data[1] if x]"
   ]
  },
  {
   "cell_type": "code",
   "execution_count": 109,
   "metadata": {},
   "outputs": [],
   "source": [
    "def simplifyRules(rules):\n",
    "    rules = rules.copy()\n",
    "    while len(rules) > 1:\n",
    "        rNum, rt = next((i, t) for i, t in rules.items() if not any(x in rules for x in t))\n",
    "        if \"|\" in rt:\n",
    "            rt = [\"(\"] + rt + [\")\"]\n",
    "        del rules[rNum]\n",
    "        for k in rules:\n",
    "            while True:\n",
    "                try:\n",
    "                    rIndex = rules[k].index(rNum)\n",
    "                    rules[k] = rules[k][:rIndex] + rt + rules[k][rIndex + 1:]\n",
    "                except ValueError:\n",
    "                    break\n",
    "    return \"\".join(rules['0'])"
   ]
  },
  {
   "cell_type": "code",
   "execution_count": 110,
   "metadata": {
    "scrolled": true
   },
   "outputs": [
    {
     "data": {
      "text/plain": [
       "'((a((a(a((aab|(bb|aa)a)a|(((a|b)b|aa)(a|b))b)|b(bbab|((aa|ab)b|(bb|aa)a)a))|b(b(((a(a|b)|ba)b|bba)b|(((a|b)b|aa)(a|b))a)|a(a(a(ba|aa)|b(a(a|b)|ba))|b(b((a|b)(a|b))|aaa))))b|(b(a((a(aa|ab)|bab)b|(a(aa|ab)|baa)a)|b((((a|b)b|aa)a|(bb|ab)b)a|(aab|b(a(a|b)|ba))b))|a((a(b(a(a|b)|ba))|b(b(bb|aa)|aab))b|(a(b((a|b)b|aa)|a(aa|ab))|b((ab|b(a|b))b))a))a)|b((a((((aa|ab)a|abb)b|(a(aa|ab)|b(ba|aa))a)b|(b(b(ba|aa)|abb)|a(bab|(bb|aa)a))a)|b(b(b((ba|ab)a|(bb|ab)b)|a((aa|ab)a|aab))|a(b((ab|b(a|b))(a|b))|a(b(ab|b(a|b))|a(bb|aa)))))b|((a((((a|b)(a|b))a|(aa|ab)b)a|(a(ba|aa)|b(aa|ab))b)|b(a((a|b)(ba|ab))|b(aba|b(a(a|b)|ba))))b|(((((a|b)(a|b))a|(aa|ab)b)a|(bbb|a(bb|ab))b)b|((bbb|(ba|ab)a)a|((ab|b(a|b))b|aba)b)a)a)a)))((a((a(a((aab|(bb|aa)a)a|(((a|b)b|aa)(a|b))b)|b(bbab|((aa|ab)b|(bb|aa)a)a))|b(b(((a(a|b)|ba)b|bba)b|(((a|b)b|aa)(a|b))a)|a(a(a(ba|aa)|b(a(a|b)|ba))|b(b((a|b)(a|b))|aaa))))b|(b(a((a(aa|ab)|bab)b|(a(aa|ab)|baa)a)|b((((a|b)b|aa)a|(bb|ab)b)a|(aab|b(a(a|b)|ba))b))|a((a(b(a(a|b)|ba))|b(b(bb|aa)|aab))b|(a(b((a|b)b|aa)|a(aa|ab))|b((ab|b(a|b))b))a))a)|b((a((((aa|ab)a|abb)b|(a(aa|ab)|b(ba|aa))a)b|(b(b(ba|aa)|abb)|a(bab|(bb|aa)a))a)|b(b(b((ba|ab)a|(bb|ab)b)|a((aa|ab)a|aab))|a(b((ab|b(a|b))(a|b))|a(b(ab|b(a|b))|a(bb|aa)))))b|((a((((a|b)(a|b))a|(aa|ab)b)a|(a(ba|aa)|b(aa|ab))b)|b(a((a|b)(ba|ab))|b(aba|b(a(a|b)|ba))))b|(((((a|b)(a|b))a|(aa|ab)b)a|(bbb|a(bb|ab))b)b|((bbb|(ba|ab)a)a|((ab|b(a|b))b|aba)b)a)a)a))(b(((((b(bb|ab))a|(a(ba|aa)|b(a(a|b)|ba))b)b|(((a(a|b)|ba)b|(bb|aa)a)a|(a(aa|ab)|b(ba|aa))b)a)a|(b((baa|a(ba|aa))a|(b((a|b)b|aa)|a(bb|ab))b)|a((b(bb|ab))a|(bba|((a|b)b|aa)b)b))b)a|(a((b((a|b)(ab|b(a|b)))|a(b(ba|aa)|abb))b|(a(a(ab|b(a|b))|b(bb|aa))|b(b(bb|ab)|a(a(a|b)|ba)))a)|b(a(a(baa|a(ba|ab))|b(aab|aaa))|b(((ba|ab)a|(bb|ab)b)a|(a(ab|b(a|b))|b(ba|aa))b)))b)|a(b((((a(ba|aa)|b(a(a|b)|ba))a|((bb|aa)b|(aa|ab)a)b)b|((aba|bba)b|bbaa)a)b|(((a(ab|b(a|b))|b(ba|aa))b|(a(bb|ab)|bba)a)a|(((a|b)(bb|ab))b|(b(aa|ab)|a(ab|b(a|b)))a)b)a)|a(b(((((a|b)(a|b))a|aab)a|((ba|ab)b|((a|b)b|aa)a)b)a|(a(b((a|b)b|aa)|a(bb|ab))|b(((a|b)b|aa)(a|b)))b)|a(b(a((a|b)(bb|ab))|b(bab|(bb|aa)a))|a(b(((a|b)(a|b))a|(ba|aa)b)|a(aba|bba)))))))'"
      ]
     },
     "execution_count": 110,
     "metadata": {},
     "output_type": "execute_result"
    }
   ],
   "source": [
    "simplifyRules(rules)"
   ]
  },
  {
   "cell_type": "markdown",
   "metadata": {},
   "source": [
    "lol. Well that was fun but not helpful really... I mean I could stick this into `re.match`, but that would be lazy :P"
   ]
  },
  {
   "cell_type": "code",
   "execution_count": 111,
   "metadata": {},
   "outputs": [],
   "source": [
    "def validateMessage(msg, rules, toprint=False):\n",
    "    rs = [('0', 0, [0])] # ruleStack: rule, j (i.e. rule[j]), [valid indices in message]\n",
    "    k = 0\n",
    "    while rs:\n",
    "        r, j, validI = rs.pop()\n",
    "        if not validI:\n",
    "            if toprint: print(\"k: %d, rule[%s][%d] validI is empty\" %(k, r, j))\n",
    "            k += 1\n",
    "            continue\n",
    "        if j == 0 and '|' in rules[r]:\n",
    "            rs.append((r, rules[r].index('|') + 1, [x for x in validI]))\n",
    "            if toprint:\n",
    "                print(\"k: %d, rule[%s] = %s contains |, adding branch point to stack\" %(k, r, \" \".join(rules[r])))\n",
    "        if j == len(rules[r]):\n",
    "            if rs:\n",
    "                rs[-1][2].extend(validI)\n",
    "            if toprint:\n",
    "                print(\"k: %d, finished rule[%s]=%s, validI: %s, rs: %s\" %(k, r, \" \".join(rules[r]), repr(validI), repr(rs)))\n",
    "        else:\n",
    "            cr = rules[r][j]\n",
    "            if toprint: print(\"k: %d, rule[%s][%d] = %s, validI: %s, rs: %s\" %(k, r, j, cr, repr(validI), repr(rs)))\n",
    "            if cr in 'ab':\n",
    "                if toprint: print(\"rule is \\\"%s\\\", (i, msg[i]) for i in validI: %s\" %(cr,\n",
    "                                        \", \".join([\"(%d, %s)\" %(i, msg[i]) for i in validI if i < len(msg)])))\n",
    "                rs.append((r, j+1, [i+1 for i in validI if i < len(msg) and msg[i] == cr]))\n",
    "            elif cr == '|':\n",
    "                rs[-2][2].extend(validI)\n",
    "            else:\n",
    "                rs.append((r, j+1, []))\n",
    "                rs.append((cr, 0, validI))\n",
    "        k += 1\n",
    "    return len(msg) in validI"
   ]
  },
  {
   "cell_type": "code",
   "execution_count": 112,
   "metadata": {},
   "outputs": [],
   "source": [
    "## for debugging and understanding the algorithm\n",
    "#validateMessage(messages[1], rules, toprint=True)"
   ]
  },
  {
   "cell_type": "code",
   "execution_count": 113,
   "metadata": {},
   "outputs": [
    {
     "data": {
      "text/plain": [
       "200"
      ]
     },
     "execution_count": 113,
     "metadata": {},
     "output_type": "execute_result"
    }
   ],
   "source": [
    "sum(validateMessage(message, rules) for message in messages)"
   ]
  },
  {
   "cell_type": "code",
   "execution_count": 114,
   "metadata": {},
   "outputs": [],
   "source": [
    "rules['8'] = ['42', '|', '42', '8']\n",
    "rules['11'] = ['42', '31', '|', '42', '11', '31']"
   ]
  },
  {
   "cell_type": "code",
   "execution_count": 115,
   "metadata": {},
   "outputs": [
    {
     "data": {
      "text/plain": [
       "407"
      ]
     },
     "execution_count": 115,
     "metadata": {},
     "output_type": "execute_result"
    }
   ],
   "source": [
    "sum(validateMessage(message, rules) for message in messages)"
   ]
  },
  {
   "cell_type": "markdown",
   "metadata": {},
   "source": [
    "## Day 20"
   ]
  },
  {
   "cell_type": "code",
   "execution_count": 116,
   "metadata": {},
   "outputs": [],
   "source": [
    "with open(\"data/day20input.txt\", 'r') as f:\n",
    "    day20data = [x.split(\"\\n\") for x in f.read().split(\"\\n\\n\") if x]"
   ]
  },
  {
   "cell_type": "code",
   "execution_count": 117,
   "metadata": {},
   "outputs": [],
   "source": [
    "tiles = dict((int(x[0].split(\" \")[1][:-1]), x[1:]) for x in day20data)"
   ]
  },
  {
   "cell_type": "code",
   "execution_count": 118,
   "metadata": {},
   "outputs": [],
   "source": [
    "def generateAllOrientations(tile):\n",
    "    def flipTile(tile):\n",
    "        return [x[::-1] for x in tile]\n",
    "    def rotateTile(tile):\n",
    "        return [\"\".join(x[len(x)-i-1] for x in tile) for i in range(len(tile))]\n",
    "    states = [tile]\n",
    "    ct = tile\n",
    "    for i in range(7):\n",
    "        if i % 4 == 3:\n",
    "            ct = flipTile(tile)\n",
    "        ct = rotateTile(ct)\n",
    "        states.append(ct)\n",
    "    return states"
   ]
  },
  {
   "cell_type": "code",
   "execution_count": 119,
   "metadata": {},
   "outputs": [],
   "source": [
    "def getLayout(tiles):\n",
    "    x, y = (0, 0)\n",
    "    layout = {}\n",
    "    layout[(x, y)] = next(iter(tiles.items())) + (0,)\n",
    "    surrounding = [(0, 1), (1, 1), (1, 0), (1, -1), (0, -1), (-1, -1), (-1, 0), (-1, 1)]\n",
    "    bordering = {(0, 1): (lambda x: x[0], lambda x: x[-1]), \n",
    "                 (1, 0): (lambda x: \"\".join(y[-1] for y in x), lambda x: \"\".join(y[0] for y in x)),\n",
    "                 (0, -1): (lambda x: x[-1], lambda x: x[0]),\n",
    "                 (-1, 0): (lambda x: \"\".join(y[0] for y in x), lambda x: \"\".join(y[-1] for y in x))}\n",
    "    allPotentialTiles = dict((k, generateAllOrientations(v)) for k, v in tiles.items() if k != layout[(0, 0)][0])\n",
    "    i = 1\n",
    "    while len(layout) < len(tiles):\n",
    "        for xn in range(-i, i+1):\n",
    "            for yn in range(-i, i+1):\n",
    "                if (xn, yn) not in layout:\n",
    "                    #xn, yn = x + i*xu, y + i*yu\n",
    "                    potentialNeighbours = [(k, can, j) for k, tile in allPotentialTiles.items() \n",
    "                                           for j, can in enumerate(tile) if\n",
    "                                           all(tb(can) == ob(layout[(xn + ni, yn + nj)][1]) \n",
    "                                               for (ni, nj), (tb, ob) in bordering.items() \n",
    "                                               if (xn + ni, yn + nj) in layout)]\n",
    "                    if len(potentialNeighbours) == 1:\n",
    "                        layout[(xn, yn)] = potentialNeighbours[0]\n",
    "                        del allPotentialTiles[potentialNeighbours[0][0]]\n",
    "                    elif len(potentialNeighbours) == sum(len(x) for x in allPotentialTiles.values()):\n",
    "                        pass\n",
    "                    elif len(potentialNeighbours) > 1:\n",
    "                        raise ValueError(\"I did not consider this possibility\")\n",
    "        i += 1\n",
    "    return layout"
   ]
  },
  {
   "cell_type": "code",
   "execution_count": 120,
   "metadata": {},
   "outputs": [],
   "source": [
    "layout = getLayout(tiles)"
   ]
  },
  {
   "cell_type": "code",
   "execution_count": 121,
   "metadata": {},
   "outputs": [
    {
     "data": {
      "text/plain": [
       "18411576553343"
      ]
     },
     "execution_count": 121,
     "metadata": {},
     "output_type": "execute_result"
    }
   ],
   "source": [
    "xmin, ymin = min(x[0] for x in layout.keys()), min(x[1] for x in layout.keys())\n",
    "xmax, ymax = max(x[0] for x in layout.keys()), max(x[1] for x in layout.keys())\n",
    "layout[(xmin, ymin)][0] * layout[(xmin, ymax)][0] * layout[(xmax, ymin)][0] * layout[(xmax, ymax)][0]"
   ]
  },
  {
   "cell_type": "code",
   "execution_count": 122,
   "metadata": {},
   "outputs": [
    {
     "data": {
      "text/plain": [
       "(-9, -10, 2, 1)"
      ]
     },
     "execution_count": 122,
     "metadata": {},
     "output_type": "execute_result"
    }
   ],
   "source": [
    "xmin, ymin, xmax, ymax"
   ]
  },
  {
   "cell_type": "code",
   "execution_count": 123,
   "metadata": {},
   "outputs": [],
   "source": [
    "def mergeImage(layout):\n",
    "    fullImage = []\n",
    "    for yi in range(ymax, ymin-1, -1):\n",
    "        for i in range(1, 9):\n",
    "            fullImage.append(\"\".join(layout[(xi, yi)][1][i][1:-1] for xi in range(xmin, xmax + 1)))\n",
    "    return fullImage          "
   ]
  },
  {
   "cell_type": "code",
   "execution_count": 124,
   "metadata": {},
   "outputs": [],
   "source": [
    "merged = mergeImage(layout)"
   ]
  },
  {
   "cell_type": "code",
   "execution_count": 125,
   "metadata": {},
   "outputs": [
    {
     "data": {
      "text/plain": [
       "['..#..###......###.#.#.#......#...#.#...#.......##............##.........#.#..#......#..####...#.',\n",
       " '.....#..#.....#.#..#......#....#......#......#................#..............#.....#.........#.#',\n",
       " '................#.................#...#....##.##..#..##.#..####..#.......#..#..#.##..##.#.......',\n",
       " '.#......####..#..#.##..#.......#..##......##...####...##....##....#...###....##.##.##....#..##..',\n",
       " '.#.#.###..#.##....##....#...#.....#.............##..#....#........##...#.................#.....#',\n",
       " '##..#.#.....#.#..#...##...............#............#....##...##.#.###........#........##..#..##.',\n",
       " '......#...#...#......#.#..#.##..#.....##.##..#...#.#...#.####..#..#.....#........##.#.#.#.#.....',\n",
       " '......##.#.##.#...........#..#...........#........#..##....#..#..#..#..#..#......#...#....#.....',\n",
       " '..#......#..#.##..#.##..#......#...................##...###....##..#.##.#..##....#....#....#.#..',\n",
       " '......####.#.##....###...#............###.#.##.##....#...##..#.#.....##.#.#.#.#.##.#..#.##......',\n",
       " '......##...#.....................#..#..#..##.#.###.##..#..#....#.......#.#................#.....',\n",
       " '..#..#..#.....##......##.#...#.#.####...##....####..#....##..##...#.#.......#...#.....#.........',\n",
       " '..#........##.#.........##...##...##...#.##......#..#.##.#.........###.#.##...#.#......#....#...',\n",
       " '.#..#.................#......##..#.......#..#......................#.#.....#.....#..........#...',\n",
       " '.#.#.#...#....####..#####.#..#...#.#.#....##..#..#.##..........#.#......#.##.#..#..#.##..#......',\n",
       " '..#..#..#..####...##..#####..##..##.####..#......#.....##....#..#.#...#####...##....##....#...#.',\n",
       " '...........###..#.....##.....###....###....##....#.......#.#............#........#......#..#.#..',\n",
       " '#...............#.##.#...#.......#.........##..#..#.#####..#..#..#...#.##.#................#....',\n",
       " '.#....#..##..#.......#..#....#.#.....#....#....####...##...###....#..#.....####..#.....##......#',\n",
       " '...#.#....#.#..#.....#.....##.#.........##.#..#.#........##.##.##.#...#.....#...#.....##...#.##.',\n",
       " '..........#........#.....#..#..#..##.#.##..#...........#..#..........#..........#........##..#..',\n",
       " '#...#..#....#.#....#..####...##...####...#.....#.#..#...#...........#..#..#..#.##..#..##......#.',\n",
       " '..#.............#.##...#.#...........#...#....#........#..#...#....####...###...###.#..#.....#..',\n",
       " '###.#..#.#.#.............#.##...#............#....#...##..........#..#....#...........#...##..#.',\n",
       " '##.##....#..#.####...#..#.#......#..##.#..#.##..#..##.....##.#.......#..#..#..#.##.....#.#..###.',\n",
       " '...#.#..##.#.##.###.#..#..#.###..###....###...###.#.#......#.##........#..##.#...#.....##.#...#.',\n",
       " '.#####...####..##.#..#............#.###.....#..###.#........#.........#.##.##.....##...#..#..#..',\n",
       " '..##.....#.####..##.##.#.#....#..#........#..#...#..#.......#.....####.#...#.....#...#..##..#...',\n",
       " '...#......##....#.......#......#.#...#...#..#.#.###.#...#.#.#.#........##..#....#.#.##.........#',\n",
       " '.....#.......#.........#.....#....#.####....#.#.###.........#.#.....#..#..#..#..##.###..#.#.##.#',\n",
       " '..##.##.#....#.##..#..##.##.#...#.#..#.##..##.#..#..#.#.##....#..###....###..###....#......#....',\n",
       " '.#.#...#..###.#.###....###.#.#.#..###....###...####..#..#.##.#....#.......#...#.#.......##...##.',\n",
       " '.##.#...#..#..#....#.....#.......###...#....#..#.#..#..#.#......##......##....##..#.........#...',\n",
       " '#.....#.#.................##.........#..##......#.##....#.#..........#............#..#..#....#.#',\n",
       " '...........#.#....#........##...#.......#...............##.....#..#.......#..#..#.##..#.##.#....',\n",
       " '..###........#.#.........#.......#..#...#.#.#.......#...##.#.......#...###..####.##.##....###..#',\n",
       " '.#.#...#...#..#..##.##.##.#..#...#.......#.#.....#..#.###.#.......#.#...#...#........#...##..##.',\n",
       " '...#...####....##.##.##.#..#...#.##.#..#..#..#..#.#.....###....#..........#...#...#...#..#..##.#',\n",
       " '.........#...#..#.#.#.......#.###....##....##....#..#.#.#..####..##..#......#...#..#..###.#...#.',\n",
       " '......#.#....#.........#.......##.#......#..#..#.#....#....###...............#....#.............',\n",
       " '.....#..#...................#.....##.#.......#....#####......#....#.....#..#............#..#....',\n",
       " '##.......##.............#..#.#....##.#....#.....##.#..#..#..#..#...#.#.#.###.....##........##...',\n",
       " '#....#....#.#........#....#.#....#.....#.#..####....##....##....##......#....#....#...###..#....',\n",
       " '##.#.............#.#.....###....#.###.#.......#..#....#..#.....#.#.....#..##..#.#.........#..##.',\n",
       " '..#.......#.#.....#..#...#..#...........##...#...#......#......#..#.........#..#.##..#.....#.###',\n",
       " '....#....##...#............#.#.........#...#..........##........#....#...##..#.##....##.........',\n",
       " '........#..##.#..#..##.#..##.#.#...#.#..##..................##.##...#...........#............##.',\n",
       " '####.#.....###.#..###...##..#.#.##.....#.......#......#.#..................###..#..#..#.##..#..#',\n",
       " '.....#......#.#....#.#......##........#.....#.#..##..#.....#..#.....##....###..#.###..###....#..',\n",
       " '..#.#.#.........#..#....#...##...#....#....##......##.....#..#..#..#....####.#..#....#....##...#',\n",
       " '.....#.....#.....#......##...#.#..#..#..##.##.#.....#....#...#.#............#........#..#..#...#',\n",
       " '..............#...###.......###..#.##....##....#.....#..##.##.........#.#..#.#.......#........#.',\n",
       " '...#..........#.#.#.#.#...#..#...##....#.#.......#.........#....................#.......#.....#.',\n",
       " '.........#..##.#..#..#.##.....#......#.....#........###.#..#..#.##..#..#......#........#....#...',\n",
       " '......###....##...###..#.###.#..#........#.#.#....###.##.##....##....##..##....##.#.............',\n",
       " '....##.#...#.##..#.##...#........#.....###.....##.##.......#....#..#..#..##.#.........#.#.......',\n",
       " '..#......#..#.##.........#..##..#..#..#.#.....#.#........#.......#.#..#.#.#.....#....#..........',\n",
       " '##.#.....##.#........#...#.............#........#..#...##..##...#..#..#.##..#..#.....##.#.......',\n",
       " '........#..#.#.#.......#...##.#.......#......#..#...#..#..#..###..#.##..####.##.###.....#.......',\n",
       " '....#...............##.#....##..#..##.#..#..#.#.....#.........##....#....#.##......#........##..',\n",
       " '##..#..#...#......#.....#.###.#..##.##.##...##.........##....#.##..##.#..#....#...#.#.....##....',\n",
       " '#.##.###.........#.##.....###......##.#.........#....#..#......#.#.........##.#.##..#..#..#.....',\n",
       " '###...#...#...#.#..###.......#.......##..#.#...#.##.......##....#.#.....###....##....####..#....',\n",
       " '.#.....#..#....#...#..##....#.#..#......#.#.....#..#.##..#..#..#.##.###..#..#......##..#........',\n",
       " '.......#.###....#.#....#.....#..#....#.....#.###....##....##....##....##..#.....#.#....#...#.###',\n",
       " '.#.#..#.##..#..##.##.#..##.##.##.#.........####..##..#.............#.#........#.##............#.',\n",
       " '...#....#......###....##....###...#...#.###.#.#.....#...#........#.##.....#.#........##......#..',\n",
       " '#..###..........#.......#.......##..##..#......#..#...........###.##...#...##.#............##..#',\n",
       " '#......#................#....#.#..#....#.#..#..#....#...#.....#.....#...........##..............',\n",
       " '#.#...#.##..#..#.............#..#..#.#..#.##.#...........##.#..#.##..#..#.##.##...#...#...##....',\n",
       " '....#.....##.#.#..#...#....##...##.......#..........#.###.#.###....##....#.#...#...#..#.........',\n",
       " '...#..#.....#.#......#..##...##.#....#......#........###...##.#..#......#.#.#........#.....#..#.',\n",
       " '..........##.#..#..#.......###.##.##........#.#...#............#....##....##...#...#.#.#..#.#...',\n",
       " '.#.#.####.#..#.##..#..#.....##.#..#.###.####.####.....#.......#..#.....#..#..#......#..#..#.....',\n",
       " '#...###....##....##....#....###..####.#..###...#................#...........####..#..##.####.#.#',\n",
       " '...###.....##......#...###...#..#...##........#.......#.....#....#....#..###.#..##..####.#..##..',\n",
       " '...#..#...#.#..........#.#.....#..#..#..##......#.#......#...#...##..##.#.###.....#.#...#.......',\n",
       " '#.#...#.........#.....##..#..........#.#...##........#......#.....#.........##.###..#.##..###..#',\n",
       " '#..##...##.....................#.....#.#...#.....#..##.#.#.....##..#................##.#.......#',\n",
       " '..##...#.#...###.......#.#...#..##.....#..#......###.......#...##......#..#.###.#..#..#..#...##.',\n",
       " '...##..##..####..#..#.##...##....#...#..#....#..###.####..#..#..#...###....##...###....#..#...#.',\n",
       " '..#..###.#..###.#.###...##...#..#.............###....##.#..####..#...#.......#...........#......',\n",
       " '....#.#...####...##....#.#...#.........#.......#.#.#...............##.....##...#.....#...##.....',\n",
       " '.#....#.......##.###.##..#....#...#.#...#.##.##..##..#...#.......#..#..#...................#....',\n",
       " '..#..#.......####..#..#..#..#...#...###...#...##...#..........##......#.#...#..#..##.####..#.##.',\n",
       " '.......#..#####..##.#.####...#.##...#.#.#.........##..#...........##..#..###....##.##.##....#...',\n",
       " '.##..#....###....###.#.#...#..#.##....#...#...#..#.#..........#......##...##.#...#.#..#..#.#.##.',\n",
       " '.#....#.#.#.........#.#.....#......#.#..#...####....................#.#......#...#..###.......#.',\n",
       " '#..#.#...#..#.#.........#.#.#........#....#...#..#.##..####..#..#...........#.#..#...####.......',\n",
       " '..#..#.##.#.#..#....#..#.......#...#..........###....##....##....#..#...#........##..##.#.......',\n",
       " '.#......#...#...#...#....#..#..#..##.##.##.....##...#.#..#.#.#....#.#......#.........#.#......#.',\n",
       " '..............#.....#####...###..#.##...##.....#....######..#..........#.#....#...#..#......#...',\n",
       " '..#.#..#.....#..##...#.#....#.#......#.#..........#..###..#..#..#..#..###....##..#.##..#..#..#..',\n",
       " '..............#.#........##.........#..#...#....#...###....##....###...##..###....##.##.##.#..#.',\n",
       " '.......#..#.#.....#...#....#....###....##..##...#....#.#.#......#....##.#...#......#.#....#..#..',\n",
       " '.......#..#.....#.#...#.#...#.##.#..#..#..#.#..###...#........#.....##...#...####..#..........##']"
      ]
     },
     "execution_count": 125,
     "metadata": {},
     "output_type": "execute_result"
    }
   ],
   "source": [
    "merged"
   ]
  },
  {
   "cell_type": "code",
   "execution_count": 126,
   "metadata": {},
   "outputs": [],
   "source": [
    "seaMonster = \"\"\"                  # \n",
    "#    ##    ##    ###\n",
    " #  #  #  #  #  #   \"\"\".split(\"\\n\")"
   ]
  },
  {
   "cell_type": "code",
   "execution_count": 127,
   "metadata": {},
   "outputs": [],
   "source": [
    "smIndex = [(xi, yi) for yi, y in enumerate(seaMonster) for xi, x in enumerate(y) if x == '#']"
   ]
  },
  {
   "cell_type": "code",
   "execution_count": null,
   "metadata": {},
   "outputs": [],
   "source": []
  },
  {
   "cell_type": "code",
   "execution_count": 128,
   "metadata": {},
   "outputs": [],
   "source": [
    "def findSeamonster(merged, smIndex):\n",
    "    for m in generateAllOrientations(merged):\n",
    "        smStart = []\n",
    "        for xi in range(0, len(m[0]) - max(x[0] for x in smIndex)):\n",
    "            for yi in range(0, len(m) - max(x[1] for x in smIndex)):\n",
    "                if all(m[yi + smy][xi + smx] == '#' for smx, smy in smIndex):\n",
    "                    smStart.append((xi, yi))\n",
    "        if smStart:\n",
    "            return m, smStart\n",
    "    raise ValueError(\"None Found\")"
   ]
  },
  {
   "cell_type": "code",
   "execution_count": 129,
   "metadata": {},
   "outputs": [],
   "source": [
    "def getSeamonsterCoords(merged, smIndex):\n",
    "    smLayout, smLocs = findSeamonster(merged, smIndex)\n",
    "    smCoords = []\n",
    "    for smxStart, smyStart in smLocs:\n",
    "        smCoords.extend((smxStart + smx, smyStart + smy) for smx, smy in smIndex)\n",
    "    smCoords = list(set(smCoords))\n",
    "    return smLayout, smCoords"
   ]
  },
  {
   "cell_type": "code",
   "execution_count": 130,
   "metadata": {},
   "outputs": [],
   "source": [
    "smLayout, smCoords = getSeamonsterCoords(merged, smIndex)"
   ]
  },
  {
   "cell_type": "code",
   "execution_count": 131,
   "metadata": {},
   "outputs": [
    {
     "data": {
      "text/plain": [
       "2002"
      ]
     },
     "execution_count": 131,
     "metadata": {},
     "output_type": "execute_result"
    }
   ],
   "source": [
    "sum(smLayout[yi][xi] == '#' for yi, y in enumerate(smLayout) for xi in range(len(y))) - len(smCoords)"
   ]
  },
  {
   "cell_type": "code",
   "execution_count": 132,
   "metadata": {},
   "outputs": [],
   "source": [
    "def printSeamonster(smLayout, smCoords):\n",
    "    layout = [list(x) for x in smLayout]\n",
    "    for xi, yi in smCoords:\n",
    "        layout[yi][xi] = '\\x1b[1;37;40mO\\x1b[0m'\n",
    "    print(\"\\n\".join(\"\".join(x for x in y) for y in layout))"
   ]
  },
  {
   "cell_type": "code",
   "execution_count": 133,
   "metadata": {},
   "outputs": [
    {
     "name": "stdout",
     "output_type": "stream",
     "text": [
      "##..........#..####...#...##.....#........#...###..#.#..#..#..#.##.#...#.#...#.#.....#..#.......\n",
      "..#..#....#.#......\u001b[1;37;40mO\u001b[0m...#.##....#......#.#.\u001b[1;37;40mO\u001b[0m....#...##..##....###....#....#...#.....#.#..#.......\n",
      ".\u001b[1;37;40mO\u001b[0m..#.\u001b[1;37;40mO\u001b[0m\u001b[1;37;40mO\u001b[0m.##.\u001b[1;37;40mO\u001b[0m\u001b[1;37;40mO\u001b[0m....\u001b[1;37;40mO\u001b[0m\u001b[1;37;40mO\u001b[0m\u001b[1;37;40mO\u001b[0m..#\u001b[1;37;40mO\u001b[0m...#\u001b[1;37;40mO\u001b[0m\u001b[1;37;40mO\u001b[0m....\u001b[1;37;40mO\u001b[0m\u001b[1;37;40mO\u001b[0m....\u001b[1;37;40mO\u001b[0m\u001b[1;37;40mO\u001b[0m\u001b[1;37;40mO\u001b[0m...#....#...#..#.........##........#.#..............\n",
      "..\u001b[1;37;40mO\u001b[0m..\u001b[1;37;40mO\u001b[0m..\u001b[1;37;40mO\u001b[0m..\u001b[1;37;40mO\u001b[0m#.\u001b[1;37;40mO\u001b[0m..\u001b[1;37;40mO\u001b[0m#....##\u001b[1;37;40mO\u001b[0m..\u001b[1;37;40mO\u001b[0m..\u001b[1;37;40mO\u001b[0m..\u001b[1;37;40mO\u001b[0m..\u001b[1;37;40mO\u001b[0m..\u001b[1;37;40mO\u001b[0m##..#..........#.#......#.#....\u001b[1;37;40mO\u001b[0m.#...##..#.....#..#.#..\n",
      "...#......#..#...#....#.#..........#..######....#.....\u001b[1;37;40mO\u001b[0m#...\u001b[1;37;40mO\u001b[0m\u001b[1;37;40mO\u001b[0m.#..\u001b[1;37;40mO\u001b[0m\u001b[1;37;40mO\u001b[0m#...\u001b[1;37;40mO\u001b[0m\u001b[1;37;40mO\u001b[0m\u001b[1;37;40mO\u001b[0m##.....#..............\n",
      ".#......#.#.........#......#.#....#.#.#..#.#...#\u001b[1;37;40mO\u001b[0m.....#\u001b[1;37;40mO\u001b[0m.#\u001b[1;37;40mO\u001b[0m.#\u001b[1;37;40mO\u001b[0m..\u001b[1;37;40mO\u001b[0m..\u001b[1;37;40mO\u001b[0m..\u001b[1;37;40mO\u001b[0m....#...#...#...#......#.\n",
      ".......#.##..##........#...#..\u001b[1;37;40mO\u001b[0m....\u001b[1;37;40mO\u001b[0m\u001b[1;37;40mO\u001b[0m....\u001b[1;37;40mO\u001b[0m\u001b[1;37;40mO\u001b[0m....\u001b[1;37;40mO\u001b[0m\u001b[1;37;40mO\u001b[0m\u001b[1;37;40mO\u001b[0m..........#...#.......#..#....#..#.#.##.#..#..\n",
      ".......####...#..#.#...........\u001b[1;37;40mO\u001b[0m..\u001b[1;37;40mO\u001b[0m..\u001b[1;37;40mO\u001b[0m##\u001b[1;37;40mO\u001b[0m..\u001b[1;37;40mO\u001b[0m#.\u001b[1;37;40mO\u001b[0m..#...#....#........#.#.#.........#.#..#...#.#..#\n",
      ".#.......###..#...#......#.#....................####...#..#.#......#.....#.#.........#.#.#....#.\n",
      ".##.#.#..#..#.#...#.#\u001b[1;37;40mO\u001b[0m...##......#..........#.#..#...#...#....##.#..#...#.#.###....#\u001b[1;37;40mO\u001b[0m#....#..##.\n",
      "...\u001b[1;37;40mO\u001b[0m....\u001b[1;37;40mO\u001b[0m\u001b[1;37;40mO\u001b[0m.##.\u001b[1;37;40mO\u001b[0m\u001b[1;37;40mO\u001b[0m....\u001b[1;37;40mO\u001b[0m\u001b[1;37;40mO\u001b[0m\u001b[1;37;40mO\u001b[0m..#..##...........#..##.........#.#.#...##.\u001b[1;37;40mO\u001b[0m...#\u001b[1;37;40mO\u001b[0m\u001b[1;37;40mO\u001b[0m#.#.\u001b[1;37;40mO\u001b[0m\u001b[1;37;40mO\u001b[0m..##\u001b[1;37;40mO\u001b[0m\u001b[1;37;40mO\u001b[0m\u001b[1;37;40mO\u001b[0m..#.......\n",
      ".##.\u001b[1;37;40mO\u001b[0m..\u001b[1;37;40mO\u001b[0m##\u001b[1;37;40mO\u001b[0m.#\u001b[1;37;40mO\u001b[0m..\u001b[1;37;40mO\u001b[0m..\u001b[1;37;40mO\u001b[0m...#.#......##..........#...##...#...###...#...\u001b[1;37;40mO\u001b[0m..\u001b[1;37;40mO\u001b[0m..\u001b[1;37;40mO\u001b[0m..\u001b[1;37;40mO\u001b[0m..\u001b[1;37;40mO\u001b[0m##\u001b[1;37;40mO\u001b[0m.......#..#..\n",
      "....#...................#..#..#.......#...#..##..##.##.#...#.#...#....#..##.###.##.......#....#.\n",
      ".....##...#.....#...##.....##...............#.#.\u001b[1;37;40mO\u001b[0m.......#.........#...#.#....##...####...\u001b[1;37;40mO\u001b[0m.#....\n",
      "......#...........#.......\u001b[1;37;40mO\u001b[0m...\u001b[1;37;40mO\u001b[0m..##\u001b[1;37;40mO\u001b[0m\u001b[1;37;40mO\u001b[0m..#.\u001b[1;37;40mO\u001b[0m\u001b[1;37;40mO\u001b[0m....\u001b[1;37;40mO\u001b[0m\u001b[1;37;40mO\u001b[0m\u001b[1;37;40mO\u001b[0m.............#..#...#\u001b[1;37;40mO\u001b[0m...#\u001b[1;37;40mO\u001b[0m\u001b[1;37;40mO\u001b[0m.#.#\u001b[1;37;40mO\u001b[0m\u001b[1;37;40mO\u001b[0m..#.\u001b[1;37;40mO\u001b[0m\u001b[1;37;40mO\u001b[0m\u001b[1;37;40mO\u001b[0m..#..\n",
      ".#...#..\u001b[1;37;40mO\u001b[0m....\u001b[1;37;40mO\u001b[0m\u001b[1;37;40mO\u001b[0m#...\u001b[1;37;40mO\u001b[0m\u001b[1;37;40mO\u001b[0m....\u001b[1;37;40mO\u001b[0m\u001b[1;37;40mO\u001b[0m\u001b[1;37;40mO\u001b[0m...\u001b[1;37;40mO\u001b[0m..\u001b[1;37;40mO\u001b[0m..\u001b[1;37;40mO\u001b[0m..\u001b[1;37;40mO\u001b[0m##\u001b[1;37;40mO\u001b[0m.#\u001b[1;37;40mO\u001b[0m#..#....#..#...#....##...\u001b[1;37;40mO\u001b[0m#.\u001b[1;37;40mO\u001b[0m..\u001b[1;37;40mO\u001b[0m..\u001b[1;37;40mO\u001b[0m##\u001b[1;37;40mO\u001b[0m..\u001b[1;37;40mO\u001b[0m#..##...\n",
      ".##...#..\u001b[1;37;40mO\u001b[0m..\u001b[1;37;40mO\u001b[0m..\u001b[1;37;40mO\u001b[0m.#\u001b[1;37;40mO\u001b[0m#.\u001b[1;37;40mO\u001b[0m..\u001b[1;37;40mO\u001b[0m......##...#.......###......#..#.....##..#...#.#.......###...#.#...##..\n",
      "#.......#.##................#..##.....#.#.##..#.....#...#.#.....#.....................##...##..#\n",
      "#..###..##.#..###.##.........#.....#......#........##...#.#..........#..##.....#.........#...#.#\n",
      ".......#...#.#.....##\u001b[1;37;40mO\u001b[0m.#.##..##...#...#......#.#......##..#..#..#.....#.#..........#.#...#..#...\n",
      "..#\u001b[1;37;40mO\u001b[0m..#.\u001b[1;37;40mO\u001b[0m\u001b[1;37;40mO\u001b[0m##..\u001b[1;37;40mO\u001b[0m\u001b[1;37;40mO\u001b[0m..#.\u001b[1;37;40mO\u001b[0m\u001b[1;37;40mO\u001b[0m\u001b[1;37;40mO\u001b[0m..#....#....#.....#.......#........##...#..\u001b[1;37;40mO\u001b[0m...###...#......##.....\u001b[1;37;40mO\u001b[0m##...\n",
      "#.#.\u001b[1;37;40mO\u001b[0m##\u001b[1;37;40mO\u001b[0m.#\u001b[1;37;40mO\u001b[0m..\u001b[1;37;40mO\u001b[0m..\u001b[1;37;40mO\u001b[0m##\u001b[1;37;40mO\u001b[0m...........#................\u001b[1;37;40mO\u001b[0m...#\u001b[1;37;40mO\u001b[0m\u001b[1;37;40mO\u001b[0m..#.\u001b[1;37;40mO\u001b[0m\u001b[1;37;40mO\u001b[0m##..\u001b[1;37;40mO\u001b[0m\u001b[1;37;40mO\u001b[0m\u001b[1;37;40mO\u001b[0m....\u001b[1;37;40mO\u001b[0m....\u001b[1;37;40mO\u001b[0m\u001b[1;37;40mO\u001b[0m....\u001b[1;37;40mO\u001b[0m\u001b[1;37;40mO\u001b[0m....\u001b[1;37;40mO\u001b[0m\u001b[1;37;40mO\u001b[0m\u001b[1;37;40mO\u001b[0m...#\n",
      ".....#..#..#......#..#..#.....#..#.......#.....##\u001b[1;37;40mO\u001b[0m#.\u001b[1;37;40mO\u001b[0m##\u001b[1;37;40mO\u001b[0m.#\u001b[1;37;40mO\u001b[0m#.\u001b[1;37;40mO\u001b[0m..\u001b[1;37;40mO\u001b[0m.##.....\u001b[1;37;40mO\u001b[0m..\u001b[1;37;40mO\u001b[0m..\u001b[1;37;40mO\u001b[0m#.\u001b[1;37;40mO\u001b[0m..\u001b[1;37;40mO\u001b[0m.#\u001b[1;37;40mO\u001b[0m##.#.#.\n",
      "...#.#..#.#.#...#...##....##....#............#...#.#........##.##.###.......#..#..#.##..........\n",
      ".#..#.....#........#.#.#......#..#.##...\u001b[1;37;40mO\u001b[0m##........#......#....#.##...##..#......#.#.....#..#...\n",
      ".........#..#...#...#.\u001b[1;37;40mO\u001b[0m....\u001b[1;37;40mO\u001b[0m\u001b[1;37;40mO\u001b[0m....\u001b[1;37;40mO\u001b[0m\u001b[1;37;40mO\u001b[0m#.#.\u001b[1;37;40mO\u001b[0m\u001b[1;37;40mO\u001b[0m\u001b[1;37;40mO\u001b[0m.#..........#.......##...##....#...#..#.#.##.....#....\n",
      "....##...#...#...##.##.\u001b[1;37;40mO\u001b[0m..\u001b[1;37;40mO\u001b[0m..\u001b[1;37;40mO\u001b[0m#.\u001b[1;37;40mO\u001b[0m..\u001b[1;37;40mO\u001b[0m.#\u001b[1;37;40mO\u001b[0m...........#.##.#..#.#..#..#.............#..#..##.#...#.#\n",
      "..............##...........#.....#.....#...#....#..#..#.#....#..#.#....#................#......#\n",
      "#..##............#.##...#...##.###...........#..#......#..##..##.......#.......\u001b[1;37;40mO\u001b[0m..........###..#\n",
      "..#......##........#.#.....##.#........#...#.....#.#.###.#...\u001b[1;37;40mO\u001b[0m...#\u001b[1;37;40mO\u001b[0m\u001b[1;37;40mO\u001b[0m....\u001b[1;37;40mO\u001b[0m\u001b[1;37;40mO\u001b[0m....\u001b[1;37;40mO\u001b[0m\u001b[1;37;40mO\u001b[0m\u001b[1;37;40mO\u001b[0m......#....#...\n",
      ".#............##.#........#.#.............#..##..\u001b[1;37;40mO\u001b[0m###.........\u001b[1;37;40mO\u001b[0m.#\u001b[1;37;40mO\u001b[0m.#\u001b[1;37;40mO\u001b[0m.#\u001b[1;37;40mO\u001b[0m..\u001b[1;37;40mO\u001b[0m.#\u001b[1;37;40mO\u001b[0m.##..#..##.#..#.#.\n",
      "###.#...#....#.#.....#..##....#\u001b[1;37;40mO\u001b[0m....\u001b[1;37;40mO\u001b[0m\u001b[1;37;40mO\u001b[0m....\u001b[1;37;40mO\u001b[0m\u001b[1;37;40mO\u001b[0m....\u001b[1;37;40mO\u001b[0m\u001b[1;37;40mO\u001b[0m\u001b[1;37;40mO\u001b[0m.#.....#....#..#.....#....#.#....###.#.......\n",
      "........#..##......#..\u001b[1;37;40mO\u001b[0m..###.##.\u001b[1;37;40mO\u001b[0m..\u001b[1;37;40mO\u001b[0m..\u001b[1;37;40mO\u001b[0m..\u001b[1;37;40mO\u001b[0m#.\u001b[1;37;40mO\u001b[0m..\u001b[1;37;40mO\u001b[0m.....#.#......#..#.#....##..#...#....#..#.....#.\n",
      "....\u001b[1;37;40mO\u001b[0m..##\u001b[1;37;40mO\u001b[0m\u001b[1;37;40mO\u001b[0m....\u001b[1;37;40mO\u001b[0m\u001b[1;37;40mO\u001b[0m....\u001b[1;37;40mO\u001b[0m\u001b[1;37;40mO\u001b[0m\u001b[1;37;40mO\u001b[0m.....#.#....##.......##.#...#.#..##.......#.......###..#.#...#...#...###\n",
      ".....\u001b[1;37;40mO\u001b[0m..\u001b[1;37;40mO\u001b[0m..\u001b[1;37;40mO\u001b[0m..\u001b[1;37;40mO\u001b[0m#.\u001b[1;37;40mO\u001b[0m.#\u001b[1;37;40mO\u001b[0m.........#.#......#..#....#.........#.##......#\u001b[1;37;40mO\u001b[0m#.....##.#.........###.##.#\n",
      "....##.....#.#...#....#..#.##..##.#....##.........\u001b[1;37;40mO\u001b[0m#...\u001b[1;37;40mO\u001b[0m\u001b[1;37;40mO\u001b[0m.##.\u001b[1;37;40mO\u001b[0m\u001b[1;37;40mO\u001b[0m..#.\u001b[1;37;40mO\u001b[0m\u001b[1;37;40mO\u001b[0m\u001b[1;37;40mO\u001b[0m.#.....#......#...#..#..##\n",
      "..##........#......##.#....#....#\u001b[1;37;40mO\u001b[0m.........#.....#.\u001b[1;37;40mO\u001b[0m..\u001b[1;37;40mO\u001b[0m..\u001b[1;37;40mO\u001b[0m.#\u001b[1;37;40mO\u001b[0m..\u001b[1;37;40mO\u001b[0m..\u001b[1;37;40mO\u001b[0m#....#.##...............#....\n",
      ".......#.....##\u001b[1;37;40mO\u001b[0m.##.\u001b[1;37;40mO\u001b[0m\u001b[1;37;40mO\u001b[0m##..\u001b[1;37;40mO\u001b[0m\u001b[1;37;40mO\u001b[0m.#..\u001b[1;37;40mO\u001b[0m\u001b[1;37;40mO\u001b[0m\u001b[1;37;40mO\u001b[0m..#..#..#...#..#......#.......#.##...#.......#.#.#..#........\n",
      ".......#.##.....\u001b[1;37;40mO\u001b[0m..\u001b[1;37;40mO\u001b[0m..\u001b[1;37;40mO\u001b[0m#.\u001b[1;37;40mO\u001b[0m..\u001b[1;37;40mO\u001b[0m..\u001b[1;37;40mO\u001b[0m...##..##...#..#........#.............#...#........#.##.....#.##\n",
      "..........#....#.....#.#.#..#.#.......#........#.#.....#.#..#..#..##..#.........##.#..#......#..\n",
      ".......#.#.........#.##..#..#..#....#.......\u001b[1;37;40mO\u001b[0m#.##.....###.....#........#...##.#..##.#...\u001b[1;37;40mO\u001b[0m.##....\n",
      ".............#.##....##..#\u001b[1;37;40mO\u001b[0m....\u001b[1;37;40mO\u001b[0m\u001b[1;37;40mO\u001b[0m....\u001b[1;37;40mO\u001b[0m\u001b[1;37;40mO\u001b[0m.##.\u001b[1;37;40mO\u001b[0m\u001b[1;37;40mO\u001b[0m\u001b[1;37;40mO\u001b[0m....#.#.#........#..#.##\u001b[1;37;40mO\u001b[0m.#..\u001b[1;37;40mO\u001b[0m\u001b[1;37;40mO\u001b[0m#...\u001b[1;37;40mO\u001b[0m\u001b[1;37;40mO\u001b[0m....\u001b[1;37;40mO\u001b[0m\u001b[1;37;40mO\u001b[0m\u001b[1;37;40mO\u001b[0m......\n",
      "...#....#........#......#..\u001b[1;37;40mO\u001b[0m..\u001b[1;37;40mO\u001b[0m#.\u001b[1;37;40mO\u001b[0m..\u001b[1;37;40mO\u001b[0m..\u001b[1;37;40mO\u001b[0m.#\u001b[1;37;40mO\u001b[0m#........#.....#......#.....\u001b[1;37;40mO\u001b[0m#.\u001b[1;37;40mO\u001b[0m..\u001b[1;37;40mO\u001b[0m..\u001b[1;37;40mO\u001b[0m.#\u001b[1;37;40mO\u001b[0m..\u001b[1;37;40mO\u001b[0m.........\n",
      ".#.....#.......#....................#.........#.......#.#....##...\u001b[1;37;40mO\u001b[0m..#...#.#.#.#.#..........#...\n",
      ".#........#.......#.#..#.#.........##.##..#.....\u001b[1;37;40mO\u001b[0m....\u001b[1;37;40mO\u001b[0m\u001b[1;37;40mO\u001b[0m....\u001b[1;37;40mO\u001b[0m\u001b[1;37;40mO\u001b[0m.#..\u001b[1;37;40mO\u001b[0m\u001b[1;37;40mO\u001b[0m\u001b[1;37;40mO\u001b[0m.......###...#..............\n",
      "#...#..#..#........#............#.#...#....#.....\u001b[1;37;40mO\u001b[0m.#\u001b[1;37;40mO\u001b[0m.#\u001b[1;37;40mO\u001b[0m..\u001b[1;37;40mO\u001b[0m..\u001b[1;37;40mO\u001b[0m..\u001b[1;37;40mO\u001b[0m.#...##......#.....#.....#.....\n",
      "#...##....#....#..#.\u001b[1;37;40mO\u001b[0m###....#..#..#..#.....##......##....#....#...##...#....#..#.........#.#.#..\n",
      "..\u001b[1;37;40mO\u001b[0m....\u001b[1;37;40mO\u001b[0m\u001b[1;37;40mO\u001b[0m#..#\u001b[1;37;40mO\u001b[0m\u001b[1;37;40mO\u001b[0m.#..\u001b[1;37;40mO\u001b[0m\u001b[1;37;40mO\u001b[0m\u001b[1;37;40mO\u001b[0m....##.....#..#.....#..##..#.#.....#........##......#.#....#.\u001b[1;37;40mO\u001b[0m......#.....\n",
      "#..\u001b[1;37;40mO\u001b[0m..\u001b[1;37;40mO\u001b[0m#.\u001b[1;37;40mO\u001b[0m..\u001b[1;37;40mO\u001b[0m..\u001b[1;37;40mO\u001b[0m..\u001b[1;37;40mO\u001b[0m##..................#.#......#.......#.....##.\u001b[1;37;40mO\u001b[0m.#..\u001b[1;37;40mO\u001b[0m\u001b[1;37;40mO\u001b[0m...#\u001b[1;37;40mO\u001b[0m\u001b[1;37;40mO\u001b[0m..#.\u001b[1;37;40mO\u001b[0m\u001b[1;37;40mO\u001b[0m\u001b[1;37;40mO\u001b[0m.....#.####\n",
      ".##............#...........#...##.##..................##..#.#...#.\u001b[1;37;40mO\u001b[0m.#\u001b[1;37;40mO\u001b[0m..\u001b[1;37;40mO\u001b[0m.#\u001b[1;37;40mO\u001b[0m..\u001b[1;37;40mO\u001b[0m..\u001b[1;37;40mO\u001b[0m.##..#........\n",
      ".........##....##.#..##...#....#........##..........#...#.........#.#............#...##....#....\n",
      "###.#.....#..##.#..#.........#..#......#......#...#...##...........#..#...#..#.....#.#.......#..\n",
      ".##..#.........#.#..##..#.....#.#.....#..#....#..\u001b[1;37;40mO\u001b[0m.......#.###.#....###.....#.#.............#.##\n",
      "....#..###...#....#....#......#\u001b[1;37;40mO\u001b[0m....\u001b[1;37;40mO\u001b[0m\u001b[1;37;40mO\u001b[0m....\u001b[1;37;40mO\u001b[0m\u001b[1;37;40mO\u001b[0m....\u001b[1;37;40mO\u001b[0m\u001b[1;37;40mO\u001b[0m\u001b[1;37;40mO\u001b[0m#..#.#.....#....#.#....#........#.#....#....#\n",
      "...##........##.....###.#.#.#...\u001b[1;37;40mO\u001b[0m..\u001b[1;37;40mO\u001b[0m..\u001b[1;37;40mO\u001b[0m..\u001b[1;37;40mO\u001b[0m..\u001b[1;37;40mO\u001b[0m.#\u001b[1;37;40mO\u001b[0m.....#....#.##....#.#..#.............##.......##\n",
      "....#..#............#..#.....#....#......#####....#.......#.##.....#...................#..#.....\n",
      ".............#....#...............###....#....#.#..#..#......#.#\u001b[1;37;40mO\u001b[0m.......#.........#....#.#......\n",
      ".#...#.###..#..#...#......#..##..####..#.#.#..\u001b[1;37;40mO\u001b[0m....\u001b[1;37;40mO\u001b[0m\u001b[1;37;40mO\u001b[0m....\u001b[1;37;40mO\u001b[0m\u001b[1;37;40mO\u001b[0m....\u001b[1;37;40mO\u001b[0m\u001b[1;37;40mO\u001b[0m\u001b[1;37;40mO\u001b[0m.#.......#.#.#..#...\u001b[1;37;40mO\u001b[0m.........\n",
      "#.##..#..#...#...#...#..........#....###.....#.\u001b[1;37;40mO\u001b[0m..\u001b[1;37;40mO\u001b[0m..\u001b[1;37;40mO\u001b[0m..\u001b[1;37;40mO\u001b[0m..\u001b[1;37;40mO\u001b[0m.#\u001b[1;37;40mO\u001b[0m.#...\u001b[1;37;40mO\u001b[0m..#.\u001b[1;37;40mO\u001b[0m\u001b[1;37;40mO\u001b[0m.##.\u001b[1;37;40mO\u001b[0m\u001b[1;37;40mO\u001b[0m....\u001b[1;37;40mO\u001b[0m\u001b[1;37;40mO\u001b[0m\u001b[1;37;40mO\u001b[0m#...#...\n",
      ".##..##...#........#...\u001b[1;37;40mO\u001b[0m...#.#.......#.###.#..#.....#.#.......#...#..\u001b[1;37;40mO\u001b[0m.#\u001b[1;37;40mO\u001b[0m.#\u001b[1;37;40mO\u001b[0m.#\u001b[1;37;40mO\u001b[0m..\u001b[1;37;40mO\u001b[0m..\u001b[1;37;40mO\u001b[0m...#...#.#.\n",
      "#..##\u001b[1;37;40mO\u001b[0m....\u001b[1;37;40mO\u001b[0m\u001b[1;37;40mO\u001b[0m.##.\u001b[1;37;40mO\u001b[0m\u001b[1;37;40mO\u001b[0m##..\u001b[1;37;40mO\u001b[0m\u001b[1;37;40mO\u001b[0m\u001b[1;37;40mO\u001b[0m...#.......#.##...#.......#.#.#...#..#.......#.........#.#........###..\n",
      "....#.\u001b[1;37;40mO\u001b[0m#.\u001b[1;37;40mO\u001b[0m..\u001b[1;37;40mO\u001b[0m#.\u001b[1;37;40mO\u001b[0m..\u001b[1;37;40mO\u001b[0m..\u001b[1;37;40mO\u001b[0m.......#..#.....##...............#.......#...##........#....#.#...........\n",
      "#.#....#..#..#............#..........#.#....##.#......##..#.........##.................#.#.....#\n",
      "...#.........#..##....##......##......#.#..#..#.#..#....#...\u001b[1;37;40mO\u001b[0m##.......#.....#....#..\u001b[1;37;40mO\u001b[0m..#...#.##.\n",
      ".##...##.......#.#...#.......\u001b[1;37;40mO\u001b[0m....#.##.#..\u001b[1;37;40mO\u001b[0m..##\u001b[1;37;40mO\u001b[0m\u001b[1;37;40mO\u001b[0m...#\u001b[1;37;40mO\u001b[0m\u001b[1;37;40mO\u001b[0m....\u001b[1;37;40mO\u001b[0m\u001b[1;37;40mO\u001b[0m\u001b[1;37;40mO\u001b[0m..#.\u001b[1;37;40mO\u001b[0m.#.#\u001b[1;37;40mO\u001b[0m\u001b[1;37;40mO\u001b[0m....\u001b[1;37;40mO\u001b[0m\u001b[1;37;40mO\u001b[0m#.#.\u001b[1;37;40mO\u001b[0m\u001b[1;37;40mO\u001b[0m\u001b[1;37;40mO\u001b[0m..#...#.#.\n",
      "....#......\u001b[1;37;40mO\u001b[0m....\u001b[1;37;40mO\u001b[0m\u001b[1;37;40mO\u001b[0m#..#\u001b[1;37;40mO\u001b[0m\u001b[1;37;40mO\u001b[0m....\u001b[1;37;40mO\u001b[0m\u001b[1;37;40mO\u001b[0m\u001b[1;37;40mO\u001b[0m..#....##.#.\u001b[1;37;40mO\u001b[0m..\u001b[1;37;40mO\u001b[0m..\u001b[1;37;40mO\u001b[0m.#\u001b[1;37;40mO\u001b[0m..\u001b[1;37;40mO\u001b[0m#.\u001b[1;37;40mO\u001b[0m..#.#...\u001b[1;37;40mO\u001b[0m.#\u001b[1;37;40mO\u001b[0m.#\u001b[1;37;40mO\u001b[0m..\u001b[1;37;40mO\u001b[0m..\u001b[1;37;40mO\u001b[0m#.\u001b[1;37;40mO\u001b[0m....#.##.##..\n",
      "#.##.#.#..##\u001b[1;37;40mO\u001b[0m.#\u001b[1;37;40mO\u001b[0m..\u001b[1;37;40mO\u001b[0m..\u001b[1;37;40mO\u001b[0m..\u001b[1;37;40mO\u001b[0m..\u001b[1;37;40mO\u001b[0m.....#.#.........###.#.#....####.#....#.....#.........#.......#.....\n",
      "#.........##.#.#....#..##........#.#.#.#...#.###.#.#..#...#...#.#......#.......#....##......#...\n",
      "...#..##..#...#.....#...#.####.....#.......#..#...#..#........#..#....#.#.##.##..####.#.....\u001b[1;37;40mO\u001b[0m#..\n",
      "..#..#..#...##.....##.##.#.........#........#.###..#.....###.\u001b[1;37;40mO\u001b[0m............\u001b[1;37;40mO\u001b[0m..#.\u001b[1;37;40mO\u001b[0m\u001b[1;37;40mO\u001b[0m..##\u001b[1;37;40mO\u001b[0m\u001b[1;37;40mO\u001b[0m...#\u001b[1;37;40mO\u001b[0m\u001b[1;37;40mO\u001b[0m\u001b[1;37;40mO\u001b[0m#.\n",
      ".#...#.##.....#...#.##..#........##.#......\u001b[1;37;40mO\u001b[0m.#.#\u001b[1;37;40mO\u001b[0m\u001b[1;37;40mO\u001b[0m...#\u001b[1;37;40mO\u001b[0m\u001b[1;37;40mO\u001b[0m....\u001b[1;37;40mO\u001b[0m\u001b[1;37;40mO\u001b[0m\u001b[1;37;40mO\u001b[0m..###.#..#..\u001b[1;37;40mO\u001b[0m.#\u001b[1;37;40mO\u001b[0m#.\u001b[1;37;40mO\u001b[0m#.\u001b[1;37;40mO\u001b[0m.#\u001b[1;37;40mO\u001b[0m..\u001b[1;37;40mO\u001b[0m.#...\n",
      ".###..#.#.....##.#..#..#..#.......#.##.....#\u001b[1;37;40mO\u001b[0m..\u001b[1;37;40mO\u001b[0m..\u001b[1;37;40mO\u001b[0m#.\u001b[1;37;40mO\u001b[0m..\u001b[1;37;40mO\u001b[0m.#\u001b[1;37;40mO\u001b[0m..#......#.#..#...####.#..#....##.##\n",
      ".#..##...#...........#....\u001b[1;37;40mO\u001b[0m..#..........##...#....#............#...##.#.............#.#.#..#.###\n",
      "..#.....\u001b[1;37;40mO\u001b[0m..#.\u001b[1;37;40mO\u001b[0m\u001b[1;37;40mO\u001b[0m#...\u001b[1;37;40mO\u001b[0m\u001b[1;37;40mO\u001b[0m#...\u001b[1;37;40mO\u001b[0m\u001b[1;37;40mO\u001b[0m\u001b[1;37;40mO\u001b[0m#....#...#..#........#....#...#...........#.\u001b[1;37;40mO\u001b[0m...##.#.............#..\n",
      ".#......#\u001b[1;37;40mO\u001b[0m..\u001b[1;37;40mO\u001b[0m..\u001b[1;37;40mO\u001b[0m#.\u001b[1;37;40mO\u001b[0m..\u001b[1;37;40mO\u001b[0m..\u001b[1;37;40mO\u001b[0m..#...........#...#..#.#.....\u001b[1;37;40mO\u001b[0m...#\u001b[1;37;40mO\u001b[0m\u001b[1;37;40mO\u001b[0m#...\u001b[1;37;40mO\u001b[0m\u001b[1;37;40mO\u001b[0m...#\u001b[1;37;40mO\u001b[0m\u001b[1;37;40mO\u001b[0m\u001b[1;37;40mO\u001b[0m..#....#.#....#..#...#\n",
      "..#..##........#..........#..........#..#...........#..\u001b[1;37;40mO\u001b[0m#.\u001b[1;37;40mO\u001b[0m.#\u001b[1;37;40mO\u001b[0m..\u001b[1;37;40mO\u001b[0m..\u001b[1;37;40mO\u001b[0m..\u001b[1;37;40mO\u001b[0m.....#........#..........\n",
      ".##.#...##.....#...#.....#...#.##.##.##........\u001b[1;37;40mO\u001b[0m.#..#.##.........#.##.....#.....#..#.#....#.#...\n",
      "#......##.....#..####.....#..\u001b[1;37;40mO\u001b[0m....\u001b[1;37;40mO\u001b[0m\u001b[1;37;40mO\u001b[0m#...\u001b[1;37;40mO\u001b[0m\u001b[1;37;40mO\u001b[0m...#\u001b[1;37;40mO\u001b[0m\u001b[1;37;40mO\u001b[0m\u001b[1;37;40mO\u001b[0m....#....#.....#.#....#..#.......#..##..#....#.\n",
      "....#................#.##.#...\u001b[1;37;40mO\u001b[0m..\u001b[1;37;40mO\u001b[0m..\u001b[1;37;40mO\u001b[0m..\u001b[1;37;40mO\u001b[0m##\u001b[1;37;40mO\u001b[0m#.\u001b[1;37;40mO\u001b[0m..#..##.........#.......#...#.##.#...............#\n",
      "..#.#..#......#........\u001b[1;37;40mO\u001b[0m............#.#.......#....##....###....###.....##.....#..#\u001b[1;37;40mO\u001b[0m#...........\n",
      ".#...\u001b[1;37;40mO\u001b[0m....\u001b[1;37;40mO\u001b[0m\u001b[1;37;40mO\u001b[0m....\u001b[1;37;40mO\u001b[0m\u001b[1;37;40mO\u001b[0m...#\u001b[1;37;40mO\u001b[0m\u001b[1;37;40mO\u001b[0m\u001b[1;37;40mO\u001b[0m#...#.#..#....##.....#......#..####.##..\u001b[1;37;40mO\u001b[0m#..#\u001b[1;37;40mO\u001b[0m\u001b[1;37;40mO\u001b[0m##..\u001b[1;37;40mO\u001b[0m\u001b[1;37;40mO\u001b[0m...#\u001b[1;37;40mO\u001b[0m\u001b[1;37;40mO\u001b[0m\u001b[1;37;40mO\u001b[0m..#..#..#..\n",
      "......\u001b[1;37;40mO\u001b[0m..\u001b[1;37;40mO\u001b[0m#.\u001b[1;37;40mO\u001b[0m..\u001b[1;37;40mO\u001b[0m..\u001b[1;37;40mO\u001b[0m.#\u001b[1;37;40mO\u001b[0m.#......#.#..........##.#..#..##....#.#.#...\u001b[1;37;40mO\u001b[0m..\u001b[1;37;40mO\u001b[0m.#\u001b[1;37;40mO\u001b[0m##\u001b[1;37;40mO\u001b[0m..\u001b[1;37;40mO\u001b[0m##\u001b[1;37;40mO\u001b[0m....#...#.#.#.\n",
      "...#..........#.....#.....#.#......................#..#.......#..##......#.................#..#.\n",
      "...#....#......#.#...##.#.###.........#.##.#..#......##.#...#\u001b[1;37;40mO\u001b[0m...##...##.........#.##........#..\n",
      ".........#.....#...#.......#.#...##..##....\u001b[1;37;40mO\u001b[0m..##\u001b[1;37;40mO\u001b[0m\u001b[1;37;40mO\u001b[0m....\u001b[1;37;40mO\u001b[0m\u001b[1;37;40mO\u001b[0m...#\u001b[1;37;40mO\u001b[0m\u001b[1;37;40mO\u001b[0m\u001b[1;37;40mO\u001b[0m.#.#...#.##......##.....#..#..#..\n",
      ".....#................#.#.......#....#..#..#\u001b[1;37;40mO\u001b[0m.#\u001b[1;37;40mO\u001b[0m#.\u001b[1;37;40mO\u001b[0m.#\u001b[1;37;40mO\u001b[0m..\u001b[1;37;40mO\u001b[0m..\u001b[1;37;40mO\u001b[0m..#.....................#...\u001b[1;37;40mO\u001b[0m#......\n",
      "......##.#..#.##.#.#.#.#.##.....#.#..#\u001b[1;37;40mO\u001b[0m...#....##.##.#.###............\u001b[1;37;40mO\u001b[0m...#\u001b[1;37;40mO\u001b[0m\u001b[1;37;40mO\u001b[0m....\u001b[1;37;40mO\u001b[0m\u001b[1;37;40mO\u001b[0m.#.#\u001b[1;37;40mO\u001b[0m\u001b[1;37;40mO\u001b[0m\u001b[1;37;40mO\u001b[0m......\n",
      "..#.#....#....#....#\u001b[1;37;40mO\u001b[0m..#.\u001b[1;37;40mO\u001b[0m\u001b[1;37;40mO\u001b[0m.#..\u001b[1;37;40mO\u001b[0m\u001b[1;37;40mO\u001b[0m....\u001b[1;37;40mO\u001b[0m\u001b[1;37;40mO\u001b[0m\u001b[1;37;40mO\u001b[0m...##...................#......\u001b[1;37;40mO\u001b[0m..\u001b[1;37;40mO\u001b[0m#.\u001b[1;37;40mO\u001b[0m..\u001b[1;37;40mO\u001b[0m#.\u001b[1;37;40mO\u001b[0m..\u001b[1;37;40mO\u001b[0m......#..\n",
      ".....#....#...#......\u001b[1;37;40mO\u001b[0m..\u001b[1;37;40mO\u001b[0m..\u001b[1;37;40mO\u001b[0m..\u001b[1;37;40mO\u001b[0m..\u001b[1;37;40mO\u001b[0m..\u001b[1;37;40mO\u001b[0m....##..#........#...........#..#...........#.##.#.##......\n",
      ".....#.#.#.#.##........#.....#..#..####.#...#.#...#..##.##.....#..##.#..#.#......#...#...#......\n",
      ".##..#..##........#........###.#.##...##....#............#...............##...#..#.#.....\u001b[1;37;40mO\u001b[0m.#..##\n",
      "#.....#.................\u001b[1;37;40mO\u001b[0m...##........#....#..#\u001b[1;37;40mO\u001b[0m.............#.....#...\u001b[1;37;40mO\u001b[0m....\u001b[1;37;40mO\u001b[0m\u001b[1;37;40mO\u001b[0m....\u001b[1;37;40mO\u001b[0m\u001b[1;37;40mO\u001b[0m.#..\u001b[1;37;40mO\u001b[0m\u001b[1;37;40mO\u001b[0m\u001b[1;37;40mO\u001b[0m.#.#.\n",
      "..##..\u001b[1;37;40mO\u001b[0m....\u001b[1;37;40mO\u001b[0m\u001b[1;37;40mO\u001b[0m.##.\u001b[1;37;40mO\u001b[0m\u001b[1;37;40mO\u001b[0m....\u001b[1;37;40mO\u001b[0m\u001b[1;37;40mO\u001b[0m\u001b[1;37;40mO\u001b[0m...\u001b[1;37;40mO\u001b[0m....\u001b[1;37;40mO\u001b[0m\u001b[1;37;40mO\u001b[0m....\u001b[1;37;40mO\u001b[0m\u001b[1;37;40mO\u001b[0m...#\u001b[1;37;40mO\u001b[0m\u001b[1;37;40mO\u001b[0m\u001b[1;37;40mO\u001b[0m...##......##..#.......\u001b[1;37;40mO\u001b[0m..\u001b[1;37;40mO\u001b[0m#.\u001b[1;37;40mO\u001b[0m..\u001b[1;37;40mO\u001b[0m..\u001b[1;37;40mO\u001b[0m##\u001b[1;37;40mO\u001b[0m......#.\n",
      ".......\u001b[1;37;40mO\u001b[0m.#\u001b[1;37;40mO\u001b[0m..\u001b[1;37;40mO\u001b[0m#.\u001b[1;37;40mO\u001b[0m..\u001b[1;37;40mO\u001b[0m..\u001b[1;37;40mO\u001b[0m.......\u001b[1;37;40mO\u001b[0m..\u001b[1;37;40mO\u001b[0m##\u001b[1;37;40mO\u001b[0m..\u001b[1;37;40mO\u001b[0m.#\u001b[1;37;40mO\u001b[0m..\u001b[1;37;40mO\u001b[0m..##.##....#...#.................#................\n",
      "#.#.........#.....#..............#................#......#......#....#......#..#.#.....#..#.....\n",
      ".#...####..#......#..#.#.........##............##.......#...#.#...#......#.#.#.###......###..#..\n"
     ]
    }
   ],
   "source": [
    "printSeamonster(smLayout, smCoords)"
   ]
  },
  {
   "cell_type": "code",
   "execution_count": null,
   "metadata": {},
   "outputs": [],
   "source": []
  },
  {
   "cell_type": "code",
   "execution_count": null,
   "metadata": {},
   "outputs": [],
   "source": []
  }
 ],
 "metadata": {
  "kernelspec": {
   "display_name": "Python 3",
   "language": "python",
   "name": "python3"
  },
  "language_info": {
   "codemirror_mode": {
    "name": "ipython",
    "version": 3
   },
   "file_extension": ".py",
   "mimetype": "text/x-python",
   "name": "python",
   "nbconvert_exporter": "python",
   "pygments_lexer": "ipython3",
   "version": "3.9.1"
  },
  "widgets": {
   "application/vnd.jupyter.widget-state+json": {
    "state": {
     "00329eeb66d74a8a87995b01b9723a9c": {
      "model_module": "@jupyter-widgets/controls",
      "model_module_version": "1.5.0",
      "model_name": "DescriptionStyleModel",
      "state": {
       "description_width": ""
      }
     },
     "01bf9f53ddeb4d20aeb6c886ea8e7d2f": {
      "model_module": "@jupyter-widgets/controls",
      "model_module_version": "1.5.0",
      "model_name": "PlayModel",
      "state": {
       "description": "Frame",
       "interval": 625,
       "layout": "IPY_MODEL_c393ff19a5dd4d359c944a85410b15b6",
       "max": 7,
       "style": "IPY_MODEL_f6eb373d458840abb528d3a716f4f4ef"
      }
     },
     "01fee9689bfb4abc83936b2672f9c694": {
      "model_module": "@jupyter-widgets/controls",
      "model_module_version": "1.5.0",
      "model_name": "LinkModel",
      "state": {
       "source": [
        "IPY_MODEL_522d68f1ffe0415c9283f8b3a59bbe59",
        "value"
       ],
       "target": [
        "IPY_MODEL_c25406d74b9c4d1ebd14cebc3ae8042f",
        "value"
       ]
      }
     },
     "03108eaa72c84f1b845f244da54c9d6a": {
      "model_module": "@jupyter-widgets/base",
      "model_module_version": "1.2.0",
      "model_name": "LayoutModel",
      "state": {}
     },
     "033d60d0a9664fbd97036d56d388ea1b": {
      "model_module": "@jupyter-widgets/controls",
      "model_module_version": "1.5.0",
      "model_name": "LinkModel",
      "state": {
       "source": [
        "IPY_MODEL_4e619a1289d44eaa87fd9de61412a656",
        "interval"
       ],
       "target": [
        "IPY_MODEL_95b42b8c375545f79548cded6a51fd20",
        "value"
       ]
      }
     },
     "038a068436e14a1cb7b4f03f9e2e469c": {
      "model_module": "@jupyter-widgets/base",
      "model_module_version": "1.2.0",
      "model_name": "LayoutModel",
      "state": {}
     },
     "038a815d4e1c48ca82501046af4b1495": {
      "model_module": "@jupyter-widgets/controls",
      "model_module_version": "1.5.0",
      "model_name": "HBoxModel",
      "state": {
       "children": [
        "IPY_MODEL_ea0db5f5aefe4c05bbccf586d8bf9ec7",
        "IPY_MODEL_1abb86b08be14b6197a0b15ae601e4b7",
        "IPY_MODEL_723bdbc94a8c4ed98a64c3e7e4967bd4"
       ],
       "layout": "IPY_MODEL_189e8f042db34033bbafd9a93cb16929"
      }
     },
     "039d6b76ae544f7bba0cc30a9667133a": {
      "model_module": "@jupyter-widgets/base",
      "model_module_version": "1.2.0",
      "model_name": "LayoutModel",
      "state": {}
     },
     "040f03ab9a4242babd1ef4652f0fc6e5": {
      "model_module": "@jupyter-widgets/controls",
      "model_module_version": "1.5.0",
      "model_name": "SliderStyleModel",
      "state": {
       "description_width": ""
      }
     },
     "042ac0089b5441369b05df4f4b523a21": {
      "model_module": "@jupyter-widgets/base",
      "model_module_version": "1.2.0",
      "model_name": "LayoutModel",
      "state": {}
     },
     "04c9ed23c0a34efca251594a83e1c47a": {
      "model_module": "@jupyter-widgets/controls",
      "model_module_version": "1.5.0",
      "model_name": "VBoxModel",
      "state": {
       "children": [
        "IPY_MODEL_bae40f9dbf934fae8b62bf932a0c5b90",
        "IPY_MODEL_49354884f6ab4055af0d8b1ae0ca9d21"
       ],
       "layout": "IPY_MODEL_f605d178341c47af8c143e1e26361f3b"
      }
     },
     "04cdcd51cb944c1db74b3fbe45c21db9": {
      "model_module": "@jupyter-widgets/controls",
      "model_module_version": "1.5.0",
      "model_name": "SliderStyleModel",
      "state": {
       "description_width": ""
      }
     },
     "04e67d63713542aa9e0cf547c700708e": {
      "model_module": "@jupyter-widgets/base",
      "model_module_version": "1.2.0",
      "model_name": "LayoutModel",
      "state": {}
     },
     "0588cc4e1da842c099574096948dcfe0": {
      "model_module": "@jupyter-widgets/controls",
      "model_module_version": "1.5.0",
      "model_name": "SliderStyleModel",
      "state": {
       "description_width": ""
      }
     },
     "06c2724faeda4d3fbf59d541ceb94a9d": {
      "model_module": "@jupyter-widgets/controls",
      "model_module_version": "1.5.0",
      "model_name": "PlayModel",
      "state": {
       "description": "Press play",
       "interval": 500,
       "layout": "IPY_MODEL_27e570526f604e8eb5fa56fad47f140a",
       "style": "IPY_MODEL_7a26a5c49b594c1d94a8e0fbeea6aa90"
      }
     },
     "06d09c739f3848488da39214478f1f88": {
      "model_module": "@jupyter-widgets/controls",
      "model_module_version": "1.5.0",
      "model_name": "SliderStyleModel",
      "state": {
       "description_width": ""
      }
     },
     "07b2ed93482348cca659981a8ea475e1": {
      "model_module": "@jupyter-widgets/output",
      "model_module_version": "1.0.0",
      "model_name": "OutputModel",
      "state": {
       "layout": "IPY_MODEL_23764f1a8ebd428d8709d10aa84d6dca",
       "outputs": [
        {
         "name": "stdout",
         "output_type": "stream",
         "text": "{'name': '_property_lock', 'old': {'value': 23}, 'new': {}, 'owner': Play(value=23, description='Press play', interval=50), 'type': 'change'}\n"
        }
       ]
      }
     },
     "07fb421c69f04ad282dd01e402389f71": {
      "model_module": "@jupyter-widgets/base",
      "model_module_version": "1.2.0",
      "model_name": "LayoutModel",
      "state": {}
     },
     "080c850e31cd45b0b1f95ab3d1914ac9": {
      "model_module": "@jupyter-widgets/controls",
      "model_module_version": "1.5.0",
      "model_name": "SliderStyleModel",
      "state": {
       "description_width": ""
      }
     },
     "09128691dc9641d69183d0b40a19d869": {
      "model_module": "@jupyter-widgets/controls",
      "model_module_version": "1.5.0",
      "model_name": "SliderStyleModel",
      "state": {
       "description_width": ""
      }
     },
     "099860d86da740c3808e6981bf215b4b": {
      "model_module": "@jupyter-widgets/controls",
      "model_module_version": "1.5.0",
      "model_name": "DescriptionStyleModel",
      "state": {
       "description_width": ""
      }
     },
     "09b1535562024c398e548ec86406efe8": {
      "model_module": "@jupyter-widgets/base",
      "model_module_version": "1.2.0",
      "model_name": "LayoutModel",
      "state": {}
     },
     "09c7a4756f9748c6a563b26a86d3f322": {
      "model_module": "@jupyter-widgets/controls",
      "model_module_version": "1.5.0",
      "model_name": "DescriptionStyleModel",
      "state": {
       "description_width": ""
      }
     },
     "09fd22f7884549ae89a9722566551566": {
      "model_module": "@jupyter-widgets/controls",
      "model_module_version": "1.5.0",
      "model_name": "PlayModel",
      "state": {
       "description": "Press play",
       "interval": 50,
       "layout": "IPY_MODEL_9d11b5eff63d4c6ea1271379e57808c9",
       "style": "IPY_MODEL_11cd6d9367ae4847b02e112644f893ef",
       "value": 46
      }
     },
     "0b559ce5672149019ee9209bc54d28d5": {
      "model_module": "@jupyter-widgets/base",
      "model_module_version": "1.2.0",
      "model_name": "LayoutModel",
      "state": {}
     },
     "0bb2af1dcdb1474cb4ef0e32ef5bdfe9": {
      "model_module": "@jupyter-widgets/base",
      "model_module_version": "1.2.0",
      "model_name": "LayoutModel",
      "state": {
       "border": "1px solid black"
      }
     },
     "0d187333998d4d8e97610268c68ddd3b": {
      "model_module": "@jupyter-widgets/output",
      "model_module_version": "1.0.0",
      "model_name": "OutputModel",
      "state": {
       "layout": "IPY_MODEL_79135fd31c9f49adb92aa3509676e2f7",
       "outputs": [
        {
         "name": "stdout",
         "output_type": "stream",
         "text": "n: 7, occupied: 26\n#.L#.L#.L#\n#LLLLLL.LL\nL.L.L..#..\n##L#.#L.L#\nL.L#.LL.L#\n#.LLLL#.LL\n..#.L.....\nLLL###LLL#\n#.LLLLL#.L\n#.L#LL#.L#\n"
        }
       ]
      }
     },
     "0d2e8f88bdea419a979dfc8a570c5714": {
      "model_module": "@jupyter-widgets/controls",
      "model_module_version": "1.5.0",
      "model_name": "IntSliderModel",
      "state": {
       "layout": "IPY_MODEL_b62381081c264f51b288bb42aeab657c",
       "style": "IPY_MODEL_99dd417763c8475ba949a6f363d205e2"
      }
     },
     "0df7ccb670c4443aa0392cf45b305985": {
      "model_module": "@jupyter-widgets/base",
      "model_module_version": "1.2.0",
      "model_name": "LayoutModel",
      "state": {}
     },
     "0f2fd86b318043f38f1c20eed7581735": {
      "model_module": "@jupyter-widgets/controls",
      "model_module_version": "1.5.0",
      "model_name": "FloatSliderModel",
      "state": {
       "description": "Speed",
       "layout": "IPY_MODEL_2c68257f863c40f58a6266a95df1dc48",
       "max": 6250,
       "min": 62,
       "step": 0.1,
       "style": "IPY_MODEL_06d09c739f3848488da39214478f1f88",
       "value": 625
      }
     },
     "0f83bac3d6f0403289cad6873a074752": {
      "model_module": "@jupyter-widgets/controls",
      "model_module_version": "1.5.0",
      "model_name": "HBoxModel",
      "state": {
       "children": [
        "IPY_MODEL_807aee84296e4b2c83e75ddcdb7f7953",
        "IPY_MODEL_409da56a9327450cbcc3808a265ff3a7",
        "IPY_MODEL_31460f9c07744e3986c8f0ddbe4ea27d"
       ],
       "layout": "IPY_MODEL_3cb4d1a2dd8a42af8cc5fda9535481d8"
      }
     },
     "0fcf584023684c95a3dcaf27b79967e2": {
      "model_module": "@jupyter-widgets/controls",
      "model_module_version": "1.5.0",
      "model_name": "HBoxModel",
      "state": {
       "children": [
        "IPY_MODEL_47098449ecab4a44a64a87b27493bd51",
        "IPY_MODEL_49feae53e59d422d859b28330f6ffe99"
       ],
       "layout": "IPY_MODEL_f98f2b174bfa4724b04a09c8ec2334f8"
      }
     },
     "0fed06afb7c543379bb48916d09f39e8": {
      "model_module": "@jupyter-widgets/controls",
      "model_module_version": "1.5.0",
      "model_name": "FloatLogSliderModel",
      "state": {
       "description": "Speed",
       "layout": "IPY_MODEL_e236470a26644b64a53971cca179dba4",
       "max": 3.574031267727719,
       "min": 2.0969100130080562,
       "style": "IPY_MODEL_626bfee21aa84c25adc8764b86411849",
       "value": 3139.8580393869734
      }
     },
     "105916c3e1d242e3a52b2a9855fef392": {
      "model_module": "@jupyter-widgets/base",
      "model_module_version": "1.2.0",
      "model_name": "LayoutModel",
      "state": {}
     },
     "112b90d6a32a418b848f8c27fc2be1b5": {
      "model_module": "@jupyter-widgets/controls",
      "model_module_version": "1.5.0",
      "model_name": "DropdownModel",
      "state": {
       "_options_labels": [
        "Hello",
        "World",
        "2021"
       ],
       "index": 1,
       "layout": "IPY_MODEL_fbefac54daac484cad3d8840a4547c1c",
       "style": "IPY_MODEL_f9107f49f6a242efba993de0ee939c3e"
      }
     },
     "11a08e89992b4ddb94b444da42c5828e": {
      "model_module": "@jupyter-widgets/base",
      "model_module_version": "1.2.0",
      "model_name": "LayoutModel",
      "state": {}
     },
     "11a3c117d4954fcdac8a606c1f3aee0d": {
      "model_module": "@jupyter-widgets/output",
      "model_module_version": "1.0.0",
      "model_name": "OutputModel",
      "state": {
       "layout": "IPY_MODEL_6fee11ad9b894fe38bfc6fbef2818ffc",
       "outputs": [
        {
         "name": "stdout",
         "output_type": "stream",
         "text": "{'name': 'value', 'old': 35, 'new': 0, 'owner': Play(value=0, description='Press play'), 'type': 'change'}\n"
        }
       ]
      }
     },
     "11cd6d9367ae4847b02e112644f893ef": {
      "model_module": "@jupyter-widgets/controls",
      "model_module_version": "1.5.0",
      "model_name": "DescriptionStyleModel",
      "state": {
       "description_width": ""
      }
     },
     "12c3e245cca4446595a7810b380ebc12": {
      "model_module": "@jupyter-widgets/base",
      "model_module_version": "1.2.0",
      "model_name": "LayoutModel",
      "state": {}
     },
     "12c4cd50132449fda682260260d80ce0": {
      "model_module": "@jupyter-widgets/controls",
      "model_module_version": "1.5.0",
      "model_name": "HBoxModel",
      "state": {
       "children": [
        "IPY_MODEL_01bf9f53ddeb4d20aeb6c886ea8e7d2f",
        "IPY_MODEL_521b2198f4914b9f906a230c681b235c",
        "IPY_MODEL_51fc3ae8bc0942688d4abcf39c9d9d2f"
       ],
       "layout": "IPY_MODEL_247da34af15544a08a365a7f7aaf7403"
      }
     },
     "12f20cb59bfb42da91eb9641dfbfe83e": {
      "model_module": "@jupyter-widgets/base",
      "model_module_version": "1.2.0",
      "model_name": "LayoutModel",
      "state": {}
     },
     "140bbaafa3d649a98249736ecd7a725c": {
      "model_module": "@jupyter-widgets/controls",
      "model_module_version": "1.5.0",
      "model_name": "VBoxModel",
      "state": {
       "children": [
        "IPY_MODEL_12c4cd50132449fda682260260d80ce0",
        "IPY_MODEL_866e17d05a0b44a796d479a380617119"
       ],
       "layout": "IPY_MODEL_38ba5eef594e440db1e4d999e1d64e4a"
      }
     },
     "14ae1abc02f9458a8150ea384e4a2597": {
      "model_module": "@jupyter-widgets/base",
      "model_module_version": "1.2.0",
      "model_name": "LayoutModel",
      "state": {}
     },
     "158976c5604c43deb92acd244c5c38b6": {
      "model_module": "@jupyter-widgets/controls",
      "model_module_version": "1.5.0",
      "model_name": "LinkModel",
      "state": {
       "source": [
        "IPY_MODEL_c59ed4ee3734440da8bf07d6f4c616bc",
        "interval"
       ],
       "target": [
        "IPY_MODEL_71fb608e4c444b6a930277ff7ccfaffd",
        "value"
       ]
      }
     },
     "16dc1942b3164c43acb9b47f407356e5": {
      "model_module": "@jupyter-widgets/base",
      "model_module_version": "1.2.0",
      "model_name": "LayoutModel",
      "state": {
       "border": "1px solid black"
      }
     },
     "170150f3606b4ebca8c1870eb9ce9a92": {
      "model_module": "@jupyter-widgets/controls",
      "model_module_version": "1.5.0",
      "model_name": "SliderStyleModel",
      "state": {
       "description_width": ""
      }
     },
     "187347717c9b4e18877e044c897edba7": {
      "model_module": "@jupyter-widgets/controls",
      "model_module_version": "1.5.0",
      "model_name": "FloatSliderModel",
      "state": {
       "description": "Speed",
       "layout": "IPY_MODEL_f9532e51316544fdb2a98f56774e071c",
       "max": 6250,
       "min": 62,
       "step": 0.1,
       "style": "IPY_MODEL_6fc24338944c4419b9c7e3620ddf5342",
       "value": 625
      }
     },
     "18910f2aba3a4f2989c95276db4e78d2": {
      "model_module": "@jupyter-widgets/controls",
      "model_module_version": "1.5.0",
      "model_name": "DescriptionStyleModel",
      "state": {
       "description_width": ""
      }
     },
     "189e8f042db34033bbafd9a93cb16929": {
      "model_module": "@jupyter-widgets/base",
      "model_module_version": "1.2.0",
      "model_name": "LayoutModel",
      "state": {}
     },
     "1abb86b08be14b6197a0b15ae601e4b7": {
      "model_module": "@jupyter-widgets/controls",
      "model_module_version": "1.5.0",
      "model_name": "IntSliderModel",
      "state": {
       "layout": "IPY_MODEL_038a068436e14a1cb7b4f03f9e2e469c",
       "max": 84,
       "style": "IPY_MODEL_170150f3606b4ebca8c1870eb9ce9a92",
       "value": 84
      }
     },
     "1ac1dc0d0ae442e6876b89bd57a007b4": {
      "model_module": "@jupyter-widgets/controls",
      "model_module_version": "1.5.0",
      "model_name": "IntSliderModel",
      "state": {
       "layout": "IPY_MODEL_e2810d72587947d2a05f98c412b07dd5",
       "style": "IPY_MODEL_990b3afdfb5a40719ba80388f0c5e243"
      }
     },
     "1addac5802bd4f929839dc525a226ede": {
      "model_module": "@jupyter-widgets/base",
      "model_module_version": "1.2.0",
      "model_name": "LayoutModel",
      "state": {}
     },
     "1ae05e70736d4921876720d396dcbfcc": {
      "model_module": "@jupyter-widgets/controls",
      "model_module_version": "1.5.0",
      "model_name": "SliderStyleModel",
      "state": {
       "description_width": ""
      }
     },
     "1c3c8db12d5047c0aa1aa4d42a6685bd": {
      "model_module": "@jupyter-widgets/base",
      "model_module_version": "1.2.0",
      "model_name": "LayoutModel",
      "state": {}
     },
     "1e2d99b984a0484b8f363b4510f4e2cf": {
      "model_module": "@jupyter-widgets/output",
      "model_module_version": "1.0.0",
      "model_name": "OutputModel",
      "state": {
       "layout": "IPY_MODEL_225fc882661d47b2a7567b005f3c9f70"
      }
     },
     "1e6a7f8d0d8045bdb559c268c6c27147": {
      "model_module": "@jupyter-widgets/output",
      "model_module_version": "1.0.0",
      "model_name": "OutputModel",
      "state": {
       "layout": "IPY_MODEL_8c920dd826424d0a907a5728fbf6aa02",
       "outputs": [
        {
         "name": "stdout",
         "output_type": "stream",
         "text": "7 26\n#.L#.L#.L#\n#LLLLLL.LL\nL.L.L..#..\n##L#.#L.L#\nL.L#.LL.L#\n#.LLLL#.LL\n..#.L.....\nLLL###LLL#\n#.LLLLL#.L\n#.L#LL#.L#\n"
        }
       ]
      }
     },
     "1e86ca4265fa4c3493fca86912bc6f1b": {
      "model_module": "@jupyter-widgets/controls",
      "model_module_version": "1.5.0",
      "model_name": "LinkModel",
      "state": {
       "source": [
        "IPY_MODEL_af4ac305d36a4004879d7e81a8ec138b",
        "value"
       ],
       "target": [
        "IPY_MODEL_1ac1dc0d0ae442e6876b89bd57a007b4",
        "value"
       ]
      }
     },
     "1f4ba2d06419442f84e06f10c578981e": {
      "model_module": "@jupyter-widgets/controls",
      "model_module_version": "1.5.0",
      "model_name": "LinkModel",
      "state": {
       "source": [
        "IPY_MODEL_ea0db5f5aefe4c05bbccf586d8bf9ec7",
        "value"
       ],
       "target": [
        "IPY_MODEL_1abb86b08be14b6197a0b15ae601e4b7",
        "value"
       ]
      }
     },
     "1f806579122a4dad96585b3b5ea4dfad": {
      "model_module": "@jupyter-widgets/base",
      "model_module_version": "1.2.0",
      "model_name": "LayoutModel",
      "state": {}
     },
     "20fbb03615254ba085242abbce73dbba": {
      "model_module": "@jupyter-widgets/output",
      "model_module_version": "1.0.0",
      "model_name": "OutputModel",
      "state": {
       "layout": "IPY_MODEL_ffbf33fbdf7d442da2771b3a79c80033",
       "outputs": [
        {
         "name": "stdout",
         "output_type": "stream",
         "text": "n: 0, occupied: 0\nL.LL.LL.LL\nLLLLLLL.LL\nL.L.L..L..\nLLLL.LL.LL\nL.LL.LL.LL\nL.LLLLL.LL\n..L.L.....\nLLLLLLLLLL\nL.LLLLLL.L\nL.LLLLL.LL\n"
        }
       ]
      }
     },
     "211dd1bc7e2141539ea08b3472dc2084": {
      "model_module": "@jupyter-widgets/base",
      "model_module_version": "1.2.0",
      "model_name": "LayoutModel",
      "state": {}
     },
     "213d783a5bf24c48add77bd86f244a1b": {
      "model_module": "@jupyter-widgets/base",
      "model_module_version": "1.2.0",
      "model_name": "LayoutModel",
      "state": {}
     },
     "225fc882661d47b2a7567b005f3c9f70": {
      "model_module": "@jupyter-widgets/base",
      "model_module_version": "1.2.0",
      "model_name": "LayoutModel",
      "state": {
       "border": "1px solid black"
      }
     },
     "22f269babfd04f80890d1f9c06ef8c7b": {
      "model_module": "@jupyter-widgets/base",
      "model_module_version": "1.2.0",
      "model_name": "LayoutModel",
      "state": {}
     },
     "23764f1a8ebd428d8709d10aa84d6dca": {
      "model_module": "@jupyter-widgets/base",
      "model_module_version": "1.2.0",
      "model_name": "LayoutModel",
      "state": {}
     },
     "23b63bc72cf746d7882246fb4227a14d": {
      "model_module": "@jupyter-widgets/controls",
      "model_module_version": "1.5.0",
      "model_name": "FloatLogSliderModel",
      "state": {
       "description": "Speed",
       "layout": "IPY_MODEL_fa888faca93d4e4c8d13dcad5a4bb1a3",
       "max": 2.546542663478131,
       "min": 1.0705810742857074,
       "readout": false,
       "style": "IPY_MODEL_8cff75c372ce403abfd66306e5a2317a",
       "value": 295.5160507658328
      }
     },
     "24031f4556c54bf4a39867f56cdda238": {
      "model_module": "@jupyter-widgets/base",
      "model_module_version": "1.2.0",
      "model_name": "LayoutModel",
      "state": {}
     },
     "2435f0f5e34e4af9b72742b0f7b5eb74": {
      "model_module": "@jupyter-widgets/controls",
      "model_module_version": "1.5.0",
      "model_name": "LinkModel",
      "state": {
       "source": [
        "IPY_MODEL_8e29409c17bc44d7978064dcd65059d3",
        "interval"
       ],
       "target": [
        "IPY_MODEL_fe509e9072764c658267864fe9c7a59c",
        "value"
       ]
      }
     },
     "247da34af15544a08a365a7f7aaf7403": {
      "model_module": "@jupyter-widgets/base",
      "model_module_version": "1.2.0",
      "model_name": "LayoutModel",
      "state": {}
     },
     "2609080b793a4b0fac82ce9a985e297f": {
      "model_module": "@jupyter-widgets/controls",
      "model_module_version": "1.5.0",
      "model_name": "LinkModel",
      "state": {
       "source": [
        "IPY_MODEL_77012eae88184586b7cf3d2eda963e41",
        "value"
       ],
       "target": [
        "IPY_MODEL_6097d5676e8b4f8183c9865c8bf6e71c",
        "value"
       ]
      }
     },
     "26676cad61ef4983b04780cc180baa1d": {
      "model_module": "@jupyter-widgets/base",
      "model_module_version": "1.2.0",
      "model_name": "LayoutModel",
      "state": {}
     },
     "2669e620e35a489cbc6efd7c85513604": {
      "model_module": "@jupyter-widgets/output",
      "model_module_version": "1.0.0",
      "model_name": "OutputModel",
      "state": {
       "layout": "IPY_MODEL_8dff4d8fdd474c8fbf83f0850216bf4e"
      }
     },
     "268ebe456b564988860f5ba6757da045": {
      "model_module": "@jupyter-widgets/controls",
      "model_module_version": "1.5.0",
      "model_name": "SliderStyleModel",
      "state": {
       "description_width": ""
      }
     },
     "26935a31d9364e70a1bc4d13927904dc": {
      "model_module": "@jupyter-widgets/controls",
      "model_module_version": "1.5.0",
      "model_name": "IntSliderModel",
      "state": {
       "layout": "IPY_MODEL_4063a46620774b29af849ba5d2cd7610",
       "style": "IPY_MODEL_529fecbb2dbc47329127ed4ae4e764b9",
       "value": 50
      }
     },
     "270c48f6a57a4dcda33071618416248b": {
      "model_module": "@jupyter-widgets/base",
      "model_module_version": "1.2.0",
      "model_name": "LayoutModel",
      "state": {}
     },
     "276235d35e20449f94772e05b2a369a7": {
      "model_module": "@jupyter-widgets/base",
      "model_module_version": "1.2.0",
      "model_name": "LayoutModel",
      "state": {}
     },
     "277a811216504a3ba41d3c772cec5e6a": {
      "model_module": "@jupyter-widgets/controls",
      "model_module_version": "1.5.0",
      "model_name": "DescriptionStyleModel",
      "state": {
       "description_width": ""
      }
     },
     "27a8b220d33b4db3aa6188a9dfdd3e74": {
      "model_module": "@jupyter-widgets/controls",
      "model_module_version": "1.5.0",
      "model_name": "IntSliderModel",
      "state": {
       "layout": "IPY_MODEL_9629bf9d2eff4aec8e9f004123699acd",
       "max": 7,
       "style": "IPY_MODEL_d47b4d5ac1f24eacabf99a220625a2f5"
      }
     },
     "27e570526f604e8eb5fa56fad47f140a": {
      "model_module": "@jupyter-widgets/base",
      "model_module_version": "1.2.0",
      "model_name": "LayoutModel",
      "state": {}
     },
     "27f76970368642f3acf9b137f8c1f37d": {
      "model_module": "@jupyter-widgets/controls",
      "model_module_version": "1.5.0",
      "model_name": "PlayModel",
      "state": {
       "_playing": true,
       "_repeat": true,
       "description": "Frame",
       "interval": 3139.8580393869734,
       "layout": "IPY_MODEL_84d4866857d945b38d45f9009b55f5c6",
       "max": 7,
       "style": "IPY_MODEL_a1eeeb5c509a46ca8f930041a886a371",
       "value": 6
      }
     },
     "280f071d73834f9fa810744ba64f1cd7": {
      "model_module": "@jupyter-widgets/controls",
      "model_module_version": "1.5.0",
      "model_name": "FloatLogSliderModel",
      "state": {
       "description": "Speed",
       "layout": "IPY_MODEL_105916c3e1d242e3a52b2a9855fef392",
       "max": 3.574031267727719,
       "min": 2.0969100130080562,
       "readout": false,
       "style": "IPY_MODEL_268ebe456b564988860f5ba6757da045",
       "value": 625
      }
     },
     "283ccd9944f9406784de95b920d98b41": {
      "model_module": "@jupyter-widgets/controls",
      "model_module_version": "1.5.0",
      "model_name": "DescriptionStyleModel",
      "state": {
       "description_width": ""
      }
     },
     "28bb0830c3d244ffb14c955a7294b3be": {
      "model_module": "@jupyter-widgets/base",
      "model_module_version": "1.2.0",
      "model_name": "LayoutModel",
      "state": {
       "border": "1px solid black"
      }
     },
     "2978efb78aa441649cd4de7c354bc8ef": {
      "model_module": "@jupyter-widgets/base",
      "model_module_version": "1.2.0",
      "model_name": "LayoutModel",
      "state": {}
     },
     "2aae01247b4644119713edaf9117e7b7": {
      "model_module": "@jupyter-widgets/controls",
      "model_module_version": "1.5.0",
      "model_name": "IntSliderModel",
      "state": {
       "layout": "IPY_MODEL_72d2d35b09c140bc87dabb620b1a1374",
       "max": 7,
       "style": "IPY_MODEL_7f0308f30e5043f48012686fcace2fa2",
       "value": 6
      }
     },
     "2b280d3ad4fb4ac5a823eaa1352e4cea": {
      "model_module": "@jupyter-widgets/controls",
      "model_module_version": "1.5.0",
      "model_name": "VBoxModel",
      "state": {
       "children": [
        "IPY_MODEL_9b86e5c25c684595b8f781774daf4eeb",
        "IPY_MODEL_5b651b294d174e7a8a76c79c11f7b5f9"
       ],
       "layout": "IPY_MODEL_aea35eae31884db5a2d1554e71e80a32"
      }
     },
     "2b379e001c5d4c0ea02ab0098a249d37": {
      "model_module": "@jupyter-widgets/controls",
      "model_module_version": "1.5.0",
      "model_name": "SliderStyleModel",
      "state": {
       "description_width": ""
      }
     },
     "2b75ec109df04ebb928e206a8b2ab16d": {
      "model_module": "@jupyter-widgets/controls",
      "model_module_version": "1.5.0",
      "model_name": "PlayModel",
      "state": {
       "description": "Press play",
       "interval": 50,
       "layout": "IPY_MODEL_8d9c427ac43948689785f1b07e27acc0",
       "style": "IPY_MODEL_40bed89d07e14ef19bd22867cd93c9b3",
       "value": 45
      }
     },
     "2c19687e2cf04bdf8db22562abf8ef3f": {
      "model_module": "@jupyter-widgets/controls",
      "model_module_version": "1.5.0",
      "model_name": "DescriptionStyleModel",
      "state": {
       "description_width": ""
      }
     },
     "2c2151113b4440b39464b41385e44410": {
      "model_module": "@jupyter-widgets/controls",
      "model_module_version": "1.5.0",
      "model_name": "PlayModel",
      "state": {
       "description": "Press play",
       "interval": 50,
       "layout": "IPY_MODEL_f3c5985e3bea4ea38508f88f13d4c4e6",
       "style": "IPY_MODEL_9afd8d83411643b39a2240c04f7ce960"
      }
     },
     "2c5d8f48e2df44b683c968d99aebeb6c": {
      "model_module": "@jupyter-widgets/output",
      "model_module_version": "1.0.0",
      "model_name": "OutputModel",
      "state": {
       "layout": "IPY_MODEL_94eada927be845be89276c65653b0adf"
      }
     },
     "2c68257f863c40f58a6266a95df1dc48": {
      "model_module": "@jupyter-widgets/base",
      "model_module_version": "1.2.0",
      "model_name": "LayoutModel",
      "state": {}
     },
     "2cee211c53d44f8c9102515b2f2c3bbe": {
      "model_module": "@jupyter-widgets/base",
      "model_module_version": "1.2.0",
      "model_name": "LayoutModel",
      "state": {}
     },
     "2d57e5dba0a54c6ab6f0c878c9b94af7": {
      "model_module": "@jupyter-widgets/base",
      "model_module_version": "1.2.0",
      "model_name": "LayoutModel",
      "state": {}
     },
     "2d5eca5cb33140ad88f0c18123e3b203": {
      "model_module": "@jupyter-widgets/base",
      "model_module_version": "1.2.0",
      "model_name": "LayoutModel",
      "state": {}
     },
     "2d7ab771a4824a769fd5377ff47303f9": {
      "model_module": "@jupyter-widgets/controls",
      "model_module_version": "1.5.0",
      "model_name": "DescriptionStyleModel",
      "state": {
       "description_width": ""
      }
     },
     "2e91d7f3004143cea0e473405baf4571": {
      "model_module": "@jupyter-widgets/base",
      "model_module_version": "1.2.0",
      "model_name": "LayoutModel",
      "state": {}
     },
     "2f242ea5321642d8b81f47cba8e82ab7": {
      "model_module": "@jupyter-widgets/controls",
      "model_module_version": "1.5.0",
      "model_name": "FloatLogSliderModel",
      "state": {
       "description": "Speed",
       "layout": "IPY_MODEL_67ad06b6f4d14a828ce2ae99f33f975b",
       "max": 2.437750562820388,
       "min": 1.0409586076789064,
       "readout": false,
       "style": "IPY_MODEL_77cd10b1e227489e84fe6f99ad2c4c56",
       "value": 54
      }
     },
     "2f69b3e0fce74e718d04f8090f7c22b0": {
      "model_module": "@jupyter-widgets/base",
      "model_module_version": "1.2.0",
      "model_name": "LayoutModel",
      "state": {}
     },
     "30058b2254c8419e80512b2e2f0250d8": {
      "model_module": "@jupyter-widgets/base",
      "model_module_version": "1.2.0",
      "model_name": "LayoutModel",
      "state": {}
     },
     "300cce29961d4261b3ac9957d26b3998": {
      "model_module": "@jupyter-widgets/controls",
      "model_module_version": "1.5.0",
      "model_name": "FloatLogSliderModel",
      "state": {
       "description": "Speed",
       "layout": "IPY_MODEL_270c48f6a57a4dcda33071618416248b",
       "max": 3.040602340114073,
       "min": 1.739928612014925,
       "readout": false,
       "style": "IPY_MODEL_ba49b9968c314b178e79da61e1f8c1c6",
       "value": 549.4523054718957
      }
     },
     "305dd30e72b24145bef2477f8dc9322c": {
      "model_module": "@jupyter-widgets/base",
      "model_module_version": "1.2.0",
      "model_name": "LayoutModel",
      "state": {}
     },
     "31033e393bfb4a159a2177ff9a4caabc": {
      "model_module": "@jupyter-widgets/controls",
      "model_module_version": "1.5.0",
      "model_name": "LinkModel",
      "state": {
       "source": [
        "IPY_MODEL_77910c187bd84671a5c7edc022ba4158",
        "interval"
       ],
       "target": [
        "IPY_MODEL_280f071d73834f9fa810744ba64f1cd7",
        "value"
       ]
      }
     },
     "31460f9c07744e3986c8f0ddbe4ea27d": {
      "model_module": "@jupyter-widgets/controls",
      "model_module_version": "1.5.0",
      "model_name": "IntSliderModel",
      "state": {
       "layout": "IPY_MODEL_56975631a0ad4ebbbc86a2c470a3beee",
       "style": "IPY_MODEL_04cdcd51cb944c1db74b3fbe45c21db9",
       "value": 100
      }
     },
     "3219795334d44d5483e1ac621c7e06af": {
      "model_module": "@jupyter-widgets/controls",
      "model_module_version": "1.5.0",
      "model_name": "IntSliderModel",
      "state": {
       "layout": "IPY_MODEL_f803b34edd9b46d59b4dba5f2ab5f3d8",
       "max": 7,
       "style": "IPY_MODEL_8497889d130247ef94ff0fd8da1dc299"
      }
     },
     "32560288be3a424f9775880b7ef9beb5": {
      "model_module": "@jupyter-widgets/output",
      "model_module_version": "1.0.0",
      "model_name": "OutputModel",
      "state": {
       "layout": "IPY_MODEL_03108eaa72c84f1b845f244da54c9d6a",
       "outputs": [
        {
         "name": "stdout",
         "output_type": "stream",
         "text": "{'name': 'value', 'old': 'Hello', 'new': 'World', 'owner': Dropdown(index=1, options=('Hello', 'World', '2021'), value='World'), 'type': 'change'}\n"
        }
       ]
      }
     },
     "327ff6e11bca4414982811db9384a674": {
      "model_module": "@jupyter-widgets/output",
      "model_module_version": "1.0.0",
      "model_name": "OutputModel",
      "state": {
       "layout": "IPY_MODEL_1f806579122a4dad96585b3b5ea4dfad",
       "outputs": [
        {
         "name": "stdout",
         "output_type": "stream",
         "text": "n: 1, occupied: 71\n#.##.##.##\n#######.##\n#.#.#..#..\n####.##.##\n#.##.##.##\n#.#####.##\n..#.#.....\n##########\n#.######.#\n#.#####.##n: 2, occupied: 7\n#.LL.LL.L#\n#LLLLLL.LL\nL.L.L..L..\nLLLL.LL.LL\nL.LL.LL.LL\nL.LLLLL.LL\n..L.L.....\nLLLLLLLLL#\n#.LLLLLL.L\n#.LLLLL.L#n: 4, occupied: 18\n#.L#.L#.L#\n#LLLLLL.LL\nL.L.L..#..\n##LL.LL.L#\nL.LL.LL.L#\n#.LLLLL.LL\n..L.L.....\nLLLLLLLLL#\n#.LLLLL#.L\n#.L#LL#.L#n: 1, occupied: 71\n#.##.##.##\n#######.##\n#.#.#..#..\n####.##.##\n#.##.##.##\n#.#####.##\n..#.#.....\n##########\n#.######.#\n#.#####.##n: 3, occupied: 53\n#.L#.##.L#\n#L#####.LL\nL.#.#..#..\n##L#.##.##\n#.##.#L.##\n#.#####.#L\n..#.#.....\nLLL####LL#\n#.L#####.L\n#.L####.L#n: 5, occupied: 31\n#.L#.L#.L#\n#LLLLLL.LL\nL.L.L..#..\n##L#.#L.L#\nL.L#.#L.L#\n#.L####.LL\n..#.#.....\nLLL###LLL#\n#.LLLLL#.L\n#.L#LL#.L#n: 1, occupied: 71\n#.##.##.##\n#######.##\n#.#.#..#..\n####.##.##\n#.##.##.##\n#.#####.##\n..#.#.....\n##########\n#.######.#\n#.#####.##"
        },
        {
         "name": "stdout",
         "output_type": "stream",
         "text": "n: 1, occupied: 71\n#.##.##.##\n#######.##\n#.#.#..#..\n####.##.##\n#.##.##.##\n#.#####.##\n..#.#.....\n##########\n#.######.#\n#.#####.##"
        }
       ]
      }
     },
     "3440ad598d0140838bdc98aaabd86fcc": {
      "model_module": "@jupyter-widgets/base",
      "model_module_version": "1.2.0",
      "model_name": "LayoutModel",
      "state": {}
     },
     "347c3e1496084cb7b3c9184b2c4a799d": {
      "model_module": "@jupyter-widgets/base",
      "model_module_version": "1.2.0",
      "model_name": "LayoutModel",
      "state": {}
     },
     "34ce218cadf0489eb47707458095e39c": {
      "model_module": "@jupyter-widgets/controls",
      "model_module_version": "1.5.0",
      "model_name": "DescriptionStyleModel",
      "state": {
       "description_width": ""
      }
     },
     "34e99e4f9d374aefb5c7dd41b79d635e": {
      "model_module": "@jupyter-widgets/base",
      "model_module_version": "1.2.0",
      "model_name": "LayoutModel",
      "state": {}
     },
     "354676726ecb4cc99dca2ac2647cdf6a": {
      "model_module": "@jupyter-widgets/output",
      "model_module_version": "1.0.0",
      "model_name": "OutputModel",
      "state": {
       "layout": "IPY_MODEL_28bb0830c3d244ffb14c955a7294b3be"
      }
     },
     "35f67812dad04ba385d877bf4677d669": {
      "model_module": "@jupyter-widgets/controls",
      "model_module_version": "1.5.0",
      "model_name": "FloatLogSliderModel",
      "state": {
       "description": "Speed",
       "layout": "IPY_MODEL_e509b5147a67425ca4b3e87d70b7696b",
       "max": 3.0704073217401198,
       "min": 1.7695510786217261,
       "readout": false,
       "style": "IPY_MODEL_8756d3eb782c4b57a6f30c059fb04dc3",
       "value": 294
      }
     },
     "37eb7b6216c34293a71b3264a45730db": {
      "model_module": "@jupyter-widgets/controls",
      "model_module_version": "1.5.0",
      "model_name": "HBoxModel",
      "state": {
       "children": [
        "IPY_MODEL_3b9621716662415690766d2ea9fbd39b",
        "IPY_MODEL_3219795334d44d5483e1ac621c7e06af",
        "IPY_MODEL_187347717c9b4e18877e044c897edba7"
       ],
       "layout": "IPY_MODEL_3fb7e113d57644e790ae05172504943f"
      }
     },
     "3828533165eb40df8955a039b618cfea": {
      "model_module": "@jupyter-widgets/base",
      "model_module_version": "1.2.0",
      "model_name": "LayoutModel",
      "state": {}
     },
     "386e8e37c7cf4eeb88e7ab165e2c5203": {
      "model_module": "@jupyter-widgets/controls",
      "model_module_version": "1.5.0",
      "model_name": "LinkModel",
      "state": {
       "source": [
        "IPY_MODEL_522d68f1ffe0415c9283f8b3a59bbe59",
        "interval"
       ],
       "target": [
        "IPY_MODEL_46ede3ddf6504337b0ce44eb02316ff1",
        "value"
       ]
      }
     },
     "38ba5eef594e440db1e4d999e1d64e4a": {
      "model_module": "@jupyter-widgets/base",
      "model_module_version": "1.2.0",
      "model_name": "LayoutModel",
      "state": {}
     },
     "394ab9851b024e989cc95cb4a06d4331": {
      "model_module": "@jupyter-widgets/controls",
      "model_module_version": "1.5.0",
      "model_name": "VBoxModel",
      "state": {
       "children": [
        "IPY_MODEL_3b827aa1b5a642589d62664ebe568de0",
        "IPY_MODEL_8591f8a3fd6a4a769576286056734ece"
       ],
       "layout": "IPY_MODEL_66df0da76eba4b348f1dc0c48446a1f9"
      }
     },
     "39c731d85a4f4244959ac99db334e1af": {
      "model_module": "@jupyter-widgets/controls",
      "model_module_version": "1.5.0",
      "model_name": "DescriptionStyleModel",
      "state": {
       "description_width": ""
      }
     },
     "39db46c799fe48c6bd22dba7e01a64e8": {
      "model_module": "@jupyter-widgets/controls",
      "model_module_version": "1.5.0",
      "model_name": "TextareaModel",
      "state": {
       "description": "String:",
       "layout": "IPY_MODEL_b92f27c8a2df4f7ab30aab09cbe2e924",
       "placeholder": "Type something",
       "style": "IPY_MODEL_099860d86da740c3808e6981bf215b4b",
       "value": "Hello World"
      }
     },
     "39df53957e884f7dbe4bdff881717b79": {
      "model_module": "@jupyter-widgets/controls",
      "model_module_version": "1.5.0",
      "model_name": "LinkModel",
      "state": {
       "source": [
        "IPY_MODEL_807aee84296e4b2c83e75ddcdb7f7953",
        "value"
       ],
       "target": [
        "IPY_MODEL_409da56a9327450cbcc3808a265ff3a7",
        "value"
       ]
      }
     },
     "3a768ed49a6f469eb69b8725f3dbd307": {
      "model_module": "@jupyter-widgets/controls",
      "model_module_version": "1.5.0",
      "model_name": "VBoxModel",
      "state": {
       "children": [
        "IPY_MODEL_6ac119f1b49a43a8acb059f52aa72253",
        "IPY_MODEL_faa15a7067b542688fbf0a7812b7e1fa"
       ],
       "layout": "IPY_MODEL_fff1f33889da4d9597f6fb77a606f64c"
      }
     },
     "3b827aa1b5a642589d62664ebe568de0": {
      "model_module": "@jupyter-widgets/controls",
      "model_module_version": "1.5.0",
      "model_name": "HBoxModel",
      "state": {
       "children": [
        "IPY_MODEL_bc2d83839148435c9ba665d8b2c7c02c",
        "IPY_MODEL_43ac376e25d043e4bc0ead084d8887e3",
        "IPY_MODEL_35f67812dad04ba385d877bf4677d669"
       ],
       "layout": "IPY_MODEL_ea6ff3222ceb46caa9e4a64ef52fcb25"
      }
     },
     "3b9621716662415690766d2ea9fbd39b": {
      "model_module": "@jupyter-widgets/controls",
      "model_module_version": "1.5.0",
      "model_name": "PlayModel",
      "state": {
       "description": "Frame",
       "interval": 625,
       "layout": "IPY_MODEL_57a91947b5724ba9ba80cb4cf35c608d",
       "max": 7,
       "style": "IPY_MODEL_454a64bd48db43f0bb81dad8e00f0214"
      }
     },
     "3be8e737d99d404bb4ed817a946ed0e9": {
      "model_module": "@jupyter-widgets/controls",
      "model_module_version": "1.5.0",
      "model_name": "SliderStyleModel",
      "state": {
       "description_width": ""
      }
     },
     "3c279dc4954741b79261e0dc81d0144e": {
      "model_module": "@jupyter-widgets/controls",
      "model_module_version": "1.5.0",
      "model_name": "SliderStyleModel",
      "state": {
       "description_width": ""
      }
     },
     "3cb4d1a2dd8a42af8cc5fda9535481d8": {
      "model_module": "@jupyter-widgets/base",
      "model_module_version": "1.2.0",
      "model_name": "LayoutModel",
      "state": {}
     },
     "3d517149bcb04373871e00e268dc23c9": {
      "model_module": "@jupyter-widgets/controls",
      "model_module_version": "1.5.0",
      "model_name": "DescriptionStyleModel",
      "state": {
       "description_width": ""
      }
     },
     "3e2db443dd6f4df9a808683cfa9f4c3c": {
      "model_module": "@jupyter-widgets/base",
      "model_module_version": "1.2.0",
      "model_name": "LayoutModel",
      "state": {}
     },
     "3e8984c71bcf4fdbae60baabd0914a94": {
      "model_module": "@jupyter-widgets/controls",
      "model_module_version": "1.5.0",
      "model_name": "LinkModel",
      "state": {
       "source": [
        "IPY_MODEL_46d004a029cf4f45aabcfa60447e9ede",
        "value"
       ],
       "target": [
        "IPY_MODEL_7ef78e9a206840c59951ca25fcbf4773",
        "value"
       ]
      }
     },
     "3e940fb08ddb4ef4a5fcb48d42cc1aac": {
      "model_module": "@jupyter-widgets/controls",
      "model_module_version": "1.5.0",
      "model_name": "DescriptionStyleModel",
      "state": {
       "description_width": ""
      }
     },
     "3edcc1a6b4574871915d65b422926dd6": {
      "model_module": "@jupyter-widgets/controls",
      "model_module_version": "1.5.0",
      "model_name": "LinkModel",
      "state": {
       "source": [
        "IPY_MODEL_ffc06e63cbcf434491a809dd80d5bd71",
        "value"
       ],
       "target": [
        "IPY_MODEL_5c0164386ce84e6fab5929dce6fca65f",
        "value"
       ]
      }
     },
     "3fb7e113d57644e790ae05172504943f": {
      "model_module": "@jupyter-widgets/base",
      "model_module_version": "1.2.0",
      "model_name": "LayoutModel",
      "state": {}
     },
     "404b456ac3774320a2a43816d25c7081": {
      "model_module": "@jupyter-widgets/controls",
      "model_module_version": "1.5.0",
      "model_name": "SliderStyleModel",
      "state": {
       "description_width": ""
      }
     },
     "4063a46620774b29af849ba5d2cd7610": {
      "model_module": "@jupyter-widgets/base",
      "model_module_version": "1.2.0",
      "model_name": "LayoutModel",
      "state": {}
     },
     "409da56a9327450cbcc3808a265ff3a7": {
      "model_module": "@jupyter-widgets/controls",
      "model_module_version": "1.5.0",
      "model_name": "IntSliderModel",
      "state": {
       "layout": "IPY_MODEL_d0318a5a17ec4c0ca25ef8bc5b3e0763",
       "style": "IPY_MODEL_8f90ec8254eb474d965f9ebb2be8557b"
      }
     },
     "40bed89d07e14ef19bd22867cd93c9b3": {
      "model_module": "@jupyter-widgets/controls",
      "model_module_version": "1.5.0",
      "model_name": "DescriptionStyleModel",
      "state": {
       "description_width": ""
      }
     },
     "40e4ee518ef54b5e85918e827f9b9a30": {
      "model_module": "@jupyter-widgets/base",
      "model_module_version": "1.2.0",
      "model_name": "LayoutModel",
      "state": {}
     },
     "4138c594d0cf4253ab9ec158558d84c8": {
      "model_module": "@jupyter-widgets/output",
      "model_module_version": "1.0.0",
      "model_name": "OutputModel",
      "state": {
       "layout": "IPY_MODEL_ad61ac19274146fd94892977a1ff2d8e",
       "outputs": [
        {
         "name": "stdout",
         "output_type": "stream",
         "text": "n: 0, occupied: 0\nLLLLLLLLL.L.LLLLLLLLLLLLL.LLLLLLL.LLLL.LLLLLLLLLLLLLLLLLL.LLLL.LLLLL.LLLLLLL.LLLLL.LLLLLLLLLLLLLLL\nLLLLLLLLLLLLLLLLLLLLLLLLL.LLLLLLLLLLLLLLLLLLLLLL.LLLLLLLL.LLLLLLLLLL.LLLLLLL.LLLLL.LLLLL.LLLLLLLLL\nLLLLLLLLL.LLLLLLLLLLLLLLL.LLLLLLLLLLLLLLLLLLLLLL.LLLLLLLL.LL.LLLLLLL.LLLLLLL.LLLLLLLLLLLLLLLLLLLLL\nLLLLLLLLLL.LLLLL.LLLLLLLL.LLLLLLL.LLLL.LLLLLLLLLLLL.LLLLLLLLLL.LLLLL.LLLLLLL.LLLLL.LLLLLL.LLLLLLLL\nLLLLLLLLL.LLLLLL..LLLLLLL.LLLLLLL.LLLL.LLLLLLLLLLLLLLLLLL.LLLLLLLLLL.LLLLLLLLLLLLL.LLLLL.LLLLLLLLL\nLLLLLLLLL.LLLLLL.LLLLLLLLLLLLLLLLLLLLLLLLLL.LLLLLLLLLLLLLLLLLLLLLLLL.LLLLLLL.LLLLL.LLLLLLLLLLLLLLL\nLLLLLLL.L.LLLLLLLLLLLLLLLLLLLLLLL.LLLL..LLLLLLLL.LLLLLLLL.LLLL.LLLLL.LLLLLLL.LLLLL.LLLLL.LLLLLLLLL\nLLLLLLLLLLLLLLLLLLLLLLLLL.LLLLLLL.LLLL.LLLLLLLLLLLLLLLLLL.LLLL.LLLLL.LLLLLLL.LLLLL.LLLLL.LLLLLLLLL\nL.LLLL.L..L.LL....L......L...LL.LL..L....L...LL.LL.L.LL.LL..LL............L..L...LL.L.L.L..LLL...L\nLLLLLLLLL.LLLLLLLLLLLLLLLLLLLLLLL.LLLLLLLLLLLLLL.L.LLLLLL.LLLLLLLLLL.LLLL.LL.LLLLL.LLLLLLLL.LLLLLL\nLLLLLLLLLLLLLLLL.LLLLLLLL.LLLL.LL.LLLL.LLLLLLLLL.LLL.LLLL..LLL.LLLLL.LL.LLLL.LLLLL.LLLLLLLLLLLLLLL\nLLLLLLLLLLLLLLLLLLLLLLLLL..LLLLLL.LLLLLLLLLLLLLL.LLLLLLLLLLLLL..LLLL.LLLLLLLLLLLLLLLLLLL.LLLLLLLLL\nLLLLLLLLL.LL.LLL.LLLLLLLL.LLLLLLL.LLLL.LLLLLLLLL.LLLLLLLL.LLLL.LLLLL.LLLLLLL.LLLLL.LLLLL.LLLLLLLLL\nLL.LLLLLL.LLLL.LLLLLLLLLLLLLLLLLL.LLLLLLLLLLLLL..LLLLLLLL..LLL.LLLLL.LL.LLLLLLLLLL.LLLLLLLLLLLLLLL\nLLLLLLLLL.LLLLLL.LLLLLLLL.LLLLLLL.LLLLLLLLLLLLLLLLLLLL.LLLLLLL.LLLLL.LLLLLLLLLLLLL.LLLLL.LLLLLLLLL\nLLLLLLLLL.LLLLLL.LLLLLLLL.LLLLLLL.LLLL.LLLLLLLLL.LLLLLLLL.LLLL.LLLLL.LLLLLLLLLLLLL.LLLLL.LLLLLLLLL\n....LL.....LL..LLL..L......LL.LL......L.....L.....LL.LLLL..L.L.......LL.LL.....L.........L...L..L.\nLLLLLLL.L.LLLLLL.LLLLLLLL.LLLLLLL.LLLLLLLLLLLLLL.LLLLLLLLLLLLLLLLLLLLLLLLLLL.LLLLLLLLLLL.LLLLLLLLL\nLLLLLLLLL.LLLLLLL.LLLLLLLLLLLLLLL.LLLLLLLLLLLLLL.LLLLLLLLLLLLL.LLLLLLLLLLLLL.LLLLL.LLLLL.LLLLLLLLL\nLLLLLLLLLLLLLLLLLLLLLLLLL.LLLLLLL.LLLLL.LLLLLLLL.LLLLLLLLLLLLLLLLLLLLLLLLLLL.LLLLL.LLLLL.LLLLLLLLL\nLLLLLLLLLLLLLLLL.LLLLLLLLLLLLLLLL.LLLL.LLLLLLLLLLLLLLLLLLLLLLL.LLLLLLLLLLLLL.LLLLL.LLLLLLLLLLLLLLL\nLLLLLLLLL.LLLLLL.L.LLLLLL.LLLLLLL.LLLLLLLLLLLLLL.LLLLLLLL.LLLL.LLLLL.LLLLLLL.LLLLL.LLLLLLLLLLLLLLL\nLLLLLLLLL.LLLLLLLLLLLLLLL.LLLLLLL.LLLL.LLLLLLLLL.LLLLLLLLLLLLLLLLLLL.LLLLLLLLLL.LLLLLLLL.LLLLLLLLL\n.LLL....L....LL....L..........LL.L................L...L...LL......L.....LLLL...LL..L.....L.L..L.L.\nLLLLLLLLL.LLLLLL.LLLLLLLLLLLLLLLL.LLLL.LLL.LLLLL.LLLLLLLLLLLLL.LLLLL.LL.LLLLLLLLLL.LLLL..LLLLLLLLL\nLLLLLLLLL..LLLLLLLLLL.LLL.LLLLLLLLLLLL.LLLLLLLLL.LLLLL.LLLLLLL.LLLLL.LLLLLLLLLLLLL.LLLLL.LLL..LLLL\nLLLLLLLLL.LLLLLLLLLLLLLLLLLLLLLLL.LLLLLLLLLLLLLL.LLLLLLLLLLLLL.LLLLLLLLLLLLL.LLLLLLLLLLLLLLLLLLLLL\nLLLLLLLLLLLLLL.L.LLLLLLLL.LLLLLLL.LLLLLLLLLLLLLL.L.LLLLLL.LLLLLLLLLL.LLLLLLL.LLLLL.LLLLL.LLLLLLLLL\nLLLLLLLLL.LLLLLLLLLLLLLLLLLLLLLL.LLLLL.LLLLLLLLL.LLLLLLLLLLLLL.LLLLL.LLLLLLL.LLLLLLLLLLL.LLLLLLLLL\n.L.LL..L.....L...L...L.L...L..L..L.L.L.L........L..LL....L...L...L.....LL.L............L..L..L....\nLLLLLLLLL.LLLLLL.LLLLLLLL.LLLLLLL.LLLL.LLLLLLLLL.LLLLLLLL.LLLL.LLLLL.LLLLLLL.LLLLLLLLLLL.LLLLLLLLL\nLLLLLLLLLLLLLLLLLLLLLL.LLLLLL.LLL.LLLLLLLLLLLLLL.LLLLL.LL.LLLL.LLLLLLLLLLLLLLLLLLLLLLLLL.LLLLLL.L.\nLLLLLLLLL.LLLLLLLLLLLLLLLLLLLLL.L.LLLL.LLLLLLLLL.LLLLLLLL.L.LLLLLLLLLLLLLLLLLLLLLL.LLLLL.LLLLLLLLL\nLLLLLLLLLLLLLLLLLLLLLLLLL.LLLLL.L.LLLLLLLLLLLLLLLLLLLLLLLLLLLL.LLLLL.LLLLLLLLLLLLLLLLLLL.LLLLLLLLL\nLLLLLLLLL.LLLLLL.LLLLLLLL.LLLLLLL.LLLL.LLLLLLLLL.LLLLLLLL.LLLL.LLLLLLLLLLLLLLLL.LL.LLLL..LLLLLLLLL\nLLLLLLLLL.LLLLLLLLLLLLLLLLLLLLLLL.LLLLLLLLLLLLLLLLLLLLLLLLLLLLLLLLLL.LLLLLLL.LLL.L.LLLLL.LLLLLLLLL\nL.L..L.L..L.....LL...LL..LL..L.L...L...L.....L...L.......L...LL.............LL.LL.LL....L.L.LL.L..\nLLLLLLLLL.LLLLLLLLLLLLLLL.LLLLLLL.LLLL.LLLLLLLLL.LLLLLLLL.LLLL.LLLLLLLLLLLLL.LLLLLLLLLLL.LLLLLLLLL\nLLLLLLLLLLLLLLLL.LL.LLLLL.LLL.LLL.LLLLLLLLLLLLLL.LLLLLLLL.LLLL.LLLLLLLLLLL.L.LLLLL.LLLLL.LLLLLLLLL\nLLLLLLLLL.LLLLLLLLLLLLLLLLLLLLLLL.LLLLLLLLLLLLLL.LLLLLLLLLLLLLLLLLLL.LLLLLLL.LLLLLLLLLLL.LLLLLLLLL\nLLLLLLLLL.LLLLLLLLLLLLLLLLLLL.LLL.LLLL.LLLLLLLLL.LLLLLLLLLLLLL.LLLLLLLLLLLLLLLLLLL.LLLLL.LLLLLLLLL\n.........L.L.L.LL.LLLLL..LL..LL......LL.L.L.L...L.L.....L.LL.....LLL.L.L.L.....LL...L..L....L..L.L\nLLLLLLLLL.LLLLLL.LLLLLLLL.L.LLLLL.LLLL.LLLLLLLLL.LLLLLLLL.LLLL.LLLLL.LLLLLLL.LLLLL.LLLLL.LLLLLLLLL\nLLLLLLLLL.LLLLLLLLLLLLLLL.LLLLLLL.LLLL.LLLLLLLLL.LLLLLLLLLLLLLLLLLLL..LLLLLL.LL.LL.LLLL.LLLLL.LLLL\nLLLLLLLLLLLLLLLLLLLLLLLLL.LLLLLLL.LLLL.LLLLLLLL.LLLLLLLLLLLLLLLLLLLLLLLLLLLL.LLLLL.LLLLL.LLL.LLLLL\nLLLLLLLLL.LLLLLL.LLLLLLLL.LLLLLLL.LLLLLLLLLLLLLL.LLLLLLLL.LLLL.LLLLLLLLLLLLL.LLLLL.LLLLL.LLLL.LLLL\n.L.........LL....L..LL.LLL.LL.L...L..L.....LLLL..........L.LLL...LLLL.L..L.L.LLL...LLL..L.L......L\nLLLLLLLLL.LLLLLL.LLLLLLLL.LLLLLLL.LLLLLLLLLLLLLLLLLLLLLLLLLLLLLLLLLL.LLLL.LLLLLLLLLLLLLL.LL.LLLLLL\nLLLLLLLLLLLLLLLL.LLLLLLLL.LLLLLLLLLLLL..LLLLLLLL.LLLLLLLL.LLLLLLLLLL.LLLLLLLLLLLLL.LLLLL.LLLLLLLLL\nLLLLLLLLL.LLLLLLLL.LLLLLLLLLLLLLL.LLLL.LLLLLLLLL.LLLLLLLLLLLLL.LLLLL.LLLLLLL.LLLLL.LLLLLLLLLLLLLLL\nLLLLL.LLL.LLLLLL.LLLLLLLLLLLLLLLLLLLLL.LLLLLLLLLLLLLLLLLLLLLLL.LLLLLLLLLLLLLL.LLLL.LLLLL.LLLLLLLLL\n.LL.L.LL.LLL.LLL.L....L....LL..L.L............L.....L.....L....LLLL..L......L.L...LL...LL.L...L.L.\nLLLLLLLLLLLLLLLLLLLL.LLLL.LLLLLLL.LLLLLLLLLLLLLL.LLLLLLLL.LLLLLLLLLL.LLLLLLLLLLLLL.LLLLL.LLLLLLLLL\nLLLLLLLLL.LLLLLL.LLLLLLLL.LLLLLLL.LLLL.LLLLLLLLL.LLLLLLLLLLLLL.LLLLL.LLLLLLL.LLLLL.LLLLL.L.LLLLLLL\nLLLLLLLLL.LLLLLL.LLLLLLLL.LLLLLLL.LLLLLLLLLLLLLL.LLLLLLLL.LLLLLLLLLLLLLLLLLL.LLL.LLLLLLL.LLLLLLLLL\nLLLLLLLLLLLLLLLL.LLLLLLLL.LLL.LLL.LLLLLLLLLLLLLLLLLLLLLLL.LLLL.LLLLL.LLLLLLLLLLLLL.LLLLL.LLLLLLLL.\nL.LLLLLLL.LLLLLL.LLLLLLLL.LLLLLLLLLLLLLLLLLLLLLL.LLLLLLLLLLLLL.LLLLL.LLLLLLL.LLLLL.LLLLL.LLLLLLLLL\n.L..L.L....L.........L.L...L..L.L..LL.........L.L....L..LL...L....L.L...LLL.L.LL.LL.L..L...LL....L\nLLLLLLLLLLLLLLLLLLLLLLLLL.LLLLLLL.LLLL.LLLLLLLL..LLLLLLLL.LLLL.LLLLLLLLLLLLL.LLLLL.LLLLLLLLLLLLLLL\nLLLLLLLLL.LLLLLL.LLLLLLLL.LLLLLLL.LLLL.LLLLLLLLL.LLLLLLLL.LLLLLLLLLL.LLLLLLLLLLLLL.LLLLL.LLLLLLLLL\nLLLLLLLLLLLLLLLLLLLLLLLLL..LLLLLL.LLLL.LLLLLLLLL.LLLLLLLL.LLLLLLLLLLLLLLLLLL.LLLLL.LLLLL.LLLLLLLLL\nLLLLLLLLLLLLLLLLLLLLLLLLL.LLLLLLL.LLLLLLLLLLLLLL.LLLL.LLL.LLLLLLLLLL.LLLLLLLLLLLLLLLLLLL.LLLLLLLLL\nLLLLLLLLLLLLLLLLLLLLLLLLLLLLLLLLL.LLLL.LLLLLLLLL.LLLLLLLLLLLLL.LLLLL.LLLL.LL.LLLLL.LLLLL.LLLLLLLLL\nLLLLLLLLL.LLLLLL.LLLLLLLL.LLLLLLL.L.LL.LLLLLLLLLLLLLLLLLLLLLLL.LLLLL.LLLLLLL.LLL.L.LLLLL.LL.LLLLLL\nLLLLLL.LL.LLLLLL.LLLLLLLL.LLLLLLL.LLLLLLLLLLLLLL.LLLLLLLL.LLLL.LLLLL.LLLL.LL.LLLLL.LLLL..LLLLLLLLL\nLLLLLLLLL.LLLLLL.LLLLLLLL.LLLLLLL.LLLL.LLL.LLLLL.LLLLLLLL.LLLL.LLLLLLLLLLLLL.LLLLLLLLLLL.LL.LLLLLL\nLLLLLLLLL.LLLLLL.LLLLLLLLLLLLLLLL.LLLLLLLLLLLLLL.LLLLLLLL.LLLL.LLLLLLL.LLLLLLLLLLL.LLLLL.LLLLLLLLL\n.LL..L....L.....L......LLL......L...LLLL....LLL......L..L......L..LL...LL...L......LL.LL....L..L..\nLLLLLLLLL.LLLLLL.LLLLLLLLLL..L.LL.LLLLLLLLLLLLLL.LLLLLLLLLLLLL.LLLLLLLLLLLLL.LLLLLLLLLLLLLLLLLLLLL\nLLLLLLLLL.LLLLLL.LLLLLLLLLLLLLLLL.LLLL...LLLLLLL.LLLLLLLL.LLLL.LLLL.LL.LLLLLLLLLLL.LLLLL.LLLLLLLLL\nLLLLLLLLL.LLLLLLLLLLLLLLLLLLLLLLLLLLLL.LLLLLLLLL.LLLLLLLL.LLLLLLLL.LLLLLLLLL.LLLLL.LLLLLLLLLLLLLLL\nLLLLLLLLLLLLLLLLLLLLLLLLL.LLLLLLL.LLLL.LLLLLLLLL.LLLLLLLL.LLLL.LLLLL.LLLLLLLLLLLLL.LLLLL.LLLLLLLLL\nLLLLLLLLLLLLLLLL.LLLLLLLL.LLLLLLL.LLLLLLLLLLLLLL.LLLLLLLL.LLLL.LLLLL.LLLLLLL.LLLLL.LLLLL.LLLLLLLLL\nLLLLLLLLL.LLLLLLLLLLLLLLLLLLLLLLL.LLLL.LLLLLLLLL.LLLLLLLL.LLLL.LLLLLL.LLLLLL.LLLLLLLLLLLLLLLLLLLLL\n...L.LL..........L....L.L.L....L......LL..........L.L.....LL..LL..L..L..L..L...L..L..L..L.....L...\nLLLLLLLLL.LLLLLLLLLLLLLLL.LLLLLLL.LLLLLLLLLLLLLL.LLLLLLLLLLLLL.LLLLL.LLLLLLL.LLLLLLLLLLLLLLLLLLLLL\nLLLLLLLLL.LLLLLL.LLLLLLLLLLLLLLLLLLLLL.LLLLLLLLL.LLLLLLLL.LLLL..LL.L.LLLLLLLLLLLLL.LLLLL.LLLLLLLLL\nLLLLLLL.LLLLLLL..LLLLLLLL.LLLLLLL.LLLL.LLLLLLLLL.LLLLL.LLLLLLL..LLLL.LLLLLLL.LLLLL.LLLLLLLLLLLLLLL\nLLLLLLLLL.L.LLLLL.LLLLLLLLLLLLLLL.LLLLLLLLLLLLLLLLLLLLLLL.LLLL.LLLLL.LLLLLLL.LLLLL.LLLLL.LLLLLLLLL\nLLLL.LLLL.LLLLLL.LLLLLLLLLLLLLLLL.LLLLLLLLLLLLLL.LLLLLLLL.LLLL.LLLLL.LLLLLLL.LL.LL.LLLLL.LLLLLLLLL\nLLLLLLLLLLLLLLLL.LLLLLLLL.LLLLLLLLLLLLLLLLLLLLLL.LLLLLLLL.LLLLLLLLLL.LL..LLL.LLL.L.LLLLL.LLLLLLLLL\nLLLLLLLLL.LLLLLL.LLLLLLLLLLLLLLLLL.LLL.LLLL.LLLLLLLLLLLLL.LLLL.LLLLL.LLLLLLLLLLLLLLLLLLL.LLLLLLLLL\nLLLLLLLLL.LLLLLLLLLLLLLLLLLLLLLLLLLLLLLLLLL.LLLL.LLLLLLLLLLLLL.LLLLL.LLLLL.L.LLLLL.LLLLLLLLLLLLLLL\n..L..L.LL..L.L..LL...L.L...L....LL..L.....L..L..L..L.....LL.L..L.LL......L.LLLL.LLL.LL.....L.L....\nLLLLLLL.L.LLLLLLLLLLLLLLLLLLLLLLL.LLLL.LLLLLLLLL.LLLLLLLLLLLL.LLLLLL.LLLLLLL.LLLL.LLLL.L.LLLLLLLLL\nLLLLLLLLL.LLLLLL.LL.LLLLL.LLLLLLLLLLLL.LLLLLLLLLLLLLLLLLL.LLLL.LLLLL.LLLLLLL.LLLLLLLLLLL.LLLLLLLLL\nLLLLL.LLL.LLLLLLLLLLLLL.L.LLLLLLL.LLLLLLLLLLLLLL.LLLLLLLL.LLLL.LLLLL.LLLLLLL.LLLLLLLLLL.LLLLLLLLLL\nLLLLLLLLLLLLLLLLLLLLLLLLLLLLLLLLL.LLLL.LLLLLLLLL.LLLLLL.L.LLLL.LLLLL.LLLLLLLLLLLLL.LLLLLLLLLLLLLLL\nLLLLLLLLLLLLLLLL.LLLLLLLLLLLLLLLLLLLLL.LLLLLLLLL.LLLLLLLLLLLLL.LLLLLLLLLLL.L.LLLLL.LLLLLLLLLLLLLLL\nLLLLLL.LLLLLLLL..LLLLLLLL.LLLLLLL.LLLL.LLLLLLLLL.LLLLLLLL.LLLL.LLLLLLLLLLLLL.LLLLL.LLLLLLLLLLLLLLL\nLLLLLLLLL.LLLLLLLLLLLLLLLLLLLLLLL.LLLL.L.LLLL.LLLLLLLLLLL.LLLL.LLLLL.LLLLLLLLLLLL.LLLLLL.LLLLLLLLL\nLLLLLLLLL.LLLLLL.LLLLLLLL.LLLLLLL.LLLL.LLLLLLLLL.LLLLLLLL.LLLLLLLLLL.LLLLLLL.LLLLL.LLLLL.LLLLLLLLL\nL.LLLLLLL.LLLLLL.L.LLLLLL..LLLLLLLLLL.LLLLLLLLLL.LLLLLLLL.LLLLLLLLLL.LLLLLLLLLLLLL.LLLLL.LLLLLLLLL\nLLLLLLLLL.LLLLLLLLLLLLLLL.LLLLLLL.LLLL.LLLLLLLLL.LLLL.LLLLLLLL.LLLLLLLLLLL.L.LLL.L.LLLLLLLLLLLLLLL\n.LLLLLLLL.LLLLLL.LLLLLLLL.LLLL.LL.LLLL.LLLLLLLLL.LLLLLLLLLLLLL.LLLLLLLLLLLLL.LLLLL.LLLLL.LLLLLLLLL\nLLLLLLLLLLLL.LLL.LLLLLLLL.LLLLLLLLLLLLLLLLLLLLLL.LLLLLLLL.LLLL.LLLLL.LLLLLLL.LLLLL.LLLLL.LLLLLLLLL\nLLLLLLLLLLLLLLLL.LLLLLLLL.LLLL.LL.LLLLLLL.LLLLLL.LLLLLLLL.LLLL.LLLLLLLLLLLLL.LLLLL.LLLLL.LLLLLLLLL\nLLLLLLLL..LLLLLL.LLL.LLLL.LLLLLLL.LLLL.LLLLLLLLL.LLLL.LLL.LLLL.LLLLL.LLLLLLLLLLLLLLLLLLL.LLLLLLLLL\n"
        }
       ]
      }
     },
     "431af08ff02242dea2c9c0ee32bfb38e": {
      "model_module": "@jupyter-widgets/controls",
      "model_module_version": "1.5.0",
      "model_name": "VBoxModel",
      "state": {
       "children": [
        "IPY_MODEL_73e38659bd7c4536857b149a6c678bc4",
        "IPY_MODEL_0d187333998d4d8e97610268c68ddd3b"
       ],
       "layout": "IPY_MODEL_dbf29b9b2976406194baa976f4f6f955"
      }
     },
     "43ac376e25d043e4bc0ead084d8887e3": {
      "model_module": "@jupyter-widgets/controls",
      "model_module_version": "1.5.0",
      "model_name": "IntSliderModel",
      "state": {
       "layout": "IPY_MODEL_e1aea2102e6b4207837d5eaafb08f50d",
       "max": 84,
       "style": "IPY_MODEL_9ecba3b80e984561ad6b8d292e770250"
      }
     },
     "4492567ef4cd45e2b935e9b702fa43ab": {
      "model_module": "@jupyter-widgets/controls",
      "model_module_version": "1.5.0",
      "model_name": "HBoxModel",
      "state": {
       "children": [
        "IPY_MODEL_06c2724faeda4d3fbf59d541ceb94a9d",
        "IPY_MODEL_da1b45f30b464b9a92c7a1346b2e25ad"
       ],
       "layout": "IPY_MODEL_d786846a35184136828456bf15347108"
      }
     },
     "454a64bd48db43f0bb81dad8e00f0214": {
      "model_module": "@jupyter-widgets/controls",
      "model_module_version": "1.5.0",
      "model_name": "DescriptionStyleModel",
      "state": {
       "description_width": ""
      }
     },
     "4603949fdd6d4733ad88f8cd209732bd": {
      "model_module": "@jupyter-widgets/controls",
      "model_module_version": "1.5.0",
      "model_name": "HBoxModel",
      "state": {
       "children": [
        "IPY_MODEL_87b0656c5935409d9d759ac60ea698e2",
        "IPY_MODEL_0d2e8f88bdea419a979dfc8a570c5714"
       ],
       "layout": "IPY_MODEL_ab7a8d90f0794a0ab9d6e4debf24342f"
      }
     },
     "46b5da0fb8f946d4ad97717eb9690df2": {
      "model_module": "@jupyter-widgets/controls",
      "model_module_version": "1.5.0",
      "model_name": "HBoxModel",
      "state": {
       "children": [
        "IPY_MODEL_8e29409c17bc44d7978064dcd65059d3",
        "IPY_MODEL_7196cc89551b4788a6eda734e1458a7c",
        "IPY_MODEL_fe509e9072764c658267864fe9c7a59c"
       ],
       "layout": "IPY_MODEL_cbccd21650dc4d8296c0140139d7850d"
      }
     },
     "46d004a029cf4f45aabcfa60447e9ede": {
      "model_module": "@jupyter-widgets/controls",
      "model_module_version": "1.5.0",
      "model_name": "PlayModel",
      "state": {
       "description": "Frame",
       "interval": 274,
       "layout": "IPY_MODEL_12c3e245cca4446595a7810b380ebc12",
       "max": 90,
       "style": "IPY_MODEL_d59690673b3845aeb1bc5233284f25b8"
      }
     },
     "46ede3ddf6504337b0ce44eb02316ff1": {
      "model_module": "@jupyter-widgets/controls",
      "model_module_version": "1.5.0",
      "model_name": "FloatSliderModel",
      "state": {
       "description": "Speed",
       "layout": "IPY_MODEL_fa23f8df86d94c589078fc7a9becb571",
       "max": 6250,
       "min": 62,
       "step": 0.1,
       "style": "IPY_MODEL_4f18cba661a74b18b1a013cb59d91165",
       "value": 625
      }
     },
     "47098449ecab4a44a64a87b27493bd51": {
      "model_module": "@jupyter-widgets/controls",
      "model_module_version": "1.5.0",
      "model_name": "PlayModel",
      "state": {
       "description": "Press play",
       "interval": 50,
       "layout": "IPY_MODEL_602b938b30de44e5b0809683dcaacea5",
       "style": "IPY_MODEL_be6e88ea31b54a1abe09cb1f521735f4"
      }
     },
     "47183daa67e14455bffc87a6162578aa": {
      "model_module": "@jupyter-widgets/base",
      "model_module_version": "1.2.0",
      "model_name": "LayoutModel",
      "state": {}
     },
     "47a5ced61f504ce7990ec8bfa4b11d1c": {
      "model_module": "@jupyter-widgets/controls",
      "model_module_version": "1.5.0",
      "model_name": "LinkModel",
      "state": {
       "source": [
        "IPY_MODEL_27f76970368642f3acf9b137f8c1f37d",
        "value"
       ],
       "target": [
        "IPY_MODEL_2aae01247b4644119713edaf9117e7b7",
        "value"
       ]
      }
     },
     "49354884f6ab4055af0d8b1ae0ca9d21": {
      "model_module": "@jupyter-widgets/output",
      "model_module_version": "1.0.0",
      "model_name": "OutputModel",
      "state": {
       "layout": "IPY_MODEL_a1585032f73b48bb819a877012694fe3",
       "outputs": [
        {
         "name": "stdout",
         "output_type": "stream",
         "text": "{'name': 'value', 'old': 51, 'new': 55, 'owner': Play(value=55, description='Press play', interval=50), 'type': 'change'}\n"
        }
       ]
      }
     },
     "49feae53e59d422d859b28330f6ffe99": {
      "model_module": "@jupyter-widgets/controls",
      "model_module_version": "1.5.0",
      "model_name": "IntSliderModel",
      "state": {
       "layout": "IPY_MODEL_6374ccfcba144f9d92489d7868fc3181",
       "style": "IPY_MODEL_6affff45166d4fe2a5de933accba5246"
      }
     },
     "4b5d17b99f9c4df180883053295a64a6": {
      "model_module": "@jupyter-widgets/base",
      "model_module_version": "1.2.0",
      "model_name": "LayoutModel",
      "state": {}
     },
     "4ba26d2e02c94339ba301b0a7db52427": {
      "model_module": "@jupyter-widgets/base",
      "model_module_version": "1.2.0",
      "model_name": "LayoutModel",
      "state": {}
     },
     "4bae0edc5acd43368b1c16f6c38c4d62": {
      "model_module": "@jupyter-widgets/controls",
      "model_module_version": "1.5.0",
      "model_name": "DropdownModel",
      "state": {
       "_options_labels": [
        "Hello",
        "World",
        "2021"
       ],
       "index": 1,
       "layout": "IPY_MODEL_7227c4d7afac425998b83dbfdaa46ce6",
       "style": "IPY_MODEL_ceab0a9bf6594645b710957319189d88"
      }
     },
     "4bd85d1301ba4754b76b59703fbdf193": {
      "model_module": "@jupyter-widgets/controls",
      "model_module_version": "1.5.0",
      "model_name": "LinkModel",
      "state": {
       "source": [
        "IPY_MODEL_bc2d83839148435c9ba665d8b2c7c02c",
        "interval"
       ],
       "target": [
        "IPY_MODEL_35f67812dad04ba385d877bf4677d669",
        "value"
       ]
      }
     },
     "4d1ca1341414492f96456cda0e460a47": {
      "model_module": "@jupyter-widgets/controls",
      "model_module_version": "1.5.0",
      "model_name": "TextareaModel",
      "state": {
       "description": "String:",
       "layout": "IPY_MODEL_be6d1c176f254707aaa8b16eb76679e5",
       "placeholder": "Type something",
       "style": "IPY_MODEL_c0b0364cc843456dbd6b9ddac49910c3",
       "value": "Hellokjklorld"
      }
     },
     "4d7a3276c5af4e69b3b868863e249f98": {
      "model_module": "@jupyter-widgets/output",
      "model_module_version": "1.0.0",
      "model_name": "OutputModel",
      "state": {
       "layout": "IPY_MODEL_fc7dab295cd24df4a218683dc93f0130",
       "outputs": [
        {
         "name": "stdout",
         "output_type": "stream",
         "text": "n: 84, occupied: 2476\n#L#L#L#L#.#.#L#L#L#L#L#L#.#L#L#L#.#L#L.L#L#L#L#L#L#L#L#L#.#L#L.#L#L#.#L#L#L#.#L#L#.#L#L#L#L#L#L#L#\nLLLLLLLLLLLLLLLLLLLLLLLLL.LLLLLLLLLLLL#LLLLLLLLL.LLLLLLLL.LLLLLLLLLL.LLLLLLL.LLLLL.LLLLL.LLLLLLLLL\n#L#L#L#L#.#L#L#L#L#L#L#L#.#L#L#L#L#L#L#L#L#L##L#.#L#L#L#L.L#.#L#L#L#.#L#L#L#.#L#L#L#L#L#L#L#L#L#L#\nLLLLLLLLLL.LLLLL.LLLLLLLL.LLLLLLL.LLLL.LLLLLLLLLLLL.LLLLL#LLLL.LLLLL.LLLLLLL.LLLLL.LLLL#L.LLLLLLLL\n#L#L#L#L#.#L#L##..L#L#L#L.#L#L#L#.##L#.#L#L#L#L#L#L#L#L#L.L#L#LLLLLL.LLLL#L#L#L#L#.#L#LL.#L#L#L#L#\nLLLLLLLLL.LLLLLL.#LLLLLLLLLLLLLL#L##L#L#L#L.LLLLLLLLLLLLL#LLLLL#L#L#.#L#LLLL.LLLLL.LLLL#LLLLLLLLLL\n#L#L#L#.#.#L#L#LLLLLLLLL#LLL#L#LL.LLLL..LLLLL#L#.L#L#L#LL.LLL#.LLLLL.LLLL#L#.#L#L#.#L#LL.#L#L#L#L#\nLLLLLLLLLLLLLLLL#L#L#L#L#.#LLL#L#.#L##.#L#L#LLLLLLLLLLLL#.#LLL.#L#L#.#L#LLL#.LL#LL.LLLL#.#LLLLL#LL\nL.#L#L.#..#.#L....L......L...LL.LL..L....L...#L.L#.#.L#.LL..##............#..#...#L.#.L.L..#L#...#\n#LLLLLLLL.LLLL#L#L#L#L#L##L#LL#L#.#L###L#L##LLL#.L.LLLLL#.#LLLL#L#L#.#LL#.LL.LL#LL.LLLL#L#L.LLL#LL\nLL#L#L#L#L#L#LLL.LLLLLLLL.L#LL.LL.LLLL.LLLLLL#LL.#L#.#LLL..LL#.#LLLL.LL.LLL#.#LLL#.#LLLLLLL#L#LLL#\n#LLLLLLL#LLLLLL#L#L#L##L#..LLLLL#.#L#L#L#L#LLLL#.LLLLLL#L#L#LL..##L#.#L#L#L#L#LLL#L#L#L#.#LLLLL#LL\nLL#L#L#LL.#L.#LL.LLLLLLLL.LL#L#LL.LLLL.LLLLL#LLL.##L#LLLL.LLL#.LL#LL.LLLLLLL.LL#LL.LLLLL.#L#L#LLL#\n#L.LLL#L#.LLLL.##L#L#L#L#L#LLLLL#.#L#LLL#L#LLL#..LLLLL#LL..#LL.#L#L#.#L.L#L#L#LLL#.#L#L#LLLLLLL#LL\nLLLL#LLLL.#L##LL.LLL#LLLL.LL#L#LL.LLLL#LLLLL#LLL#L#L##.L#LLLL#.LLLLL.LL#LLLLLLL#LL.LLLLL.#LLL#LLL#\n#L#LLL#L#.LLL##L.L#LLL#L#.#LLLLL#.#L#L.L#L#LLL#L.LLL#LLLL.##LL.#L#L#.#L#L#L#L#LLL#.#L#L#.LL#LLLLLL\n....#L.....#L..L#L..#......L#.#L......#.....#.....#L.L#L#..L.#.......LL.LL.....#.........#...#..#.\n#L#LLL#.#.LLLL#L.L#LLL#L#.#LLLLL#.#L#LLL#L#LLLL#.LLLLLLLLLL#LLL#L#L#L#L#L#L#.#L#L#L#L#L#.#L#LLLLLL\nLLLL#LLLL.#L#L#L#.#L#L#L#L#L#L#LL.LLLL#LLLLL#LLL.#L#L#L#L#L###.LLLLLLLLLLLLL.LL#LL.LLLLL.#LLL#L#L#\n#L#LLL#L#LLLLLLL#LLLLLLLL.LLLLLL#.#L#L#.#L#LLLLL.LLLLLLLLLLLLL#L##L#L#L#L#L#.#LLL#.#L#L#.LL#LLLLLL\nLLLL#L#L#L#L#L#L.L#L#L#L#L#L#L#LL.LLLL.LLL#L#L#L#L#L#L#L#L#L#L.L##L#L#LLLLLL.LL#LL.LLLLLL#LLL#L#L#\n#L#LLLLLL.LLLLLL.L.LLLLLL.LLLLLL#.#L#L##LLLLLLLL.LLLLLLLL.LLLL.LLLLL.LL#L#L#.#LLL#.#L#L#LLL#LLLLLL\nLLLL#L#L#.#L##L#L#L##L#L#.#L#L#LL.LL#L.#L#L#L#L#.#L#L#L#L#L#L#L#L#L#.#L#LLLLL##.LLLLL#L#.#LLL#L#L#\n.L#L....#....LL....L..........LL.#................L...L...L#......L.....LL#L...L#..#.....#.#..L.L.\n#L#L#L#L#.#L##L#.##L#L#L#L#L##L#L.L#L#.#L#.#L#L#.#L#L#L#L#LLL#.#L#L#.#L.#LLL#L#LLL.#L#L..LLLL###L#\nLLLLLLLL#..L#LLLLLLLL.LLL.LLLLLLL#LLLL.LLLLLLLLL.LLLLL.LLLL#LL.LLLLL.LLLLL#LLLLLL#.#LLL#.#L#..LLLL\n#L#L#L#L#.#LLL#L#L#L#L#L##L#L#L#L.#L#L##L#L#L#L#.#L#L#L#L###L#.L#L#L##L#LLLL.#L#L#L#L#LLLLLLL#L#L#\nLLLLLLLLLLLL#L.L.LLLLLLLL.L#LLLLL.LLLLLLLLLLLLLL.L.LLLLLL.LLLLLLLLLL.LLLL#L#.LLLLL.LLLL#.LLLLLLLLL\n#L#L#L#L#.#LLLL#L#L#L#LLL#LLL#L#.#L#L#.#L#L#L#L#.#L#L##L#L##L#.#L#L#.#L#LLLL.#L#L#L#L#LL.#L#L#L#L#\n.L.LL..L.....#...#...L.#...#..L..L.L.#.#........L..LL....L...L...L.....LL.#............#..L..L....\n#L#L#L#LL.#LLLLL.LL#L#LLL.#LLL#L#.#LLL.#L#L#L#L#.#L#L#L##.#LL#.#L#L#.#L#LLLL.#L#L#L#L#LL.##L#L#L##\nLLLLLLLL#LLL#L#L#LLLLL.L#L#L#.LLL.LLL#LLLLLLLLLL.LLLLL.LL.LLLL.LLLLLLLL#L#L#L#L#L#L#L#L#.LLLLLL.L.\n#L#L#L#LL.#LLLLLLL#L#L#LLLLLLL#.#.#LLL.L#L#L#L##.L#L#L#L#.#.#L#L##L#L#LLLLLLLLLLLL.LLLLL.#L#L#L#L#\nLLLLLLLL#LLL#L#L#LLLLLLL#.#L#LL.#.LL#L#LLLLLLLL#LLLLLLLLLLLLLL.LL#L#.#L#L#L#L#L#L#L#L#L#.LLLLLLLL#\n#L#L#L#LL.#LLLLL.L#L#L#LL.LLLLLLL.#LLL.LLLLLL#LL.#L#L#L#L.L#L#.#LLLLLLLLLLLLLLL.LL.LLLL..#L#L#L#LL\nLLLLLLLL#.LL#L#L#L#LLLLL#L#L#L#L#.LLL#L#L#L#LLL#LLL#L#L#L#L#LLL#L#L#.#L#L#L#.#L#.#.#L#L#.LLLLLLLL#\n#.#..#.L..#.....LL...L#..LL..L.L...#...L.....#...L.......L...#L.............L#.LL.LL....L.#.LL.L..\nLLLLLLLL#.LL#L#L#L#L#LLL#.#L#L#LL.LLLL.#L#L#LLL#.#L#L#LL#.#LLL.#L#L#L#L#L#L#.LL#L#L#L#L#.LLLL#L#L#\n#L#L#L#L#L#LLLLL.LL.LL#LL.LLL.LL#.#L#LLLLLLLL#LL.LLLLLLLL.LL#L.LLLLLLLLLLL.L.#LLLL.LLLLL.#L#LLLLLL\nLLLLLLLLL.LL#L#L#L#L#LLL#L#L#L#LL.LLLL#L#L#LLLL#.#L#L#L###LLLL#L#L#L.L#L#L#L.LL#L#L#L#L#.LLLL#L#L#\n#L#L#L#L#.#LLLLLLL#LLL#L#LLL#.LL#.#L#L.LLLLLL#LL.LLLL#LLLLL##L.LLLLL#L#L#L#L##L#L#.#LLLL.#L#L#LLLL\n.........L.L.#.#L.LL#LL..LL..L#......LL.#.#.L...#.#.....#.LL.....#LL.L.L.L.....LL...L..#....L..#.#\n#L#L#L#L#.#LLLLL.##LLLLL#.#.#LLL#.#L##.LLLL#L#LL.LLLL#LLL.#L#L.#LLL#.#L#L#L#.#L#LL.#L#LL.#L#L#LLLL\nLLLLLLLLL.LL#L#LLLLL#L#LL.#LLL#LL.LLLL.#L#LLLLL#.#L#L#L#LLLLLLLLL#LL..LLLLLL.LL.L#.LLLL.LLLLL.L#L#\n#L#L#L#L#L#LLLLL#L#LLLLL#.LL#LLLL.#L##.LLLL#L#L.LLLLLLLLL#LLL#LLLLL#L#L#L#L#.#L#LL.#L#L#.##L.LLLLL\nLLLL#L#L#.LL#L##.LLL#L#LL.#LLL#L#.LLLLL#L#LLLLL#.#L#L#L#L.L#L#.#L#LLLLLLLLLL.LL#L#.LLLL#.LLL#.#L##\n.#.........LL....#..LL.L#L.L#.L...#..#.....#L#L..........#.LL#...LLL#.#..#.#.#LL...#L#..L.#......L\nLLL#L#L#L.##LLL#.LLLL##LL.#LLLL#L.LLLLL#L#LLLLL#L#L#L#L#L#L#LLL#L#LL.LLLL.LLLLL#L#LLLLL#.#L.L#L#LL\n##LLLLLLLLLLL#LL.#L#LLLL#.LLL#LLL#L#L#..LLL#L#LL.LLLLLLLL.LLL#LLLLL#.#L#L#L#L#LLLL.#L#LL.#L#L#L#L#\nLLLLLL#L#.##LLL#LL.LL#LLLLL#LLL#L.LLLL.LLLLLLLL#.#L#L#L#L#L#LL.#L#LL.LLLLLLL.LL#L#.#LLL#LLLLLLLLLL\n#L#L#.LL#.LLL#L#.#L#L#L#L#LLL#LLL#L#L#.#L#L#L#LLL#LLLLL#LLL#L#.LLLL#L#L##L#L#.##L#.#L#LL.#L#L#L#L#\n.LL.#.#L.L##.LLL.L....L....#L..#.L............L.....#.....#....#L#L..L......L.L...LL...#L.L...L.L.\n#L#LLLLL#LLLL#L#L#L#.##L#.LLL#LLL.#L#L#L#L#L#LLL.#LLLLL#L.LLL#L#LLL#.#L#L#L#L#L#L#.#L#LL.#L#L#L#L#\nLLLL#L#LL.##LLLL.LLLLLLLL.#LLLLL#.LLLL.LLLLLLL##.LL#L#LLL#L#LL.LLLLL.LLLLLLL.LLLLL.LLLL#.L.LL#LLLL\n#L#LLLLL#.LLL#L#.#L#L##L#.LL#L#LL.#L#L#L#L#L#LLL.#LLL#L#L.L#L#L#L#L#L#L#L#L#.#L#.#L#L#LL.#L#LLL#L#\nLLLL#L#LLL##LLLL.LLLLLLLL.#LL.LL#.LLLLLLLLLLLLL#LLLLLLLLL.LLLL.LLLLL.LLLLLLLLLLLLL.#LLL#.LLLL#LLL.\n#.#LLLLL#.LLL#L#.#L#L##L#.LL#L#LLL#L#L##L#L#L#LL.L#L##L#L#L#L#.#L#L#.###L#L#.#L#L#.LL#LL.#L#L#L#L#\n.L..#.#....#.........L.L...L..L.#..LL.........L.#....L..LL...L....L.L...LLL.L.LL.LL.L..#...LL....L\n#L#LLLLL#LLL#L#L#L#L#L#L#.#L#L#LL.#L##.#L#L#L#L..L#L#L#L#.##L#.###LLL#L#L#L#.#L#L#.#L#LLL#L#L#L#L#\nLLLL#L#LL.#LLLLL.LLLLLLLL.LLLLLL#.LLLL.LLLLLLLL#.LLLLLLLL.LLLLLLLLL#.LLLLLLLLLLLLL.LLLL#.LLLL#LLLL\n#L#LLLLL#LLL#L#L#L#L#L#L#..L#L#LL.#L#L.L#L#L#LLL.##L#L#L#.##L#L#L#LLL#L#L#L#.#L#L#.#L#LL.#L#L#L#L#\nLLLL#L#LLL#LLLLLLLLLLLLLL.#LLLLL#.LLLL#LLLLLLLL#.#LLL.LLL.LLLLLLLLL#.LL#L#L#L#LLL#LLLLL#.LLLLLLLLL\n#L#LLLLL#LLL#L#L#L#L#L#L#LLL#L#LL.#L#L.L#L#L#LLL.LL#L#L#L#L#L#.#L#LL.#LLL.LL.#L#LL.#L#LL.#L#L#L#L#\nLLLL#L#LL.#L#LLL.LLLLLLLL.#LLLLL#.L.LL.LLLLLLL#L#LLLLLLLLLLLLL.LLLL#.LL#L#L#.LLL.#.#LLL#.LL.LLL#LL\n#L#LLL.L#.LL#LL#.##L#L#L#.#L#L#LL.#L#L#L#L#L#LLL.L#L#LLL#.L#L#.#L#L#.#LLL.L#.#L#L#.LL#L..#L#L#LLL#\nLLLL#L#LL.#LLLLL.LLLLLLLL.LLLLLL#.LLLL.LLL.LLL##.LLLLL#LL.LLLL.LLLLLLLL#LLLL.LLLLLL#LLL#.LL.LLL#LL\n#L#LLLLL#.LL#L#L.#L#L##L#L#L#L#LL.#L#L#L#L#LLLLL.#L#LLLL#.#LL#.#L#L#L#.LL#L#L#L#L#.#L#LL.#L#L#L#L#\n.LL..#....#.....#......LLL......#...LLLL....#L#......#..L......L..LL...#L...L......#L.L#....L..#..\nLL#LLLLL#.LL#L#L.LL#L#L#L#L..#.##.#L#L#L##LLLLLL.#L#LLL#L#L#L#.#LLL#L#LLLLL#.LL#L#LLL#LLL#L#L#LLL#\n#LLL#L#LL.#L#L#L.#L#L#LLLLL#LLLLL.LLLL...LL#L#L#.LLLL#L#L.LLLL.LL#L.LL.#L#LLL#LLLL.#LLL#.LLLLLL#LL\nLL#LLLLL#.LLLLLLLLLLLLL#L#LLL#L#L#L#L#.#L#LLLLLL.#L#LLLLL.#L#L#LLL.#L#LLLLL#.LL#L#.LL#LLL#L#L#LLL#\n#LLL#L#LLL#L#L#L#L#L#LLLL.L#LLLLL.L#LL.LL#L#L#L#.LLLLL#L#.LLLL.L#LLL.LL#L#LLL#LLL#.#LLL#.LLLLLL#L#\nLL#LLLLL#LLLLLLL.LLLLL#L#.LLLL#L#.LLLL#LLLLLLLLL.#L##LLLL.#LLL.LLLL#.#LLLLL#.LL#LL.LL#LL.#L#L#LLLL\n#LLL##L##.#L#L#L#L#L#LLLLL#L#LLLL.#L#L.LL#L#L#L#.LLLLL#L#.LLL#.#L#L#L.L#L#LL.#LLL##LLLL#L#L#L#L#L#\n...L.LL..........L....#.#.L....#......L#..........#.#.....L#..LL..L..#..L..#...#..L..#..L.....L...\n#L#LLL#L#.#L#L#L#L#L#LLLL.L#L#LLL.L#L#LLL#L#L#L#.LLLLLL#L#LLL#.#L#L#.LL#L#L#.#LLL#L#L#L#L#L#L#LLL#\nLLLL#LLLL.LLLLLL.LLLLL#LL#LLLLL#L#LLLL.#LLLLLLLL.#L#L#LLL.L#LL..LL.L.#LLL#LLLLL#LL.LL#LL.LLLLLL#LL\n#L#LLL#.#L#L#L#..L#L#LLLL.LL#LLLL.L#L#.LL#L#L#L#.LLLLL.#L#LLL#..L#L#.LL#LLL#.#LLL#.#LLL#L#L#L#LLL#\nLLLL#L#LL.L.LLLL#.LLLL#L#L#LLL#L#.LLLLL#LLLLLLLLL#L#L#LLL.L#LL.#LLLL.#LLL#LL.LL#LL.#L#LL.LLLLLL#LL\nLL#L.LLL#.#L#L#L.L#L#LLLLLLLLLLLL.L#L#LLL#L#L#L#.LLLLLLL#.LLL#.LL#L#.LL#LLL#.#L.L#.LLLL#.#L#L#LLLL\n#LLL#L#L#LLLLLLL.LLLLL#L#.L#L#L#L#LLLLL#LLLLLLLL.L#L#L#LL.##LLL#LLLL.#L..#LL.LL#.#.#L#LL.#LLLLL#L#\nLL#LLLLLL.#L#L##.##L#LLLLLLLLLLLLL.L#L.LLL#.L#L#LLLLLLLL#.LLL#.LL#L#.LLLLLL#L#LLLLLLLLLL.LL#L#LLLL\n#LLL#L#L#.LLLLLLLLLL#L#L#L#L#L#L#L#LLL#L#LL.LLL#.##L#L#L#L#LLL.#LLLL.#L#L#.L.LL#L#.##L#L##L#LLL#L#\n..#..L.LL..#.#..#L...L.L...L....LL..#.....#..#..L..L.....LL.#..L.##......#.#L#L.L#L.LL.....L.#....\n#LLLLL#.#.LLLLLL#LLL#LLLLL#L#L#L#.#LLL.#LLLLLLLL.L#L#L#L#L#LL.#LLLLL.#L#LLLL.#LLL.L#L#.#.#L#LLL#L#\nLL#L#LLL#.#L#L#L.L#.#L#L#.#LLLLLLLLL##.LL##L#L#L#L#L#LLLL.LL#L.LL#L#.LLLL#L#.LL#L##LLLLL.LL#L#LLLL\n#LLLL.#L#.LLLLLLLLLLLLL.L.#LLL#L#.LLLLL#LLLLLLLL.LLLLL#L#.#LLL.#LLLL.#L#LLLL.#LLLLLL#L#.L#LLLLL#L#\nLL#L#LLLLL#L#L#L#L#L#L#L#L#L#LLLL.L#L#.#L#L#L#LL.#L#LLL.L.LLL#.LL#L#.LLLL#L#LLL#L#.LLLL#L#L#L#LLLL\n#LLLLL#L#LLLLLLL.LLLLLLLLLLLLLLLL#LLLL.LLLLLLLL#.LLLL#L#L#L#LL.#LLLLL#L#LL.L.#LLLL.#L#LLLLLLLLL#L#\n#L#L#L.LLL#L#L#..L#L#L#L#.L#L#L#L.L#L#.#L#L#L#L#.#L#L#LLL.LLL#.#L#L#LLLLL#L#.LL#L#.LLLL#L#L#L#LLLL\nLLLLLLLL#.LLLLLL#LLLLLLLLLLLLLLLL.LLLL.L.LLLL.LLLLLLLLLL#.#LLL.LLLLL.#LLLLL#L#LLL.L#L#LL.LLLLLL#L#\n#L#L#L#LL.#L#L#L.L#L#L#L#.#L#L#L#.#L##.#L#L#L#L#.#L#L#LLL.LL##L#L#L#.#L#L#LL.LL#L#.LL#L#.#L#L#L#L#\nL.LLLLLL#.LLLLLL.L.LLLLLL..LLLLLLLLLL.LLLLLLLLLL.LLLLLLL#.#LLLLLLLLL.LLLLLL#L#LLLL.#LLLL.LLLLLLLLL\n#L#L#L#LL.#LL#L#L#L#LL#L#.#L#L#L#.#L##.#L#L#L#L#.#L#L.#LLLLLL#.#L#L#L#L#L#.L.LL#.#.LL#L#L#L#L#L#L#\n.LLLLLLL#.LLLLLL.LLLLLLLL.LLLL.LL.LLLL.LLLLLLLLL.LLLLLLLL#LLLL.LLLLLLLLLLLL#.#LLLL.#LLLL.LLLLLLLLL\n#L#L#L#LLLL#.#L#.#L#LL#L#.#L#L#L#L#L##L#L#L#L#L#.#L#L#L#L.L#L#.#L#L#.#L#L#LL.#L#L#.#L#L#.#L#L#L#L#\nLLLLLLLLL#LLLLLL.LLLLLLLL.LLLL.LL.LLLLLLL.LLLLLL.LLLLLLLL.LLLL.LLLLLLLLLLLL#.LLLLL.LLLLL.LLLLLLLLL\n#L#L#L#L..L#L#L#.#L#.L#L#.#L#L#L#.#L#L.#L#L#L#L#.#L#L.#L#.#LL#.#L#L#.#L#L#L#L#L#L#L#L#L#.#L#L#L#L#\n"
        }
       ]
      }
     },
     "4d9ef956933e4582a859ff741a8c5eaa": {
      "model_module": "@jupyter-widgets/output",
      "model_module_version": "1.0.0",
      "model_name": "OutputModel",
      "state": {
       "layout": "IPY_MODEL_039d6b76ae544f7bba0cc30a9667133a",
       "outputs": [
        {
         "name": "stdout",
         "output_type": "stream",
         "text": "{'name': '_property_lock', 'old': {'value': 35}, 'new': {}, 'owner': Play(value=35, description='Press play', interval=50), 'type': 'change'}\n"
        }
       ]
      }
     },
     "4dbe6225a4cd4629a30b49466bdea75e": {
      "model_module": "@jupyter-widgets/base",
      "model_module_version": "1.2.0",
      "model_name": "LayoutModel",
      "state": {}
     },
     "4e619a1289d44eaa87fd9de61412a656": {
      "model_module": "@jupyter-widgets/controls",
      "model_module_version": "1.5.0",
      "model_name": "PlayModel",
      "state": {
       "description": "Frame",
       "interval": 2434,
       "layout": "IPY_MODEL_07fb421c69f04ad282dd01e402389f71",
       "max": 7,
       "style": "IPY_MODEL_8be627033529406c83879196851bb43f",
       "value": 7
      }
     },
     "4eeda09513824c0aa838404f68aa10da": {
      "model_module": "@jupyter-widgets/output",
      "model_module_version": "1.0.0",
      "model_name": "OutputModel",
      "state": {
       "layout": "IPY_MODEL_57baa8c91ffc412bbc623a22fbc49271",
       "outputs": [
        {
         "name": "stdout",
         "output_type": "stream",
         "text": "n: 7, occupied: 26\n#.L#.L#.L#\n#LLLLLL.LL\nL.L.L..#..\n##L#.#L.L#\nL.L#.LL.L#\n#.LLLL#.LL\n..#.L.....\nLLL###LLL#\n#.LLLLL#.L\n#.L#LL#.L#\n"
        }
       ]
      }
     },
     "4f18cba661a74b18b1a013cb59d91165": {
      "model_module": "@jupyter-widgets/controls",
      "model_module_version": "1.5.0",
      "model_name": "SliderStyleModel",
      "state": {
       "description_width": ""
      }
     },
     "50019ffe00d64d0f9560172303831498": {
      "model_module": "@jupyter-widgets/base",
      "model_module_version": "1.2.0",
      "model_name": "LayoutModel",
      "state": {}
     },
     "505def3f102c4a6d9f34ace816603bf8": {
      "model_module": "@jupyter-widgets/controls",
      "model_module_version": "1.5.0",
      "model_name": "DropdownModel",
      "state": {
       "_options_labels": [
        "Hello",
        "World",
        "2021"
       ],
       "index": 2,
       "layout": "IPY_MODEL_a9553a4502634ac182c4f0bf601ca147",
       "style": "IPY_MODEL_eb735f591ab4425ebfe8fa8265242594"
      }
     },
     "5182268df83242e0a8dd07012d54a7b2": {
      "model_module": "@jupyter-widgets/base",
      "model_module_version": "1.2.0",
      "model_name": "LayoutModel",
      "state": {}
     },
     "51c9ad9b12624e31b7b27373396f28ef": {
      "model_module": "@jupyter-widgets/base",
      "model_module_version": "1.2.0",
      "model_name": "LayoutModel",
      "state": {}
     },
     "51fc3ae8bc0942688d4abcf39c9d9d2f": {
      "model_module": "@jupyter-widgets/controls",
      "model_module_version": "1.5.0",
      "model_name": "FloatSliderModel",
      "state": {
       "description": "Speed",
       "layout": "IPY_MODEL_b7e6c69e51c64c449839f680cc16df20",
       "max": 6250,
       "min": 62,
       "step": 0.1,
       "style": "IPY_MODEL_5b6766c79aaa48d98463cad9b319a65f",
       "value": 625
      }
     },
     "52000c259034432ebd6ac4d161fa66ce": {
      "model_module": "@jupyter-widgets/output",
      "model_module_version": "1.0.0",
      "model_name": "OutputModel",
      "state": {
       "layout": "IPY_MODEL_70df0606ef3a41018b137e8e7a693e0d",
       "outputs": [
        {
         "name": "stdout",
         "output_type": "stream",
         "text": "n: 0, occupied: 0\nL.LL.LL.LL\nLLLLLLL.LL\nL.L.L..L..\nLLLL.LL.LL\nL.LL.LL.LL\nL.LLLLL.LL\n..L.L.....\nLLLLLLLLLL\nL.LLLLLL.L\nL.LLLLL.LL\n"
        }
       ]
      }
     },
     "521b2198f4914b9f906a230c681b235c": {
      "model_module": "@jupyter-widgets/controls",
      "model_module_version": "1.5.0",
      "model_name": "IntSliderModel",
      "state": {
       "layout": "IPY_MODEL_8ac392aa409d467b80d3a2837e6da3bc",
       "max": 7,
       "style": "IPY_MODEL_b0090cbc69c243c181397b129d9c7972"
      }
     },
     "52249b7186e441968fbb8a3d436c78f0": {
      "model_module": "@jupyter-widgets/controls",
      "model_module_version": "1.5.0",
      "model_name": "LinkModel",
      "state": {
       "source": [
        "IPY_MODEL_c9909596b7714935be23e39d057f489b",
        "value"
       ],
       "target": [
        "IPY_MODEL_863a09dd26c34077bf40bf436ea13d20",
        "value"
       ]
      }
     },
     "522d68f1ffe0415c9283f8b3a59bbe59": {
      "model_module": "@jupyter-widgets/controls",
      "model_module_version": "1.5.0",
      "model_name": "PlayModel",
      "state": {
       "description": "Frame",
       "interval": 625,
       "layout": "IPY_MODEL_7e78a2ef9d86430597dff45740e7157b",
       "max": 7,
       "style": "IPY_MODEL_781fa42f945b4cdcab3073ce513118eb",
       "value": 1
      }
     },
     "529fecbb2dbc47329127ed4ae4e764b9": {
      "model_module": "@jupyter-widgets/controls",
      "model_module_version": "1.5.0",
      "model_name": "SliderStyleModel",
      "state": {
       "description_width": ""
      }
     },
     "537a0d4348034e9a9b876e0791bf03b6": {
      "model_module": "@jupyter-widgets/controls",
      "model_module_version": "1.5.0",
      "model_name": "IntSliderModel",
      "state": {
       "layout": "IPY_MODEL_09b1535562024c398e548ec86406efe8",
       "max": 84,
       "style": "IPY_MODEL_080c850e31cd45b0b1f95ab3d1914ac9"
      }
     },
     "53efcd6be1284fb790fe4a3ce8953bf1": {
      "model_module": "@jupyter-widgets/base",
      "model_module_version": "1.2.0",
      "model_name": "LayoutModel",
      "state": {}
     },
     "542118324800496d8b590a4d742ac9e0": {
      "model_module": "@jupyter-widgets/controls",
      "model_module_version": "1.5.0",
      "model_name": "HBoxModel",
      "state": {
       "children": [
        "IPY_MODEL_2c2151113b4440b39464b41385e44410",
        "IPY_MODEL_97455e4643f049f383e08cd0ef62b123"
       ],
       "layout": "IPY_MODEL_347c3e1496084cb7b3c9184b2c4a799d"
      }
     },
     "54442ecd0af34e83b10d727bae0c18ef": {
      "model_module": "@jupyter-widgets/output",
      "model_module_version": "1.0.0",
      "model_name": "OutputModel",
      "state": {
       "layout": "IPY_MODEL_a940e09d165c4cf5b6f43b5956dc19dc"
      }
     },
     "56975631a0ad4ebbbc86a2c470a3beee": {
      "model_module": "@jupyter-widgets/base",
      "model_module_version": "1.2.0",
      "model_name": "LayoutModel",
      "state": {}
     },
     "5725b158663e43fca6d679143db62ce3": {
      "model_module": "@jupyter-widgets/controls",
      "model_module_version": "1.5.0",
      "model_name": "LinkModel",
      "state": {
       "source": [
        "IPY_MODEL_807aee84296e4b2c83e75ddcdb7f7953",
        "interval"
       ],
       "target": [
        "IPY_MODEL_31460f9c07744e3986c8f0ddbe4ea27d",
        "value"
       ]
      }
     },
     "57a91947b5724ba9ba80cb4cf35c608d": {
      "model_module": "@jupyter-widgets/base",
      "model_module_version": "1.2.0",
      "model_name": "LayoutModel",
      "state": {}
     },
     "57baa8c91ffc412bbc623a22fbc49271": {
      "model_module": "@jupyter-widgets/base",
      "model_module_version": "1.2.0",
      "model_name": "LayoutModel",
      "state": {}
     },
     "5842ea53ba654e88b97eb83fdf7e43a3": {
      "model_module": "@jupyter-widgets/base",
      "model_module_version": "1.2.0",
      "model_name": "LayoutModel",
      "state": {}
     },
     "58cd8b0c97c64092adfa48080382a8ca": {
      "model_module": "@jupyter-widgets/controls",
      "model_module_version": "1.5.0",
      "model_name": "SliderStyleModel",
      "state": {
       "description_width": ""
      }
     },
     "5925566d784b40bfa61fda4e41a51086": {
      "model_module": "@jupyter-widgets/controls",
      "model_module_version": "1.5.0",
      "model_name": "PlayModel",
      "state": {
       "description": "Press play",
       "interval": 50,
       "layout": "IPY_MODEL_2e91d7f3004143cea0e473405baf4571",
       "style": "IPY_MODEL_277a811216504a3ba41d3c772cec5e6a",
       "value": 35
      }
     },
     "5a5fc2ee7ba14e46bd5d267a1cdf1f48": {
      "model_module": "@jupyter-widgets/base",
      "model_module_version": "1.2.0",
      "model_name": "LayoutModel",
      "state": {}
     },
     "5b5aa53d636c4145841528187bd03b1e": {
      "model_module": "@jupyter-widgets/controls",
      "model_module_version": "1.5.0",
      "model_name": "IntSliderModel",
      "state": {
       "layout": "IPY_MODEL_12f20cb59bfb42da91eb9641dfbfe83e",
       "max": 90,
       "style": "IPY_MODEL_d74d322fda8543d0b55fe83a4f907157"
      }
     },
     "5b651b294d174e7a8a76c79c11f7b5f9": {
      "model_module": "@jupyter-widgets/output",
      "model_module_version": "1.0.0",
      "model_name": "OutputModel",
      "state": {
       "layout": "IPY_MODEL_9771a751731a42438f29903a3ee73409",
       "outputs": [
        {
         "name": "stdout",
         "output_type": "stream",
         "text": "n: 0, occupied: 0\nLLLLLLLLL.L.LLLLLLLLLLLLL.LLLLLLL.LLLL.LLLLLLLLLLLLLLLLLL.LLLL.LLLLL.LLLLLLL.LLLLL.LLLLLLLLLLLLLLL\nLLLLLLLLLLLLLLLLLLLLLLLLL.LLLLLLLLLLLLLLLLLLLLLL.LLLLLLLL.LLLLLLLLLL.LLLLLLL.LLLLL.LLLLL.LLLLLLLLL\nLLLLLLLLL.LLLLLLLLLLLLLLL.LLLLLLLLLLLLLLLLLLLLLL.LLLLLLLL.LL.LLLLLLL.LLLLLLL.LLLLLLLLLLLLLLLLLLLLL\nLLLLLLLLLL.LLLLL.LLLLLLLL.LLLLLLL.LLLL.LLLLLLLLLLLL.LLLLLLLLLL.LLLLL.LLLLLLL.LLLLL.LLLLLL.LLLLLLLL\nLLLLLLLLL.LLLLLL..LLLLLLL.LLLLLLL.LLLL.LLLLLLLLLLLLLLLLLL.LLLLLLLLLL.LLLLLLLLLLLLL.LLLLL.LLLLLLLLL\nLLLLLLLLL.LLLLLL.LLLLLLLLLLLLLLLLLLLLLLLLLL.LLLLLLLLLLLLLLLLLLLLLLLL.LLLLLLL.LLLLL.LLLLLLLLLLLLLLL\nLLLLLLL.L.LLLLLLLLLLLLLLLLLLLLLLL.LLLL..LLLLLLLL.LLLLLLLL.LLLL.LLLLL.LLLLLLL.LLLLL.LLLLL.LLLLLLLLL\nLLLLLLLLLLLLLLLLLLLLLLLLL.LLLLLLL.LLLL.LLLLLLLLLLLLLLLLLL.LLLL.LLLLL.LLLLLLL.LLLLL.LLLLL.LLLLLLLLL\nL.LLLL.L..L.LL....L......L...LL.LL..L....L...LL.LL.L.LL.LL..LL............L..L...LL.L.L.L..LLL...L\nLLLLLLLLL.LLLLLLLLLLLLLLLLLLLLLLL.LLLLLLLLLLLLLL.L.LLLLLL.LLLLLLLLLL.LLLL.LL.LLLLL.LLLLLLLL.LLLLLL\nLLLLLLLLLLLLLLLL.LLLLLLLL.LLLL.LL.LLLL.LLLLLLLLL.LLL.LLLL..LLL.LLLLL.LL.LLLL.LLLLL.LLLLLLLLLLLLLLL\nLLLLLLLLLLLLLLLLLLLLLLLLL..LLLLLL.LLLLLLLLLLLLLL.LLLLLLLLLLLLL..LLLL.LLLLLLLLLLLLLLLLLLL.LLLLLLLLL\nLLLLLLLLL.LL.LLL.LLLLLLLL.LLLLLLL.LLLL.LLLLLLLLL.LLLLLLLL.LLLL.LLLLL.LLLLLLL.LLLLL.LLLLL.LLLLLLLLL\nLL.LLLLLL.LLLL.LLLLLLLLLLLLLLLLLL.LLLLLLLLLLLLL..LLLLLLLL..LLL.LLLLL.LL.LLLLLLLLLL.LLLLLLLLLLLLLLL\nLLLLLLLLL.LLLLLL.LLLLLLLL.LLLLLLL.LLLLLLLLLLLLLLLLLLLL.LLLLLLL.LLLLL.LLLLLLLLLLLLL.LLLLL.LLLLLLLLL\nLLLLLLLLL.LLLLLL.LLLLLLLL.LLLLLLL.LLLL.LLLLLLLLL.LLLLLLLL.LLLL.LLLLL.LLLLLLLLLLLLL.LLLLL.LLLLLLLLL\n....LL.....LL..LLL..L......LL.LL......L.....L.....LL.LLLL..L.L.......LL.LL.....L.........L...L..L.\nLLLLLLL.L.LLLLLL.LLLLLLLL.LLLLLLL.LLLLLLLLLLLLLL.LLLLLLLLLLLLLLLLLLLLLLLLLLL.LLLLLLLLLLL.LLLLLLLLL\nLLLLLLLLL.LLLLLLL.LLLLLLLLLLLLLLL.LLLLLLLLLLLLLL.LLLLLLLLLLLLL.LLLLLLLLLLLLL.LLLLL.LLLLL.LLLLLLLLL\nLLLLLLLLLLLLLLLLLLLLLLLLL.LLLLLLL.LLLLL.LLLLLLLL.LLLLLLLLLLLLLLLLLLLLLLLLLLL.LLLLL.LLLLL.LLLLLLLLL\nLLLLLLLLLLLLLLLL.LLLLLLLLLLLLLLLL.LLLL.LLLLLLLLLLLLLLLLLLLLLLL.LLLLLLLLLLLLL.LLLLL.LLLLLLLLLLLLLLL\nLLLLLLLLL.LLLLLL.L.LLLLLL.LLLLLLL.LLLLLLLLLLLLLL.LLLLLLLL.LLLL.LLLLL.LLLLLLL.LLLLL.LLLLLLLLLLLLLLL\nLLLLLLLLL.LLLLLLLLLLLLLLL.LLLLLLL.LLLL.LLLLLLLLL.LLLLLLLLLLLLLLLLLLL.LLLLLLLLLL.LLLLLLLL.LLLLLLLLL\n.LLL....L....LL....L..........LL.L................L...L...LL......L.....LLLL...LL..L.....L.L..L.L.\nLLLLLLLLL.LLLLLL.LLLLLLLLLLLLLLLL.LLLL.LLL.LLLLL.LLLLLLLLLLLLL.LLLLL.LL.LLLLLLLLLL.LLLL..LLLLLLLLL\nLLLLLLLLL..LLLLLLLLLL.LLL.LLLLLLLLLLLL.LLLLLLLLL.LLLLL.LLLLLLL.LLLLL.LLLLLLLLLLLLL.LLLLL.LLL..LLLL\nLLLLLLLLL.LLLLLLLLLLLLLLLLLLLLLLL.LLLLLLLLLLLLLL.LLLLLLLLLLLLL.LLLLLLLLLLLLL.LLLLLLLLLLLLLLLLLLLLL\nLLLLLLLLLLLLLL.L.LLLLLLLL.LLLLLLL.LLLLLLLLLLLLLL.L.LLLLLL.LLLLLLLLLL.LLLLLLL.LLLLL.LLLLL.LLLLLLLLL\nLLLLLLLLL.LLLLLLLLLLLLLLLLLLLLLL.LLLLL.LLLLLLLLL.LLLLLLLLLLLLL.LLLLL.LLLLLLL.LLLLLLLLLLL.LLLLLLLLL\n.L.LL..L.....L...L...L.L...L..L..L.L.L.L........L..LL....L...L...L.....LL.L............L..L..L....\nLLLLLLLLL.LLLLLL.LLLLLLLL.LLLLLLL.LLLL.LLLLLLLLL.LLLLLLLL.LLLL.LLLLL.LLLLLLL.LLLLLLLLLLL.LLLLLLLLL\nLLLLLLLLLLLLLLLLLLLLLL.LLLLLL.LLL.LLLLLLLLLLLLLL.LLLLL.LL.LLLL.LLLLLLLLLLLLLLLLLLLLLLLLL.LLLLLL.L.\nLLLLLLLLL.LLLLLLLLLLLLLLLLLLLLL.L.LLLL.LLLLLLLLL.LLLLLLLL.L.LLLLLLLLLLLLLLLLLLLLLL.LLLLL.LLLLLLLLL\nLLLLLLLLLLLLLLLLLLLLLLLLL.LLLLL.L.LLLLLLLLLLLLLLLLLLLLLLLLLLLL.LLLLL.LLLLLLLLLLLLLLLLLLL.LLLLLLLLL\nLLLLLLLLL.LLLLLL.LLLLLLLL.LLLLLLL.LLLL.LLLLLLLLL.LLLLLLLL.LLLL.LLLLLLLLLLLLLLLL.LL.LLLL..LLLLLLLLL\nLLLLLLLLL.LLLLLLLLLLLLLLLLLLLLLLL.LLLLLLLLLLLLLLLLLLLLLLLLLLLLLLLLLL.LLLLLLL.LLL.L.LLLLL.LLLLLLLLL\nL.L..L.L..L.....LL...LL..LL..L.L...L...L.....L...L.......L...LL.............LL.LL.LL....L.L.LL.L..\nLLLLLLLLL.LLLLLLLLLLLLLLL.LLLLLLL.LLLL.LLLLLLLLL.LLLLLLLL.LLLL.LLLLLLLLLLLLL.LLLLLLLLLLL.LLLLLLLLL\nLLLLLLLLLLLLLLLL.LL.LLLLL.LLL.LLL.LLLLLLLLLLLLLL.LLLLLLLL.LLLL.LLLLLLLLLLL.L.LLLLL.LLLLL.LLLLLLLLL\nLLLLLLLLL.LLLLLLLLLLLLLLLLLLLLLLL.LLLLLLLLLLLLLL.LLLLLLLLLLLLLLLLLLL.LLLLLLL.LLLLLLLLLLL.LLLLLLLLL\nLLLLLLLLL.LLLLLLLLLLLLLLLLLLL.LLL.LLLL.LLLLLLLLL.LLLLLLLLLLLLL.LLLLLLLLLLLLLLLLLLL.LLLLL.LLLLLLLLL\n.........L.L.L.LL.LLLLL..LL..LL......LL.L.L.L...L.L.....L.LL.....LLL.L.L.L.....LL...L..L....L..L.L\nLLLLLLLLL.LLLLLL.LLLLLLLL.L.LLLLL.LLLL.LLLLLLLLL.LLLLLLLL.LLLL.LLLLL.LLLLLLL.LLLLL.LLLLL.LLLLLLLLL\nLLLLLLLLL.LLLLLLLLLLLLLLL.LLLLLLL.LLLL.LLLLLLLLL.LLLLLLLLLLLLLLLLLLL..LLLLLL.LL.LL.LLLL.LLLLL.LLLL\nLLLLLLLLLLLLLLLLLLLLLLLLL.LLLLLLL.LLLL.LLLLLLLL.LLLLLLLLLLLLLLLLLLLLLLLLLLLL.LLLLL.LLLLL.LLL.LLLLL\nLLLLLLLLL.LLLLLL.LLLLLLLL.LLLLLLL.LLLLLLLLLLLLLL.LLLLLLLL.LLLL.LLLLLLLLLLLLL.LLLLL.LLLLL.LLLL.LLLL\n.L.........LL....L..LL.LLL.LL.L...L..L.....LLLL..........L.LLL...LLLL.L..L.L.LLL...LLL..L.L......L\nLLLLLLLLL.LLLLLL.LLLLLLLL.LLLLLLL.LLLLLLLLLLLLLLLLLLLLLLLLLLLLLLLLLL.LLLL.LLLLLLLLLLLLLL.LL.LLLLLL\nLLLLLLLLLLLLLLLL.LLLLLLLL.LLLLLLLLLLLL..LLLLLLLL.LLLLLLLL.LLLLLLLLLL.LLLLLLLLLLLLL.LLLLL.LLLLLLLLL\nLLLLLLLLL.LLLLLLLL.LLLLLLLLLLLLLL.LLLL.LLLLLLLLL.LLLLLLLLLLLLL.LLLLL.LLLLLLL.LLLLL.LLLLLLLLLLLLLLL\nLLLLL.LLL.LLLLLL.LLLLLLLLLLLLLLLLLLLLL.LLLLLLLLLLLLLLLLLLLLLLL.LLLLLLLLLLLLLL.LLLL.LLLLL.LLLLLLLLL\n.LL.L.LL.LLL.LLL.L....L....LL..L.L............L.....L.....L....LLLL..L......L.L...LL...LL.L...L.L.\nLLLLLLLLLLLLLLLLLLLL.LLLL.LLLLLLL.LLLLLLLLLLLLLL.LLLLLLLL.LLLLLLLLLL.LLLLLLLLLLLLL.LLLLL.LLLLLLLLL\nLLLLLLLLL.LLLLLL.LLLLLLLL.LLLLLLL.LLLL.LLLLLLLLL.LLLLLLLLLLLLL.LLLLL.LLLLLLL.LLLLL.LLLLL.L.LLLLLLL\nLLLLLLLLL.LLLLLL.LLLLLLLL.LLLLLLL.LLLLLLLLLLLLLL.LLLLLLLL.LLLLLLLLLLLLLLLLLL.LLL.LLLLLLL.LLLLLLLLL\nLLLLLLLLLLLLLLLL.LLLLLLLL.LLL.LLL.LLLLLLLLLLLLLLLLLLLLLLL.LLLL.LLLLL.LLLLLLLLLLLLL.LLLLL.LLLLLLLL.\nL.LLLLLLL.LLLLLL.LLLLLLLL.LLLLLLLLLLLLLLLLLLLLLL.LLLLLLLLLLLLL.LLLLL.LLLLLLL.LLLLL.LLLLL.LLLLLLLLL\n.L..L.L....L.........L.L...L..L.L..LL.........L.L....L..LL...L....L.L...LLL.L.LL.LL.L..L...LL....L\nLLLLLLLLLLLLLLLLLLLLLLLLL.LLLLLLL.LLLL.LLLLLLLL..LLLLLLLL.LLLL.LLLLLLLLLLLLL.LLLLL.LLLLLLLLLLLLLLL\nLLLLLLLLL.LLLLLL.LLLLLLLL.LLLLLLL.LLLL.LLLLLLLLL.LLLLLLLL.LLLLLLLLLL.LLLLLLLLLLLLL.LLLLL.LLLLLLLLL\nLLLLLLLLLLLLLLLLLLLLLLLLL..LLLLLL.LLLL.LLLLLLLLL.LLLLLLLL.LLLLLLLLLLLLLLLLLL.LLLLL.LLLLL.LLLLLLLLL\nLLLLLLLLLLLLLLLLLLLLLLLLL.LLLLLLL.LLLLLLLLLLLLLL.LLLL.LLL.LLLLLLLLLL.LLLLLLLLLLLLLLLLLLL.LLLLLLLLL\nLLLLLLLLLLLLLLLLLLLLLLLLLLLLLLLLL.LLLL.LLLLLLLLL.LLLLLLLLLLLLL.LLLLL.LLLL.LL.LLLLL.LLLLL.LLLLLLLLL\nLLLLLLLLL.LLLLLL.LLLLLLLL.LLLLLLL.L.LL.LLLLLLLLLLLLLLLLLLLLLLL.LLLLL.LLLLLLL.LLL.L.LLLLL.LL.LLLLLL\nLLLLLL.LL.LLLLLL.LLLLLLLL.LLLLLLL.LLLLLLLLLLLLLL.LLLLLLLL.LLLL.LLLLL.LLLL.LL.LLLLL.LLLL..LLLLLLLLL\nLLLLLLLLL.LLLLLL.LLLLLLLL.LLLLLLL.LLLL.LLL.LLLLL.LLLLLLLL.LLLL.LLLLLLLLLLLLL.LLLLLLLLLLL.LL.LLLLLL\nLLLLLLLLL.LLLLLL.LLLLLLLLLLLLLLLL.LLLLLLLLLLLLLL.LLLLLLLL.LLLL.LLLLLLL.LLLLLLLLLLL.LLLLL.LLLLLLLLL\n.LL..L....L.....L......LLL......L...LLLL....LLL......L..L......L..LL...LL...L......LL.LL....L..L..\nLLLLLLLLL.LLLLLL.LLLLLLLLLL..L.LL.LLLLLLLLLLLLLL.LLLLLLLLLLLLL.LLLLLLLLLLLLL.LLLLLLLLLLLLLLLLLLLLL\nLLLLLLLLL.LLLLLL.LLLLLLLLLLLLLLLL.LLLL...LLLLLLL.LLLLLLLL.LLLL.LLLL.LL.LLLLLLLLLLL.LLLLL.LLLLLLLLL\nLLLLLLLLL.LLLLLLLLLLLLLLLLLLLLLLLLLLLL.LLLLLLLLL.LLLLLLLL.LLLLLLLL.LLLLLLLLL.LLLLL.LLLLLLLLLLLLLLL\nLLLLLLLLLLLLLLLLLLLLLLLLL.LLLLLLL.LLLL.LLLLLLLLL.LLLLLLLL.LLLL.LLLLL.LLLLLLLLLLLLL.LLLLL.LLLLLLLLL\nLLLLLLLLLLLLLLLL.LLLLLLLL.LLLLLLL.LLLLLLLLLLLLLL.LLLLLLLL.LLLL.LLLLL.LLLLLLL.LLLLL.LLLLL.LLLLLLLLL\nLLLLLLLLL.LLLLLLLLLLLLLLLLLLLLLLL.LLLL.LLLLLLLLL.LLLLLLLL.LLLL.LLLLLL.LLLLLL.LLLLLLLLLLLLLLLLLLLLL\n...L.LL..........L....L.L.L....L......LL..........L.L.....LL..LL..L..L..L..L...L..L..L..L.....L...\nLLLLLLLLL.LLLLLLLLLLLLLLL.LLLLLLL.LLLLLLLLLLLLLL.LLLLLLLLLLLLL.LLLLL.LLLLLLL.LLLLLLLLLLLLLLLLLLLLL\nLLLLLLLLL.LLLLLL.LLLLLLLLLLLLLLLLLLLLL.LLLLLLLLL.LLLLLLLL.LLLL..LL.L.LLLLLLLLLLLLL.LLLLL.LLLLLLLLL\nLLLLLLL.LLLLLLL..LLLLLLLL.LLLLLLL.LLLL.LLLLLLLLL.LLLLL.LLLLLLL..LLLL.LLLLLLL.LLLLL.LLLLLLLLLLLLLLL\nLLLLLLLLL.L.LLLLL.LLLLLLLLLLLLLLL.LLLLLLLLLLLLLLLLLLLLLLL.LLLL.LLLLL.LLLLLLL.LLLLL.LLLLL.LLLLLLLLL\nLLLL.LLLL.LLLLLL.LLLLLLLLLLLLLLLL.LLLLLLLLLLLLLL.LLLLLLLL.LLLL.LLLLL.LLLLLLL.LL.LL.LLLLL.LLLLLLLLL\nLLLLLLLLLLLLLLLL.LLLLLLLL.LLLLLLLLLLLLLLLLLLLLLL.LLLLLLLL.LLLLLLLLLL.LL..LLL.LLL.L.LLLLL.LLLLLLLLL\nLLLLLLLLL.LLLLLL.LLLLLLLLLLLLLLLLL.LLL.LLLL.LLLLLLLLLLLLL.LLLL.LLLLL.LLLLLLLLLLLLLLLLLLL.LLLLLLLLL\nLLLLLLLLL.LLLLLLLLLLLLLLLLLLLLLLLLLLLLLLLLL.LLLL.LLLLLLLLLLLLL.LLLLL.LLLLL.L.LLLLL.LLLLLLLLLLLLLLL\n..L..L.LL..L.L..LL...L.L...L....LL..L.....L..L..L..L.....LL.L..L.LL......L.LLLL.LLL.LL.....L.L....\nLLLLLLL.L.LLLLLLLLLLLLLLLLLLLLLLL.LLLL.LLLLLLLLL.LLLLLLLLLLLL.LLLLLL.LLLLLLL.LLLL.LLLL.L.LLLLLLLLL\nLLLLLLLLL.LLLLLL.LL.LLLLL.LLLLLLLLLLLL.LLLLLLLLLLLLLLLLLL.LLLL.LLLLL.LLLLLLL.LLLLLLLLLLL.LLLLLLLLL\nLLLLL.LLL.LLLLLLLLLLLLL.L.LLLLLLL.LLLLLLLLLLLLLL.LLLLLLLL.LLLL.LLLLL.LLLLLLL.LLLLLLLLLL.LLLLLLLLLL\nLLLLLLLLLLLLLLLLLLLLLLLLLLLLLLLLL.LLLL.LLLLLLLLL.LLLLLL.L.LLLL.LLLLL.LLLLLLLLLLLLL.LLLLLLLLLLLLLLL\nLLLLLLLLLLLLLLLL.LLLLLLLLLLLLLLLLLLLLL.LLLLLLLLL.LLLLLLLLLLLLL.LLLLLLLLLLL.L.LLLLL.LLLLLLLLLLLLLLL\nLLLLLL.LLLLLLLL..LLLLLLLL.LLLLLLL.LLLL.LLLLLLLLL.LLLLLLLL.LLLL.LLLLLLLLLLLLL.LLLLL.LLLLLLLLLLLLLLL\nLLLLLLLLL.LLLLLLLLLLLLLLLLLLLLLLL.LLLL.L.LLLL.LLLLLLLLLLL.LLLL.LLLLL.LLLLLLLLLLLL.LLLLLL.LLLLLLLLL\nLLLLLLLLL.LLLLLL.LLLLLLLL.LLLLLLL.LLLL.LLLLLLLLL.LLLLLLLL.LLLLLLLLLL.LLLLLLL.LLLLL.LLLLL.LLLLLLLLL\nL.LLLLLLL.LLLLLL.L.LLLLLL..LLLLLLLLLL.LLLLLLLLLL.LLLLLLLL.LLLLLLLLLL.LLLLLLLLLLLLL.LLLLL.LLLLLLLLL\nLLLLLLLLL.LLLLLLLLLLLLLLL.LLLLLLL.LLLL.LLLLLLLLL.LLLL.LLLLLLLL.LLLLLLLLLLL.L.LLL.L.LLLLLLLLLLLLLLL\n.LLLLLLLL.LLLLLL.LLLLLLLL.LLLL.LL.LLLL.LLLLLLLLL.LLLLLLLLLLLLL.LLLLLLLLLLLLL.LLLLL.LLLLL.LLLLLLLLL\nLLLLLLLLLLLL.LLL.LLLLLLLL.LLLLLLLLLLLLLLLLLLLLLL.LLLLLLLL.LLLL.LLLLL.LLLLLLL.LLLLL.LLLLL.LLLLLLLLL\nLLLLLLLLLLLLLLLL.LLLLLLLL.LLLL.LL.LLLLLLL.LLLLLL.LLLLLLLL.LLLL.LLLLLLLLLLLLL.LLLLL.LLLLL.LLLLLLLLL\nLLLLLLLL..LLLLLL.LLL.LLLL.LLLLLLL.LLLL.LLLLLLLLL.LLLL.LLL.LLLL.LLLLL.LLLLLLLLLLLLLLLLLLL.LLLLLLLLL\n"
        }
       ]
      }
     },
     "5b6766c79aaa48d98463cad9b319a65f": {
      "model_module": "@jupyter-widgets/controls",
      "model_module_version": "1.5.0",
      "model_name": "SliderStyleModel",
      "state": {
       "description_width": ""
      }
     },
     "5bcac0842f634532a9c57b1dfd8bebb3": {
      "model_module": "@jupyter-widgets/controls",
      "model_module_version": "1.5.0",
      "model_name": "SliderStyleModel",
      "state": {
       "description_width": ""
      }
     },
     "5c0164386ce84e6fab5929dce6fca65f": {
      "model_module": "@jupyter-widgets/controls",
      "model_module_version": "1.5.0",
      "model_name": "IntSliderModel",
      "state": {
       "layout": "IPY_MODEL_f3b8876eaad04b858e80644d3f8b1bfb",
       "style": "IPY_MODEL_e6983b74d7a64120bace42e72f7c1501",
       "value": 50
      }
     },
     "5d97576734a04709bd30601854c7ff32": {
      "model_module": "@jupyter-widgets/controls",
      "model_module_version": "1.5.0",
      "model_name": "HBoxModel",
      "state": {
       "children": [
        "IPY_MODEL_9345400f3e22425489c0036ac1deb25c",
        "IPY_MODEL_cb408040d3ca43c5b344845e2b3d734a"
       ],
       "layout": "IPY_MODEL_11a08e89992b4ddb94b444da42c5828e"
      }
     },
     "5db38919c3c844d7bc15f873f1a30ecd": {
      "model_module": "@jupyter-widgets/output",
      "model_module_version": "1.0.0",
      "model_name": "OutputModel",
      "state": {
       "layout": "IPY_MODEL_6698e3611b7447f488dac2ac37ddb4b1",
       "outputs": [
        {
         "name": "stdout",
         "output_type": "stream",
         "text": "n: 7, occupied: 26\n#.L#.L#.L#\n#LLLLLL.LL\nL.L.L..#..\n##L#.#L.L#\nL.L#.LL.L#\n#.LLLL#.LL\n..#.L.....\nLLL###LLL#\n#.LLLLL#.L\n#.L#LL#.L#\n"
        }
       ]
      }
     },
     "5f54fcc9033b4f9c872c6411c77fc8c1": {
      "model_module": "@jupyter-widgets/base",
      "model_module_version": "1.2.0",
      "model_name": "LayoutModel",
      "state": {}
     },
     "5fd530fb467949649db7687b788279d5": {
      "model_module": "@jupyter-widgets/base",
      "model_module_version": "1.2.0",
      "model_name": "LayoutModel",
      "state": {}
     },
     "602b938b30de44e5b0809683dcaacea5": {
      "model_module": "@jupyter-widgets/base",
      "model_module_version": "1.2.0",
      "model_name": "LayoutModel",
      "state": {}
     },
     "6097d5676e8b4f8183c9865c8bf6e71c": {
      "model_module": "@jupyter-widgets/controls",
      "model_module_version": "1.5.0",
      "model_name": "IntSliderModel",
      "state": {
       "layout": "IPY_MODEL_1addac5802bd4f929839dc525a226ede",
       "style": "IPY_MODEL_6a9c826059c044d28c0f9553923e9c9b",
       "value": 55
      }
     },
     "6168e5e36c47496fb8f99cd2ea40ae4b": {
      "model_module": "@jupyter-widgets/controls",
      "model_module_version": "1.5.0",
      "model_name": "SliderStyleModel",
      "state": {
       "description_width": ""
      }
     },
     "626a09cb2b534950a83ebef0557578a0": {
      "model_module": "@jupyter-widgets/base",
      "model_module_version": "1.2.0",
      "model_name": "LayoutModel",
      "state": {}
     },
     "626bfee21aa84c25adc8764b86411849": {
      "model_module": "@jupyter-widgets/controls",
      "model_module_version": "1.5.0",
      "model_name": "SliderStyleModel",
      "state": {
       "description_width": ""
      }
     },
     "627876b3fa624395979f31ef5086aa4f": {
      "model_module": "@jupyter-widgets/controls",
      "model_module_version": "1.5.0",
      "model_name": "IntSliderModel",
      "state": {
       "layout": "IPY_MODEL_9103d140e59d499b8561d0579265c63d",
       "style": "IPY_MODEL_1ae05e70736d4921876720d396dcbfcc",
       "value": 7
      }
     },
     "62b48019f3e7493d8292d05964ade55b": {
      "model_module": "@jupyter-widgets/controls",
      "model_module_version": "1.5.0",
      "model_name": "SliderStyleModel",
      "state": {
       "description_width": ""
      }
     },
     "6374ccfcba144f9d92489d7868fc3181": {
      "model_module": "@jupyter-widgets/base",
      "model_module_version": "1.2.0",
      "model_name": "LayoutModel",
      "state": {}
     },
     "63a8912f9ba044c397acb3d2952f5e81": {
      "model_module": "@jupyter-widgets/output",
      "model_module_version": "1.0.0",
      "model_name": "OutputModel",
      "state": {
       "layout": "IPY_MODEL_96c8e0fe01574e23aa71d502b4a977cc"
      }
     },
     "640ad806cfbf46c683007912ceb460e7": {
      "model_module": "@jupyter-widgets/base",
      "model_module_version": "1.2.0",
      "model_name": "LayoutModel",
      "state": {}
     },
     "65bbe9e1eff442538a56ba40a288cc51": {
      "model_module": "@jupyter-widgets/controls",
      "model_module_version": "1.5.0",
      "model_name": "SliderStyleModel",
      "state": {
       "description_width": ""
      }
     },
     "6698e3611b7447f488dac2ac37ddb4b1": {
      "model_module": "@jupyter-widgets/base",
      "model_module_version": "1.2.0",
      "model_name": "LayoutModel",
      "state": {}
     },
     "66df0da76eba4b348f1dc0c48446a1f9": {
      "model_module": "@jupyter-widgets/base",
      "model_module_version": "1.2.0",
      "model_name": "LayoutModel",
      "state": {}
     },
     "6714e6f2cddb470aa36f86298116aa92": {
      "model_module": "@jupyter-widgets/controls",
      "model_module_version": "1.5.0",
      "model_name": "IntSliderModel",
      "state": {
       "layout": "IPY_MODEL_8f14accfd94a472ba0d5eb9e0a376c80",
       "style": "IPY_MODEL_f593b9d640fd4f2f9fcd2fbf01c280e3",
       "value": 46
      }
     },
     "67ad06b6f4d14a828ce2ae99f33f975b": {
      "model_module": "@jupyter-widgets/base",
      "model_module_version": "1.2.0",
      "model_name": "LayoutModel",
      "state": {}
     },
     "67f8f63ab60147f4bcbe606b7ae1ff79": {
      "model_module": "@jupyter-widgets/output",
      "model_module_version": "1.0.0",
      "model_name": "OutputModel",
      "state": {
       "layout": "IPY_MODEL_47183daa67e14455bffc87a6162578aa",
       "outputs": [
        {
         "name": "stdout",
         "output_type": "stream",
         "text": "n: 0, occupied: 0\nLLLLLLLLL.L.LLLLLLLLLLLLL.LLLLLLL.LLLL.LLLLLLLLLLLLLLLLLL.LLLL.LLLLL.LLLLLLL.LLLLL.LLLLLLLLLLLLLLL\nLLLLLLLLLLLLLLLLLLLLLLLLL.LLLLLLLLLLLLLLLLLLLLLL.LLLLLLLL.LLLLLLLLLL.LLLLLLL.LLLLL.LLLLL.LLLLLLLLL\nLLLLLLLLL.LLLLLLLLLLLLLLL.LLLLLLLLLLLLLLLLLLLLLL.LLLLLLLL.LL.LLLLLLL.LLLLLLL.LLLLLLLLLLLLLLLLLLLLL\nLLLLLLLLLL.LLLLL.LLLLLLLL.LLLLLLL.LLLL.LLLLLLLLLLLL.LLLLLLLLLL.LLLLL.LLLLLLL.LLLLL.LLLLLL.LLLLLLLL\nLLLLLLLLL.LLLLLL..LLLLLLL.LLLLLLL.LLLL.LLLLLLLLLLLLLLLLLL.LLLLLLLLLL.LLLLLLLLLLLLL.LLLLL.LLLLLLLLL\nLLLLLLLLL.LLLLLL.LLLLLLLLLLLLLLLLLLLLLLLLLL.LLLLLLLLLLLLLLLLLLLLLLLL.LLLLLLL.LLLLL.LLLLLLLLLLLLLLL\nLLLLLLL.L.LLLLLLLLLLLLLLLLLLLLLLL.LLLL..LLLLLLLL.LLLLLLLL.LLLL.LLLLL.LLLLLLL.LLLLL.LLLLL.LLLLLLLLL\nLLLLLLLLLLLLLLLLLLLLLLLLL.LLLLLLL.LLLL.LLLLLLLLLLLLLLLLLL.LLLL.LLLLL.LLLLLLL.LLLLL.LLLLL.LLLLLLLLL\nL.LLLL.L..L.LL....L......L...LL.LL..L....L...LL.LL.L.LL.LL..LL............L..L...LL.L.L.L..LLL...L\nLLLLLLLLL.LLLLLLLLLLLLLLLLLLLLLLL.LLLLLLLLLLLLLL.L.LLLLLL.LLLLLLLLLL.LLLL.LL.LLLLL.LLLLLLLL.LLLLLL\nLLLLLLLLLLLLLLLL.LLLLLLLL.LLLL.LL.LLLL.LLLLLLLLL.LLL.LLLL..LLL.LLLLL.LL.LLLL.LLLLL.LLLLLLLLLLLLLLL\nLLLLLLLLLLLLLLLLLLLLLLLLL..LLLLLL.LLLLLLLLLLLLLL.LLLLLLLLLLLLL..LLLL.LLLLLLLLLLLLLLLLLLL.LLLLLLLLL\nLLLLLLLLL.LL.LLL.LLLLLLLL.LLLLLLL.LLLL.LLLLLLLLL.LLLLLLLL.LLLL.LLLLL.LLLLLLL.LLLLL.LLLLL.LLLLLLLLL\nLL.LLLLLL.LLLL.LLLLLLLLLLLLLLLLLL.LLLLLLLLLLLLL..LLLLLLLL..LLL.LLLLL.LL.LLLLLLLLLL.LLLLLLLLLLLLLLL\nLLLLLLLLL.LLLLLL.LLLLLLLL.LLLLLLL.LLLLLLLLLLLLLLLLLLLL.LLLLLLL.LLLLL.LLLLLLLLLLLLL.LLLLL.LLLLLLLLL\nLLLLLLLLL.LLLLLL.LLLLLLLL.LLLLLLL.LLLL.LLLLLLLLL.LLLLLLLL.LLLL.LLLLL.LLLLLLLLLLLLL.LLLLL.LLLLLLLLL\n....LL.....LL..LLL..L......LL.LL......L.....L.....LL.LLLL..L.L.......LL.LL.....L.........L...L..L.\nLLLLLLL.L.LLLLLL.LLLLLLLL.LLLLLLL.LLLLLLLLLLLLLL.LLLLLLLLLLLLLLLLLLLLLLLLLLL.LLLLLLLLLLL.LLLLLLLLL\nLLLLLLLLL.LLLLLLL.LLLLLLLLLLLLLLL.LLLLLLLLLLLLLL.LLLLLLLLLLLLL.LLLLLLLLLLLLL.LLLLL.LLLLL.LLLLLLLLL\nLLLLLLLLLLLLLLLLLLLLLLLLL.LLLLLLL.LLLLL.LLLLLLLL.LLLLLLLLLLLLLLLLLLLLLLLLLLL.LLLLL.LLLLL.LLLLLLLLL\nLLLLLLLLLLLLLLLL.LLLLLLLLLLLLLLLL.LLLL.LLLLLLLLLLLLLLLLLLLLLLL.LLLLLLLLLLLLL.LLLLL.LLLLLLLLLLLLLLL\nLLLLLLLLL.LLLLLL.L.LLLLLL.LLLLLLL.LLLLLLLLLLLLLL.LLLLLLLL.LLLL.LLLLL.LLLLLLL.LLLLL.LLLLLLLLLLLLLLL\nLLLLLLLLL.LLLLLLLLLLLLLLL.LLLLLLL.LLLL.LLLLLLLLL.LLLLLLLLLLLLLLLLLLL.LLLLLLLLLL.LLLLLLLL.LLLLLLLLL\n.LLL....L....LL....L..........LL.L................L...L...LL......L.....LLLL...LL..L.....L.L..L.L.\nLLLLLLLLL.LLLLLL.LLLLLLLLLLLLLLLL.LLLL.LLL.LLLLL.LLLLLLLLLLLLL.LLLLL.LL.LLLLLLLLLL.LLLL..LLLLLLLLL\nLLLLLLLLL..LLLLLLLLLL.LLL.LLLLLLLLLLLL.LLLLLLLLL.LLLLL.LLLLLLL.LLLLL.LLLLLLLLLLLLL.LLLLL.LLL..LLLL\nLLLLLLLLL.LLLLLLLLLLLLLLLLLLLLLLL.LLLLLLLLLLLLLL.LLLLLLLLLLLLL.LLLLLLLLLLLLL.LLLLLLLLLLLLLLLLLLLLL\nLLLLLLLLLLLLLL.L.LLLLLLLL.LLLLLLL.LLLLLLLLLLLLLL.L.LLLLLL.LLLLLLLLLL.LLLLLLL.LLLLL.LLLLL.LLLLLLLLL\nLLLLLLLLL.LLLLLLLLLLLLLLLLLLLLLL.LLLLL.LLLLLLLLL.LLLLLLLLLLLLL.LLLLL.LLLLLLL.LLLLLLLLLLL.LLLLLLLLL\n.L.LL..L.....L...L...L.L...L..L..L.L.L.L........L..LL....L...L...L.....LL.L............L..L..L....\nLLLLLLLLL.LLLLLL.LLLLLLLL.LLLLLLL.LLLL.LLLLLLLLL.LLLLLLLL.LLLL.LLLLL.LLLLLLL.LLLLLLLLLLL.LLLLLLLLL\nLLLLLLLLLLLLLLLLLLLLLL.LLLLLL.LLL.LLLLLLLLLLLLLL.LLLLL.LL.LLLL.LLLLLLLLLLLLLLLLLLLLLLLLL.LLLLLL.L.\nLLLLLLLLL.LLLLLLLLLLLLLLLLLLLLL.L.LLLL.LLLLLLLLL.LLLLLLLL.L.LLLLLLLLLLLLLLLLLLLLLL.LLLLL.LLLLLLLLL\nLLLLLLLLLLLLLLLLLLLLLLLLL.LLLLL.L.LLLLLLLLLLLLLLLLLLLLLLLLLLLL.LLLLL.LLLLLLLLLLLLLLLLLLL.LLLLLLLLL\nLLLLLLLLL.LLLLLL.LLLLLLLL.LLLLLLL.LLLL.LLLLLLLLL.LLLLLLLL.LLLL.LLLLLLLLLLLLLLLL.LL.LLLL..LLLLLLLLL\nLLLLLLLLL.LLLLLLLLLLLLLLLLLLLLLLL.LLLLLLLLLLLLLLLLLLLLLLLLLLLLLLLLLL.LLLLLLL.LLL.L.LLLLL.LLLLLLLLL\nL.L..L.L..L.....LL...LL..LL..L.L...L...L.....L...L.......L...LL.............LL.LL.LL....L.L.LL.L..\nLLLLLLLLL.LLLLLLLLLLLLLLL.LLLLLLL.LLLL.LLLLLLLLL.LLLLLLLL.LLLL.LLLLLLLLLLLLL.LLLLLLLLLLL.LLLLLLLLL\nLLLLLLLLLLLLLLLL.LL.LLLLL.LLL.LLL.LLLLLLLLLLLLLL.LLLLLLLL.LLLL.LLLLLLLLLLL.L.LLLLL.LLLLL.LLLLLLLLL\nLLLLLLLLL.LLLLLLLLLLLLLLLLLLLLLLL.LLLLLLLLLLLLLL.LLLLLLLLLLLLLLLLLLL.LLLLLLL.LLLLLLLLLLL.LLLLLLLLL\nLLLLLLLLL.LLLLLLLLLLLLLLLLLLL.LLL.LLLL.LLLLLLLLL.LLLLLLLLLLLLL.LLLLLLLLLLLLLLLLLLL.LLLLL.LLLLLLLLL\n.........L.L.L.LL.LLLLL..LL..LL......LL.L.L.L...L.L.....L.LL.....LLL.L.L.L.....LL...L..L....L..L.L\nLLLLLLLLL.LLLLLL.LLLLLLLL.L.LLLLL.LLLL.LLLLLLLLL.LLLLLLLL.LLLL.LLLLL.LLLLLLL.LLLLL.LLLLL.LLLLLLLLL\nLLLLLLLLL.LLLLLLLLLLLLLLL.LLLLLLL.LLLL.LLLLLLLLL.LLLLLLLLLLLLLLLLLLL..LLLLLL.LL.LL.LLLL.LLLLL.LLLL\nLLLLLLLLLLLLLLLLLLLLLLLLL.LLLLLLL.LLLL.LLLLLLLL.LLLLLLLLLLLLLLLLLLLLLLLLLLLL.LLLLL.LLLLL.LLL.LLLLL\nLLLLLLLLL.LLLLLL.LLLLLLLL.LLLLLLL.LLLLLLLLLLLLLL.LLLLLLLL.LLLL.LLLLLLLLLLLLL.LLLLL.LLLLL.LLLL.LLLL\n.L.........LL....L..LL.LLL.LL.L...L..L.....LLLL..........L.LLL...LLLL.L..L.L.LLL...LLL..L.L......L\nLLLLLLLLL.LLLLLL.LLLLLLLL.LLLLLLL.LLLLLLLLLLLLLLLLLLLLLLLLLLLLLLLLLL.LLLL.LLLLLLLLLLLLLL.LL.LLLLLL\nLLLLLLLLLLLLLLLL.LLLLLLLL.LLLLLLLLLLLL..LLLLLLLL.LLLLLLLL.LLLLLLLLLL.LLLLLLLLLLLLL.LLLLL.LLLLLLLLL\nLLLLLLLLL.LLLLLLLL.LLLLLLLLLLLLLL.LLLL.LLLLLLLLL.LLLLLLLLLLLLL.LLLLL.LLLLLLL.LLLLL.LLLLLLLLLLLLLLL\nLLLLL.LLL.LLLLLL.LLLLLLLLLLLLLLLLLLLLL.LLLLLLLLLLLLLLLLLLLLLLL.LLLLLLLLLLLLLL.LLLL.LLLLL.LLLLLLLLL\n.LL.L.LL.LLL.LLL.L....L....LL..L.L............L.....L.....L....LLLL..L......L.L...LL...LL.L...L.L.\nLLLLLLLLLLLLLLLLLLLL.LLLL.LLLLLLL.LLLLLLLLLLLLLL.LLLLLLLL.LLLLLLLLLL.LLLLLLLLLLLLL.LLLLL.LLLLLLLLL\nLLLLLLLLL.LLLLLL.LLLLLLLL.LLLLLLL.LLLL.LLLLLLLLL.LLLLLLLLLLLLL.LLLLL.LLLLLLL.LLLLL.LLLLL.L.LLLLLLL\nLLLLLLLLL.LLLLLL.LLLLLLLL.LLLLLLL.LLLLLLLLLLLLLL.LLLLLLLL.LLLLLLLLLLLLLLLLLL.LLL.LLLLLLL.LLLLLLLLL\nLLLLLLLLLLLLLLLL.LLLLLLLL.LLL.LLL.LLLLLLLLLLLLLLLLLLLLLLL.LLLL.LLLLL.LLLLLLLLLLLLL.LLLLL.LLLLLLLL.\nL.LLLLLLL.LLLLLL.LLLLLLLL.LLLLLLLLLLLLLLLLLLLLLL.LLLLLLLLLLLLL.LLLLL.LLLLLLL.LLLLL.LLLLL.LLLLLLLLL\n.L..L.L....L.........L.L...L..L.L..LL.........L.L....L..LL...L....L.L...LLL.L.LL.LL.L..L...LL....L\nLLLLLLLLLLLLLLLLLLLLLLLLL.LLLLLLL.LLLL.LLLLLLLL..LLLLLLLL.LLLL.LLLLLLLLLLLLL.LLLLL.LLLLLLLLLLLLLLL\nLLLLLLLLL.LLLLLL.LLLLLLLL.LLLLLLL.LLLL.LLLLLLLLL.LLLLLLLL.LLLLLLLLLL.LLLLLLLLLLLLL.LLLLL.LLLLLLLLL\nLLLLLLLLLLLLLLLLLLLLLLLLL..LLLLLL.LLLL.LLLLLLLLL.LLLLLLLL.LLLLLLLLLLLLLLLLLL.LLLLL.LLLLL.LLLLLLLLL\nLLLLLLLLLLLLLLLLLLLLLLLLL.LLLLLLL.LLLLLLLLLLLLLL.LLLL.LLL.LLLLLLLLLL.LLLLLLLLLLLLLLLLLLL.LLLLLLLLL\nLLLLLLLLLLLLLLLLLLLLLLLLLLLLLLLLL.LLLL.LLLLLLLLL.LLLLLLLLLLLLL.LLLLL.LLLL.LL.LLLLL.LLLLL.LLLLLLLLL\nLLLLLLLLL.LLLLLL.LLLLLLLL.LLLLLLL.L.LL.LLLLLLLLLLLLLLLLLLLLLLL.LLLLL.LLLLLLL.LLL.L.LLLLL.LL.LLLLLL\nLLLLLL.LL.LLLLLL.LLLLLLLL.LLLLLLL.LLLLLLLLLLLLLL.LLLLLLLL.LLLL.LLLLL.LLLL.LL.LLLLL.LLLL..LLLLLLLLL\nLLLLLLLLL.LLLLLL.LLLLLLLL.LLLLLLL.LLLL.LLL.LLLLL.LLLLLLLL.LLLL.LLLLLLLLLLLLL.LLLLLLLLLLL.LL.LLLLLL\nLLLLLLLLL.LLLLLL.LLLLLLLLLLLLLLLL.LLLLLLLLLLLLLL.LLLLLLLL.LLLL.LLLLLLL.LLLLLLLLLLL.LLLLL.LLLLLLLLL\n.LL..L....L.....L......LLL......L...LLLL....LLL......L..L......L..LL...LL...L......LL.LL....L..L..\nLLLLLLLLL.LLLLLL.LLLLLLLLLL..L.LL.LLLLLLLLLLLLLL.LLLLLLLLLLLLL.LLLLLLLLLLLLL.LLLLLLLLLLLLLLLLLLLLL\nLLLLLLLLL.LLLLLL.LLLLLLLLLLLLLLLL.LLLL...LLLLLLL.LLLLLLLL.LLLL.LLLL.LL.LLLLLLLLLLL.LLLLL.LLLLLLLLL\nLLLLLLLLL.LLLLLLLLLLLLLLLLLLLLLLLLLLLL.LLLLLLLLL.LLLLLLLL.LLLLLLLL.LLLLLLLLL.LLLLL.LLLLLLLLLLLLLLL\nLLLLLLLLLLLLLLLLLLLLLLLLL.LLLLLLL.LLLL.LLLLLLLLL.LLLLLLLL.LLLL.LLLLL.LLLLLLLLLLLLL.LLLLL.LLLLLLLLL\nLLLLLLLLLLLLLLLL.LLLLLLLL.LLLLLLL.LLLLLLLLLLLLLL.LLLLLLLL.LLLL.LLLLL.LLLLLLL.LLLLL.LLLLL.LLLLLLLLL\nLLLLLLLLL.LLLLLLLLLLLLLLLLLLLLLLL.LLLL.LLLLLLLLL.LLLLLLLL.LLLL.LLLLLL.LLLLLL.LLLLLLLLLLLLLLLLLLLLL\n...L.LL..........L....L.L.L....L......LL..........L.L.....LL..LL..L..L..L..L...L..L..L..L.....L...\nLLLLLLLLL.LLLLLLLLLLLLLLL.LLLLLLL.LLLLLLLLLLLLLL.LLLLLLLLLLLLL.LLLLL.LLLLLLL.LLLLLLLLLLLLLLLLLLLLL\nLLLLLLLLL.LLLLLL.LLLLLLLLLLLLLLLLLLLLL.LLLLLLLLL.LLLLLLLL.LLLL..LL.L.LLLLLLLLLLLLL.LLLLL.LLLLLLLLL\nLLLLLLL.LLLLLLL..LLLLLLLL.LLLLLLL.LLLL.LLLLLLLLL.LLLLL.LLLLLLL..LLLL.LLLLLLL.LLLLL.LLLLLLLLLLLLLLL\nLLLLLLLLL.L.LLLLL.LLLLLLLLLLLLLLL.LLLLLLLLLLLLLLLLLLLLLLL.LLLL.LLLLL.LLLLLLL.LLLLL.LLLLL.LLLLLLLLL\nLLLL.LLLL.LLLLLL.LLLLLLLLLLLLLLLL.LLLLLLLLLLLLLL.LLLLLLLL.LLLL.LLLLL.LLLLLLL.LL.LL.LLLLL.LLLLLLLLL\nLLLLLLLLLLLLLLLL.LLLLLLLL.LLLLLLLLLLLLLLLLLLLLLL.LLLLLLLL.LLLLLLLLLL.LL..LLL.LLL.L.LLLLL.LLLLLLLLL\nLLLLLLLLL.LLLLLL.LLLLLLLLLLLLLLLLL.LLL.LLLL.LLLLLLLLLLLLL.LLLL.LLLLL.LLLLLLLLLLLLLLLLLLL.LLLLLLLLL\nLLLLLLLLL.LLLLLLLLLLLLLLLLLLLLLLLLLLLLLLLLL.LLLL.LLLLLLLLLLLLL.LLLLL.LLLLL.L.LLLLL.LLLLLLLLLLLLLLL\n..L..L.LL..L.L..LL...L.L...L....LL..L.....L..L..L..L.....LL.L..L.LL......L.LLLL.LLL.LL.....L.L....\nLLLLLLL.L.LLLLLLLLLLLLLLLLLLLLLLL.LLLL.LLLLLLLLL.LLLLLLLLLLLL.LLLLLL.LLLLLLL.LLLL.LLLL.L.LLLLLLLLL\nLLLLLLLLL.LLLLLL.LL.LLLLL.LLLLLLLLLLLL.LLLLLLLLLLLLLLLLLL.LLLL.LLLLL.LLLLLLL.LLLLLLLLLLL.LLLLLLLLL\nLLLLL.LLL.LLLLLLLLLLLLL.L.LLLLLLL.LLLLLLLLLLLLLL.LLLLLLLL.LLLL.LLLLL.LLLLLLL.LLLLLLLLLL.LLLLLLLLLL\nLLLLLLLLLLLLLLLLLLLLLLLLLLLLLLLLL.LLLL.LLLLLLLLL.LLLLLL.L.LLLL.LLLLL.LLLLLLLLLLLLL.LLLLLLLLLLLLLLL\nLLLLLLLLLLLLLLLL.LLLLLLLLLLLLLLLLLLLLL.LLLLLLLLL.LLLLLLLLLLLLL.LLLLLLLLLLL.L.LLLLL.LLLLLLLLLLLLLLL\nLLLLLL.LLLLLLLL..LLLLLLLL.LLLLLLL.LLLL.LLLLLLLLL.LLLLLLLL.LLLL.LLLLLLLLLLLLL.LLLLL.LLLLLLLLLLLLLLL\nLLLLLLLLL.LLLLLLLLLLLLLLLLLLLLLLL.LLLL.L.LLLL.LLLLLLLLLLL.LLLL.LLLLL.LLLLLLLLLLLL.LLLLLL.LLLLLLLLL\nLLLLLLLLL.LLLLLL.LLLLLLLL.LLLLLLL.LLLL.LLLLLLLLL.LLLLLLLL.LLLLLLLLLL.LLLLLLL.LLLLL.LLLLL.LLLLLLLLL\nL.LLLLLLL.LLLLLL.L.LLLLLL..LLLLLLLLLL.LLLLLLLLLL.LLLLLLLL.LLLLLLLLLL.LLLLLLLLLLLLL.LLLLL.LLLLLLLLL\nLLLLLLLLL.LLLLLLLLLLLLLLL.LLLLLLL.LLLL.LLLLLLLLL.LLLL.LLLLLLLL.LLLLLLLLLLL.L.LLL.L.LLLLLLLLLLLLLLL\n.LLLLLLLL.LLLLLL.LLLLLLLL.LLLL.LL.LLLL.LLLLLLLLL.LLLLLLLLLLLLL.LLLLLLLLLLLLL.LLLLL.LLLLL.LLLLLLLLL\nLLLLLLLLLLLL.LLL.LLLLLLLL.LLLLLLLLLLLLLLLLLLLLLL.LLLLLLLL.LLLL.LLLLL.LLLLLLL.LLLLL.LLLLL.LLLLLLLLL\nLLLLLLLLLLLLLLLL.LLLLLLLL.LLLL.LL.LLLLLLL.LLLLLL.LLLLLLLL.LLLL.LLLLLLLLLLLLL.LLLLL.LLLLL.LLLLLLLLL\nLLLLLLLL..LLLLLL.LLL.LLLL.LLLLLLL.LLLL.LLLLLLLLL.LLLL.LLL.LLLL.LLLLL.LLLLLLLLLLLLLLLLLLL.LLLLLLLLL\n"
        }
       ]
      }
     },
     "688af1af6ff14325bdf483d78a831db4": {
      "model_module": "@jupyter-widgets/controls",
      "model_module_version": "1.5.0",
      "model_name": "DescriptionStyleModel",
      "state": {
       "description_width": ""
      }
     },
     "69050dfb44da4987ab647a880f4a940b": {
      "model_module": "@jupyter-widgets/controls",
      "model_module_version": "1.5.0",
      "model_name": "PlayModel",
      "state": {
       "description": "Frame",
       "interval": 625,
       "layout": "IPY_MODEL_2d57e5dba0a54c6ab6f0c878c9b94af7",
       "max": 8,
       "style": "IPY_MODEL_86ed8c0434f745278f80b58995f219a9",
       "value": 8
      }
     },
     "6977826db5524138b7a8a87d387b21c6": {
      "model_module": "@jupyter-widgets/controls",
      "model_module_version": "1.5.0",
      "model_name": "LinkModel",
      "state": {
       "source": [
        "IPY_MODEL_fd7ae1364e5544f79ec065562ccbe1a2",
        "interval"
       ],
       "target": [
        "IPY_MODEL_23b63bc72cf746d7882246fb4227a14d",
        "value"
       ]
      }
     },
     "6a0a88ef82d34fb09a0b02ef68e7c730": {
      "model_module": "@jupyter-widgets/controls",
      "model_module_version": "1.5.0",
      "model_name": "DescriptionStyleModel",
      "state": {
       "description_width": ""
      }
     },
     "6a27a1e9f41f486788918bb53cc72209": {
      "model_module": "@jupyter-widgets/controls",
      "model_module_version": "1.5.0",
      "model_name": "SliderStyleModel",
      "state": {
       "description_width": ""
      }
     },
     "6a85916ccaf94a8e9da38c0c51c0686a": {
      "model_module": "@jupyter-widgets/controls",
      "model_module_version": "1.5.0",
      "model_name": "SliderStyleModel",
      "state": {
       "description_width": ""
      }
     },
     "6a9c826059c044d28c0f9553923e9c9b": {
      "model_module": "@jupyter-widgets/controls",
      "model_module_version": "1.5.0",
      "model_name": "SliderStyleModel",
      "state": {
       "description_width": ""
      }
     },
     "6ac119f1b49a43a8acb059f52aa72253": {
      "model_module": "@jupyter-widgets/controls",
      "model_module_version": "1.5.0",
      "model_name": "HBoxModel",
      "state": {
       "children": [
        "IPY_MODEL_c9909596b7714935be23e39d057f489b",
        "IPY_MODEL_863a09dd26c34077bf40bf436ea13d20",
        "IPY_MODEL_300cce29961d4261b3ac9957d26b3998"
       ],
       "layout": "IPY_MODEL_b1be6d4f5ebe470cb36c95f9a6b41e85"
      }
     },
     "6acce6d9c14d440a8e4e50850d96c56e": {
      "model_module": "@jupyter-widgets/output",
      "model_module_version": "1.0.0",
      "model_name": "OutputModel",
      "state": {
       "layout": "IPY_MODEL_30058b2254c8419e80512b2e2f0250d8",
       "outputs": [
        {
         "name": "stdout",
         "output_type": "stream",
         "text": "{'name': 'value', 'old': 'World', 'new': 'Hello', 'owner': Dropdown(options=('Hello', 'World', '2021'), value='Hello'), 'type': 'change'}\n"
        }
       ]
      }
     },
     "6affff45166d4fe2a5de933accba5246": {
      "model_module": "@jupyter-widgets/controls",
      "model_module_version": "1.5.0",
      "model_name": "SliderStyleModel",
      "state": {
       "description_width": ""
      }
     },
     "6b49f3500fcc428ebcd140344b567360": {
      "model_module": "@jupyter-widgets/controls",
      "model_module_version": "1.5.0",
      "model_name": "LinkModel",
      "state": {
       "source": [
        "IPY_MODEL_2b75ec109df04ebb928e206a8b2ab16d",
        "value"
       ],
       "target": [
        "IPY_MODEL_f54c7c2c1cd8456085d05386a9f0703d",
        "value"
       ]
      }
     },
     "6cd3f4a3d43a41c199238ba072827668": {
      "model_module": "@jupyter-widgets/base",
      "model_module_version": "1.2.0",
      "model_name": "LayoutModel",
      "state": {}
     },
     "6d744290e23146a6b5def7e820c94782": {
      "model_module": "@jupyter-widgets/controls",
      "model_module_version": "1.5.0",
      "model_name": "IntSliderModel",
      "state": {
       "layout": "IPY_MODEL_e2965c24fee04c2b86a3185940ab0163",
       "style": "IPY_MODEL_db5a10a24d7e4ea4bae2c468a1049047",
       "value": 23
      }
     },
     "6ddbec0db28a4db3abadb29b8002ae79": {
      "model_module": "@jupyter-widgets/controls",
      "model_module_version": "1.5.0",
      "model_name": "LinkModel",
      "state": {
       "source": [
        "IPY_MODEL_77012eae88184586b7cf3d2eda963e41",
        "interval"
       ],
       "target": [
        "IPY_MODEL_26935a31d9364e70a1bc4d13927904dc",
        "value"
       ]
      }
     },
     "6e3fa5fdc3664f1b90c1f12fc4c756a1": {
      "model_module": "@jupyter-widgets/base",
      "model_module_version": "1.2.0",
      "model_name": "LayoutModel",
      "state": {}
     },
     "6ef3a738c22943c98a5eeb5225773874": {
      "model_module": "@jupyter-widgets/controls",
      "model_module_version": "1.5.0",
      "model_name": "LinkModel",
      "state": {
       "source": [
        "IPY_MODEL_bc2d83839148435c9ba665d8b2c7c02c",
        "value"
       ],
       "target": [
        "IPY_MODEL_43ac376e25d043e4bc0ead084d8887e3",
        "value"
       ]
      }
     },
     "6fc24338944c4419b9c7e3620ddf5342": {
      "model_module": "@jupyter-widgets/controls",
      "model_module_version": "1.5.0",
      "model_name": "SliderStyleModel",
      "state": {
       "description_width": ""
      }
     },
     "6fee11ad9b894fe38bfc6fbef2818ffc": {
      "model_module": "@jupyter-widgets/base",
      "model_module_version": "1.2.0",
      "model_name": "LayoutModel",
      "state": {}
     },
     "70cd6c6ddfec4260ac1425a4d888edbc": {
      "model_module": "@jupyter-widgets/base",
      "model_module_version": "1.2.0",
      "model_name": "LayoutModel",
      "state": {}
     },
     "70df0606ef3a41018b137e8e7a693e0d": {
      "model_module": "@jupyter-widgets/base",
      "model_module_version": "1.2.0",
      "model_name": "LayoutModel",
      "state": {}
     },
     "7196cc89551b4788a6eda734e1458a7c": {
      "model_module": "@jupyter-widgets/controls",
      "model_module_version": "1.5.0",
      "model_name": "IntSliderModel",
      "state": {
       "layout": "IPY_MODEL_b1dfd234e70945a7a158842d4503fd80",
       "style": "IPY_MODEL_b8f0fde1021d4952a0e145e3ddd34c2c",
       "value": 50
      }
     },
     "71a98a8016fd4f929c9e3ef74b466211": {
      "model_module": "@jupyter-widgets/controls",
      "model_module_version": "1.5.0",
      "model_name": "LinkModel",
      "state": {
       "source": [
        "IPY_MODEL_c59ed4ee3734440da8bf07d6f4c616bc",
        "value"
       ],
       "target": [
        "IPY_MODEL_27a8b220d33b4db3aa6188a9dfdd3e74",
        "value"
       ]
      }
     },
     "71fb608e4c444b6a930277ff7ccfaffd": {
      "model_module": "@jupyter-widgets/controls",
      "model_module_version": "1.5.0",
      "model_name": "FloatSliderModel",
      "state": {
       "description": "Speed",
       "layout": "IPY_MODEL_b09a5d7469ab4bfcbec6061fed49bad1",
       "max": 6250,
       "min": 62,
       "step": 0.1,
       "style": "IPY_MODEL_6a85916ccaf94a8e9da38c0c51c0686a",
       "value": 1509
      }
     },
     "71fed83b71e24aa5976cf3d579e01987": {
      "model_module": "@jupyter-widgets/controls",
      "model_module_version": "1.5.0",
      "model_name": "DropdownModel",
      "state": {
       "_options_labels": [
        "Hello",
        "World",
        "2021"
       ],
       "index": 0,
       "layout": "IPY_MODEL_5fd530fb467949649db7687b788279d5",
       "style": "IPY_MODEL_18910f2aba3a4f2989c95276db4e78d2"
      }
     },
     "7222057d1dbd45629054ecd837313d15": {
      "model_module": "@jupyter-widgets/output",
      "model_module_version": "1.0.0",
      "model_name": "OutputModel",
      "state": {
       "layout": "IPY_MODEL_14ae1abc02f9458a8150ea384e4a2597",
       "outputs": [
        {
         "name": "stdout",
         "output_type": "stream",
         "text": "{'name': 'value', 'old': 100, 'new': 0, 'owner': Play(value=0, description='Press play', interval=50), 'type': 'change'}\n"
        }
       ]
      }
     },
     "7227c4d7afac425998b83dbfdaa46ce6": {
      "model_module": "@jupyter-widgets/base",
      "model_module_version": "1.2.0",
      "model_name": "LayoutModel",
      "state": {}
     },
     "723bdbc94a8c4ed98a64c3e7e4967bd4": {
      "model_module": "@jupyter-widgets/controls",
      "model_module_version": "1.5.0",
      "model_name": "FloatLogSliderModel",
      "state": {
       "description": "Speed",
       "layout": "IPY_MODEL_2d5eca5cb33140ad88f0c18123e3b203",
       "max": 3.0704073217401198,
       "min": 1.7695510786217261,
       "readout": false,
       "style": "IPY_MODEL_0588cc4e1da842c099574096948dcfe0",
       "value": 740.5425206516759
      }
     },
     "72b0f27767b647648d4cd84ee0c0d9a9": {
      "model_module": "@jupyter-widgets/controls",
      "model_module_version": "1.5.0",
      "model_name": "LinkModel",
      "state": {
       "source": [
        "IPY_MODEL_fd7ae1364e5544f79ec065562ccbe1a2",
        "value"
       ],
       "target": [
        "IPY_MODEL_537a0d4348034e9a9b876e0791bf03b6",
        "value"
       ]
      }
     },
     "72d2d35b09c140bc87dabb620b1a1374": {
      "model_module": "@jupyter-widgets/base",
      "model_module_version": "1.2.0",
      "model_name": "LayoutModel",
      "state": {}
     },
     "73b6ca1f14ec4621be73db396207532c": {
      "model_module": "@jupyter-widgets/controls",
      "model_module_version": "1.5.0",
      "model_name": "SelectionSliderModel",
      "state": {
       "_options_labels": [
        "scrambled",
        "sunny side up",
        "poached",
        "over easy"
       ],
       "continuous_update": false,
       "description": "I like my eggs ...",
       "index": 0,
       "layout": "IPY_MODEL_211dd1bc7e2141539ea08b3472dc2084",
       "style": "IPY_MODEL_e1e7a34190f842f3bb81eaa556d2935f"
      }
     },
     "73e38659bd7c4536857b149a6c678bc4": {
      "model_module": "@jupyter-widgets/controls",
      "model_module_version": "1.5.0",
      "model_name": "HBoxModel",
      "state": {
       "children": [
        "IPY_MODEL_baf210c443d54a809bbe013cee85941e",
        "IPY_MODEL_627876b3fa624395979f31ef5086aa4f",
        "IPY_MODEL_ff3cb5b7f08641dba09c6fd0e7d45a9d"
       ],
       "layout": "IPY_MODEL_4ba26d2e02c94339ba301b0a7db52427"
      }
     },
     "74763b38e028477c951dc41a4f3184aa": {
      "model_module": "@jupyter-widgets/controls",
      "model_module_version": "1.5.0",
      "model_name": "HBoxModel",
      "state": {
       "children": [
        "IPY_MODEL_69050dfb44da4987ab647a880f4a940b",
        "IPY_MODEL_f8092ec1dcc64a52942b0b76e1df41d8",
        "IPY_MODEL_0f2fd86b318043f38f1c20eed7581735"
       ],
       "layout": "IPY_MODEL_9af8105201d145b18f4f91c9b2e4b916"
      }
     },
     "7515ad0f237647ee808fe7d82d36e930": {
      "model_module": "@jupyter-widgets/output",
      "model_module_version": "1.0.0",
      "model_name": "OutputModel",
      "state": {
       "layout": "IPY_MODEL_adfabf2ce38e4d60b577de65b1e30e62",
       "outputs": [
        {
         "name": "stdout",
         "output_type": "stream",
         "text": "n: 6, occupied: 26\n#.L#.L#.L#\n#LLLLLL.LL\nL.L.L..#..\n##L#.#L.L#\nL.L#.LL.L#\n#.LLLL#.LL\n..#.L.....\nLLL###LLL#\n#.LLLLL#.L\n#.L#LL#.L#\n"
        }
       ]
      }
     },
     "75a98d1d0f5a401e97601bbf3384e3d5": {
      "model_module": "@jupyter-widgets/controls",
      "model_module_version": "1.5.0",
      "model_name": "LinkModel",
      "state": {
       "source": [
        "IPY_MODEL_bf6cb57f36184e82be6f4493caabce9a",
        "value"
       ],
       "target": [
        "IPY_MODEL_abbc7654490047ca97bf2a68fa0df9e9",
        "value"
       ]
      }
     },
     "7615f216ab2c4d72a3327fcc57261c61": {
      "model_module": "@jupyter-widgets/base",
      "model_module_version": "1.2.0",
      "model_name": "LayoutModel",
      "state": {}
     },
     "764c049e3e824ee7980e23067ea9e243": {
      "model_module": "@jupyter-widgets/base",
      "model_module_version": "1.2.0",
      "model_name": "LayoutModel",
      "state": {}
     },
     "77012eae88184586b7cf3d2eda963e41": {
      "model_module": "@jupyter-widgets/controls",
      "model_module_version": "1.5.0",
      "model_name": "PlayModel",
      "state": {
       "description": "Press play",
       "interval": 50,
       "layout": "IPY_MODEL_c496c30f367a441d87be2e552c82b148",
       "style": "IPY_MODEL_a74e849a066a4bd0a0319a16544fc6db",
       "value": 55
      }
     },
     "77910c187bd84671a5c7edc022ba4158": {
      "model_module": "@jupyter-widgets/controls",
      "model_module_version": "1.5.0",
      "model_name": "PlayModel",
      "state": {
       "description": "Frame",
       "interval": 625,
       "layout": "IPY_MODEL_04e67d63713542aa9e0cf547c700708e",
       "max": 7,
       "style": "IPY_MODEL_d79ff160ec80483782b9d06eecf49efb",
       "value": 7
      }
     },
     "77cd10b1e227489e84fe6f99ad2c4c56": {
      "model_module": "@jupyter-widgets/controls",
      "model_module_version": "1.5.0",
      "model_name": "SliderStyleModel",
      "state": {
       "description_width": ""
      }
     },
     "781fa42f945b4cdcab3073ce513118eb": {
      "model_module": "@jupyter-widgets/controls",
      "model_module_version": "1.5.0",
      "model_name": "DescriptionStyleModel",
      "state": {
       "description_width": ""
      }
     },
     "79135fd31c9f49adb92aa3509676e2f7": {
      "model_module": "@jupyter-widgets/base",
      "model_module_version": "1.2.0",
      "model_name": "LayoutModel",
      "state": {}
     },
     "796044a91e9d4512acaa975330157313": {
      "model_module": "@jupyter-widgets/controls",
      "model_module_version": "1.5.0",
      "model_name": "DescriptionStyleModel",
      "state": {
       "description_width": ""
      }
     },
     "798e3af713fe4b81ab0b90d6bced6db3": {
      "model_module": "@jupyter-widgets/controls",
      "model_module_version": "1.5.0",
      "model_name": "HBoxModel",
      "state": {
       "children": [
        "IPY_MODEL_af4ac305d36a4004879d7e81a8ec138b",
        "IPY_MODEL_1ac1dc0d0ae442e6876b89bd57a007b4"
       ],
       "layout": "IPY_MODEL_e78a8333fbbe4b98813e2c2e9e35ae38"
      }
     },
     "7a26a5c49b594c1d94a8e0fbeea6aa90": {
      "model_module": "@jupyter-widgets/controls",
      "model_module_version": "1.5.0",
      "model_name": "DescriptionStyleModel",
      "state": {
       "description_width": ""
      }
     },
     "7ce04b4a72b94fd1b1e312da0742524a": {
      "model_module": "@jupyter-widgets/base",
      "model_module_version": "1.2.0",
      "model_name": "LayoutModel",
      "state": {}
     },
     "7d0567f7727e405b859134cbaea37f3e": {
      "model_module": "@jupyter-widgets/base",
      "model_module_version": "1.2.0",
      "model_name": "LayoutModel",
      "state": {}
     },
     "7df9f91d25a349d2a62483a372e94733": {
      "model_module": "@jupyter-widgets/base",
      "model_module_version": "1.2.0",
      "model_name": "LayoutModel",
      "state": {}
     },
     "7e78a2ef9d86430597dff45740e7157b": {
      "model_module": "@jupyter-widgets/base",
      "model_module_version": "1.2.0",
      "model_name": "LayoutModel",
      "state": {}
     },
     "7ef78e9a206840c59951ca25fcbf4773": {
      "model_module": "@jupyter-widgets/controls",
      "model_module_version": "1.5.0",
      "model_name": "IntSliderModel",
      "state": {
       "layout": "IPY_MODEL_dce2948f095543288cc1bb0abf61694a",
       "max": 90,
       "style": "IPY_MODEL_6a27a1e9f41f486788918bb53cc72209"
      }
     },
     "7f0308f30e5043f48012686fcace2fa2": {
      "model_module": "@jupyter-widgets/controls",
      "model_module_version": "1.5.0",
      "model_name": "SliderStyleModel",
      "state": {
       "description_width": ""
      }
     },
     "7f3e675d3c97408eafd1b8a5dd94090d": {
      "model_module": "@jupyter-widgets/output",
      "model_module_version": "1.0.0",
      "model_name": "OutputModel",
      "state": {
       "layout": "IPY_MODEL_a2bd1b8d243441b892cd55e89d6ea46c"
      }
     },
     "80496c35acd64b24a40ca9b29e94d499": {
      "model_module": "@jupyter-widgets/controls",
      "model_module_version": "1.5.0",
      "model_name": "LinkModel",
      "state": {
       "source": [
        "IPY_MODEL_baf210c443d54a809bbe013cee85941e",
        "value"
       ],
       "target": [
        "IPY_MODEL_627876b3fa624395979f31ef5086aa4f",
        "value"
       ]
      }
     },
     "80498510a85f43139210811dea658c8c": {
      "model_module": "@jupyter-widgets/base",
      "model_module_version": "1.2.0",
      "model_name": "LayoutModel",
      "state": {}
     },
     "807aee84296e4b2c83e75ddcdb7f7953": {
      "model_module": "@jupyter-widgets/controls",
      "model_module_version": "1.5.0",
      "model_name": "PlayModel",
      "state": {
       "_repeat": true,
       "description": "Press play",
       "layout": "IPY_MODEL_40e4ee518ef54b5e85918e827f9b9a30",
       "style": "IPY_MODEL_cbd0d06b7c0d4ef2a98771b70b15f9a6"
      }
     },
     "8298314000184c3983c4fbf526b53aa2": {
      "model_module": "@jupyter-widgets/controls",
      "model_module_version": "1.5.0",
      "model_name": "SliderStyleModel",
      "state": {
       "description_width": ""
      }
     },
     "8497889d130247ef94ff0fd8da1dc299": {
      "model_module": "@jupyter-widgets/controls",
      "model_module_version": "1.5.0",
      "model_name": "SliderStyleModel",
      "state": {
       "description_width": ""
      }
     },
     "84d4866857d945b38d45f9009b55f5c6": {
      "model_module": "@jupyter-widgets/base",
      "model_module_version": "1.2.0",
      "model_name": "LayoutModel",
      "state": {}
     },
     "8591f8a3fd6a4a769576286056734ece": {
      "model_module": "@jupyter-widgets/output",
      "model_module_version": "1.0.0",
      "model_name": "OutputModel",
      "state": {
       "layout": "IPY_MODEL_9316be49525c4758bb1d421edd222682",
       "outputs": [
        {
         "name": "stdout",
         "output_type": "stream",
         "text": "n: 0, occupied: 0\nLLLLLLLLL.L.LLLLLLLLLLLLL.LLLLLLL.LLLL.LLLLLLLLLLLLLLLLLL.LLLL.LLLLL.LLLLLLL.LLLLL.LLLLLLLLLLLLLLL\nLLLLLLLLLLLLLLLLLLLLLLLLL.LLLLLLLLLLLLLLLLLLLLLL.LLLLLLLL.LLLLLLLLLL.LLLLLLL.LLLLL.LLLLL.LLLLLLLLL\nLLLLLLLLL.LLLLLLLLLLLLLLL.LLLLLLLLLLLLLLLLLLLLLL.LLLLLLLL.LL.LLLLLLL.LLLLLLL.LLLLLLLLLLLLLLLLLLLLL\nLLLLLLLLLL.LLLLL.LLLLLLLL.LLLLLLL.LLLL.LLLLLLLLLLLL.LLLLLLLLLL.LLLLL.LLLLLLL.LLLLL.LLLLLL.LLLLLLLL\nLLLLLLLLL.LLLLLL..LLLLLLL.LLLLLLL.LLLL.LLLLLLLLLLLLLLLLLL.LLLLLLLLLL.LLLLLLLLLLLLL.LLLLL.LLLLLLLLL\nLLLLLLLLL.LLLLLL.LLLLLLLLLLLLLLLLLLLLLLLLLL.LLLLLLLLLLLLLLLLLLLLLLLL.LLLLLLL.LLLLL.LLLLLLLLLLLLLLL\nLLLLLLL.L.LLLLLLLLLLLLLLLLLLLLLLL.LLLL..LLLLLLLL.LLLLLLLL.LLLL.LLLLL.LLLLLLL.LLLLL.LLLLL.LLLLLLLLL\nLLLLLLLLLLLLLLLLLLLLLLLLL.LLLLLLL.LLLL.LLLLLLLLLLLLLLLLLL.LLLL.LLLLL.LLLLLLL.LLLLL.LLLLL.LLLLLLLLL\nL.LLLL.L..L.LL....L......L...LL.LL..L....L...LL.LL.L.LL.LL..LL............L..L...LL.L.L.L..LLL...L\nLLLLLLLLL.LLLLLLLLLLLLLLLLLLLLLLL.LLLLLLLLLLLLLL.L.LLLLLL.LLLLLLLLLL.LLLL.LL.LLLLL.LLLLLLLL.LLLLLL\nLLLLLLLLLLLLLLLL.LLLLLLLL.LLLL.LL.LLLL.LLLLLLLLL.LLL.LLLL..LLL.LLLLL.LL.LLLL.LLLLL.LLLLLLLLLLLLLLL\nLLLLLLLLLLLLLLLLLLLLLLLLL..LLLLLL.LLLLLLLLLLLLLL.LLLLLLLLLLLLL..LLLL.LLLLLLLLLLLLLLLLLLL.LLLLLLLLL\nLLLLLLLLL.LL.LLL.LLLLLLLL.LLLLLLL.LLLL.LLLLLLLLL.LLLLLLLL.LLLL.LLLLL.LLLLLLL.LLLLL.LLLLL.LLLLLLLLL\nLL.LLLLLL.LLLL.LLLLLLLLLLLLLLLLLL.LLLLLLLLLLLLL..LLLLLLLL..LLL.LLLLL.LL.LLLLLLLLLL.LLLLLLLLLLLLLLL\nLLLLLLLLL.LLLLLL.LLLLLLLL.LLLLLLL.LLLLLLLLLLLLLLLLLLLL.LLLLLLL.LLLLL.LLLLLLLLLLLLL.LLLLL.LLLLLLLLL\nLLLLLLLLL.LLLLLL.LLLLLLLL.LLLLLLL.LLLL.LLLLLLLLL.LLLLLLLL.LLLL.LLLLL.LLLLLLLLLLLLL.LLLLL.LLLLLLLLL\n....LL.....LL..LLL..L......LL.LL......L.....L.....LL.LLLL..L.L.......LL.LL.....L.........L...L..L.\nLLLLLLL.L.LLLLLL.LLLLLLLL.LLLLLLL.LLLLLLLLLLLLLL.LLLLLLLLLLLLLLLLLLLLLLLLLLL.LLLLLLLLLLL.LLLLLLLLL\nLLLLLLLLL.LLLLLLL.LLLLLLLLLLLLLLL.LLLLLLLLLLLLLL.LLLLLLLLLLLLL.LLLLLLLLLLLLL.LLLLL.LLLLL.LLLLLLLLL\nLLLLLLLLLLLLLLLLLLLLLLLLL.LLLLLLL.LLLLL.LLLLLLLL.LLLLLLLLLLLLLLLLLLLLLLLLLLL.LLLLL.LLLLL.LLLLLLLLL\nLLLLLLLLLLLLLLLL.LLLLLLLLLLLLLLLL.LLLL.LLLLLLLLLLLLLLLLLLLLLLL.LLLLLLLLLLLLL.LLLLL.LLLLLLLLLLLLLLL\nLLLLLLLLL.LLLLLL.L.LLLLLL.LLLLLLL.LLLLLLLLLLLLLL.LLLLLLLL.LLLL.LLLLL.LLLLLLL.LLLLL.LLLLLLLLLLLLLLL\nLLLLLLLLL.LLLLLLLLLLLLLLL.LLLLLLL.LLLL.LLLLLLLLL.LLLLLLLLLLLLLLLLLLL.LLLLLLLLLL.LLLLLLLL.LLLLLLLLL\n.LLL....L....LL....L..........LL.L................L...L...LL......L.....LLLL...LL..L.....L.L..L.L.\nLLLLLLLLL.LLLLLL.LLLLLLLLLLLLLLLL.LLLL.LLL.LLLLL.LLLLLLLLLLLLL.LLLLL.LL.LLLLLLLLLL.LLLL..LLLLLLLLL\nLLLLLLLLL..LLLLLLLLLL.LLL.LLLLLLLLLLLL.LLLLLLLLL.LLLLL.LLLLLLL.LLLLL.LLLLLLLLLLLLL.LLLLL.LLL..LLLL\nLLLLLLLLL.LLLLLLLLLLLLLLLLLLLLLLL.LLLLLLLLLLLLLL.LLLLLLLLLLLLL.LLLLLLLLLLLLL.LLLLLLLLLLLLLLLLLLLLL\nLLLLLLLLLLLLLL.L.LLLLLLLL.LLLLLLL.LLLLLLLLLLLLLL.L.LLLLLL.LLLLLLLLLL.LLLLLLL.LLLLL.LLLLL.LLLLLLLLL\nLLLLLLLLL.LLLLLLLLLLLLLLLLLLLLLL.LLLLL.LLLLLLLLL.LLLLLLLLLLLLL.LLLLL.LLLLLLL.LLLLLLLLLLL.LLLLLLLLL\n.L.LL..L.....L...L...L.L...L..L..L.L.L.L........L..LL....L...L...L.....LL.L............L..L..L....\nLLLLLLLLL.LLLLLL.LLLLLLLL.LLLLLLL.LLLL.LLLLLLLLL.LLLLLLLL.LLLL.LLLLL.LLLLLLL.LLLLLLLLLLL.LLLLLLLLL\nLLLLLLLLLLLLLLLLLLLLLL.LLLLLL.LLL.LLLLLLLLLLLLLL.LLLLL.LL.LLLL.LLLLLLLLLLLLLLLLLLLLLLLLL.LLLLLL.L.\nLLLLLLLLL.LLLLLLLLLLLLLLLLLLLLL.L.LLLL.LLLLLLLLL.LLLLLLLL.L.LLLLLLLLLLLLLLLLLLLLLL.LLLLL.LLLLLLLLL\nLLLLLLLLLLLLLLLLLLLLLLLLL.LLLLL.L.LLLLLLLLLLLLLLLLLLLLLLLLLLLL.LLLLL.LLLLLLLLLLLLLLLLLLL.LLLLLLLLL\nLLLLLLLLL.LLLLLL.LLLLLLLL.LLLLLLL.LLLL.LLLLLLLLL.LLLLLLLL.LLLL.LLLLLLLLLLLLLLLL.LL.LLLL..LLLLLLLLL\nLLLLLLLLL.LLLLLLLLLLLLLLLLLLLLLLL.LLLLLLLLLLLLLLLLLLLLLLLLLLLLLLLLLL.LLLLLLL.LLL.L.LLLLL.LLLLLLLLL\nL.L..L.L..L.....LL...LL..LL..L.L...L...L.....L...L.......L...LL.............LL.LL.LL....L.L.LL.L..\nLLLLLLLLL.LLLLLLLLLLLLLLL.LLLLLLL.LLLL.LLLLLLLLL.LLLLLLLL.LLLL.LLLLLLLLLLLLL.LLLLLLLLLLL.LLLLLLLLL\nLLLLLLLLLLLLLLLL.LL.LLLLL.LLL.LLL.LLLLLLLLLLLLLL.LLLLLLLL.LLLL.LLLLLLLLLLL.L.LLLLL.LLLLL.LLLLLLLLL\nLLLLLLLLL.LLLLLLLLLLLLLLLLLLLLLLL.LLLLLLLLLLLLLL.LLLLLLLLLLLLLLLLLLL.LLLLLLL.LLLLLLLLLLL.LLLLLLLLL\nLLLLLLLLL.LLLLLLLLLLLLLLLLLLL.LLL.LLLL.LLLLLLLLL.LLLLLLLLLLLLL.LLLLLLLLLLLLLLLLLLL.LLLLL.LLLLLLLLL\n.........L.L.L.LL.LLLLL..LL..LL......LL.L.L.L...L.L.....L.LL.....LLL.L.L.L.....LL...L..L....L..L.L\nLLLLLLLLL.LLLLLL.LLLLLLLL.L.LLLLL.LLLL.LLLLLLLLL.LLLLLLLL.LLLL.LLLLL.LLLLLLL.LLLLL.LLLLL.LLLLLLLLL\nLLLLLLLLL.LLLLLLLLLLLLLLL.LLLLLLL.LLLL.LLLLLLLLL.LLLLLLLLLLLLLLLLLLL..LLLLLL.LL.LL.LLLL.LLLLL.LLLL\nLLLLLLLLLLLLLLLLLLLLLLLLL.LLLLLLL.LLLL.LLLLLLLL.LLLLLLLLLLLLLLLLLLLLLLLLLLLL.LLLLL.LLLLL.LLL.LLLLL\nLLLLLLLLL.LLLLLL.LLLLLLLL.LLLLLLL.LLLLLLLLLLLLLL.LLLLLLLL.LLLL.LLLLLLLLLLLLL.LLLLL.LLLLL.LLLL.LLLL\n.L.........LL....L..LL.LLL.LL.L...L..L.....LLLL..........L.LLL...LLLL.L..L.L.LLL...LLL..L.L......L\nLLLLLLLLL.LLLLLL.LLLLLLLL.LLLLLLL.LLLLLLLLLLLLLLLLLLLLLLLLLLLLLLLLLL.LLLL.LLLLLLLLLLLLLL.LL.LLLLLL\nLLLLLLLLLLLLLLLL.LLLLLLLL.LLLLLLLLLLLL..LLLLLLLL.LLLLLLLL.LLLLLLLLLL.LLLLLLLLLLLLL.LLLLL.LLLLLLLLL\nLLLLLLLLL.LLLLLLLL.LLLLLLLLLLLLLL.LLLL.LLLLLLLLL.LLLLLLLLLLLLL.LLLLL.LLLLLLL.LLLLL.LLLLLLLLLLLLLLL\nLLLLL.LLL.LLLLLL.LLLLLLLLLLLLLLLLLLLLL.LLLLLLLLLLLLLLLLLLLLLLL.LLLLLLLLLLLLLL.LLLL.LLLLL.LLLLLLLLL\n.LL.L.LL.LLL.LLL.L....L....LL..L.L............L.....L.....L....LLLL..L......L.L...LL...LL.L...L.L.\nLLLLLLLLLLLLLLLLLLLL.LLLL.LLLLLLL.LLLLLLLLLLLLLL.LLLLLLLL.LLLLLLLLLL.LLLLLLLLLLLLL.LLLLL.LLLLLLLLL\nLLLLLLLLL.LLLLLL.LLLLLLLL.LLLLLLL.LLLL.LLLLLLLLL.LLLLLLLLLLLLL.LLLLL.LLLLLLL.LLLLL.LLLLL.L.LLLLLLL\nLLLLLLLLL.LLLLLL.LLLLLLLL.LLLLLLL.LLLLLLLLLLLLLL.LLLLLLLL.LLLLLLLLLLLLLLLLLL.LLL.LLLLLLL.LLLLLLLLL\nLLLLLLLLLLLLLLLL.LLLLLLLL.LLL.LLL.LLLLLLLLLLLLLLLLLLLLLLL.LLLL.LLLLL.LLLLLLLLLLLLL.LLLLL.LLLLLLLL.\nL.LLLLLLL.LLLLLL.LLLLLLLL.LLLLLLLLLLLLLLLLLLLLLL.LLLLLLLLLLLLL.LLLLL.LLLLLLL.LLLLL.LLLLL.LLLLLLLLL\n.L..L.L....L.........L.L...L..L.L..LL.........L.L....L..LL...L....L.L...LLL.L.LL.LL.L..L...LL....L\nLLLLLLLLLLLLLLLLLLLLLLLLL.LLLLLLL.LLLL.LLLLLLLL..LLLLLLLL.LLLL.LLLLLLLLLLLLL.LLLLL.LLLLLLLLLLLLLLL\nLLLLLLLLL.LLLLLL.LLLLLLLL.LLLLLLL.LLLL.LLLLLLLLL.LLLLLLLL.LLLLLLLLLL.LLLLLLLLLLLLL.LLLLL.LLLLLLLLL\nLLLLLLLLLLLLLLLLLLLLLLLLL..LLLLLL.LLLL.LLLLLLLLL.LLLLLLLL.LLLLLLLLLLLLLLLLLL.LLLLL.LLLLL.LLLLLLLLL\nLLLLLLLLLLLLLLLLLLLLLLLLL.LLLLLLL.LLLLLLLLLLLLLL.LLLL.LLL.LLLLLLLLLL.LLLLLLLLLLLLLLLLLLL.LLLLLLLLL\nLLLLLLLLLLLLLLLLLLLLLLLLLLLLLLLLL.LLLL.LLLLLLLLL.LLLLLLLLLLLLL.LLLLL.LLLL.LL.LLLLL.LLLLL.LLLLLLLLL\nLLLLLLLLL.LLLLLL.LLLLLLLL.LLLLLLL.L.LL.LLLLLLLLLLLLLLLLLLLLLLL.LLLLL.LLLLLLL.LLL.L.LLLLL.LL.LLLLLL\nLLLLLL.LL.LLLLLL.LLLLLLLL.LLLLLLL.LLLLLLLLLLLLLL.LLLLLLLL.LLLL.LLLLL.LLLL.LL.LLLLL.LLLL..LLLLLLLLL\nLLLLLLLLL.LLLLLL.LLLLLLLL.LLLLLLL.LLLL.LLL.LLLLL.LLLLLLLL.LLLL.LLLLLLLLLLLLL.LLLLLLLLLLL.LL.LLLLLL\nLLLLLLLLL.LLLLLL.LLLLLLLLLLLLLLLL.LLLLLLLLLLLLLL.LLLLLLLL.LLLL.LLLLLLL.LLLLLLLLLLL.LLLLL.LLLLLLLLL\n.LL..L....L.....L......LLL......L...LLLL....LLL......L..L......L..LL...LL...L......LL.LL....L..L..\nLLLLLLLLL.LLLLLL.LLLLLLLLLL..L.LL.LLLLLLLLLLLLLL.LLLLLLLLLLLLL.LLLLLLLLLLLLL.LLLLLLLLLLLLLLLLLLLLL\nLLLLLLLLL.LLLLLL.LLLLLLLLLLLLLLLL.LLLL...LLLLLLL.LLLLLLLL.LLLL.LLLL.LL.LLLLLLLLLLL.LLLLL.LLLLLLLLL\nLLLLLLLLL.LLLLLLLLLLLLLLLLLLLLLLLLLLLL.LLLLLLLLL.LLLLLLLL.LLLLLLLL.LLLLLLLLL.LLLLL.LLLLLLLLLLLLLLL\nLLLLLLLLLLLLLLLLLLLLLLLLL.LLLLLLL.LLLL.LLLLLLLLL.LLLLLLLL.LLLL.LLLLL.LLLLLLLLLLLLL.LLLLL.LLLLLLLLL\nLLLLLLLLLLLLLLLL.LLLLLLLL.LLLLLLL.LLLLLLLLLLLLLL.LLLLLLLL.LLLL.LLLLL.LLLLLLL.LLLLL.LLLLL.LLLLLLLLL\nLLLLLLLLL.LLLLLLLLLLLLLLLLLLLLLLL.LLLL.LLLLLLLLL.LLLLLLLL.LLLL.LLLLLL.LLLLLL.LLLLLLLLLLLLLLLLLLLLL\n...L.LL..........L....L.L.L....L......LL..........L.L.....LL..LL..L..L..L..L...L..L..L..L.....L...\nLLLLLLLLL.LLLLLLLLLLLLLLL.LLLLLLL.LLLLLLLLLLLLLL.LLLLLLLLLLLLL.LLLLL.LLLLLLL.LLLLLLLLLLLLLLLLLLLLL\nLLLLLLLLL.LLLLLL.LLLLLLLLLLLLLLLLLLLLL.LLLLLLLLL.LLLLLLLL.LLLL..LL.L.LLLLLLLLLLLLL.LLLLL.LLLLLLLLL\nLLLLLLL.LLLLLLL..LLLLLLLL.LLLLLLL.LLLL.LLLLLLLLL.LLLLL.LLLLLLL..LLLL.LLLLLLL.LLLLL.LLLLLLLLLLLLLLL\nLLLLLLLLL.L.LLLLL.LLLLLLLLLLLLLLL.LLLLLLLLLLLLLLLLLLLLLLL.LLLL.LLLLL.LLLLLLL.LLLLL.LLLLL.LLLLLLLLL\nLLLL.LLLL.LLLLLL.LLLLLLLLLLLLLLLL.LLLLLLLLLLLLLL.LLLLLLLL.LLLL.LLLLL.LLLLLLL.LL.LL.LLLLL.LLLLLLLLL\nLLLLLLLLLLLLLLLL.LLLLLLLL.LLLLLLLLLLLLLLLLLLLLLL.LLLLLLLL.LLLLLLLLLL.LL..LLL.LLL.L.LLLLL.LLLLLLLLL\nLLLLLLLLL.LLLLLL.LLLLLLLLLLLLLLLLL.LLL.LLLL.LLLLLLLLLLLLL.LLLL.LLLLL.LLLLLLLLLLLLLLLLLLL.LLLLLLLLL\nLLLLLLLLL.LLLLLLLLLLLLLLLLLLLLLLLLLLLLLLLLL.LLLL.LLLLLLLLLLLLL.LLLLL.LLLLL.L.LLLLL.LLLLLLLLLLLLLLL\n..L..L.LL..L.L..LL...L.L...L....LL..L.....L..L..L..L.....LL.L..L.LL......L.LLLL.LLL.LL.....L.L....\nLLLLLLL.L.LLLLLLLLLLLLLLLLLLLLLLL.LLLL.LLLLLLLLL.LLLLLLLLLLLL.LLLLLL.LLLLLLL.LLLL.LLLL.L.LLLLLLLLL\nLLLLLLLLL.LLLLLL.LL.LLLLL.LLLLLLLLLLLL.LLLLLLLLLLLLLLLLLL.LLLL.LLLLL.LLLLLLL.LLLLLLLLLLL.LLLLLLLLL\nLLLLL.LLL.LLLLLLLLLLLLL.L.LLLLLLL.LLLLLLLLLLLLLL.LLLLLLLL.LLLL.LLLLL.LLLLLLL.LLLLLLLLLL.LLLLLLLLLL\nLLLLLLLLLLLLLLLLLLLLLLLLLLLLLLLLL.LLLL.LLLLLLLLL.LLLLLL.L.LLLL.LLLLL.LLLLLLLLLLLLL.LLLLLLLLLLLLLLL\nLLLLLLLLLLLLLLLL.LLLLLLLLLLLLLLLLLLLLL.LLLLLLLLL.LLLLLLLLLLLLL.LLLLLLLLLLL.L.LLLLL.LLLLLLLLLLLLLLL\nLLLLLL.LLLLLLLL..LLLLLLLL.LLLLLLL.LLLL.LLLLLLLLL.LLLLLLLL.LLLL.LLLLLLLLLLLLL.LLLLL.LLLLLLLLLLLLLLL\nLLLLLLLLL.LLLLLLLLLLLLLLLLLLLLLLL.LLLL.L.LLLL.LLLLLLLLLLL.LLLL.LLLLL.LLLLLLLLLLLL.LLLLLL.LLLLLLLLL\nLLLLLLLLL.LLLLLL.LLLLLLLL.LLLLLLL.LLLL.LLLLLLLLL.LLLLLLLL.LLLLLLLLLL.LLLLLLL.LLLLL.LLLLL.LLLLLLLLL\nL.LLLLLLL.LLLLLL.L.LLLLLL..LLLLLLLLLL.LLLLLLLLLL.LLLLLLLL.LLLLLLLLLL.LLLLLLLLLLLLL.LLLLL.LLLLLLLLL\nLLLLLLLLL.LLLLLLLLLLLLLLL.LLLLLLL.LLLL.LLLLLLLLL.LLLL.LLLLLLLL.LLLLLLLLLLL.L.LLL.L.LLLLLLLLLLLLLLL\n.LLLLLLLL.LLLLLL.LLLLLLLL.LLLL.LL.LLLL.LLLLLLLLL.LLLLLLLLLLLLL.LLLLLLLLLLLLL.LLLLL.LLLLL.LLLLLLLLL\nLLLLLLLLLLLL.LLL.LLLLLLLL.LLLLLLLLLLLLLLLLLLLLLL.LLLLLLLL.LLLL.LLLLL.LLLLLLL.LLLLL.LLLLL.LLLLLLLLL\nLLLLLLLLLLLLLLLL.LLLLLLLL.LLLL.LL.LLLLLLL.LLLLLL.LLLLLLLL.LLLL.LLLLLLLLLLLLL.LLLLL.LLLLL.LLLLLLLLL\nLLLLLLLL..LLLLLL.LLL.LLLL.LLLLLLL.LLLL.LLLLLLLLL.LLLL.LLL.LLLL.LLLLL.LLLLLLLLLLLLLLLLLLL.LLLLLLLLL\n"
        }
       ]
      }
     },
     "863a09dd26c34077bf40bf436ea13d20": {
      "model_module": "@jupyter-widgets/controls",
      "model_module_version": "1.5.0",
      "model_name": "IntSliderModel",
      "state": {
       "layout": "IPY_MODEL_626a09cb2b534950a83ebef0557578a0",
       "max": 90,
       "style": "IPY_MODEL_62b48019f3e7493d8292d05964ade55b"
      }
     },
     "866e17d05a0b44a796d479a380617119": {
      "model_module": "@jupyter-widgets/output",
      "model_module_version": "1.0.0",
      "model_name": "OutputModel",
      "state": {
       "layout": "IPY_MODEL_9dc980e620054a5b84dff884153a42c7",
       "outputs": [
        {
         "name": "stdout",
         "output_type": "stream",
         "text": "n: 0, occupied: 0\nL.LL.LL.LL\nLLLLLLL.LL\nL.L.L..L..\nLLLL.LL.LL\nL.LL.LL.LL\nL.LLLLL.LL\n..L.L.....\nLLLLLLLLLL\nL.LLLLLL.L\nL.LLLLL.LL\n"
        }
       ]
      }
     },
     "86ed8c0434f745278f80b58995f219a9": {
      "model_module": "@jupyter-widgets/controls",
      "model_module_version": "1.5.0",
      "model_name": "DescriptionStyleModel",
      "state": {
       "description_width": ""
      }
     },
     "8756d3eb782c4b57a6f30c059fb04dc3": {
      "model_module": "@jupyter-widgets/controls",
      "model_module_version": "1.5.0",
      "model_name": "SliderStyleModel",
      "state": {
       "description_width": ""
      }
     },
     "87b0656c5935409d9d759ac60ea698e2": {
      "model_module": "@jupyter-widgets/controls",
      "model_module_version": "1.5.0",
      "model_name": "PlayModel",
      "state": {
       "description": "Press play",
       "interval": 50,
       "layout": "IPY_MODEL_f9dca8b54d8a42cbb237f33951a815cd",
       "style": "IPY_MODEL_39c731d85a4f4244959ac99db334e1af"
      }
     },
     "89dc0bb783b042afa261e8f5c869b2f6": {
      "model_module": "@jupyter-widgets/controls",
      "model_module_version": "1.5.0",
      "model_name": "VBoxModel",
      "state": {
       "children": [
        "IPY_MODEL_74763b38e028477c951dc41a4f3184aa",
        "IPY_MODEL_b54bf841baca43e7ab9256c400773fbb"
       ],
       "layout": "IPY_MODEL_24031f4556c54bf4a39867f56cdda238"
      }
     },
     "8ac392aa409d467b80d3a2837e6da3bc": {
      "model_module": "@jupyter-widgets/base",
      "model_module_version": "1.2.0",
      "model_name": "LayoutModel",
      "state": {}
     },
     "8b7fb429fd644553a3779b02c69f434c": {
      "model_module": "@jupyter-widgets/base",
      "model_module_version": "1.2.0",
      "model_name": "LayoutModel",
      "state": {}
     },
     "8be627033529406c83879196851bb43f": {
      "model_module": "@jupyter-widgets/controls",
      "model_module_version": "1.5.0",
      "model_name": "DescriptionStyleModel",
      "state": {
       "description_width": ""
      }
     },
     "8c5ce724d3614c21a6692baf292008d9": {
      "model_module": "@jupyter-widgets/controls",
      "model_module_version": "1.5.0",
      "model_name": "HBoxModel",
      "state": {
       "children": [
        "IPY_MODEL_c59ed4ee3734440da8bf07d6f4c616bc",
        "IPY_MODEL_27a8b220d33b4db3aa6188a9dfdd3e74",
        "IPY_MODEL_71fb608e4c444b6a930277ff7ccfaffd"
       ],
       "layout": "IPY_MODEL_5f54fcc9033b4f9c872c6411c77fc8c1"
      }
     },
     "8c920dd826424d0a907a5728fbf6aa02": {
      "model_module": "@jupyter-widgets/base",
      "model_module_version": "1.2.0",
      "model_name": "LayoutModel",
      "state": {
       "border": "1px solid black"
      }
     },
     "8cfdfe98ccde44ba9d8e9402a857cd07": {
      "model_module": "@jupyter-widgets/controls",
      "model_module_version": "1.5.0",
      "model_name": "LinkModel",
      "state": {
       "source": [
        "IPY_MODEL_47098449ecab4a44a64a87b27493bd51",
        "value"
       ],
       "target": [
        "IPY_MODEL_49feae53e59d422d859b28330f6ffe99",
        "value"
       ]
      }
     },
     "8cff75c372ce403abfd66306e5a2317a": {
      "model_module": "@jupyter-widgets/controls",
      "model_module_version": "1.5.0",
      "model_name": "SliderStyleModel",
      "state": {
       "description_width": ""
      }
     },
     "8d9c427ac43948689785f1b07e27acc0": {
      "model_module": "@jupyter-widgets/base",
      "model_module_version": "1.2.0",
      "model_name": "LayoutModel",
      "state": {}
     },
     "8dde507da86140a2a6d8bf8cd5933520": {
      "model_module": "@jupyter-widgets/output",
      "model_module_version": "1.0.0",
      "model_name": "OutputModel",
      "state": {
       "layout": "IPY_MODEL_cf9068ba5e774434a5512c8c821aac15"
      }
     },
     "8dff4d8fdd474c8fbf83f0850216bf4e": {
      "model_module": "@jupyter-widgets/base",
      "model_module_version": "1.2.0",
      "model_name": "LayoutModel",
      "state": {
       "border": "1px solid black"
      }
     },
     "8e29409c17bc44d7978064dcd65059d3": {
      "model_module": "@jupyter-widgets/controls",
      "model_module_version": "1.5.0",
      "model_name": "PlayModel",
      "state": {
       "description": "Press play",
       "interval": 50,
       "layout": "IPY_MODEL_0b559ce5672149019ee9209bc54d28d5",
       "style": "IPY_MODEL_dddb310910094cbaaeb1b12e703561e9",
       "value": 50
      }
     },
     "8f14accfd94a472ba0d5eb9e0a376c80": {
      "model_module": "@jupyter-widgets/base",
      "model_module_version": "1.2.0",
      "model_name": "LayoutModel",
      "state": {}
     },
     "8f4e8ffff2584fd6b0693ccb151c6577": {
      "model_module": "@jupyter-widgets/controls",
      "model_module_version": "1.5.0",
      "model_name": "LinkModel",
      "state": {
       "source": [
        "IPY_MODEL_5925566d784b40bfa61fda4e41a51086",
        "value"
       ],
       "target": [
        "IPY_MODEL_e6fd606fd45941b2a5a61024af9111b7",
        "value"
       ]
      }
     },
     "8f90ec8254eb474d965f9ebb2be8557b": {
      "model_module": "@jupyter-widgets/controls",
      "model_module_version": "1.5.0",
      "model_name": "SliderStyleModel",
      "state": {
       "description_width": ""
      }
     },
     "90fc8f5dbe9f42bfbf14067e23956514": {
      "model_module": "@jupyter-widgets/base",
      "model_module_version": "1.2.0",
      "model_name": "LayoutModel",
      "state": {}
     },
     "9103d140e59d499b8561d0579265c63d": {
      "model_module": "@jupyter-widgets/base",
      "model_module_version": "1.2.0",
      "model_name": "LayoutModel",
      "state": {}
     },
     "9134b54cc3b44726b4d0f92521690248": {
      "model_module": "@jupyter-widgets/base",
      "model_module_version": "1.2.0",
      "model_name": "LayoutModel",
      "state": {}
     },
     "917a3546eef34aea8bfeabfd26ec4dd5": {
      "model_module": "@jupyter-widgets/controls",
      "model_module_version": "1.5.0",
      "model_name": "HBoxModel",
      "state": {
       "children": [
        "IPY_MODEL_bf6cb57f36184e82be6f4493caabce9a",
        "IPY_MODEL_abbc7654490047ca97bf2a68fa0df9e9"
       ],
       "layout": "IPY_MODEL_b15e45e3e9cb4366b4ed90574b20ab35"
      }
     },
     "922a0e9f45f043bd9003be1f22d20a06": {
      "model_module": "@jupyter-widgets/base",
      "model_module_version": "1.2.0",
      "model_name": "LayoutModel",
      "state": {}
     },
     "9316be49525c4758bb1d421edd222682": {
      "model_module": "@jupyter-widgets/base",
      "model_module_version": "1.2.0",
      "model_name": "LayoutModel",
      "state": {}
     },
     "9345400f3e22425489c0036ac1deb25c": {
      "model_module": "@jupyter-widgets/controls",
      "model_module_version": "1.5.0",
      "model_name": "PlayModel",
      "state": {
       "description": "Press play",
       "interval": 50,
       "layout": "IPY_MODEL_ade0e23ae2324890904db210dd26493c",
       "style": "IPY_MODEL_fad78ed6437e4d2c899122d64a49e40d"
      }
     },
     "9405a330e9714c08beffeef7182df932": {
      "model_module": "@jupyter-widgets/base",
      "model_module_version": "1.2.0",
      "model_name": "LayoutModel",
      "state": {}
     },
     "945e867a2d0e4aa48440cf2a0bbc9441": {
      "model_module": "@jupyter-widgets/base",
      "model_module_version": "1.2.0",
      "model_name": "LayoutModel",
      "state": {}
     },
     "949c89ee512d4876bae23927b231ef62": {
      "model_module": "@jupyter-widgets/controls",
      "model_module_version": "1.5.0",
      "model_name": "LinkModel",
      "state": {
       "source": [
        "IPY_MODEL_ea0db5f5aefe4c05bbccf586d8bf9ec7",
        "interval"
       ],
       "target": [
        "IPY_MODEL_723bdbc94a8c4ed98a64c3e7e4967bd4",
        "value"
       ]
      }
     },
     "94eada927be845be89276c65653b0adf": {
      "model_module": "@jupyter-widgets/base",
      "model_module_version": "1.2.0",
      "model_name": "LayoutModel",
      "state": {
       "border": "1px solid black"
      }
     },
     "95b42b8c375545f79548cded6a51fd20": {
      "model_module": "@jupyter-widgets/controls",
      "model_module_version": "1.5.0",
      "model_name": "FloatSliderModel",
      "state": {
       "description": "Speed",
       "layout": "IPY_MODEL_764c049e3e824ee7980e23067ea9e243",
       "max": 3750,
       "min": 125,
       "step": 0.1,
       "style": "IPY_MODEL_040f03ab9a4242babd1ef4652f0fc6e5",
       "value": 2434
      }
     },
     "9629bf9d2eff4aec8e9f004123699acd": {
      "model_module": "@jupyter-widgets/base",
      "model_module_version": "1.2.0",
      "model_name": "LayoutModel",
      "state": {}
     },
     "96c8e0fe01574e23aa71d502b4a977cc": {
      "model_module": "@jupyter-widgets/base",
      "model_module_version": "1.2.0",
      "model_name": "LayoutModel",
      "state": {}
     },
     "97455e4643f049f383e08cd0ef62b123": {
      "model_module": "@jupyter-widgets/controls",
      "model_module_version": "1.5.0",
      "model_name": "IntSliderModel",
      "state": {
       "layout": "IPY_MODEL_ec4ce9be09534810b41d7918a27aeb1c",
       "style": "IPY_MODEL_58cd8b0c97c64092adfa48080382a8ca"
      }
     },
     "9771a751731a42438f29903a3ee73409": {
      "model_module": "@jupyter-widgets/base",
      "model_module_version": "1.2.0",
      "model_name": "LayoutModel",
      "state": {}
     },
     "98165dbbf5834318a0d8033c51e1fc57": {
      "model_module": "@jupyter-widgets/controls",
      "model_module_version": "1.5.0",
      "model_name": "VBoxModel",
      "state": {
       "children": [
        "IPY_MODEL_c90169973b56498a9d28e6d83bafb372",
        "IPY_MODEL_67f8f63ab60147f4bcbe606b7ae1ff79"
       ],
       "layout": "IPY_MODEL_dff5746d99df4fddae16e86e19a9c542"
      }
     },
     "98302bc5b55d4d668de37453544d2d59": {
      "model_module": "@jupyter-widgets/controls",
      "model_module_version": "1.5.0",
      "model_name": "LinkModel",
      "state": {
       "source": [
        "IPY_MODEL_9345400f3e22425489c0036ac1deb25c",
        "value"
       ],
       "target": [
        "IPY_MODEL_cb408040d3ca43c5b344845e2b3d734a",
        "value"
       ]
      }
     },
     "985ffa8c14af40c3a8dd5ecdeef72e76": {
      "model_module": "@jupyter-widgets/base",
      "model_module_version": "1.2.0",
      "model_name": "LayoutModel",
      "state": {}
     },
     "990b3afdfb5a40719ba80388f0c5e243": {
      "model_module": "@jupyter-widgets/controls",
      "model_module_version": "1.5.0",
      "model_name": "SliderStyleModel",
      "state": {
       "description_width": ""
      }
     },
     "99dcc4c723e34976ae7e2804807a09ea": {
      "model_module": "@jupyter-widgets/base",
      "model_module_version": "1.2.0",
      "model_name": "LayoutModel",
      "state": {}
     },
     "99dd417763c8475ba949a6f363d205e2": {
      "model_module": "@jupyter-widgets/controls",
      "model_module_version": "1.5.0",
      "model_name": "SliderStyleModel",
      "state": {
       "description_width": ""
      }
     },
     "9ab595cf199345e69f1273e4bce701fb": {
      "model_module": "@jupyter-widgets/base",
      "model_module_version": "1.2.0",
      "model_name": "LayoutModel",
      "state": {}
     },
     "9af8105201d145b18f4f91c9b2e4b916": {
      "model_module": "@jupyter-widgets/base",
      "model_module_version": "1.2.0",
      "model_name": "LayoutModel",
      "state": {}
     },
     "9afd8d83411643b39a2240c04f7ce960": {
      "model_module": "@jupyter-widgets/controls",
      "model_module_version": "1.5.0",
      "model_name": "DescriptionStyleModel",
      "state": {
       "description_width": ""
      }
     },
     "9b20df3a26a54a32b4fd544d5edf2192": {
      "model_module": "@jupyter-widgets/controls",
      "model_module_version": "1.5.0",
      "model_name": "DescriptionStyleModel",
      "state": {
       "description_width": ""
      }
     },
     "9b86e5c25c684595b8f781774daf4eeb": {
      "model_module": "@jupyter-widgets/controls",
      "model_module_version": "1.5.0",
      "model_name": "HBoxModel",
      "state": {
       "children": [
        "IPY_MODEL_fbc12251be40410594c11ad16116a3a2",
        "IPY_MODEL_5b5aa53d636c4145841528187bd03b1e",
        "IPY_MODEL_2f242ea5321642d8b81f47cba8e82ab7"
       ],
       "layout": "IPY_MODEL_cf5f3eb639464abe95a1200f4ff52d32"
      }
     },
     "9c021d6dcfc94c53a85c9c0186da5004": {
      "model_module": "@jupyter-widgets/base",
      "model_module_version": "1.2.0",
      "model_name": "LayoutModel",
      "state": {}
     },
     "9d11b5eff63d4c6ea1271379e57808c9": {
      "model_module": "@jupyter-widgets/base",
      "model_module_version": "1.2.0",
      "model_name": "LayoutModel",
      "state": {}
     },
     "9d287a70b1b841baa309fd8cce9379a7": {
      "model_module": "@jupyter-widgets/controls",
      "model_module_version": "1.5.0",
      "model_name": "LinkModel",
      "state": {
       "source": [
        "IPY_MODEL_fbc12251be40410594c11ad16116a3a2",
        "value"
       ],
       "target": [
        "IPY_MODEL_5b5aa53d636c4145841528187bd03b1e",
        "value"
       ]
      }
     },
     "9d4f29030f88471eb354d43612a4a8be": {
      "model_module": "@jupyter-widgets/controls",
      "model_module_version": "1.5.0",
      "model_name": "DescriptionStyleModel",
      "state": {
       "description_width": ""
      }
     },
     "9dc980e620054a5b84dff884153a42c7": {
      "model_module": "@jupyter-widgets/base",
      "model_module_version": "1.2.0",
      "model_name": "LayoutModel",
      "state": {}
     },
     "9ecba3b80e984561ad6b8d292e770250": {
      "model_module": "@jupyter-widgets/controls",
      "model_module_version": "1.5.0",
      "model_name": "SliderStyleModel",
      "state": {
       "description_width": ""
      }
     },
     "a08d757208bf42e493b3c57d9eb9bc8f": {
      "model_module": "@jupyter-widgets/output",
      "model_module_version": "1.0.0",
      "model_name": "OutputModel",
      "state": {
       "layout": "IPY_MODEL_5182268df83242e0a8dd07012d54a7b2"
      }
     },
     "a0d18cffe59a47d390c7ac5b338b3c8f": {
      "model_module": "@jupyter-widgets/controls",
      "model_module_version": "1.5.0",
      "model_name": "SliderStyleModel",
      "state": {
       "description_width": ""
      }
     },
     "a1585032f73b48bb819a877012694fe3": {
      "model_module": "@jupyter-widgets/base",
      "model_module_version": "1.2.0",
      "model_name": "LayoutModel",
      "state": {}
     },
     "a1eeeb5c509a46ca8f930041a886a371": {
      "model_module": "@jupyter-widgets/controls",
      "model_module_version": "1.5.0",
      "model_name": "DescriptionStyleModel",
      "state": {
       "description_width": ""
      }
     },
     "a2bd1b8d243441b892cd55e89d6ea46c": {
      "model_module": "@jupyter-widgets/base",
      "model_module_version": "1.2.0",
      "model_name": "LayoutModel",
      "state": {
       "border": "1px solid black"
      }
     },
     "a2e865b57b454e38a6373dee639944e0": {
      "model_module": "@jupyter-widgets/controls",
      "model_module_version": "1.5.0",
      "model_name": "PlayModel",
      "state": {
       "description": "Press play",
       "interval": 50,
       "layout": "IPY_MODEL_d95cbb52714447129b98ecc5300d07b2",
       "style": "IPY_MODEL_9b20df3a26a54a32b4fd544d5edf2192",
       "value": 50
      }
     },
     "a447eab9d5234ee18c25e73dcd0c761d": {
      "model_module": "@jupyter-widgets/controls",
      "model_module_version": "1.5.0",
      "model_name": "LinkModel",
      "state": {
       "source": [
        "IPY_MODEL_c9909596b7714935be23e39d057f489b",
        "interval"
       ],
       "target": [
        "IPY_MODEL_300cce29961d4261b3ac9957d26b3998",
        "value"
       ]
      }
     },
     "a60bde2b265546fc951b4ebfeed3e8a5": {
      "model_module": "@jupyter-widgets/controls",
      "model_module_version": "1.5.0",
      "model_name": "DropdownModel",
      "state": {
       "index": null,
       "layout": "IPY_MODEL_34e99e4f9d374aefb5c7dd41b79d635e",
       "style": "IPY_MODEL_3d517149bcb04373871e00e268dc23c9"
      }
     },
     "a74e849a066a4bd0a0319a16544fc6db": {
      "model_module": "@jupyter-widgets/controls",
      "model_module_version": "1.5.0",
      "model_name": "DescriptionStyleModel",
      "state": {
       "description_width": ""
      }
     },
     "a82e9b9ef1f44761bf3df185120f27c7": {
      "model_module": "@jupyter-widgets/controls",
      "model_module_version": "1.5.0",
      "model_name": "DescriptionStyleModel",
      "state": {
       "description_width": ""
      }
     },
     "a8f9f4a962234ee79d71b5605f4f490f": {
      "model_module": "@jupyter-widgets/base",
      "model_module_version": "1.2.0",
      "model_name": "LayoutModel",
      "state": {}
     },
     "a940e09d165c4cf5b6f43b5956dc19dc": {
      "model_module": "@jupyter-widgets/base",
      "model_module_version": "1.2.0",
      "model_name": "LayoutModel",
      "state": {
       "border": "1px solid black"
      }
     },
     "a9553a4502634ac182c4f0bf601ca147": {
      "model_module": "@jupyter-widgets/base",
      "model_module_version": "1.2.0",
      "model_name": "LayoutModel",
      "state": {}
     },
     "aa0301df9ce347fcb148f799ded4970c": {
      "model_module": "@jupyter-widgets/base",
      "model_module_version": "1.2.0",
      "model_name": "LayoutModel",
      "state": {}
     },
     "aadd8cea1bbb40f4881f31dcad813706": {
      "model_module": "@jupyter-widgets/base",
      "model_module_version": "1.2.0",
      "model_name": "LayoutModel",
      "state": {}
     },
     "ab7a8d90f0794a0ab9d6e4debf24342f": {
      "model_module": "@jupyter-widgets/base",
      "model_module_version": "1.2.0",
      "model_name": "LayoutModel",
      "state": {}
     },
     "ab9943b1daee4d10bac235f63b9ab4b2": {
      "model_module": "@jupyter-widgets/controls",
      "model_module_version": "1.5.0",
      "model_name": "FloatLogSliderModel",
      "state": {
       "description": "Speed",
       "layout": "IPY_MODEL_7615f216ab2c4d72a3327fcc57261c61",
       "max": 3.040602340114073,
       "min": 1.739928612014925,
       "readout": false,
       "style": "IPY_MODEL_3c279dc4954741b79261e0dc81d0144e",
       "value": 274
      }
     },
     "abbc7654490047ca97bf2a68fa0df9e9": {
      "model_module": "@jupyter-widgets/controls",
      "model_module_version": "1.5.0",
      "model_name": "IntSliderModel",
      "state": {
       "layout": "IPY_MODEL_c7d68f913f414c67bac80ab37cfb387f",
       "style": "IPY_MODEL_a0d18cffe59a47d390c7ac5b338b3c8f",
       "value": 50
      }
     },
     "ac38629ef43141cdb0f3ebf0d853a9ed": {
      "model_module": "@jupyter-widgets/controls",
      "model_module_version": "1.5.0",
      "model_name": "VBoxModel",
      "state": {
       "children": [
        "IPY_MODEL_e3d1fd2d4d894cf7944d9af020422ab0",
        "IPY_MODEL_4eeda09513824c0aa838404f68aa10da"
       ],
       "layout": "IPY_MODEL_aa0301df9ce347fcb148f799ded4970c"
      }
     },
     "acbe7d8b02c941c795144da958902876": {
      "model_module": "@jupyter-widgets/controls",
      "model_module_version": "1.5.0",
      "model_name": "LinkModel",
      "state": {
       "source": [
        "IPY_MODEL_77910c187bd84671a5c7edc022ba4158",
        "value"
       ],
       "target": [
        "IPY_MODEL_da787000f484499a876d598f3f5d4e43",
        "value"
       ]
      }
     },
     "ad61ac19274146fd94892977a1ff2d8e": {
      "model_module": "@jupyter-widgets/base",
      "model_module_version": "1.2.0",
      "model_name": "LayoutModel",
      "state": {}
     },
     "add8ff8c57504330abf2681b8e5aa3e1": {
      "model_module": "@jupyter-widgets/controls",
      "model_module_version": "1.5.0",
      "model_name": "SliderStyleModel",
      "state": {
       "description_width": ""
      }
     },
     "ade0e23ae2324890904db210dd26493c": {
      "model_module": "@jupyter-widgets/base",
      "model_module_version": "1.2.0",
      "model_name": "LayoutModel",
      "state": {}
     },
     "adfabf2ce38e4d60b577de65b1e30e62": {
      "model_module": "@jupyter-widgets/base",
      "model_module_version": "1.2.0",
      "model_name": "LayoutModel",
      "state": {}
     },
     "ae77811c3c1143eaa7669554651ee96c": {
      "model_module": "@jupyter-widgets/controls",
      "model_module_version": "1.5.0",
      "model_name": "LinkModel",
      "state": {
       "source": [
        "IPY_MODEL_ebe6bd8c5d4b41baa625be6c331c1526",
        "value"
       ],
       "target": [
        "IPY_MODEL_6d744290e23146a6b5def7e820c94782",
        "value"
       ]
      }
     },
     "aea35eae31884db5a2d1554e71e80a32": {
      "model_module": "@jupyter-widgets/base",
      "model_module_version": "1.2.0",
      "model_name": "LayoutModel",
      "state": {}
     },
     "af0ca3cb69794e41b3101d283afbd165": {
      "model_module": "@jupyter-widgets/controls",
      "model_module_version": "1.5.0",
      "model_name": "LinkModel",
      "state": {
       "source": [
        "IPY_MODEL_3b9621716662415690766d2ea9fbd39b",
        "value"
       ],
       "target": [
        "IPY_MODEL_3219795334d44d5483e1ac621c7e06af",
        "value"
       ]
      }
     },
     "af4ac305d36a4004879d7e81a8ec138b": {
      "model_module": "@jupyter-widgets/controls",
      "model_module_version": "1.5.0",
      "model_name": "PlayModel",
      "state": {
       "description": "Press play",
       "interval": 50,
       "layout": "IPY_MODEL_7d0567f7727e405b859134cbaea37f3e",
       "style": "IPY_MODEL_2d7ab771a4824a769fd5377ff47303f9"
      }
     },
     "afc909366c6e4b6ea3f304ab415f1262": {
      "model_module": "@jupyter-widgets/controls",
      "model_module_version": "1.5.0",
      "model_name": "LinkModel",
      "state": {
       "source": [
        "IPY_MODEL_8e29409c17bc44d7978064dcd65059d3",
        "value"
       ],
       "target": [
        "IPY_MODEL_7196cc89551b4788a6eda734e1458a7c",
        "value"
       ]
      }
     },
     "afe4af4614c441a1b2e26290d442f70e": {
      "model_module": "@jupyter-widgets/controls",
      "model_module_version": "1.5.0",
      "model_name": "HBoxModel",
      "state": {
       "children": [
        "IPY_MODEL_ffc06e63cbcf434491a809dd80d5bd71",
        "IPY_MODEL_5c0164386ce84e6fab5929dce6fca65f"
       ],
       "layout": "IPY_MODEL_305dd30e72b24145bef2477f8dc9322c"
      }
     },
     "b0090cbc69c243c181397b129d9c7972": {
      "model_module": "@jupyter-widgets/controls",
      "model_module_version": "1.5.0",
      "model_name": "SliderStyleModel",
      "state": {
       "description_width": ""
      }
     },
     "b09a5d7469ab4bfcbec6061fed49bad1": {
      "model_module": "@jupyter-widgets/base",
      "model_module_version": "1.2.0",
      "model_name": "LayoutModel",
      "state": {}
     },
     "b0e7e76b5f3d4149bcafdd664061a62a": {
      "model_module": "@jupyter-widgets/controls",
      "model_module_version": "1.5.0",
      "model_name": "VBoxModel",
      "state": {
       "children": [
        "IPY_MODEL_fff120a0cd88400d9104bbe11a8184ef",
        "IPY_MODEL_4138c594d0cf4253ab9ec158558d84c8"
       ],
       "layout": "IPY_MODEL_1c3c8db12d5047c0aa1aa4d42a6685bd"
      }
     },
     "b15e45e3e9cb4366b4ed90574b20ab35": {
      "model_module": "@jupyter-widgets/base",
      "model_module_version": "1.2.0",
      "model_name": "LayoutModel",
      "state": {}
     },
     "b1be6d4f5ebe470cb36c95f9a6b41e85": {
      "model_module": "@jupyter-widgets/base",
      "model_module_version": "1.2.0",
      "model_name": "LayoutModel",
      "state": {}
     },
     "b1dfd234e70945a7a158842d4503fd80": {
      "model_module": "@jupyter-widgets/base",
      "model_module_version": "1.2.0",
      "model_name": "LayoutModel",
      "state": {}
     },
     "b22828872ab647a3bb6f50e0ac338951": {
      "model_module": "@jupyter-widgets/base",
      "model_module_version": "1.2.0",
      "model_name": "LayoutModel",
      "state": {}
     },
     "b298ba915b2847afab14f6e7f041c932": {
      "model_module": "@jupyter-widgets/base",
      "model_module_version": "1.2.0",
      "model_name": "LayoutModel",
      "state": {}
     },
     "b376f3c3e1114c3f81269bead68d5ce1": {
      "model_module": "@jupyter-widgets/controls",
      "model_module_version": "1.5.0",
      "model_name": "VBoxModel",
      "state": {
       "children": [
        "IPY_MODEL_c3713e24aecc45689c7424eb0fd3fa45",
        "IPY_MODEL_7515ad0f237647ee808fe7d82d36e930"
       ],
       "layout": "IPY_MODEL_276235d35e20449f94772e05b2a369a7"
      }
     },
     "b4ea7063a60a45afbc67495f2bfe7a84": {
      "model_module": "@jupyter-widgets/controls",
      "model_module_version": "1.5.0",
      "model_name": "LinkModel",
      "state": {
       "source": [
        "IPY_MODEL_69050dfb44da4987ab647a880f4a940b",
        "value"
       ],
       "target": [
        "IPY_MODEL_f8092ec1dcc64a52942b0b76e1df41d8",
        "value"
       ]
      }
     },
     "b4fdcbbe9a884f0ab6de33fa46f54f59": {
      "model_module": "@jupyter-widgets/output",
      "model_module_version": "1.0.0",
      "model_name": "OutputModel",
      "state": {
       "layout": "IPY_MODEL_0bb2af1dcdb1474cb4ef0e32ef5bdfe9"
      }
     },
     "b518fa0078f244a886b16774ba0a73fa": {
      "model_module": "@jupyter-widgets/controls",
      "model_module_version": "1.5.0",
      "model_name": "HBoxModel",
      "state": {
       "children": [
        "IPY_MODEL_522d68f1ffe0415c9283f8b3a59bbe59",
        "IPY_MODEL_c25406d74b9c4d1ebd14cebc3ae8042f",
        "IPY_MODEL_46ede3ddf6504337b0ce44eb02316ff1"
       ],
       "layout": "IPY_MODEL_26676cad61ef4983b04780cc180baa1d"
      }
     },
     "b54709f82731465a9d6612da83aefeb6": {
      "model_module": "@jupyter-widgets/output",
      "model_module_version": "1.0.0",
      "model_name": "OutputModel",
      "state": {
       "layout": "IPY_MODEL_f9ed7032ef0e431188009dd2909e8c72"
      }
     },
     "b54bf841baca43e7ab9256c400773fbb": {
      "model_module": "@jupyter-widgets/output",
      "model_module_version": "1.0.0",
      "model_name": "OutputModel",
      "state": {
       "layout": "IPY_MODEL_4b5d17b99f9c4df180883053295a64a6",
       "outputs": [
        {
         "ename": "IndexError",
         "evalue": "list index out of range",
         "output_type": "error",
         "traceback": [
          "\u001b[0;31m---------------------------------------------------------------------------\u001b[0m",
          "\u001b[0;31mIndexError\u001b[0m                                Traceback (most recent call last)",
          "\u001b[0;32m<ipython-input-192-dfefc3087ef8>\u001b[0m in \u001b[0;36mdropdown_eventhandler\u001b[0;34m(change)\u001b[0m\n\u001b[1;32m     13\u001b[0m         \u001b[0moutput\u001b[0m\u001b[0;34m.\u001b[0m\u001b[0mclear_output\u001b[0m\u001b[0;34m(\u001b[0m\u001b[0mwait\u001b[0m\u001b[0;34m=\u001b[0m\u001b[0;32mTrue\u001b[0m\u001b[0;34m)\u001b[0m\u001b[0;34m\u001b[0m\u001b[0;34m\u001b[0m\u001b[0m\n\u001b[1;32m     14\u001b[0m         \u001b[0;32mwith\u001b[0m \u001b[0moutput\u001b[0m\u001b[0;34m:\u001b[0m\u001b[0;34m\u001b[0m\u001b[0;34m\u001b[0m\u001b[0m\n\u001b[0;32m---> 15\u001b[0;31m             \u001b[0mprint\u001b[0m\u001b[0;34m(\u001b[0m\u001b[0mdata\u001b[0m\u001b[0;34m[\u001b[0m\u001b[0mchange\u001b[0m\u001b[0;34m[\u001b[0m\u001b[0;34m'new'\u001b[0m\u001b[0;34m]\u001b[0m\u001b[0;34m]\u001b[0m\u001b[0;34m)\u001b[0m\u001b[0;34m\u001b[0m\u001b[0;34m\u001b[0m\u001b[0m\n\u001b[0m\u001b[1;32m     16\u001b[0m     \u001b[0mplay\u001b[0m\u001b[0;34m.\u001b[0m\u001b[0mobserve\u001b[0m\u001b[0;34m(\u001b[0m\u001b[0mdropdown_eventhandler\u001b[0m\u001b[0;34m,\u001b[0m \u001b[0mnames\u001b[0m\u001b[0;34m=\u001b[0m\u001b[0;34m'value'\u001b[0m\u001b[0;34m)\u001b[0m\u001b[0;34m\u001b[0m\u001b[0;34m\u001b[0m\u001b[0m\n\u001b[1;32m     17\u001b[0m \u001b[0;34m\u001b[0m\u001b[0m\n",
          "\u001b[0;31mIndexError\u001b[0m: list index out of range"
         ]
        }
       ]
      }
     },
     "b57a4038db3443878eb5c774a3c8d019": {
      "model_module": "@jupyter-widgets/controls",
      "model_module_version": "1.5.0",
      "model_name": "LinkModel",
      "state": {
       "source": [
        "IPY_MODEL_06c2724faeda4d3fbf59d541ceb94a9d",
        "value"
       ],
       "target": [
        "IPY_MODEL_da1b45f30b464b9a92c7a1346b2e25ad",
        "value"
       ]
      }
     },
     "b6207dccf3444669b451a94ade656b16": {
      "model_module": "@jupyter-widgets/output",
      "model_module_version": "1.0.0",
      "model_name": "OutputModel",
      "state": {
       "layout": "IPY_MODEL_99dcc4c723e34976ae7e2804807a09ea",
       "outputs": [
        {
         "name": "stdout",
         "output_type": "stream",
         "text": "{'name': '_property_lock', 'old': {'index': 2}, 'new': {}, 'owner': Dropdown(index=2, options=('Hello', 'World', '2021'), value='2021'), 'type': 'change'}\n"
        }
       ]
      }
     },
     "b62381081c264f51b288bb42aeab657c": {
      "model_module": "@jupyter-widgets/base",
      "model_module_version": "1.2.0",
      "model_name": "LayoutModel",
      "state": {}
     },
     "b7e6c69e51c64c449839f680cc16df20": {
      "model_module": "@jupyter-widgets/base",
      "model_module_version": "1.2.0",
      "model_name": "LayoutModel",
      "state": {}
     },
     "b8f0fde1021d4952a0e145e3ddd34c2c": {
      "model_module": "@jupyter-widgets/controls",
      "model_module_version": "1.5.0",
      "model_name": "SliderStyleModel",
      "state": {
       "description_width": ""
      }
     },
     "b92f27c8a2df4f7ab30aab09cbe2e924": {
      "model_module": "@jupyter-widgets/base",
      "model_module_version": "1.2.0",
      "model_name": "LayoutModel",
      "state": {}
     },
     "ba49b9968c314b178e79da61e1f8c1c6": {
      "model_module": "@jupyter-widgets/controls",
      "model_module_version": "1.5.0",
      "model_name": "SliderStyleModel",
      "state": {
       "description_width": ""
      }
     },
     "bae40f9dbf934fae8b62bf932a0c5b90": {
      "model_module": "@jupyter-widgets/controls",
      "model_module_version": "1.5.0",
      "model_name": "HBoxModel",
      "state": {
       "children": [
        "IPY_MODEL_77012eae88184586b7cf3d2eda963e41",
        "IPY_MODEL_6097d5676e8b4f8183c9865c8bf6e71c",
        "IPY_MODEL_26935a31d9364e70a1bc4d13927904dc"
       ],
       "layout": "IPY_MODEL_6e3fa5fdc3664f1b90c1f12fc4c756a1"
      }
     },
     "baf210c443d54a809bbe013cee85941e": {
      "model_module": "@jupyter-widgets/controls",
      "model_module_version": "1.5.0",
      "model_name": "PlayModel",
      "state": {
       "description": "Frame",
       "interval": 625,
       "layout": "IPY_MODEL_51c9ad9b12624e31b7b27373396f28ef",
       "max": 7,
       "style": "IPY_MODEL_00329eeb66d74a8a87995b01b9723a9c",
       "value": 7
      }
     },
     "bc29e81252a6445bb9c77785cf132968": {
      "model_module": "@jupyter-widgets/base",
      "model_module_version": "1.2.0",
      "model_name": "LayoutModel",
      "state": {}
     },
     "bc2d83839148435c9ba665d8b2c7c02c": {
      "model_module": "@jupyter-widgets/controls",
      "model_module_version": "1.5.0",
      "model_name": "PlayModel",
      "state": {
       "description": "Frame",
       "interval": 294,
       "layout": "IPY_MODEL_f7e2448571ec4d688fc9ef5526a73a09",
       "max": 84,
       "style": "IPY_MODEL_34ce218cadf0489eb47707458095e39c"
      }
     },
     "bc75c8814a384477a7430148cc2911f1": {
      "model_module": "@jupyter-widgets/controls",
      "model_module_version": "1.5.0",
      "model_name": "VBoxModel",
      "state": {
       "children": [
        "IPY_MODEL_038a815d4e1c48ca82501046af4b1495",
        "IPY_MODEL_4d7a3276c5af4e69b3b868863e249f98"
       ],
       "layout": "IPY_MODEL_9134b54cc3b44726b4d0f92521690248"
      }
     },
     "be6d1c176f254707aaa8b16eb76679e5": {
      "model_module": "@jupyter-widgets/base",
      "model_module_version": "1.2.0",
      "model_name": "LayoutModel",
      "state": {}
     },
     "be6e88ea31b54a1abe09cb1f521735f4": {
      "model_module": "@jupyter-widgets/controls",
      "model_module_version": "1.5.0",
      "model_name": "DescriptionStyleModel",
      "state": {
       "description_width": ""
      }
     },
     "bf6cb57f36184e82be6f4493caabce9a": {
      "model_module": "@jupyter-widgets/controls",
      "model_module_version": "1.5.0",
      "model_name": "PlayModel",
      "state": {
       "description": "Press play",
       "interval": 50,
       "layout": "IPY_MODEL_7ce04b4a72b94fd1b1e312da0742524a",
       "style": "IPY_MODEL_9d4f29030f88471eb354d43612a4a8be",
       "value": 50
      }
     },
     "c07618de19c744f2830386dfb384b41d": {
      "model_module": "@jupyter-widgets/controls",
      "model_module_version": "1.5.0",
      "model_name": "HBoxModel",
      "state": {
       "children": [
        "IPY_MODEL_09fd22f7884549ae89a9722566551566",
        "IPY_MODEL_6714e6f2cddb470aa36f86298116aa92"
       ],
       "layout": "IPY_MODEL_bc29e81252a6445bb9c77785cf132968"
      }
     },
     "c0b0364cc843456dbd6b9ddac49910c3": {
      "model_module": "@jupyter-widgets/controls",
      "model_module_version": "1.5.0",
      "model_name": "DescriptionStyleModel",
      "state": {
       "description_width": ""
      }
     },
     "c178653fd424433db0162da180d346b5": {
      "model_module": "@jupyter-widgets/output",
      "model_module_version": "1.0.0",
      "model_name": "OutputModel",
      "state": {
       "layout": "IPY_MODEL_d7e04e65e09140379d6ec28e8cb82e53",
       "outputs": [
        {
         "name": "stdout",
         "output_type": "stream",
         "text": "{'name': 'value', 'old': 78, 'new': 46, 'owner': Play(value=46, description='Press play', interval=50), 'type': 'change'}\n"
        }
       ]
      }
     },
     "c24fac65664f406a90eda12871f6e2ba": {
      "model_module": "@jupyter-widgets/controls",
      "model_module_version": "1.5.0",
      "model_name": "TextModel",
      "state": {
       "description": "String:",
       "layout": "IPY_MODEL_9ab595cf199345e69f1273e4bce701fb",
       "placeholder": "Type something",
       "style": "IPY_MODEL_cd4e186cb67d43c69804309110aa7eb2",
       "value": "Hellkjlk World"
      }
     },
     "c25406d74b9c4d1ebd14cebc3ae8042f": {
      "model_module": "@jupyter-widgets/controls",
      "model_module_version": "1.5.0",
      "model_name": "IntSliderModel",
      "state": {
       "layout": "IPY_MODEL_70cd6c6ddfec4260ac1425a4d888edbc",
       "max": 7,
       "style": "IPY_MODEL_8298314000184c3983c4fbf526b53aa2",
       "value": 1
      }
     },
     "c2fa7c2c1bfc479798e58e971a8f2118": {
      "model_module": "@jupyter-widgets/controls",
      "model_module_version": "1.5.0",
      "model_name": "VBoxModel",
      "state": {
       "children": [
        "IPY_MODEL_b518fa0078f244a886b16774ba0a73fa",
        "IPY_MODEL_327ff6e11bca4414982811db9384a674"
       ],
       "layout": "IPY_MODEL_640ad806cfbf46c683007912ceb460e7"
      }
     },
     "c3713e24aecc45689c7424eb0fd3fa45": {
      "model_module": "@jupyter-widgets/controls",
      "model_module_version": "1.5.0",
      "model_name": "HBoxModel",
      "state": {
       "children": [
        "IPY_MODEL_27f76970368642f3acf9b137f8c1f37d",
        "IPY_MODEL_2aae01247b4644119713edaf9117e7b7",
        "IPY_MODEL_0fed06afb7c543379bb48916d09f39e8"
       ],
       "layout": "IPY_MODEL_f032928056624adf9d33c4836f1fbd42"
      }
     },
     "c393ff19a5dd4d359c944a85410b15b6": {
      "model_module": "@jupyter-widgets/base",
      "model_module_version": "1.2.0",
      "model_name": "LayoutModel",
      "state": {}
     },
     "c496c30f367a441d87be2e552c82b148": {
      "model_module": "@jupyter-widgets/base",
      "model_module_version": "1.2.0",
      "model_name": "LayoutModel",
      "state": {}
     },
     "c5285e889a3f4118b9e55305adbec62b": {
      "model_module": "@jupyter-widgets/controls",
      "model_module_version": "1.5.0",
      "model_name": "VBoxModel",
      "state": {
       "children": [
        "IPY_MODEL_37eb7b6216c34293a71b3264a45730db",
        "IPY_MODEL_52000c259034432ebd6ac4d161fa66ce"
       ],
       "layout": "IPY_MODEL_a8f9f4a962234ee79d71b5605f4f490f"
      }
     },
     "c562dd9964ea4145acdfa04319bddcc6": {
      "model_module": "@jupyter-widgets/controls",
      "model_module_version": "1.5.0",
      "model_name": "LinkModel",
      "state": {
       "source": [
        "IPY_MODEL_3b9621716662415690766d2ea9fbd39b",
        "interval"
       ],
       "target": [
        "IPY_MODEL_187347717c9b4e18877e044c897edba7",
        "value"
       ]
      }
     },
     "c59ed4ee3734440da8bf07d6f4c616bc": {
      "model_module": "@jupyter-widgets/controls",
      "model_module_version": "1.5.0",
      "model_name": "PlayModel",
      "state": {
       "_repeat": true,
       "description": "Frame",
       "interval": 1509,
       "layout": "IPY_MODEL_fcda64c079dc4a7b914a00c85d7b5d9a",
       "max": 7,
       "style": "IPY_MODEL_6a0a88ef82d34fb09a0b02ef68e7c730"
      }
     },
     "c7d68f913f414c67bac80ab37cfb387f": {
      "model_module": "@jupyter-widgets/base",
      "model_module_version": "1.2.0",
      "model_name": "LayoutModel",
      "state": {}
     },
     "c90169973b56498a9d28e6d83bafb372": {
      "model_module": "@jupyter-widgets/controls",
      "model_module_version": "1.5.0",
      "model_name": "HBoxModel",
      "state": {
       "children": [
        "IPY_MODEL_fd7ae1364e5544f79ec065562ccbe1a2",
        "IPY_MODEL_537a0d4348034e9a9b876e0791bf03b6",
        "IPY_MODEL_23b63bc72cf746d7882246fb4227a14d"
       ],
       "layout": "IPY_MODEL_7df9f91d25a349d2a62483a372e94733"
      }
     },
     "c975a92a0ded4e60af7531e8c7c81bef": {
      "model_module": "@jupyter-widgets/controls",
      "model_module_version": "1.5.0",
      "model_name": "LinkModel",
      "state": {
       "source": [
        "IPY_MODEL_baf210c443d54a809bbe013cee85941e",
        "interval"
       ],
       "target": [
        "IPY_MODEL_ff3cb5b7f08641dba09c6fd0e7d45a9d",
        "value"
       ]
      }
     },
     "c9909596b7714935be23e39d057f489b": {
      "model_module": "@jupyter-widgets/controls",
      "model_module_version": "1.5.0",
      "model_name": "PlayModel",
      "state": {
       "description": "Frame",
       "interval": 549.4523054718957,
       "layout": "IPY_MODEL_53efcd6be1284fb790fe4a3ce8953bf1",
       "max": 90,
       "style": "IPY_MODEL_3e940fb08ddb4ef4a5fcb48d42cc1aac"
      }
     },
     "ca26c22e80bd49b0b10d04dbc7964877": {
      "model_module": "@jupyter-widgets/controls",
      "model_module_version": "1.5.0",
      "model_name": "DropdownModel",
      "state": {
       "_options_labels": [
        "Hello",
        "World",
        "2021"
       ],
       "index": 1,
       "layout": "IPY_MODEL_fa616c6655da42519176e79c5454f8ad",
       "style": "IPY_MODEL_2c19687e2cf04bdf8db22562abf8ef3f"
      }
     },
     "cb408040d3ca43c5b344845e2b3d734a": {
      "model_module": "@jupyter-widgets/controls",
      "model_module_version": "1.5.0",
      "model_name": "IntSliderModel",
      "state": {
       "layout": "IPY_MODEL_945e867a2d0e4aa48440cf2a0bbc9441",
       "style": "IPY_MODEL_6168e5e36c47496fb8f99cd2ea40ae4b"
      }
     },
     "cba3403cfc6d4b4ba7df2d6746f4d52b": {
      "model_module": "@jupyter-widgets/controls",
      "model_module_version": "1.5.0",
      "model_name": "LinkModel",
      "state": {
       "source": [
        "IPY_MODEL_69050dfb44da4987ab647a880f4a940b",
        "interval"
       ],
       "target": [
        "IPY_MODEL_0f2fd86b318043f38f1c20eed7581735",
        "value"
       ]
      }
     },
     "cbccd21650dc4d8296c0140139d7850d": {
      "model_module": "@jupyter-widgets/base",
      "model_module_version": "1.2.0",
      "model_name": "LayoutModel",
      "state": {}
     },
     "cbd0d06b7c0d4ef2a98771b70b15f9a6": {
      "model_module": "@jupyter-widgets/controls",
      "model_module_version": "1.5.0",
      "model_name": "DescriptionStyleModel",
      "state": {
       "description_width": ""
      }
     },
     "cd4e186cb67d43c69804309110aa7eb2": {
      "model_module": "@jupyter-widgets/controls",
      "model_module_version": "1.5.0",
      "model_name": "DescriptionStyleModel",
      "state": {
       "description_width": ""
      }
     },
     "cdd588d133394ee3a855a821a1933409": {
      "model_module": "@jupyter-widgets/controls",
      "model_module_version": "1.5.0",
      "model_name": "LinkModel",
      "state": {
       "source": [
        "IPY_MODEL_01bf9f53ddeb4d20aeb6c886ea8e7d2f",
        "interval"
       ],
       "target": [
        "IPY_MODEL_51fc3ae8bc0942688d4abcf39c9d9d2f",
        "value"
       ]
      }
     },
     "ceab0a9bf6594645b710957319189d88": {
      "model_module": "@jupyter-widgets/controls",
      "model_module_version": "1.5.0",
      "model_name": "DescriptionStyleModel",
      "state": {
       "description_width": ""
      }
     },
     "cec8d5d55ff94cdca233787492a2557a": {
      "model_module": "@jupyter-widgets/controls",
      "model_module_version": "1.5.0",
      "model_name": "IntSliderModel",
      "state": {
       "layout": "IPY_MODEL_042ac0089b5441369b05df4f4b523a21",
       "max": 7,
       "style": "IPY_MODEL_add8ff8c57504330abf2681b8e5aa3e1",
       "value": 7
      }
     },
     "cf1ebe4abe3a42c68607a8c97f67eeb2": {
      "model_module": "@jupyter-widgets/controls",
      "model_module_version": "1.5.0",
      "model_name": "DropdownModel",
      "state": {
       "_options_labels": [
        "Hello",
        "World",
        "2021"
       ],
       "index": 0,
       "layout": "IPY_MODEL_5a5fc2ee7ba14e46bd5d267a1cdf1f48",
       "style": "IPY_MODEL_09c7a4756f9748c6a563b26a86d3f322"
      }
     },
     "cf5f3eb639464abe95a1200f4ff52d32": {
      "model_module": "@jupyter-widgets/base",
      "model_module_version": "1.2.0",
      "model_name": "LayoutModel",
      "state": {}
     },
     "cf9068ba5e774434a5512c8c821aac15": {
      "model_module": "@jupyter-widgets/base",
      "model_module_version": "1.2.0",
      "model_name": "LayoutModel",
      "state": {}
     },
     "d0318a5a17ec4c0ca25ef8bc5b3e0763": {
      "model_module": "@jupyter-widgets/base",
      "model_module_version": "1.2.0",
      "model_name": "LayoutModel",
      "state": {}
     },
     "d1aa83a9fe6a48ff8ade583700a42d13": {
      "model_module": "@jupyter-widgets/controls",
      "model_module_version": "1.5.0",
      "model_name": "SliderStyleModel",
      "state": {
       "description_width": ""
      }
     },
     "d2e5c1dcb9db47058defc8e7cba8f57c": {
      "model_module": "@jupyter-widgets/controls",
      "model_module_version": "1.5.0",
      "model_name": "SliderStyleModel",
      "state": {
       "description_width": ""
      }
     },
     "d47b4d5ac1f24eacabf99a220625a2f5": {
      "model_module": "@jupyter-widgets/controls",
      "model_module_version": "1.5.0",
      "model_name": "SliderStyleModel",
      "state": {
       "description_width": ""
      }
     },
     "d59690673b3845aeb1bc5233284f25b8": {
      "model_module": "@jupyter-widgets/controls",
      "model_module_version": "1.5.0",
      "model_name": "DescriptionStyleModel",
      "state": {
       "description_width": ""
      }
     },
     "d74d322fda8543d0b55fe83a4f907157": {
      "model_module": "@jupyter-widgets/controls",
      "model_module_version": "1.5.0",
      "model_name": "SliderStyleModel",
      "state": {
       "description_width": ""
      }
     },
     "d786846a35184136828456bf15347108": {
      "model_module": "@jupyter-widgets/base",
      "model_module_version": "1.2.0",
      "model_name": "LayoutModel",
      "state": {}
     },
     "d79ff160ec80483782b9d06eecf49efb": {
      "model_module": "@jupyter-widgets/controls",
      "model_module_version": "1.5.0",
      "model_name": "DescriptionStyleModel",
      "state": {
       "description_width": ""
      }
     },
     "d7e04e65e09140379d6ec28e8cb82e53": {
      "model_module": "@jupyter-widgets/base",
      "model_module_version": "1.2.0",
      "model_name": "LayoutModel",
      "state": {}
     },
     "d85a6517161c4494bee559b3a5b4c3d2": {
      "model_module": "@jupyter-widgets/controls",
      "model_module_version": "1.5.0",
      "model_name": "TextareaModel",
      "state": {
       "description": "String:",
       "disabled": true,
       "layout": "IPY_MODEL_922a0e9f45f043bd9003be1f22d20a06",
       "placeholder": "Type something",
       "style": "IPY_MODEL_796044a91e9d4512acaa975330157313",
       "value": "Hello World"
      }
     },
     "d95cbb52714447129b98ecc5300d07b2": {
      "model_module": "@jupyter-widgets/base",
      "model_module_version": "1.2.0",
      "model_name": "LayoutModel",
      "state": {}
     },
     "d96f7248e45344ada252901e29be830b": {
      "model_module": "@jupyter-widgets/controls",
      "model_module_version": "1.5.0",
      "model_name": "DescriptionStyleModel",
      "state": {
       "description_width": ""
      }
     },
     "da1b45f30b464b9a92c7a1346b2e25ad": {
      "model_module": "@jupyter-widgets/controls",
      "model_module_version": "1.5.0",
      "model_name": "IntSliderModel",
      "state": {
       "layout": "IPY_MODEL_50019ffe00d64d0f9560172303831498",
       "style": "IPY_MODEL_5bcac0842f634532a9c57b1dfd8bebb3"
      }
     },
     "da787000f484499a876d598f3f5d4e43": {
      "model_module": "@jupyter-widgets/controls",
      "model_module_version": "1.5.0",
      "model_name": "IntSliderModel",
      "state": {
       "layout": "IPY_MODEL_3440ad598d0140838bdc98aaabd86fcc",
       "max": 7,
       "style": "IPY_MODEL_3be8e737d99d404bb4ed817a946ed0e9",
       "value": 7
      }
     },
     "da8cc1a7945a41df93a1e8cad71884d5": {
      "model_module": "@jupyter-widgets/controls",
      "model_module_version": "1.5.0",
      "model_name": "LinkModel",
      "state": {
       "source": [
        "IPY_MODEL_87b0656c5935409d9d759ac60ea698e2",
        "value"
       ],
       "target": [
        "IPY_MODEL_0d2e8f88bdea419a979dfc8a570c5714",
        "value"
       ]
      }
     },
     "daf8e12df70f4a3cba17268ad1fa2482": {
      "model_module": "@jupyter-widgets/controls",
      "model_module_version": "1.5.0",
      "model_name": "LinkModel",
      "state": {
       "source": [
        "IPY_MODEL_2c2151113b4440b39464b41385e44410",
        "value"
       ],
       "target": [
        "IPY_MODEL_97455e4643f049f383e08cd0ef62b123",
        "value"
       ]
      }
     },
     "db5a10a24d7e4ea4bae2c468a1049047": {
      "model_module": "@jupyter-widgets/controls",
      "model_module_version": "1.5.0",
      "model_name": "SliderStyleModel",
      "state": {
       "description_width": ""
      }
     },
     "db888463ece64865b23f53c3eb96d122": {
      "model_module": "@jupyter-widgets/base",
      "model_module_version": "1.2.0",
      "model_name": "LayoutModel",
      "state": {}
     },
     "dbf29b9b2976406194baa976f4f6f955": {
      "model_module": "@jupyter-widgets/base",
      "model_module_version": "1.2.0",
      "model_name": "LayoutModel",
      "state": {}
     },
     "dc03d12af4ac4cfa8b585cd683a66283": {
      "model_module": "@jupyter-widgets/base",
      "model_module_version": "1.2.0",
      "model_name": "LayoutModel",
      "state": {}
     },
     "dca7a70a608947c8b3cc30ad0c487041": {
      "model_module": "@jupyter-widgets/output",
      "model_module_version": "1.0.0",
      "model_name": "OutputModel",
      "state": {
       "layout": "IPY_MODEL_9405a330e9714c08beffeef7182df932",
       "outputs": [
        {
         "name": "stdout",
         "output_type": "stream",
         "text": "{'name': 'value', 'old': 'Hello', 'new': 'World', 'owner': Dropdown(index=1, options=('Hello', 'World', '2021'), value='World'), 'type': 'change'}\n"
        }
       ]
      }
     },
     "dce2948f095543288cc1bb0abf61694a": {
      "model_module": "@jupyter-widgets/base",
      "model_module_version": "1.2.0",
      "model_name": "LayoutModel",
      "state": {}
     },
     "dd2dea048cba42b68cc8fdf8d0e5eae7": {
      "model_module": "@jupyter-widgets/controls",
      "model_module_version": "1.5.0",
      "model_name": "VBoxModel",
      "state": {
       "children": [
        "IPY_MODEL_8c5ce724d3614c21a6692baf292008d9",
        "IPY_MODEL_20fbb03615254ba085242abbce73dbba"
       ],
       "layout": "IPY_MODEL_3e2db443dd6f4df9a808683cfa9f4c3c"
      }
     },
     "dddb310910094cbaaeb1b12e703561e9": {
      "model_module": "@jupyter-widgets/controls",
      "model_module_version": "1.5.0",
      "model_name": "DescriptionStyleModel",
      "state": {
       "description_width": ""
      }
     },
     "df89d037c75e455993ba6488a1b62bbb": {
      "model_module": "@jupyter-widgets/controls",
      "model_module_version": "1.5.0",
      "model_name": "LinkModel",
      "state": {
       "source": [
        "IPY_MODEL_4e619a1289d44eaa87fd9de61412a656",
        "value"
       ],
       "target": [
        "IPY_MODEL_cec8d5d55ff94cdca233787492a2557a",
        "value"
       ]
      }
     },
     "dff5746d99df4fddae16e86e19a9c542": {
      "model_module": "@jupyter-widgets/base",
      "model_module_version": "1.2.0",
      "model_name": "LayoutModel",
      "state": {}
     },
     "e032b9af0adf4c9ba7bdbb142e91911a": {
      "model_module": "@jupyter-widgets/output",
      "model_module_version": "1.0.0",
      "model_name": "OutputModel",
      "state": {
       "layout": "IPY_MODEL_5842ea53ba654e88b97eb83fdf7e43a3"
      }
     },
     "e1aea2102e6b4207837d5eaafb08f50d": {
      "model_module": "@jupyter-widgets/base",
      "model_module_version": "1.2.0",
      "model_name": "LayoutModel",
      "state": {}
     },
     "e1e7a34190f842f3bb81eaa556d2935f": {
      "model_module": "@jupyter-widgets/controls",
      "model_module_version": "1.5.0",
      "model_name": "DescriptionStyleModel",
      "state": {
       "description_width": ""
      }
     },
     "e236470a26644b64a53971cca179dba4": {
      "model_module": "@jupyter-widgets/base",
      "model_module_version": "1.2.0",
      "model_name": "LayoutModel",
      "state": {}
     },
     "e260d83eefaa494a814197df3dae5916": {
      "model_module": "@jupyter-widgets/controls",
      "model_module_version": "1.5.0",
      "model_name": "LinkModel",
      "state": {
       "source": [
        "IPY_MODEL_27f76970368642f3acf9b137f8c1f37d",
        "interval"
       ],
       "target": [
        "IPY_MODEL_0fed06afb7c543379bb48916d09f39e8",
        "value"
       ]
      }
     },
     "e2810d72587947d2a05f98c412b07dd5": {
      "model_module": "@jupyter-widgets/base",
      "model_module_version": "1.2.0",
      "model_name": "LayoutModel",
      "state": {}
     },
     "e2965c24fee04c2b86a3185940ab0163": {
      "model_module": "@jupyter-widgets/base",
      "model_module_version": "1.2.0",
      "model_name": "LayoutModel",
      "state": {}
     },
     "e3d1fd2d4d894cf7944d9af020422ab0": {
      "model_module": "@jupyter-widgets/controls",
      "model_module_version": "1.5.0",
      "model_name": "HBoxModel",
      "state": {
       "children": [
        "IPY_MODEL_77910c187bd84671a5c7edc022ba4158",
        "IPY_MODEL_da787000f484499a876d598f3f5d4e43",
        "IPY_MODEL_280f071d73834f9fa810744ba64f1cd7"
       ],
       "layout": "IPY_MODEL_2978efb78aa441649cd4de7c354bc8ef"
      }
     },
     "e509b5147a67425ca4b3e87d70b7696b": {
      "model_module": "@jupyter-widgets/base",
      "model_module_version": "1.2.0",
      "model_name": "LayoutModel",
      "state": {}
     },
     "e6983b74d7a64120bace42e72f7c1501": {
      "model_module": "@jupyter-widgets/controls",
      "model_module_version": "1.5.0",
      "model_name": "SliderStyleModel",
      "state": {
       "description_width": ""
      }
     },
     "e6fd606fd45941b2a5a61024af9111b7": {
      "model_module": "@jupyter-widgets/controls",
      "model_module_version": "1.5.0",
      "model_name": "IntSliderModel",
      "state": {
       "layout": "IPY_MODEL_9c021d6dcfc94c53a85c9c0186da5004",
       "style": "IPY_MODEL_d2e5c1dcb9db47058defc8e7cba8f57c",
       "value": 35
      }
     },
     "e78a8333fbbe4b98813e2c2e9e35ae38": {
      "model_module": "@jupyter-widgets/base",
      "model_module_version": "1.2.0",
      "model_name": "LayoutModel",
      "state": {}
     },
     "ea0db5f5aefe4c05bbccf586d8bf9ec7": {
      "model_module": "@jupyter-widgets/controls",
      "model_module_version": "1.5.0",
      "model_name": "PlayModel",
      "state": {
       "description": "Frame",
       "interval": 740.5425206516759,
       "layout": "IPY_MODEL_8b7fb429fd644553a3779b02c69f434c",
       "max": 84,
       "style": "IPY_MODEL_283ccd9944f9406784de95b920d98b41",
       "value": 84
      }
     },
     "ea14c1382c1e4f35b72dc380a4536512": {
      "model_module": "@jupyter-widgets/output",
      "model_module_version": "1.0.0",
      "model_name": "OutputModel",
      "state": {
       "layout": "IPY_MODEL_16dc1942b3164c43acb9b47f407356e5"
      }
     },
     "ea6ff3222ceb46caa9e4a64ef52fcb25": {
      "model_module": "@jupyter-widgets/base",
      "model_module_version": "1.2.0",
      "model_name": "LayoutModel",
      "state": {}
     },
     "ead607402fa54aa9b10fbef2b43601d9": {
      "model_module": "@jupyter-widgets/controls",
      "model_module_version": "1.5.0",
      "model_name": "HBoxModel",
      "state": {
       "children": [
        "IPY_MODEL_2b75ec109df04ebb928e206a8b2ab16d",
        "IPY_MODEL_f54c7c2c1cd8456085d05386a9f0703d"
       ],
       "layout": "IPY_MODEL_985ffa8c14af40c3a8dd5ecdeef72e76"
      }
     },
     "eb735f591ab4425ebfe8fa8265242594": {
      "model_module": "@jupyter-widgets/controls",
      "model_module_version": "1.5.0",
      "model_name": "DescriptionStyleModel",
      "state": {
       "description_width": ""
      }
     },
     "ebe6bd8c5d4b41baa625be6c331c1526": {
      "model_module": "@jupyter-widgets/controls",
      "model_module_version": "1.5.0",
      "model_name": "PlayModel",
      "state": {
       "description": "Press play",
       "interval": 50,
       "layout": "IPY_MODEL_2cee211c53d44f8c9102515b2f2c3bbe",
       "style": "IPY_MODEL_f762a2343b084679ac77f1f4fd115531",
       "value": 23
      }
     },
     "ec4ce9be09534810b41d7918a27aeb1c": {
      "model_module": "@jupyter-widgets/base",
      "model_module_version": "1.2.0",
      "model_name": "LayoutModel",
      "state": {}
     },
     "ece5fdc5a92944acbba2fcc935ce0fd2": {
      "model_module": "@jupyter-widgets/base",
      "model_module_version": "1.2.0",
      "model_name": "LayoutModel",
      "state": {}
     },
     "ee13e53be72740eda235ed307c4b7f3f": {
      "model_module": "@jupyter-widgets/controls",
      "model_module_version": "1.5.0",
      "model_name": "IntSliderModel",
      "state": {
       "layout": "IPY_MODEL_22f269babfd04f80890d1f9c06ef8c7b",
       "style": "IPY_MODEL_d1aa83a9fe6a48ff8ade583700a42d13",
       "value": 50
      }
     },
     "eedc859be6ec4b66afa98e8aa4d3a5d9": {
      "model_module": "@jupyter-widgets/controls",
      "model_module_version": "1.5.0",
      "model_name": "LinkModel",
      "state": {
       "source": [
        "IPY_MODEL_46d004a029cf4f45aabcfa60447e9ede",
        "interval"
       ],
       "target": [
        "IPY_MODEL_ab9943b1daee4d10bac235f63b9ab4b2",
        "value"
       ]
      }
     },
     "eef32b11d8ab4c3f81298485284e74d6": {
      "model_module": "@jupyter-widgets/controls",
      "model_module_version": "1.5.0",
      "model_name": "VBoxModel",
      "state": {
       "children": [
        "IPY_MODEL_f8fb2eeca69947029bfa3844e32a372e",
        "IPY_MODEL_5db38919c3c844d7bc15f873f1a30ecd"
       ],
       "layout": "IPY_MODEL_db888463ece64865b23f53c3eb96d122"
      }
     },
     "f032928056624adf9d33c4836f1fbd42": {
      "model_module": "@jupyter-widgets/base",
      "model_module_version": "1.2.0",
      "model_name": "LayoutModel",
      "state": {}
     },
     "f3b8876eaad04b858e80644d3f8b1bfb": {
      "model_module": "@jupyter-widgets/base",
      "model_module_version": "1.2.0",
      "model_name": "LayoutModel",
      "state": {}
     },
     "f3c5985e3bea4ea38508f88f13d4c4e6": {
      "model_module": "@jupyter-widgets/base",
      "model_module_version": "1.2.0",
      "model_name": "LayoutModel",
      "state": {}
     },
     "f422b57f3c084c1aa971ed830bc01b72": {
      "model_module": "@jupyter-widgets/controls",
      "model_module_version": "1.5.0",
      "model_name": "LinkModel",
      "state": {
       "source": [
        "IPY_MODEL_fbc12251be40410594c11ad16116a3a2",
        "interval"
       ],
       "target": [
        "IPY_MODEL_2f242ea5321642d8b81f47cba8e82ab7",
        "value"
       ]
      }
     },
     "f448c28bd253480e91071e9e4cb77192": {
      "model_module": "@jupyter-widgets/controls",
      "model_module_version": "1.5.0",
      "model_name": "LinkModel",
      "state": {
       "source": [
        "IPY_MODEL_01bf9f53ddeb4d20aeb6c886ea8e7d2f",
        "value"
       ],
       "target": [
        "IPY_MODEL_521b2198f4914b9f906a230c681b235c",
        "value"
       ]
      }
     },
     "f54c7c2c1cd8456085d05386a9f0703d": {
      "model_module": "@jupyter-widgets/controls",
      "model_module_version": "1.5.0",
      "model_name": "IntSliderModel",
      "state": {
       "layout": "IPY_MODEL_0df7ccb670c4443aa0392cf45b305985",
       "style": "IPY_MODEL_65bbe9e1eff442538a56ba40a288cc51",
       "value": 45
      }
     },
     "f593b9d640fd4f2f9fcd2fbf01c280e3": {
      "model_module": "@jupyter-widgets/controls",
      "model_module_version": "1.5.0",
      "model_name": "SliderStyleModel",
      "state": {
       "description_width": ""
      }
     },
     "f605d178341c47af8c143e1e26361f3b": {
      "model_module": "@jupyter-widgets/base",
      "model_module_version": "1.2.0",
      "model_name": "LayoutModel",
      "state": {}
     },
     "f62e5f8e3a874e84a5f0b14c1b6f869f": {
      "model_module": "@jupyter-widgets/controls",
      "model_module_version": "1.5.0",
      "model_name": "LinkModel",
      "state": {
       "source": [
        "IPY_MODEL_09fd22f7884549ae89a9722566551566",
        "value"
       ],
       "target": [
        "IPY_MODEL_6714e6f2cddb470aa36f86298116aa92",
        "value"
       ]
      }
     },
     "f6eb373d458840abb528d3a716f4f4ef": {
      "model_module": "@jupyter-widgets/controls",
      "model_module_version": "1.5.0",
      "model_name": "DescriptionStyleModel",
      "state": {
       "description_width": ""
      }
     },
     "f762a2343b084679ac77f1f4fd115531": {
      "model_module": "@jupyter-widgets/controls",
      "model_module_version": "1.5.0",
      "model_name": "DescriptionStyleModel",
      "state": {
       "description_width": ""
      }
     },
     "f7e1221e043044839136fa30e2dbb6c4": {
      "model_module": "@jupyter-widgets/controls",
      "model_module_version": "1.5.0",
      "model_name": "LinkModel",
      "state": {
       "source": [
        "IPY_MODEL_a2e865b57b454e38a6373dee639944e0",
        "value"
       ],
       "target": [
        "IPY_MODEL_ee13e53be72740eda235ed307c4b7f3f",
        "value"
       ]
      }
     },
     "f7e2448571ec4d688fc9ef5526a73a09": {
      "model_module": "@jupyter-widgets/base",
      "model_module_version": "1.2.0",
      "model_name": "LayoutModel",
      "state": {}
     },
     "f803b34edd9b46d59b4dba5f2ab5f3d8": {
      "model_module": "@jupyter-widgets/base",
      "model_module_version": "1.2.0",
      "model_name": "LayoutModel",
      "state": {}
     },
     "f8092ec1dcc64a52942b0b76e1df41d8": {
      "model_module": "@jupyter-widgets/controls",
      "model_module_version": "1.5.0",
      "model_name": "IntSliderModel",
      "state": {
       "layout": "IPY_MODEL_b298ba915b2847afab14f6e7f041c932",
       "style": "IPY_MODEL_09128691dc9641d69183d0b40a19d869",
       "value": 8
      }
     },
     "f8fb2eeca69947029bfa3844e32a372e": {
      "model_module": "@jupyter-widgets/controls",
      "model_module_version": "1.5.0",
      "model_name": "HBoxModel",
      "state": {
       "children": [
        "IPY_MODEL_4e619a1289d44eaa87fd9de61412a656",
        "IPY_MODEL_cec8d5d55ff94cdca233787492a2557a",
        "IPY_MODEL_95b42b8c375545f79548cded6a51fd20"
       ],
       "layout": "IPY_MODEL_b22828872ab647a3bb6f50e0ac338951"
      }
     },
     "f9107f49f6a242efba993de0ee939c3e": {
      "model_module": "@jupyter-widgets/controls",
      "model_module_version": "1.5.0",
      "model_name": "DescriptionStyleModel",
      "state": {
       "description_width": ""
      }
     },
     "f9532e51316544fdb2a98f56774e071c": {
      "model_module": "@jupyter-widgets/base",
      "model_module_version": "1.2.0",
      "model_name": "LayoutModel",
      "state": {}
     },
     "f98f2b174bfa4724b04a09c8ec2334f8": {
      "model_module": "@jupyter-widgets/base",
      "model_module_version": "1.2.0",
      "model_name": "LayoutModel",
      "state": {}
     },
     "f9dca8b54d8a42cbb237f33951a815cd": {
      "model_module": "@jupyter-widgets/base",
      "model_module_version": "1.2.0",
      "model_name": "LayoutModel",
      "state": {}
     },
     "f9ed7032ef0e431188009dd2909e8c72": {
      "model_module": "@jupyter-widgets/base",
      "model_module_version": "1.2.0",
      "model_name": "LayoutModel",
      "state": {}
     },
     "fa23f8df86d94c589078fc7a9becb571": {
      "model_module": "@jupyter-widgets/base",
      "model_module_version": "1.2.0",
      "model_name": "LayoutModel",
      "state": {}
     },
     "fa616c6655da42519176e79c5454f8ad": {
      "model_module": "@jupyter-widgets/base",
      "model_module_version": "1.2.0",
      "model_name": "LayoutModel",
      "state": {}
     },
     "fa888faca93d4e4c8d13dcad5a4bb1a3": {
      "model_module": "@jupyter-widgets/base",
      "model_module_version": "1.2.0",
      "model_name": "LayoutModel",
      "state": {}
     },
     "faa15a7067b542688fbf0a7812b7e1fa": {
      "model_module": "@jupyter-widgets/output",
      "model_module_version": "1.0.0",
      "model_name": "OutputModel",
      "state": {
       "layout": "IPY_MODEL_ece5fdc5a92944acbba2fcc935ce0fd2",
       "outputs": [
        {
         "name": "stdout",
         "output_type": "stream",
         "text": "n: 90, occupied: 2257\n#L#L#L#L#.L.#L#L#L#L#L#L#.L#L#L#L.#L#L.#L#L#L#L#LL#L#L#L#.L#L#.L#L#L.#L#L#L#.L#L#L.#L#L#L#L#L#L#L#\nLLLLLLLLLL#LLLLLLLLLLLLLL.#LLLLLLLLLLLLLLLLLLLLL.LLLLLLLL.LLLLLLLLL#.LLLLLLL.LLLL#.LLLLL.LLLLLLLLL\n#L#L#L#L#.LL#L#L#L#L#L#L#.LL#L#L#L#L#L#L#L#L#LL#.L#L#L#L#.LL.#L#L#LL.#L#L#L#.LL#LLLL#L#LL#L#L#L#L#\nLLLLLLLLLL.LLLLL.LLLLLLLL.#LLLLLL.LLLL.LLLLLLLLLLL#.LLLLLLL#L#.LLLL#.LLLLLLL.#LLL#.LLLLLL.LLLLLLLL\n#L#L#L#L#.L#L#L#..LL#L#L#.LL#L#L#.LL#L.#L#L#L#LL#LLL#L#L#.LLLLL#L#LL.#L#L#L#LLL#LL.#L#L#.LL#L#L#L#\nLLLLLLLLL.#LLLL#.L#LLLLLLL#LLLLLLL#LLLLLLLL.LLLLLL#LLLLLLLL#L#LLLLL#.LLLLLLL.#LLL#.LLLLLL#LLLLLLLL\n#L#L#L#.L.LL#LLLLLLL#L#L#LLLL#L#L.LL#L..#L#L#LL#.LLL#L#L#.LLLL.L#LLL.#L#L#L#.LL#LL.L#L#L.LL#L#L#L#\nLLLLLLLLL#L#LL#L#L#L#L#L#.L#LLLLL.#LLL.LLLLLLLLLLL#LLLLLL.#L#L.L#L##.LLLLLLL.#LLL#.LLLLL.#LLLLLLLL\n#.L#L#.L..L.LL....L......L...L#.LL..L....#...L#.#L.L.#L.#L..LL............#..L...LL.L.#.L..L#L...#\nLL#LLLLL#.LL##L#L#L#L#L#L#LL#LLL#.L#L#L#L#L#LLLL.L.#LLLLL.LLL#L#LLLL.L#L#.LL.##L##.L#LLL#L#.L#L#LL\n#LLL#L#LLL#LLLLL.#LLLLLLL.LLLL.LL.#LLL.LLLLLL#LL.#LL.#L#L..#LL.LL#L#.LL.LLL#.LLLLL.LLL#LLLL#LLLLL#\nLL#LLLLL#LLL##LLLLL#L#L#L..L#L#L#.LL#L#L#L#L#LL#.LL#LLLLL#LL#L..LLLL.#L#L#LLLL#L#L#L#LLL.#LLL#L#LL\n#LLL#L#LL.#L.LL#.LLLLLLLL.#LLLLLL.#LLL.LLLLLLL#L.#LLL#L#L.LLLL.#L#L#.LLLLLL#.LLLLL.LLL#L.#L#LLLLL#\nLL.LLLLL#.LLL#.LL#L#L#L##LLL#L#L#.LL#LL#L#L#LLL..LL#LLLLL..#L#.LLLLL.##.L#LLL#L#L#.L#LLLLLLLL#L#LL\n#L#L#L#LL.#L#LL#.LLLLLLLL.#LLLLLL.#LLL#LLLLLL##LL#LL#L.L#LLLLL.#L#L#.LLLLLL#LLLLLL.LLL#L.#L#LLLLL#\nLLLLLLLL#.LLLL#L.#L#L#L##.LL#L#L#.LL#L.L#L#L#LLL.LLLLL#LL.L#L#.LLLLL.#L#L#LL#L#L#L.L#L#L.#LLL#L#LL\n....#L.....#L..L#L..L......#L.LL......L.....L.....#L.LLL#..L.L.......LL.LL.....L.........L...L..L.\n#L#LLL#.L.LLL#LL.L#L#L#LL.LLL#L#L.LLL#L#L#L#L#L#.L#L#L#LLL#L#L#L#L#L#L#L#LLL.#L#L#L#L#LL.##L#L#LL#\nLLLL#LLL#.L#L#L#L.LLLLLL##L#LLLLL.#L#LLLLLLLLLLL.LLLLLLL#LLLLL.LLLLLLLLLLL#L.LLLLL.#L#L#.LLLLLL#LL\n#L#LLL#LLLLLLLLLL#L#L#LLL.LLL#L#L.LLLL#.L#L#L#L#.L#L#L#LLL##L#L##L#L#L#L#LLL.L#L#L.LLLLL.#L#L#LLL#\nLLLL#LLL#L#L#L#L.LLLLLL##LL#LLLLL.#L#L.LLLLLLLLLLLLLLLLL#LLLLL.LLLLLLLLLLL#L.LLLLL.#L#L#LLLLLLL#LL\n#L#LLL#LL.LLLLLL.#.LL#LLL.#LL#L#L.LLLLL#L#L#L#L#.L#L#L#LL.#L#L.L#L#L.#L#LLLL.#L#L#.LLLLLL#L#L#LLL#\nLLLL#L#L#.L#L#L#LLL#LLL##.LL#LLLL.#L#L.LLLLLLLL#.LLLLLLL#LLL#L#LLLLL.LLLL#L#L#L.LLL##L##.LLLLLL#LL\n.L#L....L....LL....L..........#L.L................#...L...#L......#.....LLLL...L#..L.....L.#..L.L.\n#LLLL#L#L.LL#L#L.L#L#LLLLLL#L#LL#.L#L#.L#L.L#L#L.LL#L#L#LLL#LL.#LLLL.#L.#L#L#L#LLL.#LLL..#LLL#LLL#\nLL#L#LLLL..LLLLL#LLLL.##L.LLLLLLLLLLLL.LLL#LLLLL.#LLLL.LL#LLL#.LL#L#.LLLLLLLLLLL##.L#L#L.L#L..L#LL\n#LLLLL#L#.L#L#LLLL#L#LLLL#L#L#L#L.#L#L#L#LLL#L##.LLL#L#LLLL#LL.LLLLLL#L#L#L#.L#LLL#LLLLL#LLL#LLLL#\nLL#L#LLLLLLLLL.#.LLLLL#L#.LLLLLLL.LL#LLLLL#LLL#L.#.LLLLL#.LLLLLL#L#L.LLLLLLL.LLL#L.L#L#L.#LLL#L#LL\n#LLLLL##L.#L#LLLL#L#LLLLLL##L#L#.L#LLL.##L#L#L#L.LLL#L#LLL#LL#.LLLLL.#L#L#L#.L#LLLLLLLLL.#L#LLL#L#\n.L.L#..L.....L...L...#.L...L..L..L.L.#.L........#..LL....L...L...L.....LL.L............L..L..L....\nLL#LLLLL#.L#L#L#.L#L#LL#L.LL#LLL#.L#LL.#LLL#L#L#.L##L#LL#.LLL#.L#L#L.L#L#L#L.#L#L#L#L#LL.L#L#L#L#L\n#LLL#L#LLLLLLLLLLLLLLL.LL#L#L.#L#.LLL#LLL#L#L#L#.LLLLL.LL.#LLL.LLLLL#LLLLLLLLLLLLLLLLLL#.LLLLL#.L.\nLL#LLLLL#.L#L#L#L#L#LL#L#LLLL#L.#.L#LL.#LLLLLLLL.L#L#L#L#.L.#L#L#L#LLL#L#L#L#L#L#L.#L#LL.L#L#LL#L#\n#LLL#L#L#LLLLLLLLLLLLLLLL.#L#LL.L.LLL#LLL#L#L#L#LLLLLLLLLL#LLL.LLLLL.LLLLLLLLLLLL#LLLLL#.LLLL#LLLL\nLL#LLLLLL.#L#L#L.L#L#L#L#.LLLLL##.L#LL.#LLLLLLLL.##L#L#L#.LL#L.##L#L#L#L#L#L#L#.LL.L#LL..#L#LLL#L#\n#LLL##L#L.LLLLLL#LLLLLLLLL#L#L#LL.LLL#LLL#L#L#L#LLLLLLLLLL#LLLLLLLLL.LLLLLLL.LLL.#.L#L#L.LLLL#LLLL\nL.#..L.L..#.....LL...#L..LL..L.L...#...L.....L...#.......L...L#.............LL.#L.LL....L.#.LL.#..\n#LLLLL#L#.LL#LL#L#L#LLL#L.L#L#L#L.#LLL.L#L#L#L#L.LL##L#L#.L#LL.#L#L#L#L#L#LL.#L#LLL#L#L#.LL#L#LLL#\nLL#L#L#LLLLLLLLL.LL.L#LLL.LLL.LLL.LL#L#LLLLLLLLL.#LLLLLLL.L#L#.LLLLLLLLLLL.#.LLLL#.LLLLL.LLLLLL#LL\n#LLLLLLLL.#L#L#L#L#L#LL#L#L#LL#LL.#LLLLL#L#L#L#L.LL#L#L#L#LLLLLL#L#L.L#L#LLL.L#LLLL#L#L#.LL#L#LLL#\nLLL#L#L#L.LLLLLLLLLLLLLLLLLLL.LL#.LL#L.LLLLLLLLL.#LLLLLLLLL#L#.LLLLL#LLLLL#L#LLL##.LLLLL.#LLLLL#LL\n.........L.#.L.#L.L#L#L..#L..#L......L#.L.#.L...#.L.....#.LL.....L#L.L.#.L.....LL...#..L....#..L.#\n#L#L#L#L#.LLL#LL.#LLLLL#L.L.LLLLL.L#L#.L#LLL#L#L.L#L#L#LL.#L#L.L#LLL.#LLL#LL.#L#L#.L#L#L.LLLLLL#LL\nLLLLLLLLL.L#LLL#LLL#L#LLL.L#L#L#L.LLLL.#LL#LLLLL.LLL#LLL#LLLLL#LL#L#..L#LLL#.LL.LL.LLLL.#L#L#.LLL#\n#L#L#L#L##LLL#LLLL#LLLLL#.LLLLLLL.#L##.LLLLLL#L.L#LLLL#LLL#L#L#LLLLLLLLLL#LL.##LL#.L#L#L.LLL.#L#LL\nLLLLLLLLL.L#LLL#.LLL#L#L#.L#L#L##.LLLLL#L###LLL#.LL##L#L#.LLLL.L#L#L#L##LLL#.LL#LL.LLLLL.#L#L.LLL#\n.L.........LL....#..LL.LLL.LL.L...L..#.....LL#L..........L.#L#...LLLL.L..#.L.#LL...LL#..L.L......L\n#L#L#L#L#.#L#L#L.LL#L#L#L.#L#LLLL.L#L#LLLLLL#LLL#LLLL#LLL#LLLLL#LL#L.#L#L.L#LL#L#L##LLLL.L#.LLLLL#\nLLLLLLLLLLLLLLLL.LL#L#L#L.#LLL#L#LLLLL..#L#LLL#L.L##L#L#L.L#L#LLLLLL.LLLLLLL#LLLLL.#L#L#.LLLL#L#LL\n#L##L#L#L.#L#LLLL#.LLLLLLLL#LLLLL.LLL#.LLL#L#LLL.##LLLL#L#LLLL.#L##L.L#L#L#L.##LLL.LLLLLL#L#LLLLLL\nLLLLL.LLL.LLLL##.LLL#L#LL#LLL#L#L#L#L#.L#L#L#L#LLLLL#L#LLLL#L#.LLLLL#L#L#L#LL.LL#L.L#L#L.#L#L##LL#\n.L#.L.#L.#L#.LLL.#....L....#L..L.L............L.....L.....L....L#L#..L......L.#...LL...L#.L...L.L.\n#LLL#L#LLLLLLLL#LLL#.L#L#.LLLL#L#.LL#LLLL#L#L#LL.###L#L#L.LLLL#LLLLL.#L#L#L#LLLLLL.#L#L#.L#LLL##LL\nLL#LLLLL#.L#L#LL.#LLLLLLL.#L#LLLL.#LLL.LLLLLLL##.LLLLLLLL#L#L#.L#L#L.LLLLLLL.#LL##.LL#LL.#.L#LLLL#\n#LLL#L#LL.LLLLL#.LL#L#L#L.LLLL#L#.LL#L#L#L#L#LLL.##L#L#LL.LLLLLLLLLL#L#L##L#.LL#.LLL#LL#.LLLLL#L#L\nLL#LLLLLL#L#L#LL.#LLLLLLL.#L#.LLL.#LLLLLLLLLLLL#LLLLLLLL#.L#L#.L#LL#.LLLLLLLL#LLL#.LLL#L.L#L#LLLL.\n#.L#L#L#L.LLLL#L.L#L#L#L#.LLLL#L#LL#L#L#L#L#L#LL.#L#LL#LLLLLLL.LLL#L.#L#L#L#.LLL#L.L#LLL.LLLLL#L##\n.L..L.L....#.........L.L...#..L.L..LL.........#.L....L..#L...L....L.L...LLL.L.#L.L#.L..#...L#....L\nLL#L#LLL#LLLL#L#L#L#L#LLL.LLL#L#L.LL#L.LLL#LLLL..LLL#LLLL.##LL.LL#L#LLLLL#LL.LLLL#.LL#LLL##LLLLLL#\n#L#LLL#LL.#LLLLL.#L#L#L##.L#LLL#L.#LLL.#LLLL#L#L.##LLL#L#.LLL#L#LLLL.#L#LLL#LLL#LL.#L#L#.LLLL#L#LL\nLLLL#LLL#LLL#L#LLLLLLLLLL..LL#L##.LL#L.L#L#LLLLL.LLL#LLLL.#LLLLLL#L#LLLLL#LL.#LLL#.LLLLL.#L#LLLLL#\n#L#LLL#LLL#LLLLL#L#L#L#L#.L#LLLLL.#LLL#LLLLLL##L.#LLL.#L#.LL#L#LLLLL.##L#LL#LLL#LLL#L#L#.LLLL#L#LL\nLLLL#LLL#LLL#L#LLLLLLLLLLLLL#L#L#.LL#L.#L#L#LLLL.LL##LLLLLL#LL.L#LL#.LLLL.LL.#LLL#.LLLLL.#L#LLLLL#\n#L#LLL#LL.#LLLLL.#L#L#L#L.#LLLLLL.#.LL.LLLLLL##LL#LLLL#L#LLLL#.LLL#L.#L#L#L#.LL#.L.#L#LL.LL.L#L#LL\nLLLL#L.##.LL#L##.LLLLLLLL.LL#L#L#.LL#LL#L#L#LLLL.LL#L#LLL.##LL.L#LLL.LLLL.LL.#LLL#.LLLL..L#LLLLLL#\n#L#LLLLLL.#LLLLL.L#L#L#LL.#LLLLLL.#LLL.LLL.LLL#L.#LLLLL#L.LLL#.LLL#LLL#L#L##.LLLLLL#L#L#.LL.L#L#LL\nLLLL#L#L#.L#L#L#.L#L#L#L#LLL#LL#L.LL#L#L#L#L#L#L.LL#L#L#L.#L#L.L#LLL#L.LLLLLL#L#L#.LL#LL.#L#LLLLL#\n.L#..L....L.....L......LL#......L...LLLL....LL#......L..L......L..##...L#...L......L#.LL....L..#..\n#LLLLLLLL.#L#L#L.#L#L#L#LLL..L.L#.L#L#L#L#L#LLLL.##LLL#L#LL#L#.LLLLLL#LLLLL#.LLLLLLLLL#L#LLL##LLLL\nLL#L#L#L#.LL#L#L.LL#L#LLL#L#L#LL#.LLLL...#L#L###.LLL#LLLL.##LL.L#L#.LL.#L#LLL#L#L#.L#LLL.L#LLLL#L#\n#LLLLLLLL.#LLLLL#LLLLLL#LLLLLLLLLL#L#L.LLLLLLLLL.##LLL#L#.LLL#LLLL.LL#LLLLL#.LLLLL.LLLL#L#LLL#LLLL\nLL#L#L#L#LLL#L#LL#L#L#LLL.#L#L#L#.LLLL.#L#L#L###.LLL#LLLL.#L#L.#L#L#.LL#L#LLL#L#L#.L#L#L.#L#LLL#L#\n#LLLLLLLL#LLLLLL.LLLLLLL#.LLLLLLL.##L#LLLLLLLLLL.##LLL#L#.LLLL.LLLLL.LLLLLL#.LLLLL.LLLLL.LLLL#LLLL\nL#L#L#L#L.L#L#LL#L#L#L#LLL#L#L#L#.LLLL.#LL#L#L#L.LLL#L#LL.#L#L.L#LL#L.L#L#LL.L#L#LLL#L#L#L#L#LL#L#\n...L.LL..........L....L.#.L....L......LL..........L.L.....LL..L#..L..#..L..L...L..#..L..L.....L...\n#L#L#LLL#.LLLLL#L#L#L#LLL.LLLLLLL.##L##LLLL#L#LL.#LLL#L#LLL#L#.LL#LL.LLL#L#L.#L#LLL#L#L#L#L#L#LLLL\nLL#LLL#LL.L#L#LL.LLLLLL#L#L#L#L##LLLLL.#L#LLLLL#.L##L#LLL.LLLL..LL.#.L#LLLLLL#LLL#.LLLLL.#L#LLL#L#\n#LLL#LL.#LLLLLL..LL#L#LLL.LLLLLLL.##L#.LLLL#L#LL.LLLLL.#L#L#L#..L#LL.LLL#L#L.#LLLL.#L#L#LLLLL#LLLL\nLL#LLL#L#.L.L#L#L.LLLLL#LLL#L#L##.LLLLL#L#LLLLLL#L##L#LLL.LLLL.#LLL#.L#LLLLL.#L#LL.LLLLL.#L#LLL#L#\n#LLL.LLLL.L#LLLL.#L#L#LLL#LLLLLLL.L#L#LLLLL#L#LL.LLLLLLL#.L#L#.LL#LL.LLL##L#.LL.L#.L#L##.LLLL#LLLL\nLL#L#LL#L#LLLL##.LLLLLL#L.#L#L#L##LLLLL#L#LLLL#L.#L##L#LL.LLLLL#LLL#.L#..LLL.L#L.L.LLLLL.#L#LLL#L#\n#LLLL#LLL.#L#LLL.#L#L#LLLLLLLLLLLL.##L.LLLL.#LLLLLLLLLLL#.L#L#.LL#LL.#LLL#LL#LLL#L#L#L##.LLLL#LLLL\nL#L#LLL#L.LLL#L#LLLLLLL#L#L#L#L#L#LLLL#L#L#.LL#L.#L#L#L#LLL#LL.#LLLL.LL#LL.#.L#L#L.LLLLLL#L#LLL#L#\n..L..#.LL..#.L..#L...#.L...L....LL..#.....L..#..L..#.....L#.L..L.#L......#.LL#L.LLL.L#.....L.#....\n#LLLLLL.#.LL#L#LLL##LLLLLL#L#LLL#.LLLL.#L#LLLLL#.L#LLL#L#LLL#.LLLLL#.LLLLLL#.LL#L.#LLL.#.LLLLLLLLL\nLL#L#LLLL.#LLLLL.LL.#L#L#.LLLL#LLL#L#L.LL#L#L#L#LLLL#LLLL.##LL.#L#LL.#L#L#LL.#LLLLLL#LLL.#L#L#L#L#\n#LLLL.#L#.LL#L#L#L#LLLL.L.#L#LLL#.LLLLL#LLLLLLLL.##L#L#L#.LLL#.LLLL#.LLLLLL#.LL#L#LLLL#.LLLLLLLLLL\nLL#L#LLLLL#LLLLLLLL#L#L#LLLLLL#LL.#L#L.LL#L#L#L#.LLLLLL.L.L#LL.#L#LL.#L#L#LLLL#LLL.#L#LLL#L#L#L#L#\n#LLLLL#L#LLL#L#L.#LLLLLLLL#L#LLL#LLLLL.#LLLLLLLL.##L#LL#L#LLL#.LLLL#LLLLLL.#.LLL##.LLLL#LLLLLLLLLL\nLL#L#L.LLL#LLLL..L#L#L#L#.LLLL#LL.#L#L.#L#L#L#L#.LLLLL#LL.L#LL.#L#LLL#L#L#LL.L#LLL.#L#LLL#L#L#L#L#\n#LLLLLLL#.LL#L#L#LLLLLLLLL#L#LLLL.LLLL.L.LLLL.LLL#LL#LLL#.LLL#.LLLL#.LLLLLL##LLL#.LLLLL#.LLLLLLLLL\nLL#L#L#LL.#LLLLL.L#L#L#L#.LLL#L#L.#L#L.L#L#L#L##.LLLLL#LL.L#LLL#L#LL.#L#L#LL.L#LLL.#L#LL.#L#L#L#L#\n#.LLLLLL#.LL#L#L.L.LLLLLL..#LLLLLLLLL.#LLLLLLLLL.##L#LLL#.LLL#LLLLLL.LLLLLL#LLLL##.LLLL#.LLLLLLLLL\nLL#L#L#LL.#LLLLLL#L#L#L##.LLL#L#L.#L#L.L#L#L#L##.LLLL.#LLLL#LL.#L#L#L#L#L#.L.#L#.L.#L#LLL#L#L#L#L#\n.LLLLLLL#.LL#LL#.LLLLLLLL.#LLL.LL.LLLL.LLLLLLLLL.##LLLLL#LLLL#.LLLLLLLLLLLL#.LLLL#.LLLL#.LLLLLLLLL\n#L#L#L#LLL#L.#LL.#L#L#L##.LL#L#LL#L#L#L##L#L#L##.LLL#L#LL.##LL.#L#L#.L#L#L#L.L#L#L.#L#LL.#L#L#L#L#\nLLLLLLLL#LLLLLLL.LLLLLLLL.#LLL.LL.LLLLLLL.LLLLLL.##LLLLL#.LLL#.LLLLLLLLLLLLL.LLLLL.LLLL#.LLLLLLLLL\n#L#L#L#L..#L#L#L.#L#.L#L#.L#L#L#L.#L#L.#L#L#L#L#.L#L#.L#L.#L#L.#L#L#.L#L#L#L#L#L#L#L#L#L.#L#L#L#L#\n"
        }
       ]
      }
     },
     "fad4f6c19a9f4e80b19116e23a782bdc": {
      "model_module": "@jupyter-widgets/controls",
      "model_module_version": "1.5.0",
      "model_name": "HBoxModel",
      "state": {
       "children": [
        "IPY_MODEL_5925566d784b40bfa61fda4e41a51086",
        "IPY_MODEL_e6fd606fd45941b2a5a61024af9111b7"
       ],
       "layout": "IPY_MODEL_3828533165eb40df8955a039b618cfea"
      }
     },
     "fad78ed6437e4d2c899122d64a49e40d": {
      "model_module": "@jupyter-widgets/controls",
      "model_module_version": "1.5.0",
      "model_name": "DescriptionStyleModel",
      "state": {
       "description_width": ""
      }
     },
     "fbc12251be40410594c11ad16116a3a2": {
      "model_module": "@jupyter-widgets/controls",
      "model_module_version": "1.5.0",
      "model_name": "PlayModel",
      "state": {
       "description": "Frame",
       "interval": 54,
       "layout": "IPY_MODEL_4dbe6225a4cd4629a30b49466bdea75e",
       "max": 90,
       "style": "IPY_MODEL_d96f7248e45344ada252901e29be830b"
      }
     },
     "fbefac54daac484cad3d8840a4547c1c": {
      "model_module": "@jupyter-widgets/base",
      "model_module_version": "1.2.0",
      "model_name": "LayoutModel",
      "state": {}
     },
     "fc7dab295cd24df4a218683dc93f0130": {
      "model_module": "@jupyter-widgets/base",
      "model_module_version": "1.2.0",
      "model_name": "LayoutModel",
      "state": {}
     },
     "fcda64c079dc4a7b914a00c85d7b5d9a": {
      "model_module": "@jupyter-widgets/base",
      "model_module_version": "1.2.0",
      "model_name": "LayoutModel",
      "state": {}
     },
     "fd3c4e21f0d542b0a323b59c5c988b8c": {
      "model_module": "@jupyter-widgets/controls",
      "model_module_version": "1.5.0",
      "model_name": "HBoxModel",
      "state": {
       "children": [
        "IPY_MODEL_ebe6bd8c5d4b41baa625be6c331c1526",
        "IPY_MODEL_6d744290e23146a6b5def7e820c94782"
       ],
       "layout": "IPY_MODEL_213d783a5bf24c48add77bd86f244a1b"
      }
     },
     "fd4cc862aa72497eaf25932470412ab7": {
      "model_module": "@jupyter-widgets/controls",
      "model_module_version": "1.5.0",
      "model_name": "HBoxModel",
      "state": {
       "children": [
        "IPY_MODEL_a2e865b57b454e38a6373dee639944e0",
        "IPY_MODEL_ee13e53be72740eda235ed307c4b7f3f"
       ],
       "layout": "IPY_MODEL_6cd3f4a3d43a41c199238ba072827668"
      }
     },
     "fd7ae1364e5544f79ec065562ccbe1a2": {
      "model_module": "@jupyter-widgets/controls",
      "model_module_version": "1.5.0",
      "model_name": "PlayModel",
      "state": {
       "_repeat": true,
       "description": "Frame",
       "interval": 295.5160507658328,
       "layout": "IPY_MODEL_2f69b3e0fce74e718d04f8090f7c22b0",
       "max": 84,
       "style": "IPY_MODEL_688af1af6ff14325bdf483d78a831db4"
      }
     },
     "fe509e9072764c658267864fe9c7a59c": {
      "model_module": "@jupyter-widgets/controls",
      "model_module_version": "1.5.0",
      "model_name": "IntSliderModel",
      "state": {
       "layout": "IPY_MODEL_80498510a85f43139210811dea658c8c",
       "style": "IPY_MODEL_404b456ac3774320a2a43816d25c7081",
       "value": 50
      }
     },
     "ff3cb5b7f08641dba09c6fd0e7d45a9d": {
      "model_module": "@jupyter-widgets/controls",
      "model_module_version": "1.5.0",
      "model_name": "FloatSliderModel",
      "state": {
       "description": "Speed",
       "layout": "IPY_MODEL_aadd8cea1bbb40f4881f31dcad813706",
       "max": 6250,
       "min": 62,
       "step": 0.1,
       "style": "IPY_MODEL_2b379e001c5d4c0ea02ab0098a249d37",
       "value": 625
      }
     },
     "ffbf33fbdf7d442da2771b3a79c80033": {
      "model_module": "@jupyter-widgets/base",
      "model_module_version": "1.2.0",
      "model_name": "LayoutModel",
      "state": {}
     },
     "ffc06e63cbcf434491a809dd80d5bd71": {
      "model_module": "@jupyter-widgets/controls",
      "model_module_version": "1.5.0",
      "model_name": "PlayModel",
      "state": {
       "description": "Press play",
       "interval": 50,
       "layout": "IPY_MODEL_90fc8f5dbe9f42bfbf14067e23956514",
       "style": "IPY_MODEL_a82e9b9ef1f44761bf3df185120f27c7",
       "value": 50
      }
     },
     "fff120a0cd88400d9104bbe11a8184ef": {
      "model_module": "@jupyter-widgets/controls",
      "model_module_version": "1.5.0",
      "model_name": "HBoxModel",
      "state": {
       "children": [
        "IPY_MODEL_46d004a029cf4f45aabcfa60447e9ede",
        "IPY_MODEL_7ef78e9a206840c59951ca25fcbf4773",
        "IPY_MODEL_ab9943b1daee4d10bac235f63b9ab4b2"
       ],
       "layout": "IPY_MODEL_dc03d12af4ac4cfa8b585cd683a66283"
      }
     },
     "fff1f33889da4d9597f6fb77a606f64c": {
      "model_module": "@jupyter-widgets/base",
      "model_module_version": "1.2.0",
      "model_name": "LayoutModel",
      "state": {}
     }
    },
    "version_major": 2,
    "version_minor": 0
   }
  }
 },
 "nbformat": 4,
 "nbformat_minor": 4
}
